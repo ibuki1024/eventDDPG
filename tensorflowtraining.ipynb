{
 "cells": [
  {
   "cell_type": "code",
   "execution_count": 3,
   "metadata": {},
   "outputs": [],
   "source": [
    "import tensorflow as tf"
   ]
  },
  {
   "cell_type": "code",
   "execution_count": 4,
   "metadata": {},
   "outputs": [
    {
     "name": "stdout",
     "output_type": "stream",
     "text": [
      "[3.5, -3.0, 0.5]\n"
     ]
    }
   ],
   "source": [
    "a = tf.constant(1.5)\n",
    "b = tf.constant(2.0)\n",
    "c = tf.constant(-1.0)\n",
    "d = tf.constant(3.0)\n",
    "\n",
    "x = tf.add(a, b)\n",
    "y = tf.multiply(c, d)\n",
    "z = tf.add(x, y)\n",
    "\n",
    "with tf.Session() as sess:\n",
    "  result = sess.run([x, y, z])\n",
    "  print(result)"
   ]
  },
  {
   "cell_type": "code",
   "execution_count": 5,
   "metadata": {},
   "outputs": [
    {
     "name": "stdout",
     "output_type": "stream",
     "text": [
      "WARNING:tensorflow:From /Users/admin/.pyenv/versions/3.6.6/lib/python3.6/site-packages/tensorflow/python/framework/op_def_library.py:263: colocate_with (from tensorflow.python.framework.ops) is deprecated and will be removed in a future version.\n",
      "Instructions for updating:\n",
      "Colocations handled automatically by placer.\n",
      "1\n",
      "2\n",
      "3\n"
     ]
    }
   ],
   "source": [
    "cnt = tf.Variable(0, name=\"cnt\")\n",
    "inc = tf.constant(1, name=\"inc\")\n",
    "\n",
    "# カウントアップ\n",
    "add_op = tf.add(cnt, inc)\n",
    "\n",
    "# cntの値を更新\n",
    "up_op = tf.assign(cnt, add_op)\n",
    "\n",
    "with tf.Session() as sess:\n",
    "    # 変数を使う場合はまず初期化が必要\n",
    "    sess.run(tf.global_variables_initializer())\n",
    "\n",
    "    # カウントアップを計3回実行\n",
    "    print(sess.run(up_op))\n",
    "    print(sess.run(up_op))\n",
    "    print(sess.run(up_op))"
   ]
  },
  {
   "cell_type": "code",
   "execution_count": null,
   "metadata": {},
   "outputs": [],
   "source": []
  }
 ],
 "metadata": {
  "kernelspec": {
   "display_name": "Python 3",
   "language": "python",
   "name": "python3"
  },
  "language_info": {
   "codemirror_mode": {
    "name": "ipython",
    "version": 3
   },
   "file_extension": ".py",
   "mimetype": "text/x-python",
   "name": "python",
   "nbconvert_exporter": "python",
   "pygments_lexer": "ipython3",
   "version": "3.6.6"
  }
 },
 "nbformat": 4,
 "nbformat_minor": 2
}
