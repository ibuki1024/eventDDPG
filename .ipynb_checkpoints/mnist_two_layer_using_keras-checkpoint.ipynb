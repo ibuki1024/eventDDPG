{
 "cells": [
  {
   "cell_type": "markdown",
   "metadata": {},
   "source": [
    "- MNIST データの読み込み"
   ]
  },
  {
   "cell_type": "code",
   "execution_count": null,
   "metadata": {},
   "outputs": [
    {
     "name": "stdout",
     "output_type": "stream",
     "text": [
      "WARNING:tensorflow:From <ipython-input-1-66f9988cac37>:10: read_data_sets (from tensorflow.contrib.learn.python.learn.datasets.mnist) is deprecated and will be removed in a future version.\n",
      "Instructions for updating:\n",
      "Please use alternatives such as official/mnist/dataset.py from tensorflow/models.\n",
      "WARNING:tensorflow:From /Users/admin/.pyenv/versions/3.6.6/lib/python3.6/site-packages/tensorflow/contrib/learn/python/learn/datasets/mnist.py:260: maybe_download (from tensorflow.contrib.learn.python.learn.datasets.base) is deprecated and will be removed in a future version.\n",
      "Instructions for updating:\n",
      "Please write your own downloading logic.\n",
      "WARNING:tensorflow:From /Users/admin/.pyenv/versions/3.6.6/lib/python3.6/site-packages/tensorflow/contrib/learn/python/learn/datasets/base.py:252: _internal_retry.<locals>.wrap.<locals>.wrapped_fn (from tensorflow.contrib.learn.python.learn.datasets.base) is deprecated and will be removed in a future version.\n",
      "Instructions for updating:\n",
      "Please use urllib or similar directly.\n"
     ]
    },
    {
     "name": "stderr",
     "output_type": "stream",
     "text": [
      "Using TensorFlow backend.\n"
     ]
    }
   ],
   "source": [
    "import numpy as np\n",
    "import matplotlib.pyplot as plt\n",
    "import tensorflow as tf\n",
    "from tensorflow.examples.tutorials.mnist import input_data\n",
    "from keras.models import Sequential\n",
    "from keras.layers import Dense, Flatten, Input, concatenate\n",
    "from keras.optimizers import Adam\n",
    "from rl.memory import SequentialMemory\n",
    "\n",
    "mnist = input_data.read_data_sets(\"/tmp/data/\", one_hot=True)\n",
    "\n",
    "images, labels = mnist.train.next_batch(10)\n"
   ]
  },
  {
   "cell_type": "markdown",
   "metadata": {},
   "source": [
    "- ニューラルネットの計算"
   ]
  },
  {
   "cell_type": "code",
   "execution_count": 3,
   "metadata": {},
   "outputs": [
    {
     "name": "stdout",
     "output_type": "stream",
     "text": [
      "WARNING:tensorflow:From /Users/admin/.pyenv/versions/3.6.6/lib/python3.6/site-packages/tensorflow/python/framework/op_def_library.py:263: colocate_with (from tensorflow.python.framework.ops) is deprecated and will be removed in a future version.\n",
      "Instructions for updating:\n",
      "Colocations handled automatically by placer.\n"
     ]
    }
   ],
   "source": [
    "hidden_num = 1024\n",
    "#入力層\n",
    "x = tf.placeholder(tf.float32, [None, 784])\n",
    "w0 = tf.Variable(tf.truncated_normal([784, hidden_num]))\n",
    "b0 = tf.Variable(tf.zeros([hidden_num]))\n",
    "f0 = tf.nn.relu(tf.matmul(x, w0) + b0)\n",
    "#隠れ層\n",
    "w1 = tf.Variable(tf.zeros([hidden_num, 10]))\n",
    "b1 = tf.Variable(tf.zeros([10]))\n",
    "f1 = tf.matmul(f0, w1) + b1\n",
    "#出力層\n",
    "p = tf.nn.softmax(f1)"
   ]
  },
  {
   "cell_type": "markdown",
   "metadata": {},
   "source": [
    "- 教師データ、誤差関数、精度などの導入"
   ]
  },
  {
   "cell_type": "code",
   "execution_count": 4,
   "metadata": {},
   "outputs": [],
   "source": [
    "t = tf.placeholder(tf.float32, [None, 10])\n",
    "loss = -tf.reduce_sum(t * tf.log(p))\n",
    "train_step = tf.train.AdamOptimizer().minimize(loss)\n",
    "\n",
    "correct_prediction = tf.equal(tf.argmax(p, 1), tf.argmax(t, 1))\n",
    "accuracy = tf.reduce_mean(tf.cast(correct_prediction, tf.float32))"
   ]
  },
  {
   "cell_type": "markdown",
   "metadata": {},
   "source": [
    "- 学習"
   ]
  },
  {
   "cell_type": "code",
   "execution_count": 7,
   "metadata": {},
   "outputs": [
    {
     "name": "stdout",
     "output_type": "stream",
     "text": [
      "Step: 100, Loss: 2458.708496, Accuracy: 0.924800\n",
      "Step: 200, Loss: 2103.556152, Accuracy: 0.934200\n",
      "Step: 300, Loss: 1793.912354, Accuracy: 0.944700\n",
      "Step: 400, Loss: 1800.263550, Accuracy: 0.945000\n",
      "Step: 500, Loss: 1625.821045, Accuracy: 0.948600\n",
      "Step: 600, Loss: 1553.394287, Accuracy: 0.950500\n",
      "Step: 700, Loss: 1254.197021, Accuracy: 0.962600\n",
      "Step: 800, Loss: 1230.032837, Accuracy: 0.962000\n",
      "Step: 900, Loss: 1215.645142, Accuracy: 0.961400\n",
      "Step: 1000, Loss: 1095.198486, Accuracy: 0.966300\n",
      "Step: 1100, Loss: 1080.397461, Accuracy: 0.966900\n",
      "Step: 1200, Loss: 1026.352173, Accuracy: 0.968700\n",
      "Step: 1300, Loss: 1064.661987, Accuracy: 0.967400\n",
      "Step: 1400, Loss: 957.674683, Accuracy: 0.972100\n",
      "Step: 1500, Loss: 1152.542725, Accuracy: 0.964100\n",
      "Step: 1600, Loss: 1023.264038, Accuracy: 0.968200\n",
      "Step: 1700, Loss: 969.503662, Accuracy: 0.969300\n",
      "Step: 1800, Loss: 1001.591187, Accuracy: 0.969900\n",
      "Step: 1900, Loss: 990.641357, Accuracy: 0.971700\n",
      "Step: 2000, Loss: 1037.729248, Accuracy: 0.966000\n"
     ]
    }
   ],
   "source": [
    "sess = tf.Session()\n",
    "sess.run(tf.initialize_all_variables())\n",
    "\n",
    "i = 0\n",
    "for _ in range(2000):\n",
    "    i += 1\n",
    "    batch_xs, batch_ts = mnist.train.next_batch(100)\n",
    "    sess.run(train_step, feed_dict={x: batch_xs, t: batch_ts})\n",
    "    if i % 100 == 0:\n",
    "        loss_val, acc_val = sess.run([loss, accuracy],\n",
    "            feed_dict={x:mnist.test.images, t: mnist.test.labels})\n",
    "        print ('Step: %d, Loss: %f, Accuracy: %f'\n",
    "               % (i, loss_val, acc_val))"
   ]
  },
  {
   "cell_type": "code",
   "execution_count": null,
   "metadata": {},
   "outputs": [],
   "source": []
  }
 ],
 "metadata": {
  "kernelspec": {
   "display_name": "Python 3",
   "language": "python",
   "name": "python3"
  },
  "language_info": {
   "codemirror_mode": {
    "name": "ipython",
    "version": 3
   },
   "file_extension": ".py",
   "mimetype": "text/x-python",
   "name": "python",
   "nbconvert_exporter": "python",
   "pygments_lexer": "ipython3",
   "version": "3.6.6"
  }
 },
 "nbformat": 4,
 "nbformat_minor": 2
}
