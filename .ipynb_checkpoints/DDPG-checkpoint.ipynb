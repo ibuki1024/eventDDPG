{
 "cells": [
  {
   "cell_type": "code",
   "execution_count": 2,
   "metadata": {},
   "outputs": [],
   "source": [
    "import numpy as np\n",
    "import gym\n",
    "import tensorflow\n",
    "from gym import wrappers\n",
    "from keras.models import Sequential\n",
    "from keras.layers import Dense, Flatten, Input, concatenate\n",
    "from keras.optimizers import Adam\n",
    "from rl.agents import DDPGAgent\n",
    "from rl.memory import SequentialMemory"
   ]
  },
  {
   "cell_type": "code",
   "execution_count": 3,
   "metadata": {},
   "outputs": [],
   "source": [
    "MAX_EPISODES = 200\n",
    "MAX_EP_STEPS = 200\n",
    "LR_A = 0.001    # learning rate for actor\n",
    "LR_C = 0.001    # learning rate for critic\n",
    "GAMMA = 0.9     # reward discount\n",
    "REPLACEMENT = [\n",
    "    dict(name='soft', tau=0.01),\n",
    "    dict(name='hard', rep_iter_a=600, rep_iter_c=500)\n",
    "][0]            # you can try different target replacement strategies\n",
    "MEMORY_CAPACITY = 10000\n",
    "BATCH_SIZE = 32\n",
    "\n",
    "RENDER = False\n",
    "OUTPUT_GRAPH = True\n",
    "ENV_NAME = 'Pendulum-v0'"
   ]
  },
  {
   "cell_type": "code",
   "execution_count": null,
   "metadata": {},
   "outputs": [],
   "source": [
    "class Actor:\n",
    "    def __init__(self, sess, a_dim, a_bound, learning_rate, update_type):\n",
    "        self.sess = sess\n",
    "        self.a_dim = a_dim\n",
    "        self.a_bound = a_bound\n",
    "        self.lr = learning_rate\n",
    "        self.type = uptate_type\n",
    "        \n",
    "    def build_actor_net(s_dim, a_dim)\n",
    "        model = Sequential()\n",
    "        model.add(Dense(64, activation='relu', input_dim=1))\n",
    "        model.add(Dense(3,activation='tanh'))\n",
    "        \n",
    "        \n",
    "        model = Sequential()\n",
    "model.add(Dense(64, activation='relu', input_dim=784))\n",
    "model.add(Dense(10, activation='softmax'))\n",
    "\n",
    "model.compile(optimizer='rmsprop',\n",
    "              loss='categorical_crossentropy',\n",
    "              metrics=['accuracy'])"
   ]
  }
 ],
 "metadata": {
  "kernelspec": {
   "display_name": "Python 3",
   "language": "python",
   "name": "python3"
  },
  "language_info": {
   "codemirror_mode": {
    "name": "ipython",
    "version": 3
   },
   "file_extension": ".py",
   "mimetype": "text/x-python",
   "name": "python",
   "nbconvert_exporter": "python",
   "pygments_lexer": "ipython3",
   "version": "3.6.6"
  }
 },
 "nbformat": 4,
 "nbformat_minor": 2
}
