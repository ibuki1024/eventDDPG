{
 "cells": [
  {
   "cell_type": "code",
   "execution_count": 1,
   "metadata": {},
   "outputs": [
    {
     "name": "stderr",
     "output_type": "stream",
     "text": [
      "Using TensorFlow backend.\n"
     ]
    }
   ],
   "source": [
    "import warnings\n",
    "warnings.filterwarnings('ignore')\n",
    "import numpy as np\n",
    "import matplotlib.pyplot as plt\n",
    "import keras\n",
    "from keras.models import Model\n",
    "from keras.layers import concatenate, Dense, Input, Flatten\n",
    "from keras.optimizers import Adam\n",
    "\n",
    "import sys\n",
    "sys.path.append('../module/')\n",
    "\n",
    "import gym2\n",
    "from rl2.agents import eventDDPGAgent\n",
    "from rl2.memory import SequentialMemory"
   ]
  },
  {
   "cell_type": "code",
   "execution_count": 8,
   "metadata": {
    "scrolled": false
   },
   "outputs": [],
   "source": [
    "# GymのPendulum環境を作成\n",
    "dt = 0.0005\n",
    "max_steps = 200 * 0.05 / dt\n",
    "env = gym2.make(\"Pendulum-v1\", max_steps)\n",
    "env.dt = dt\n",
    "clip = 10.\n",
    "env.max_torque, max_torque = clip, clip\n",
    "env.action_space.high, env.action_space.low = max_torque, -max_torque\n",
    "\n",
    "# 取りうる”打ち手”のアクション数と値の定義\n",
    "nb_actions = 2\n",
    "ACT_ID_TO_VALUE = {0: [-1], 1: [+1]}"
   ]
  },
  {
   "cell_type": "code",
   "execution_count": 3,
   "metadata": {},
   "outputs": [],
   "source": [
    "def actor_net(a_shape, s_shape):\n",
    "    action_input = Input(shape=(1,)+s_shape)\n",
    "    x = Flatten()(action_input)\n",
    "    x = Dense(16, activation=\"relu\")(x)\n",
    "    x = Dense(16, activation=\"relu\")(x)\n",
    "    x = Dense(3, activation=\"tanh\")(x)\n",
    "    actor = Model(inputs=action_input, outputs=x)\n",
    "    return actor\n",
    "\n",
    "def critic_net(a_shape , s_shape):\n",
    "    action_input = Input(a_shape)\n",
    "    observation_input = Input(shape=(1,)+s_shape)\n",
    "    flattened_observation = Flatten()(observation_input)\n",
    "    x = concatenate([action_input, flattened_observation])\n",
    "    x = Dense(16, activation=\"relu\")(x)\n",
    "    x = Dense(16, activation=\"relu\")(x)\n",
    "    x = Dense(1, activation=\"linear\")(x)\n",
    "    critic = Model(inputs=[action_input, observation_input], outputs=x)\n",
    "    return (critic, action_input)"
   ]
  },
  {
   "cell_type": "code",
   "execution_count": 4,
   "metadata": {},
   "outputs": [],
   "source": [
    "def agent(a_shape, s_shape):\n",
    "    actor = actor_net(a_shape, s_shape)\n",
    "    critic,  critic_action_input = critic_net(a_shape, s_shape)\n",
    "    memory = SequentialMemory(limit = 50000, window_length = 1)\n",
    "    agent = eventDDPGAgent(\n",
    "        a_shape[0],\n",
    "        actor,\n",
    "        critic,\n",
    "        critic_action_input,\n",
    "        memory,\n",
    "        clip_com = 0.01\n",
    "    )\n",
    "    return agent"
   ]
  },
  {
   "cell_type": "code",
   "execution_count": 5,
   "metadata": {},
   "outputs": [
    {
     "name": "stdout",
     "output_type": "stream",
     "text": [
      "WARNING:tensorflow:From /Users/admin/.pyenv/versions/3.7.4/lib/python3.7/site-packages/keras/backend/tensorflow_backend.py:74: The name tf.get_default_graph is deprecated. Please use tf.compat.v1.get_default_graph instead.\n",
      "\n",
      "WARNING:tensorflow:From /Users/admin/.pyenv/versions/3.7.4/lib/python3.7/site-packages/keras/backend/tensorflow_backend.py:517: The name tf.placeholder is deprecated. Please use tf.compat.v1.placeholder instead.\n",
      "\n",
      "WARNING:tensorflow:From /Users/admin/.pyenv/versions/3.7.4/lib/python3.7/site-packages/keras/backend/tensorflow_backend.py:4138: The name tf.random_uniform is deprecated. Please use tf.random.uniform instead.\n",
      "\n",
      "WARNING:tensorflow:From /Users/admin/.pyenv/versions/3.7.4/lib/python3.7/site-packages/keras/backend/tensorflow_backend.py:174: The name tf.get_default_session is deprecated. Please use tf.compat.v1.get_default_session instead.\n",
      "\n",
      "WARNING:tensorflow:From /Users/admin/.pyenv/versions/3.7.4/lib/python3.7/site-packages/keras/backend/tensorflow_backend.py:181: The name tf.ConfigProto is deprecated. Please use tf.compat.v1.ConfigProto instead.\n",
      "\n",
      "WARNING:tensorflow:From /Users/admin/.pyenv/versions/3.7.4/lib/python3.7/site-packages/keras/optimizers.py:790: The name tf.train.Optimizer is deprecated. Please use tf.compat.v1.train.Optimizer instead.\n",
      "\n",
      "Training for 10000 steps ...\n",
      "Interval 1 (0 steps performed)\n",
      " 1753/10000 [====>.........................] - ETA: 51s - reward: -9.6046done, took 11.039 seconds\n"
     ]
    },
    {
     "data": {
      "text/plain": [
       "<keras.callbacks.History at 0x12ae91bd0>"
      ]
     },
     "execution_count": 5,
     "metadata": {},
     "output_type": "execute_result"
    }
   ],
   "source": [
    "#event-base learning\n",
    "l = 0.\n",
    "step = 10000\n",
    "time_mode = True\n",
    "a =  agent((3,), env.observation_space.shape)\n",
    "a.compile(Adam(lr=0.001, clipnorm=1.), metrics=[\"mae\"])\n",
    "#a.load_weights('../learned_models_vol2/0.5standup-agent.h5')\n",
    "a.fit(env, lam=l, nb_steps=step, visualize=0, verbose=1, nb_max_episode_steps=2000, loss_graph=0, time_mode=time_mode)"
   ]
  },
  {
   "cell_type": "code",
   "execution_count": 6,
   "metadata": {},
   "outputs": [
    {
     "data": {
      "image/png": "[encoded data removed]",
      "text/plain": [
       "<Figure size 864x288 with 1 Axes>"
      ]
     },
     "metadata": {
      "needs_background": "light"
     },
     "output_type": "display_data"
    },
    {
     "data": {
      "image/png": "[encoded data removed]",
      "text/plain": [
       "<Figure size 864x288 with 1 Axes>"
      ]
     },
     "metadata": {
      "needs_background": "light"
     },
     "output_type": "display_data"
    }
   ],
   "source": [
    "plt.figure(figsize=(12,4))\n",
    "plt.title('danger state')\n",
    "plt.scatter(range(step), a.cbf_log[:,0], marker='.')\n",
    "plt.show()\n",
    "plt.figure(figsize=(12,4))\n",
    "plt.title('berrier compensate')\n",
    "plt.scatter(range(step), a.cbf_log[:,1], marker='.')\n",
    "plt.show()"
   ]
  },
  {
   "cell_type": "code",
   "execution_count": 7,
   "metadata": {},
   "outputs": [
    {
     "name": "stdout",
     "output_type": "stream",
     "text": [
      "Testing for 1 episodes ...\n",
      "Episode 1: reward: -194515.258, steps: 20000\n"
     ]
    },
    {
     "data": {
      "text/plain": [
       "<keras.callbacks.History at 0x12a70c4d0>"
      ]
     },
     "execution_count": 7,
     "metadata": {},
     "output_type": "execute_result"
    }
   ],
   "source": [
    "#a.load_weights('../learned_models_vol2/0.5standup-agent.h5')\n",
    "a.test(env, lam=l, visualize=0, nb_max_episode_steps=20000, action_view=0, time_mode=time_mode)"
   ]
  },
  {
   "cell_type": "code",
   "execution_count": 10,
   "metadata": {},
   "outputs": [
    {
     "data": {
      "image/png": "[encoded data removed]",
      "text/plain": [
       "<Figure size 576x576 with 4 Axes>"
      ]
     },
     "metadata": {
      "needs_background": "light"
     },
     "output_type": "display_data"
    }
   ],
   "source": [
    "titles = ['theta(rad)', 'input(Nm)', 'communication', 'barrier_certificate'] \n",
    "history = a.data_log[0]\n",
    "x_axis = range(20000)\n",
    "plt.figure(figsize=(8,8))\n",
    "plt.subplots_adjust(wspace=0.4, hspace=0.6)\n",
    "for i in range(4):\n",
    "    data = history[:,i]\n",
    "    plt.subplot(4,1,i+1)\n",
    "    plt.title(titles[i])\n",
    "    if i < 3:\n",
    "        plt.plot(x_axis, data)\n",
    "    else:\n",
    "        plt.scatter(x_axis, data, marker='.')\n",
    "plt.show()"
   ]
  },
  {
   "cell_type": "code",
   "execution_count": 9,
   "metadata": {},
   "outputs": [
    {
     "name": "stdout",
     "output_type": "stream",
     "text": [
      "[-2.          0.44251469  2.        ]\n"
     ]
    }
   ],
   "source": [
    "print(np.unique(history[:,1]))"
   ]
  },
  {
   "cell_type": "code",
   "execution_count": 11,
   "metadata": {},
   "outputs": [
    {
     "data": {
      "text/plain": [
       "(array([ 949.,   11.,    0.,    0.,    4.,   12.,    5.,    3.,    3.,\n",
       "        1013.]),\n",
       " array([-3.14158925e+00, -2.51327466e+00, -1.88496007e+00, -1.25664549e+00,\n",
       "        -6.28330898e-01, -1.63091561e-05,  6.28298279e-01,  1.25661287e+00,\n",
       "         1.88492746e+00,  2.51324205e+00,  3.14155663e+00]),\n",
       " <a list of 10 Patch objects>)"
      ]
     },
     "execution_count": 11,
     "metadata": {},
     "output_type": "execute_result"
    },
    {
     "data": {
      "image/png": "[encoded data removed]",
      "text/plain": [
       "<Figure size 432x288 with 1 Axes>"
      ]
     },
     "metadata": {
      "needs_background": "light"
     },
     "output_type": "display_data"
    }
   ],
   "source": [
    "plt.hist(history[:,0])"
   ]
  },
  {
   "cell_type": "code",
   "execution_count": 29,
   "metadata": {},
   "outputs": [
    {
     "name": "stdout",
     "output_type": "stream",
     "text": [
      "-2.356194490192345 -3π/ 4 = -2.356194490192345\n",
      "-0.7853981633974483 -1π/ 4 = -0.7853981633974483\n",
      "0.7853981633974483 1π/ 4 = 0.7853981633974483\n",
      "2.356194490192345 3π/ 4 = 2.356194490192345\n"
     ]
    }
   ],
   "source": [
    "theta = np.pi / 4\n",
    "for i in range(1, 5):\n",
    "    theta = (2*i - 5) * np.pi / 4\n",
    "    o = np.array([np.cos(theta), np.sin(theta), 1])\n",
    "    print(_obs_to_rad(o), f'{(2*i - 5)}π/ 4 = {theta}')"
   ]
  },
  {
   "cell_type": "code",
   "execution_count": null,
   "metadata": {},
   "outputs": [],
   "source": []
  },
  {
   "cell_type": "code",
   "execution_count": null,
   "metadata": {},
   "outputs": [],
   "source": []
  }
 ],
 "metadata": {
  "kernelspec": {
   "display_name": "Python 3",
   "language": "python",
   "name": "python3"
  },
  "language_info": {
   "codemirror_mode": {
    "name": "ipython",
    "version": 3
   },
   "file_extension": ".py",
   "mimetype": "text/x-python",
   "name": "python",
   "nbconvert_exporter": "python",
   "pygments_lexer": "ipython3",
   "version": "3.7.4"
  }
 },
 "nbformat": 4,
 "nbformat_minor": 4
}
