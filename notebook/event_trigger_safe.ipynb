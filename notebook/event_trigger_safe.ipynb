{
 "cells": [
  {
   "cell_type": "code",
   "execution_count": 1,
   "metadata": {},
   "outputs": [
    {
     "name": "stderr",
     "output_type": "stream",
     "text": [
      "Using TensorFlow backend.\n"
     ]
    }
   ],
   "source": [
    "import warnings\n",
    "warnings.filterwarnings('ignore')\n",
    "import numpy as np\n",
    "import matplotlib.pyplot as plt\n",
    "import keras\n",
    "from keras.models import Model\n",
    "from keras.layers import concatenate, Dense, Input, Flatten\n",
    "from keras.optimizers import Adam\n",
    "\n",
    "import sys\n",
    "sys.path.append('../module/')\n",
    "\n",
    "import gym2\n",
    "from rl2.agents import eventDDPGAgent\n",
    "from rl2.memory import SequentialMemory"
   ]
  },
  {
   "cell_type": "code",
   "execution_count": 2,
   "metadata": {
    "scrolled": false
   },
   "outputs": [],
   "source": [
    "# GymのPendulum環境を作成\n",
    "env = gym2.make(\"Pendulum-v0\")\n",
    "clip = 10.\n",
    "env.max_torque, max_torque = clip, clip\n",
    "env.action_space.high, env.action_space.low = max_torque, -max_torque\n",
    "# site-packages/gym/envs/classic_control/pendulum.py\n",
    "\n",
    "# 取りうる”打ち手”のアクション数と値の定義\n",
    "nb_actions = 2\n",
    "ACT_ID_TO_VALUE = {0: [-1], 1: [+1]}"
   ]
  },
  {
   "cell_type": "code",
   "execution_count": 3,
   "metadata": {},
   "outputs": [],
   "source": [
    "def actor_net(a_shape, s_shape):\n",
    "    action_input = Input(shape=(1,)+s_shape)\n",
    "    x = Flatten()(action_input)\n",
    "    x = Dense(16, activation=\"relu\")(x)\n",
    "    x = Dense(16, activation=\"relu\")(x)\n",
    "    x = Dense(3, activation=\"tanh\")(x)\n",
    "    actor = Model(inputs=action_input, outputs=x)\n",
    "    return actor\n",
    "\n",
    "def critic_net(a_shape , s_shape):\n",
    "    action_input = Input(a_shape)\n",
    "    observation_input = Input(shape=(1,)+s_shape)\n",
    "    flattened_observation = Flatten()(observation_input)\n",
    "    x = concatenate([action_input, flattened_observation])\n",
    "    x = Dense(16, activation=\"relu\")(x)\n",
    "    x = Dense(16, activation=\"relu\")(x)\n",
    "    x = Dense(1, activation=\"linear\")(x)\n",
    "    critic = Model(inputs=[action_input, observation_input], outputs=x)\n",
    "    return (critic, action_input)"
   ]
  },
  {
   "cell_type": "code",
   "execution_count": 4,
   "metadata": {},
   "outputs": [],
   "source": [
    "def agent(a_shape, s_shape):\n",
    "    actor = actor_net(a_shape, s_shape)\n",
    "    critic,  critic_action_input = critic_net(a_shape, s_shape)\n",
    "    memory = SequentialMemory(limit = 50000, window_length = 1)\n",
    "    agent = eventDDPGAgent(\n",
    "        a_shape[0],\n",
    "        actor,\n",
    "        critic,\n",
    "        critic_action_input,\n",
    "        memory,\n",
    "        clip_com = 0.01\n",
    "    )\n",
    "    return agent"
   ]
  },
  {
   "cell_type": "code",
   "execution_count": 5,
   "metadata": {},
   "outputs": [
    {
     "name": "stdout",
     "output_type": "stream",
     "text": [
      "WARNING:tensorflow:From /Users/admin/.pyenv/versions/3.7.4/lib/python3.7/site-packages/keras/backend/tensorflow_backend.py:74: The name tf.get_default_graph is deprecated. Please use tf.compat.v1.get_default_graph instead.\n",
      "\n",
      "WARNING:tensorflow:From /Users/admin/.pyenv/versions/3.7.4/lib/python3.7/site-packages/keras/backend/tensorflow_backend.py:517: The name tf.placeholder is deprecated. Please use tf.compat.v1.placeholder instead.\n",
      "\n",
      "WARNING:tensorflow:From /Users/admin/.pyenv/versions/3.7.4/lib/python3.7/site-packages/keras/backend/tensorflow_backend.py:4138: The name tf.random_uniform is deprecated. Please use tf.random.uniform instead.\n",
      "\n",
      "WARNING:tensorflow:From /Users/admin/.pyenv/versions/3.7.4/lib/python3.7/site-packages/keras/backend/tensorflow_backend.py:174: The name tf.get_default_session is deprecated. Please use tf.compat.v1.get_default_session instead.\n",
      "\n",
      "WARNING:tensorflow:From /Users/admin/.pyenv/versions/3.7.4/lib/python3.7/site-packages/keras/backend/tensorflow_backend.py:181: The name tf.ConfigProto is deprecated. Please use tf.compat.v1.ConfigProto instead.\n",
      "\n",
      "WARNING:tensorflow:From /Users/admin/.pyenv/versions/3.7.4/lib/python3.7/site-packages/keras/optimizers.py:790: The name tf.train.Optimizer is deprecated. Please use tf.compat.v1.train.Optimizer instead.\n",
      "\n",
      "Training for 10000 steps ...\n",
      "Interval 1 (0 steps performed)\n",
      "10000/10000 [==============================] - 68s 7ms/step - reward: -5.3183\n",
      "done, took 68.249 seconds\n"
     ]
    },
    {
     "data": {
      "text/plain": [
       "<keras.callbacks.History at 0x132915fd0>"
      ]
     },
     "execution_count": 5,
     "metadata": {},
     "output_type": "execute_result"
    }
   ],
   "source": [
    "#event-base learning\n",
    "l = 0.\n",
    "step = 10000\n",
    "time_mode = True\n",
    "a =  agent((3,), env.observation_space.shape)\n",
    "a.compile(Adam(lr=0.001, clipnorm=1.), metrics=[\"mae\"])\n",
    "#a.load_weights('../learned_models_vol2/0.5standup-agent.h5')\n",
    "a.fit(env, lam=l, nb_steps=step, visualize=0, verbose=1, nb_max_episode_steps=200, loss_graph=0, time_mode=time_mode)"
   ]
  },
  {
   "cell_type": "code",
   "execution_count": 6,
   "metadata": {},
   "outputs": [
    {
     "data": {
      "image/png": "[encoded data removed]",
      "text/plain": [
       "<Figure size 864x288 with 1 Axes>"
      ]
     },
     "metadata": {
      "needs_background": "light"
     },
     "output_type": "display_data"
    },
    {
     "data": {
      "image/png": "[encoded data removed]",
      "text/plain": [
       "<Figure size 864x288 with 1 Axes>"
      ]
     },
     "metadata": {
      "needs_background": "light"
     },
     "output_type": "display_data"
    }
   ],
   "source": [
    "plt.figure(figsize=(12,4))\n",
    "plt.title('danger state')\n",
    "plt.scatter(range(step), a.cbf_log[:,0], marker='.')\n",
    "plt.show()\n",
    "plt.figure(figsize=(12,4))\n",
    "plt.title('berrier compensate')\n",
    "plt.scatter(range(step), a.cbf_log[:,1], marker='.')\n",
    "plt.show()"
   ]
  },
  {
   "cell_type": "code",
   "execution_count": 7,
   "metadata": {},
   "outputs": [
    {
     "name": "stdout",
     "output_type": "stream",
     "text": [
      "Testing for 1 episodes ...\n",
      "step =  1 , output of actor network =  [ 9.971753    0.27166328 -0.90988255]\n",
      "step =  2 , output of actor network =  [ 9.9956255   0.2181006  -0.88198954]\n",
      "step =  3 , output of actor network =  [ 1.2383493   0.4855536  -0.50575167]\n",
      "step =  4 , output of actor network =  [0.11717953 0.680549   0.22797137]\n",
      "step =  5 , output of actor network =  [-0.26905698  0.7567002   0.5843966 ]\n",
      "step =  6 , output of actor network =  [-0.5889361   0.73866963  0.8149782 ]\n",
      "step =  7 , output of actor network =  [-0.88866466  0.72153604  0.9147889 ]\n",
      "step =  8 , output of actor network =  [-1.1812767   0.70542145  0.95891845]\n",
      "step =  9 , output of actor network =  [-1.4710219  0.6684427  0.9789158]\n",
      "step =  10 , output of actor network =  [-1.7588843   0.60770285  0.98851806]\n",
      "step =  11 , output of actor network =  [-2.0444024   0.5402368   0.99346066]\n",
      "step =  12 , output of actor network =  [-2.3319545   0.45782152  0.99628526]\n",
      "step =  13 , output of actor network =  [-2.6481292  0.3405008  0.9981129]\n",
      "step =  14 , output of actor network =  [-2.9934292   0.24401334  0.99928117]\n",
      "step =  15 , output of actor network =  [-3.3673375   0.13343158  0.9998053 ]\n",
      "step =  16 , output of actor network =  [-3.768397   -0.0142328   0.99996084]\n",
      "step =  17 , output of actor network =  [-4.1931906  -0.17093945  0.9999938 ]\n",
      "step =  18 , output of actor network =  [-4.6342936  -0.38535878  0.99999917]\n",
      "step =  19 , output of actor network =  [-5.0774207  -0.65208215  0.9999999 ]\n",
      "step =  20 , output of actor network =  [-5.49812    -0.83999413  1.        ]\n",
      "step =  21 , output of actor network =  [-5.8587675 -0.9387315  1.       ]\n",
      "step =  22 , output of actor network =  [-6.1050563 -0.9796072  1.       ]\n",
      "step =  23 , output of actor network =  [-5.985114   -0.99020785  1.        ]\n",
      "step =  24 , output of actor network =  [-5.6408844 -0.9797827  1.       ]\n",
      "step =  25 , output of actor network =  [-5.0181904  -0.92706245  1.        ]\n",
      "step =  26 , output of actor network =  [-4.1033006  -0.71112996  1.        ]\n",
      "step =  27 , output of actor network =  [-2.940346   -0.11162183  0.9999998 ]\n",
      "step =  28 , output of actor network =  [-1.6299608   0.5952653   0.99999964]\n",
      "step =  29 , output of actor network =  [-0.30367538  0.8776432   0.9999986 ]\n",
      "step =  30 , output of actor network =  [0.92268044 0.9288279  0.99999356]\n",
      "step =  31 , output of actor network =  [1.9850357 0.9179192 0.9999774]\n",
      "step =  32 , output of actor network =  [2.8371708  0.850446   0.99993587]\n",
      "step =  33 , output of actor network =  [3.4654279  0.69452035 0.9995748 ]\n",
      "step =  34 , output of actor network =  [3.8602545  0.43406728 0.99663734]\n",
      "step =  35 , output of actor network =  [4.0436764  0.19242494 0.98874646]\n",
      "step =  36 , output of actor network =  [4.1145973  0.09384438 0.9783818 ]\n",
      "step =  37 , output of actor network =  [4.167673   0.1115538  0.96153337]\n",
      "step =  38 , output of actor network =  [4.1581445  0.14233966 0.9047591 ]\n",
      "step =  39 , output of actor network =  [4.1214957  0.3400665  0.69532454]\n",
      "step =  40 , output of actor network =  [4.084333   0.55216604 0.28173575]\n",
      "step =  41 , output of actor network =  [ 4.0660434   0.7419143  -0.25213894]\n",
      "step =  42 , output of actor network =  [ 4.081717    0.8936772  -0.84387356]\n",
      "step =  43 , output of actor network =  [ 4.1499934   0.875718   -0.97492296]\n",
      "step =  44 , output of actor network =  [ 4.416996    0.79688585 -0.996244  ]\n",
      "step =  45 , output of actor network =  [ 4.196061    0.5344985  -0.99911904]\n",
      "step =  46 , output of actor network =  [ 4.4397902  -0.00566846 -0.99983734]\n",
      "step =  47 , output of actor network =  [ 4.676474   -0.46139205 -0.9999668 ]\n",
      "step =  48 , output of actor network =  [ 4.940824   -0.64923966 -0.9999795 ]\n",
      "step =  49 , output of actor network =  [ 5.227315   -0.5946226  -0.99998856]\n",
      "step =  50 , output of actor network =  [ 5.5188975 -0.5146712 -0.9999835]\n",
      "step =  51 , output of actor network =  [ 5.787986   -0.47035643 -0.9999372 ]\n",
      "step =  52 , output of actor network =  [ 5.9957223  -0.46364197 -0.99964637]\n",
      "step =  53 , output of actor network =  [ 5.90769    -0.54264176 -0.9961743 ]\n",
      "step =  54 , output of actor network =  [ 5.6677465  -0.76413643 -0.8893278 ]\n",
      "step =  55 , output of actor network =  [ 5.2239137  -0.93499345  0.63611835]\n",
      "step =  56 , output of actor network =  [ 4.540685  -0.9798728  0.9952664]\n",
      "step =  57 , output of actor network =  [ 3.6209202  -0.99269074  0.9999303 ]\n",
      "step =  58 , output of actor network =  [ 2.5144532  -0.9964911   0.99999785]\n",
      "step =  59 , output of actor network =  [ 1.3112062 -0.9977128  0.9999999]\n",
      "step =  60 , output of actor network =  [ 0.118591   -0.9972369   0.99999994]\n",
      "step =  61 , output of actor network =  [-0.9857919  -0.99062943  0.9999998 ]\n",
      "step =  62 , output of actor network =  [-1.9556539 -0.9359132  0.9999998]\n",
      "step =  63 , output of actor network =  [-2.756929   -0.43278256  0.9999933 ]\n",
      "step =  64 , output of actor network =  [-3.3795238   0.2632445   0.99988705]\n",
      "step =  65 , output of actor network =  [-3.8116012  0.5151345  0.9988733]\n",
      "step =  66 , output of actor network =  [-4.0659575   0.60369     0.99079984]\n",
      "step =  67 , output of actor network =  [-4.169768    0.6591484   0.92416006]\n",
      "step =  68 , output of actor network =  [-4.2095003   0.69371647  0.54404324]\n",
      "step =  69 , output of actor network =  [-4.2725663   0.7111008   0.02499599]\n",
      "step =  70 , output of actor network =  [-4.2905607   0.56697285  0.5596305 ]\n",
      "step =  71 , output of actor network =  [-4.263328    0.08061258  0.9026681 ]\n",
      "step =  72 , output of actor network =  [-4.116299  -0.57343    0.9845685]\n",
      "step =  73 , output of actor network =  [-2.96166    -0.74393934  0.9931632 ]\n",
      "step =  74 , output of actor network =  [-9.700068  -0.7931179  0.9988767]\n",
      "step =  75 , output of actor network =  [-5.667458   -0.7343248   0.99985164]\n",
      "step =  76 , output of actor network =  [-5.6511188  -0.42568055  0.9999711 ]\n",
      "step =  77 , output of actor network =  [-5.7614474 -0.4764385  0.9999961]\n",
      "step =  78 , output of actor network =  [-5.8959394  -0.6363627   0.99999964]\n",
      "step =  79 , output of actor network =  [-5.8613048  -0.66527337  1.        ]\n",
      "step =  80 , output of actor network =  [-5.71901    -0.6138025   0.99999994]\n",
      "step =  81 , output of actor network =  [-5.465223   -0.44552442  1.0000001 ]\n",
      "step =  82 , output of actor network =  [-5.0490417  -0.14094892  0.99999994]\n",
      "step =  83 , output of actor network =  [-4.4381742   0.31338373  0.9999999 ]\n",
      "step =  84 , output of actor network =  [-3.629625   0.7101206  0.9999993]\n",
      "step =  85 , output of actor network =  [-2.6564906   0.9159218   0.99999815]\n",
      "step =  86 , output of actor network =  [-1.5847336  0.979346   0.9999948]\n",
      "step =  87 , output of actor network =  [-0.49871758  0.9939781   0.99998057]\n",
      "step =  88 , output of actor network =  [0.53173435 0.99702346 0.9999353 ]\n",
      "step =  89 , output of actor network =  [1.4699346  0.99758655 0.9998072 ]\n",
      "step =  90 , output of actor network =  [2.287151   0.99714935 0.9995045 ]\n",
      "step =  91 , output of actor network =  [2.966174  0.9955531 0.9978537]\n",
      "step =  92 , output of actor network =  [3.4983814  0.99301505 0.9857447 ]\n",
      "step =  93 , output of actor network =  [3.878613   0.99075097 0.90849787]\n",
      "step =  94 , output of actor network =  [4.1188674  0.99036396 0.58450216]\n",
      "step =  95 , output of actor network =  [ 4.2385755   0.99093664 -0.2729519 ]\n",
      "step =  96 , output of actor network =  [ 4.2532578   0.9926448  -0.86601186]\n",
      "step =  97 , output of actor network =  [ 4.1592503   0.9949224  -0.98083764]\n",
      "step =  98 , output of actor network =  [ 4.054009    0.99756956 -0.9962061 ]\n",
      "step =  99 , output of actor network =  [ 3.4996514   0.998825   -0.99969006]\n",
      "step =  100 , output of actor network =  [-12.992504     0.9968551   -0.99990183]\n",
      "step =  101 , output of actor network =  [ 6.0672216  0.9382466 -0.9998249]\n",
      "step =  102 , output of actor network =  [ 5.891433   0.7582566 -0.999062 ]\n",
      "step =  103 , output of actor network =  [ 5.7400947   0.30189776 -0.9923426 ]\n",
      "step =  104 , output of actor network =  [ 5.581633   -0.23263928 -0.92493445]\n",
      "step =  105 , output of actor network =  [ 5.3496814  -0.71232414 -0.11017525]\n",
      "step =  106 , output of actor network =  [ 4.9950366  -0.91631585  0.9254366 ]\n",
      "step =  107 , output of actor network =  [ 4.4839416  -0.9718899   0.99775094]\n",
      "step =  108 , output of actor network =  [ 3.8041773  -0.9889122   0.99992996]\n",
      "step =  109 , output of actor network =  [ 2.971125   -0.99442714  0.999997  ]\n",
      "step =  110 , output of actor network =  [ 2.0282893  -0.99612606  0.9999998 ]\n",
      "step =  111 , output of actor network =  [ 1.0394359 -0.9959714  1.       ]\n",
      "step =  112 , output of actor network =  [ 0.07653147 -0.99633276  1.        ]\n",
      "step =  113 , output of actor network =  [-0.82933503 -0.99702686  1.        ]\n",
      "step =  114 , output of actor network =  [-1.6534203  -0.99770397  1.        ]\n",
      "step =  115 , output of actor network =  [-2.3763003 -0.9970537  1.       ]\n",
      "step =  116 , output of actor network =  [-2.9885218 -0.9862757  0.9999993]\n",
      "step =  117 , output of actor network =  [-3.480831   -0.94490314  0.9999893 ]\n",
      "step =  118 , output of actor network =  [-3.8482838 -0.856984   0.9998908]\n",
      "step =  119 , output of actor network =  [-4.0985827  -0.7338654   0.99929756]\n",
      "step =  120 , output of actor network =  [-4.2439704 -0.6478339  0.9973951]\n",
      "step =  121 , output of actor network =  [-4.2899384  -0.6222811   0.99501735]\n",
      "step =  122 , output of actor network =  [-4.21157    -0.17541876  0.99519503]\n",
      "step =  123 , output of actor network =  [-3.8490787   0.08607203  0.99623436]\n",
      "step =  124 , output of actor network =  [-1.3100767   0.20613272  0.99691266]\n",
      "step =  125 , output of actor network =  [-9.642374   0.2802734  0.9989615]\n",
      "step =  126 , output of actor network =  [-5.8979897   0.6496818   0.99972755]\n",
      "step =  127 , output of actor network =  [-5.6110353  0.8723674  0.9999216]\n",
      "step =  128 , output of actor network =  [-5.427651    0.903548    0.99997044]\n",
      "step =  129 , output of actor network =  [-5.227837    0.8893532   0.99998736]\n",
      "step =  130 , output of actor network =  [-4.9544806   0.90311474  0.99999195]\n"
     ]
    },
    {
     "name": "stdout",
     "output_type": "stream",
     "text": [
      "step =  131 , output of actor network =  [-4.5706167   0.9298607   0.99999076]\n",
      "step =  132 , output of actor network =  [-4.0548563   0.9602566   0.99998385]\n",
      "step =  133 , output of actor network =  [-3.404404    0.9836528   0.99998367]\n",
      "step =  134 , output of actor network =  [-2.6377683   0.9943403   0.99997604]\n",
      "step =  135 , output of actor network =  [-1.793289    0.99826366  0.99994874]\n",
      "step =  136 , output of actor network =  [-0.9228716   0.9994614   0.99985635]\n",
      "step =  137 , output of actor network =  [-0.07591457  0.9997634   0.99961877]\n",
      "step =  138 , output of actor network =  [0.7274624  0.9998554  0.99905246]\n",
      "step =  139 , output of actor network =  [1.470266   0.99987936 0.9978109 ]\n",
      "step =  140 , output of actor network =  [2.1386547  0.9998782  0.99533397]\n",
      "step =  141 , output of actor network =  [2.7235897  0.9998287  0.98095554]\n",
      "step =  142 , output of actor network =  [3.2216353  0.99978644 0.9103747 ]\n",
      "step =  143 , output of actor network =  [3.6212454  0.9997512  0.55035186]\n",
      "step =  144 , output of actor network =  [ 3.9221241   0.99977297 -0.21366146]\n",
      "step =  145 , output of actor network =  [ 4.12992     0.99979824 -0.82332045]\n",
      "step =  146 , output of actor network =  [ 4.2478986   0.99984324 -0.97565174]\n",
      "step =  147 , output of actor network =  [ 4.2593203  0.9998582 -0.996333 ]\n",
      "step =  148 , output of actor network =  [ 4.0500965  0.9998922 -0.9993123]\n",
      "step =  149 , output of actor network =  [ 2.0703223   0.99985254 -0.9996948 ]\n",
      "step =  150 , output of actor network =  [ 9.709421   0.9996568 -0.9994539]\n",
      "step =  151 , output of actor network =  [ 5.4961147  0.9991178 -0.9982218]\n",
      "step =  152 , output of actor network =  [ 5.2411447   0.995925   -0.97966456]\n",
      "step =  153 , output of actor network =  [ 5.052985    0.97819835 -0.6600116 ]\n",
      "step =  154 , output of actor network =  [4.8328705  0.890086   0.42820096]\n",
      "step =  155 , output of actor network =  [4.538222   0.58171386 0.95027214]\n",
      "step =  156 , output of actor network =  [4.144379   0.02878484 0.9968071 ]\n",
      "step =  157 , output of actor network =  [ 3.6403136  -0.46554285  0.99980015]\n",
      "step =  158 , output of actor network =  [ 3.0300095  -0.72266585  0.99998534]\n",
      "step =  159 , output of actor network =  [ 2.333221  -0.8243511  0.9999985]\n",
      "step =  160 , output of actor network =  [ 1.5831566  -0.8472976   0.99999976]\n",
      "step =  161 , output of actor network =  [ 0.82310796 -0.85417604  0.9999999 ]\n",
      "step =  162 , output of actor network =  [ 0.08251882 -0.8740227   1.        ]\n",
      "step =  163 , output of actor network =  [-0.62538886 -0.8938361   1.        ]\n",
      "step =  164 , output of actor network =  [-1.2891513 -0.9105189  1.       ]\n",
      "step =  165 , output of actor network =  [-1.8990583  -0.92417455  1.        ]\n",
      "step =  166 , output of actor network =  [-2.4471686  -0.93778276  0.9999999 ]\n",
      "step =  167 , output of actor network =  [-2.9337134  -0.93337995  0.9999998 ]\n",
      "step =  168 , output of actor network =  [-3.3470974  -0.89643556  0.99999905]\n",
      "step =  169 , output of actor network =  [-3.6809103  -0.77394164  0.99999654]\n",
      "step =  170 , output of actor network =  [-3.9354591  -0.44201136  0.9999894 ]\n",
      "step =  171 , output of actor network =  [-4.1127524   0.18978384  0.9999717 ]\n",
      "step =  172 , output of actor network =  [-4.2067976  0.6459764  0.9998281]\n",
      "step =  173 , output of actor network =  [-4.168643    0.84027225  0.99913096]\n",
      "step =  174 , output of actor network =  [-3.496948    0.90137976  0.996645  ]\n",
      "step =  175 , output of actor network =  [-9.991287    0.93419385  0.9934985 ]\n",
      "step =  176 , output of actor network =  [-5.0612717   0.9725079   0.99385357]\n",
      "step =  177 , output of actor network =  [-4.8539495  0.990109   0.9967786]\n",
      "step =  178 , output of actor network =  [-4.678482    0.9959641   0.99840885]\n",
      "step =  179 , output of actor network =  [-4.4606605  0.9974108  0.9992325]\n",
      "step =  180 , output of actor network =  [-4.1711864   0.9976104   0.99961764]\n",
      "step =  181 , output of actor network =  [-3.7947898   0.99819195  0.9997465 ]\n",
      "step =  182 , output of actor network =  [-3.3268864   0.99890405  0.9997833 ]\n",
      "step =  183 , output of actor network =  [-2.7742202   0.99945134  0.9997552 ]\n",
      "step =  184 , output of actor network =  [-2.1548765   0.99976575  0.99963063]\n",
      "step =  185 , output of actor network =  [-1.4961568  0.9999125  0.9992596]\n",
      "step =  186 , output of actor network =  [-0.834724    0.99996275  0.998447  ]\n",
      "step =  187 , output of actor network =  [-0.18732297  0.99998057  0.99685246]\n",
      "step =  188 , output of actor network =  [0.43739808 0.9999876  0.9938561 ]\n",
      "step =  189 , output of actor network =  [1.0316826 0.9999905 0.9884836]\n",
      "step =  190 , output of actor network =  [1.5886523  0.99999166 0.9809384 ]\n",
      "step =  191 , output of actor network =  [2.102325   0.999991   0.94883543]\n",
      "step =  192 , output of actor network =  [2.5692368 0.9999877 0.8432849]\n",
      "step =  193 , output of actor network =  [2.9891539  0.9999856  0.49002156]\n",
      "step =  194 , output of actor network =  [ 3.3501093   0.9999836  -0.25499356]\n",
      "step =  195 , output of actor network =  [ 3.6470392   0.999984   -0.78035593]\n",
      "step =  196 , output of actor network =  [ 3.8796027  0.9999795 -0.957691 ]\n",
      "step =  197 , output of actor network =  [ 4.0484204  0.9999742 -0.991942 ]\n",
      "step =  198 , output of actor network =  [ 4.1468964  0.9999682 -0.9921522]\n",
      "step =  199 , output of actor network =  [ 4.118714    0.99996173 -0.99406785]\n",
      "Episode 1: reward: -1021.450, steps: 200\n"
     ]
    },
    {
     "data": {
      "text/plain": [
       "<keras.callbacks.History at 0x1320c0b90>"
      ]
     },
     "execution_count": 7,
     "metadata": {},
     "output_type": "execute_result"
    }
   ],
   "source": [
    "a.test(env, lam=l, visualize=False, nb_max_episode_steps=200, action_view=1, time_mode=time_mode)"
   ]
  },
  {
   "cell_type": "code",
   "execution_count": 8,
   "metadata": {},
   "outputs": [
    {
     "data": {
      "image/png": "[encoded data removed]",
      "text/plain": [
       "<Figure size 576x576 with 4 Axes>"
      ]
     },
     "metadata": {
      "needs_background": "light"
     },
     "output_type": "display_data"
    }
   ],
   "source": [
    "titles = ['theta(rad)', 'input(Nm)', 'communication', 'barrier_certificate'] \n",
    "history = a.data_log[0]\n",
    "x_axis = range(200)\n",
    "plt.figure(figsize=(8,8))\n",
    "plt.subplots_adjust(wspace=0.4, hspace=0.6)\n",
    "for i in range(4):\n",
    "    data = history[:,i]\n",
    "    plt.subplot(4,1,i+1)\n",
    "    plt.title(titles[i])\n",
    "    plt.plot(x_axis, data)\n",
    "plt.show()"
   ]
  },
  {
   "cell_type": "code",
   "execution_count": 9,
   "metadata": {},
   "outputs": [
    {
     "name": "stdout",
     "output_type": "stream",
     "text": [
      "[-2.          0.44251469  2.        ]\n"
     ]
    }
   ],
   "source": [
    "print(np.unique(history[:,1]))"
   ]
  },
  {
   "cell_type": "code",
   "execution_count": 12,
   "metadata": {},
   "outputs": [
    {
     "name": "stdout",
     "output_type": "stream",
     "text": [
      "10.0\n",
      "Box(1,)\n"
     ]
    }
   ],
   "source": [
    "print(env.max_torque)\n",
    "print(env.action_space)"
   ]
  },
  {
   "cell_type": "code",
   "execution_count": null,
   "metadata": {},
   "outputs": [],
   "source": []
  },
  {
   "cell_type": "code",
   "execution_count": null,
   "metadata": {},
   "outputs": [],
   "source": []
  },
  {
   "cell_type": "code",
   "execution_count": null,
   "metadata": {},
   "outputs": [],
   "source": []
  }
 ],
 "metadata": {
  "kernelspec": {
   "display_name": "Python 3",
   "language": "python",
   "name": "python3"
  },
  "language_info": {
   "codemirror_mode": {
    "name": "ipython",
    "version": 3
   },
   "file_extension": ".py",
   "mimetype": "text/x-python",
   "name": "python",
   "nbconvert_exporter": "python",
   "pygments_lexer": "ipython3",
   "version": "3.7.4"
  }
 },
 "nbformat": 4,
 "nbformat_minor": 4
}
