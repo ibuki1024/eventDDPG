{
 "cells": [
  {
   "cell_type": "code",
   "execution_count": 1,
   "metadata": {},
   "outputs": [
    {
     "name": "stderr",
     "output_type": "stream",
     "text": [
      "Using TensorFlow backend.\n"
     ]
    }
   ],
   "source": [
    "import warnings\n",
    "warnings.filterwarnings('ignore')\n",
    "import numpy as np\n",
    "import matplotlib.pyplot as plt\n",
    "\n",
    "import sys\n",
    "sys.path.append('../../module/')\n",
    "\n",
    "import keras2\n",
    "from keras2.models import Model\n",
    "from keras2.layers import concatenate, Dense, Input, Flatten\n",
    "from keras2.optimizers import Adam\n",
    "import tensorflow as tf\n",
    "import keras2.backend.tensorflow_backend as K\n",
    "import gym2\n",
    "from util import make_standup_agent\n",
    "import copy"
   ]
  },
  {
   "cell_type": "code",
   "execution_count": 2,
   "metadata": {},
   "outputs": [],
   "source": [
    "# GymのPendulum環境を作成\n",
    "env = gym2.make(\"Pendulum-v2\")\n",
    "\n",
    "# 取りうる”打ち手”のアクション数と値の定義\n",
    "nb_actios = 2\n",
    "ACT_ID_TO_VALUE = {0: [-1], 1: [+1]}"
   ]
  },
  {
   "cell_type": "code",
   "execution_count": 3,
   "metadata": {},
   "outputs": [],
   "source": [
    "def critic_net(a_shape, s_shape):\n",
    "    action_input = Input(a_shape)\n",
    "    observation_input = Input(shape=(1,)+s_shape)\n",
    "    flattened_observation = Flatten()(observation_input)\n",
    "    x = concatenate([action_input, flattened_observation])\n",
    "    x = Dense(16, activation=\"relu\")(x)\n",
    "    x = Dense(16, activation=\"relu\")(x)\n",
    "    x = Dense(1, activation=\"linear\")(x)\n",
    "    critic = Model(inputs=[action_input, observation_input], outputs=x)\n",
    "    return (critic, action_input)\n",
    "\n",
    "def branch_actor(a_shape, s_shape):\n",
    "    action_input = Input(shape=(1,)+s_shape)\n",
    "    x = Flatten()(action_input) # 実質的なinput layer\n",
    "    \n",
    "    x1 = Dense(8, activation=\"relu\")(x)\n",
    "    x1 = Dense(8, activation=\"relu\")(x1)\n",
    "    x1 = Dense(1, activation=\"multiple_tanh\")(x1) # action signal\n",
    "    \n",
    "    x2 = Dense(8, activation=\"relu\")(x)\n",
    "    x2 = Dense(8, activation=\"relu\")(x2)\n",
    "    x2 = Dense(1, activation=\"tau_output\")(x2) # tau\n",
    "    \n",
    "    output = concatenate([x1, x2])\n",
    "    actor = Model(inputs=action_input, outputs=output)\n",
    "    return actor\n",
    "\n",
    "def split_params(tw):\n",
    "    action_tw = []\n",
    "    tau_tw = []\n",
    "    for i in range(len(tw)):\n",
    "        if i % 4 < 2:\n",
    "            action_tw.append(tw[i])\n",
    "        else:\n",
    "            tau_tw.append(tw[i])\n",
    "    return action_tw, tau_tw\n",
    "\n",
    "def rad_clip(th):\n",
    "    r = abs(th)\n",
    "    while r > np.pi:\n",
    "        r -= 2 * np.pi\n",
    "    th = np.sign(th) * r\n",
    "    return th\n"
   ]
  },
  {
   "cell_type": "code",
   "execution_count": 4,
   "metadata": {
    "scrolled": true
   },
   "outputs": [
    {
     "name": "stdout",
     "output_type": "stream",
     "text": [
      "WARNING:tensorflow:From ../../module/keras2/backend/tensorflow_backend.py:82: The name tf.get_default_graph is deprecated. Please use tf.compat.v1.get_default_graph instead.\n",
      "\n",
      "WARNING:tensorflow:From ../../module/keras2/backend/tensorflow_backend.py:525: The name tf.placeholder is deprecated. Please use tf.compat.v1.placeholder instead.\n",
      "\n",
      "WARNING:tensorflow:From ../../module/keras2/backend/tensorflow_backend.py:4148: The name tf.random_uniform is deprecated. Please use tf.random.uniform instead.\n",
      "\n"
     ]
    }
   ],
   "source": [
    "actor = branch_actor((2,),(2,))"
   ]
  },
  {
   "cell_type": "code",
   "execution_count": 5,
   "metadata": {},
   "outputs": [
    {
     "name": "stdout",
     "output_type": "stream",
     "text": [
      "WARNING:tensorflow:From ../../module/keras2/optimizers.py:790: The name tf.train.Optimizer is deprecated. Please use tf.compat.v1.train.Optimizer instead.\n",
      "\n",
      "WARNING:tensorflow:From ../../module/keras2/backend/tensorflow_backend.py:994: The name tf.assign_add is deprecated. Please use tf.compat.v1.assign_add instead.\n",
      "\n",
      "WARNING:tensorflow:From ../../module/keras2/backend/tensorflow_backend.py:981: The name tf.assign is deprecated. Please use tf.compat.v1.assign instead.\n",
      "\n",
      "Epoch 1/50\n",
      "30000/30000 [==============================] - 1s 36us/step - loss: 3.3060\n",
      "Epoch 2/50\n",
      "30000/30000 [==============================] - 0s 17us/step - loss: 0.1691\n",
      "Epoch 3/50\n",
      "30000/30000 [==============================] - 0s 16us/step - loss: 0.0830\n",
      "Epoch 4/50\n",
      "30000/30000 [==============================] - 0s 16us/step - loss: 0.0679\n",
      "Epoch 5/50\n",
      "30000/30000 [==============================] - 0s 17us/step - loss: 0.0631\n",
      "Epoch 6/50\n",
      "30000/30000 [==============================] - 0s 16us/step - loss: 0.0610\n",
      "Epoch 7/50\n",
      "30000/30000 [==============================] - 1s 17us/step - loss: 0.0601\n",
      "Epoch 8/50\n",
      "30000/30000 [==============================] - 1s 23us/step - loss: 0.0595\n",
      "Epoch 9/50\n",
      "30000/30000 [==============================] - 1s 17us/step - loss: 0.0590\n",
      "Epoch 10/50\n",
      "30000/30000 [==============================] - 1s 18us/step - loss: 0.0588\n",
      "Epoch 11/50\n",
      "30000/30000 [==============================] - 1s 17us/step - loss: 0.0587\n",
      "Epoch 12/50\n",
      "30000/30000 [==============================] - 1s 17us/step - loss: 0.0585\n",
      "Epoch 13/50\n",
      "30000/30000 [==============================] - 1s 18us/step - loss: 0.0584\n",
      "Epoch 14/50\n",
      "30000/30000 [==============================] - 1s 23us/step - loss: 0.0585\n",
      "Epoch 15/50\n",
      "30000/30000 [==============================] - 1s 28us/step - loss: 0.0582\n",
      "Epoch 16/50\n",
      "30000/30000 [==============================] - 1s 26us/step - loss: 0.0584\n",
      "Epoch 17/50\n",
      "30000/30000 [==============================] - 1s 18us/step - loss: 0.0584\n",
      "Epoch 18/50\n",
      "30000/30000 [==============================] - 1s 20us/step - loss: 0.0585\n",
      "Epoch 19/50\n",
      "30000/30000 [==============================] - 1s 20us/step - loss: 0.0582\n",
      "Epoch 20/50\n",
      "30000/30000 [==============================] - 1s 25us/step - loss: 0.0585\n",
      "Epoch 21/50\n",
      "30000/30000 [==============================] - 1s 19us/step - loss: 0.0584\n",
      "Epoch 22/50\n",
      "30000/30000 [==============================] - 1s 25us/step - loss: 0.0584\n",
      "Epoch 23/50\n",
      "30000/30000 [==============================] - 1s 20us/step - loss: 0.0582\n",
      "Epoch 24/50\n",
      "30000/30000 [==============================] - 1s 21us/step - loss: 0.0582\n",
      "Epoch 25/50\n",
      "30000/30000 [==============================] - 1s 24us/step - loss: 0.0582\n",
      "Epoch 26/50\n",
      "30000/30000 [==============================] - 1s 19us/step - loss: 0.0584\n",
      "Epoch 27/50\n",
      "30000/30000 [==============================] - 1s 33us/step - loss: 0.0581\n",
      "Epoch 28/50\n",
      "30000/30000 [==============================] - 1s 24us/step - loss: 0.0583\n",
      "Epoch 29/50\n",
      "30000/30000 [==============================] - 1s 23us/step - loss: 0.0582\n",
      "Epoch 30/50\n",
      "30000/30000 [==============================] - 1s 22us/step - loss: 0.0584\n",
      "Epoch 31/50\n",
      "30000/30000 [==============================] - 1s 18us/step - loss: 0.0583\n",
      "Epoch 32/50\n",
      "30000/30000 [==============================] - 1s 19us/step - loss: 0.0580\n",
      "Epoch 33/50\n",
      "30000/30000 [==============================] - 1s 17us/step - loss: 0.0582\n",
      "Epoch 34/50\n",
      "30000/30000 [==============================] - 1s 22us/step - loss: 0.0582\n",
      "Epoch 35/50\n",
      "30000/30000 [==============================] - 1s 18us/step - loss: 0.0584\n",
      "Epoch 36/50\n",
      "30000/30000 [==============================] - 1s 20us/step - loss: 0.0582\n",
      "Epoch 37/50\n",
      "30000/30000 [==============================] - 1s 25us/step - loss: 0.0582\n",
      "Epoch 38/50\n",
      "30000/30000 [==============================] - 1s 17us/step - loss: 0.0582\n",
      "Epoch 39/50\n",
      "30000/30000 [==============================] - 1s 19us/step - loss: 0.0582\n",
      "Epoch 40/50\n",
      "30000/30000 [==============================] - 1s 21us/step - loss: 0.0580\n",
      "Epoch 41/50\n",
      "30000/30000 [==============================] - 1s 22us/step - loss: 0.0582\n",
      "Epoch 42/50\n",
      "30000/30000 [==============================] - 1s 24us/step - loss: 0.0582\n",
      "Epoch 43/50\n",
      "30000/30000 [==============================] - 1s 33us/step - loss: 0.0585\n",
      "Epoch 44/50\n",
      "30000/30000 [==============================] - 1s 24us/step - loss: 0.0583\n",
      "Epoch 45/50\n",
      "30000/30000 [==============================] - 1s 33us/step - loss: 0.0581\n",
      "Epoch 46/50\n",
      "30000/30000 [==============================] - 1s 18us/step - loss: 0.0580\n",
      "Epoch 47/50\n",
      "30000/30000 [==============================] - 1s 19us/step - loss: 0.0581\n",
      "Epoch 48/50\n",
      "30000/30000 [==============================] - 1s 18us/step - loss: 0.0583\n",
      "Epoch 49/50\n",
      "30000/30000 [==============================] - 1s 25us/step - loss: 0.0582\n",
      "Epoch 50/50\n",
      "30000/30000 [==============================] - 1s 32us/step - loss: 0.0584\n"
     ]
    }
   ],
   "source": [
    "# set desiered actor\n",
    "actor = make_standup_agent(actor, 0.05, env, verbose=True)"
   ]
  },
  {
   "cell_type": "code",
   "execution_count": 6,
   "metadata": {},
   "outputs": [
    {
     "name": "stdout",
     "output_type": "stream",
     "text": [
      "99 %"
     ]
    }
   ],
   "source": [
    "# make memory\n",
    "memory = []\n",
    "l = 5.\n",
    "for i in range(50000):\n",
    "    env.reset()\n",
    "    reward = 0\n",
    "    state0 = env.state\n",
    "    a_agent, tau = actor.predict_on_batch(np.array([[state0]]))[0]\n",
    "    action_repetition = int(np.ceil(200 * tau))  # minimum natural number which makes `dt` smaller than 0.005\n",
    "    dt = tau / action_repetition\n",
    "    # print(tau, dt, action_repetition)\n",
    "    for p in range(action_repetition):\n",
    "        _,_,r,_ = env.step(np.array([a_agent]), dt, tau)\n",
    "        reward += r\n",
    "    reward *= dt\n",
    "    reward += - 0.01 * a_agent**2 + l * tau\n",
    "    state1 = env.state\n",
    "    memory.append([state0, np.array([a_agent, tau]), reward, state1])\n",
    "    print('\\r' + f'{int(i*.002)} %', end='')\n",
    "memory = np.array(memory)"
   ]
  },
  {
   "cell_type": "code",
   "execution_count": 7,
   "metadata": {},
   "outputs": [
    {
     "data": {
      "image/png": "[encoded data removed]",
      "text/plain": [
       "<Figure size 432x288 with 1 Axes>"
      ]
     },
     "metadata": {
      "needs_background": "light"
     },
     "output_type": "display_data"
    }
   ],
   "source": [
    "# critic learning\n",
    "critic = critic_net((2,),(2,))[0]\n",
    "critic.compile(Adam(lr=0.001, clipnorm=1.), loss='mean_squared_error')\n",
    "epoch = 10000\n",
    "batch_size = 32\n",
    "gamma = 0.99\n",
    "arr = np.array(range(memory.shape[0]))\n",
    "losses = []\n",
    "for _ in range(epoch):\n",
    "    # make mini_batch\n",
    "    mem = memory[np.random.choice(arr, batch_size, replace=False)]\n",
    "    state0_batch = []\n",
    "    action_batch = []\n",
    "    reward_batch = []\n",
    "    state1_batch = []\n",
    "    for m in mem:\n",
    "        state0_batch.append([m[0]])\n",
    "        action_batch.append(m[1])\n",
    "        reward_batch.append([m[2]])\n",
    "        state1_batch.append([m[3]])\n",
    "    state0_batch, action_batch, reward_batch, state1_batch = \\\n",
    "    np.array(state0_batch), np.array(action_batch), np.array(reward_batch), np.array(state1_batch)\n",
    "\n",
    "    # TD error\n",
    "    next_action = actor.predict_on_batch(state1_batch)\n",
    "    state1_batch_with_action = [next_action, state1_batch]\n",
    "    r_second = gamma * critic.predict_on_batch(state1_batch_with_action)\n",
    "    r = reward_batch + r_second\n",
    "    \n",
    "    # learn\n",
    "    critic_input_batch = [action_batch, state0_batch]\n",
    "    loss = critic.train_on_batch(critic_input_batch, r)\n",
    "    losses.append(loss)\n",
    "plt.plot(losses)\n",
    "plt.xlabel('epochs')\n",
    "plt.ylabel('critic_loss')\n",
    "plt.show()\n",
    "\n",
    "learned_critic = copy.deepcopy(critic)"
   ]
  },
  {
   "cell_type": "code",
   "execution_count": 8,
   "metadata": {
    "code_folding": []
   },
   "outputs": [
    {
     "data": {
      "image/png": "[encoded data removed]",
      "text/plain": [
       "<Figure size 864x288 with 2 Axes>"
      ]
     },
     "metadata": {
      "needs_background": "light"
     },
     "output_type": "display_data"
    }
   ],
   "source": [
    "env.reset()\n",
    "env.set_state(np.array([-0.9, 0.1]))\n",
    "states = []\n",
    "time_limit = 10\n",
    "time_log = []\n",
    "taus = []\n",
    "acc_time = 0\n",
    "episode_reward = 0\n",
    "while True:\n",
    "    reward = 0\n",
    "    x = env.state\n",
    "    states.append([rad_clip(x[0]), x[1]])\n",
    "    a_agent, tau = actor.predict_on_batch(np.array([[x]]))[0]\n",
    "    taus.append(tau)\n",
    "    acc_time += tau\n",
    "    time_log.append(acc_time)\n",
    "    action_repetition = int(np.ceil(200 * tau))  # minimum natural number which makes `dt` smaller than 0.005\n",
    "    dt = tau / action_repetition\n",
    "    # print(tau, dt, action_repetition)\n",
    "    for p in range(action_repetition):\n",
    "        _,_,r,_ = env.step(np.array([a_agent]), dt, tau)\n",
    "        reward += r\n",
    "    reward *= dt\n",
    "    reward += - 0.01 * a_agent**2 + l * tau\n",
    "    episode_reward += reward\n",
    "    if acc_time > time_limit:\n",
    "        break\n",
    "states = np.array(states)\n",
    "\n",
    "plt.figure(figsize=(12,4))\n",
    "plt.subplot(1,2,1)\n",
    "plt.xlabel('steps')\n",
    "plt.ylabel('theta')\n",
    "plt.plot(time_log, states[:,0])\n",
    "plt.subplot(1,2,2)\n",
    "plt.xlabel('steps')\n",
    "plt.ylabel('theta_dot')\n",
    "plt.plot(time_log, states[:,1])\n",
    "plt.show()"
   ]
  },
  {
   "cell_type": "markdown",
   "metadata": {},
   "source": [
    "## check policy gradient for fixed Q function"
   ]
  },
  {
   "cell_type": "code",
   "execution_count": 9,
   "metadata": {},
   "outputs": [],
   "source": [
    "state_input = tf.placeholder(tf.float32, shape=(None, 1, 2))\n",
    "actor_output = actor(state_input)\n",
    "combined_input_tensor = [actor_output, state_input]\n",
    "critic_output_tensor = learned_critic(combined_input_tensor)\n",
    "loss = -K.mean(critic_output_tensor)\n",
    "action_tw, tau_tw = split_params(actor.trainable_weights)"
   ]
  },
  {
   "cell_type": "code",
   "execution_count": 10,
   "metadata": {},
   "outputs": [],
   "source": [
    "from keras2.optimizers import Optimizer\n",
    "\n",
    "def calculate_gradient(target_func, params, state0_batch, combined_input_tensor):\n",
    "    dummy_optimizer = Optimizer()\n",
    "    gradient_tensors = dummy_optimizer.get_gradients(target_func, params)\n",
    "    \n",
    "    gradient_calculate_function = _gradient_calculate_function(combined_input_tensor, gradient_tensors)\n",
    "    gradient_value = gradient_calculate_function([state0_batch])\n",
    "    \n",
    "    return gradient_value\n",
    "\n",
    "def _gradient_calculate_function(combined_input_tensor, gradient_tensors):\n",
    "    # function input\n",
    "    input_tensors = [combined_input_tensor[1]]\n",
    "\n",
    "    # tensorflow running function\n",
    "    gradient_calculate_function = K.function(input_tensors, gradient_tensors)\n",
    "    return gradient_calculate_function\n",
    "\n",
    "def flatten_gradient(gradient_values):\n",
    "    if len(gradient_values[0].shape) == 2:\n",
    "        g_array = gradient_values[0].flatten()\n",
    "    else:\n",
    "        g_array = gradient_values[0]\n",
    "    for g in gradient_values[1:]:\n",
    "        if len(g.shape) == 2:\n",
    "            g = g.flatten()\n",
    "        g_array = np.hstack((g_array, g))\n",
    "    return g_array"
   ]
  },
  {
   "cell_type": "code",
   "execution_count": 13,
   "metadata": {},
   "outputs": [
    {
     "name": "stdout",
     "output_type": "stream",
     "text": [
      "998 %\n",
      "(100694, 2)\n"
     ]
    }
   ],
   "source": [
    "# state batch with policy depended distribution\n",
    "\n",
    "states_batch = []\n",
    "for i in range(500):\n",
    "    env.reset()\n",
    "    time_limit = 10\n",
    "    acc_time = 0\n",
    "    while True:\n",
    "        x = env.state\n",
    "        states_batch.append([rad_clip(x[0]), x[1]])\n",
    "        a_agent, tau = actor.predict_on_batch(np.array([[x]]))[0]\n",
    "        action_repetition = int(np.ceil(200 * tau))  # minimum natural number which makes `dt` smaller than 0.005\n",
    "        dt = tau / action_repetition\n",
    "        acc_time += tau\n",
    "        for p in range(action_repetition):\n",
    "            _,_,_,_ = env.step(np.array([a_agent]), dt, tau)\n",
    "        if acc_time > time_limit:\n",
    "            break\n",
    "    print('\\r' + f'{i*2} %', end='')\n",
    "states_batch = np.array(states_batch)\n",
    "print()\n",
    "print(states_batch.shape)"
   ]
  },
  {
   "cell_type": "code",
   "execution_count": 14,
   "metadata": {
    "scrolled": true
   },
   "outputs": [
    {
     "name": "stdout",
     "output_type": "stream",
     "text": [
      "(105,) 7.2692423\n",
      "\n",
      "(105,) 0.086221896\n"
     ]
    }
   ],
   "source": [
    "# batch gradient\n",
    "\n",
    "# action_gradient for Q-function\n",
    "action_gradient = calculate_gradient(loss, action_tw, states_batch, combined_input_tensor)\n",
    "action_gradient_array = flatten_gradient(action_gradient)\n",
    "print(action_gradient_array.shape, np.linalg.norm(action_gradient_array))\n",
    "    \n",
    "print()\n",
    "# tau_gradient for Q-function\n",
    "tau_gradient = calculate_gradient(loss, tau_tw, states_batch, combined_input_tensor)\n",
    "tau_gradient_array = flatten_gradient(tau_gradient)\n",
    "print(tau_gradient_array.shape, np.linalg.norm(tau_gradient_array))"
   ]
  },
  {
   "cell_type": "code",
   "execution_count": 11,
   "metadata": {
    "scrolled": true
   },
   "outputs": [
    {
     "name": "stdout",
     "output_type": "stream",
     "text": [
      "(105,) 5711284.5\n",
      "\n",
      "(105,) 4.4364104\n"
     ]
    }
   ],
   "source": [
    "# batch gradient\n",
    "\n",
    "# action_gradient for actor_output\n",
    "action_gradient_for_action = calculate_gradient(actor_output[:,0], action_tw, states_batch, combined_input_tensor)\n",
    "action_output_gradient_array = flatten_gradient(action_gradient_for_action)\n",
    "print(action_output_gradient_array.shape, np.linalg.norm(action_output_gradient_array))\n",
    "    \n",
    "print()\n",
    "# tau_gradient for actor_output\n",
    "tau_gradient_for_tau = calculate_gradient(actor_output[:,1], tau_tw, states_batch, combined_input_tensor)\n",
    "tau_output_gradient_array = flatten_gradient(tau_gradient_for_tau)\n",
    "print(tau_output_gradient_array.shape, np.linalg.norm(tau_output_gradient_array))"
   ]
  },
  {
   "cell_type": "markdown",
   "metadata": {},
   "source": [
    "## $\\frac{\\partial Q}{\\partial\\mu}$ は保留"
   ]
  },
  {
   "cell_type": "code",
   "execution_count": 60,
   "metadata": {},
   "outputs": [],
   "source": [
    "virtual_actor = tf.Variable([[1,0.001]])\n",
    "virtual_critic_input = [virtual_actor, state_input]\n",
    "virtual_critic_output = learned_critic(virtual_critic_input)\n",
    "virtual_loss = -K.mean(virtual_critic_output)\n"
   ]
  },
  {
   "cell_type": "code",
   "execution_count": 62,
   "metadata": {},
   "outputs": [
    {
     "ename": "InvalidArgumentError",
     "evalue": "All dimensions except 1 must match. Input 1 has shape [149281 2] and doesn't match input 0 with shape [1 2].\n\t [[{{node gradients_4/model_2_10/concatenate_2/concat_grad/ConcatOffset}}]]",
     "output_type": "error",
     "traceback": [
      "\u001b[0;31m---------------------------------------------------------------------------\u001b[0m",
      "\u001b[0;31mInvalidArgumentError\u001b[0m                      Traceback (most recent call last)",
      "\u001b[0;32m<ipython-input-62-eb50796b6243>\u001b[0m in \u001b[0;36m<module>\u001b[0;34m\u001b[0m\n\u001b[0;32m----> 1\u001b[0;31m \u001b[0mgradient\u001b[0m \u001b[0;34m=\u001b[0m \u001b[0mcalculate_gradient\u001b[0m\u001b[0;34m(\u001b[0m\u001b[0mvirtual_loss\u001b[0m\u001b[0;34m,\u001b[0m \u001b[0mvirtual_actor\u001b[0m\u001b[0;34m,\u001b[0m \u001b[0mstates_batch\u001b[0m\u001b[0;34m,\u001b[0m \u001b[0mvirtual_critic_input\u001b[0m\u001b[0;34m)\u001b[0m\u001b[0;34m\u001b[0m\u001b[0;34m\u001b[0m\u001b[0m\n\u001b[0m\u001b[1;32m      2\u001b[0m \u001b[0;31m# ∂Q/∂a\u001b[0m\u001b[0;34m\u001b[0m\u001b[0;34m\u001b[0m\u001b[0;34m\u001b[0m\u001b[0m\n\u001b[1;32m      3\u001b[0m \u001b[0;34m\u001b[0m\u001b[0m\n\u001b[1;32m      4\u001b[0m \u001b[0;31m# ∂Q/∂τ\u001b[0m\u001b[0;34m\u001b[0m\u001b[0;34m\u001b[0m\u001b[0;34m\u001b[0m\u001b[0m\n",
      "\u001b[0;32m<ipython-input-11-00c7ed952c4c>\u001b[0m in \u001b[0;36mcalculate_gradient\u001b[0;34m(target_func, params, state0_batch, combined_input_tensor)\u001b[0m\n\u001b[1;32m      6\u001b[0m \u001b[0;34m\u001b[0m\u001b[0m\n\u001b[1;32m      7\u001b[0m     \u001b[0mgradient_calculate_function\u001b[0m \u001b[0;34m=\u001b[0m \u001b[0m_gradient_calculate_function\u001b[0m\u001b[0;34m(\u001b[0m\u001b[0mcombined_input_tensor\u001b[0m\u001b[0;34m,\u001b[0m \u001b[0mgradient_tensors\u001b[0m\u001b[0;34m)\u001b[0m\u001b[0;34m\u001b[0m\u001b[0;34m\u001b[0m\u001b[0m\n\u001b[0;32m----> 8\u001b[0;31m     \u001b[0mgradient_value\u001b[0m \u001b[0;34m=\u001b[0m \u001b[0mgradient_calculate_function\u001b[0m\u001b[0;34m(\u001b[0m\u001b[0;34m[\u001b[0m\u001b[0mstate0_batch\u001b[0m\u001b[0;34m]\u001b[0m\u001b[0;34m)\u001b[0m\u001b[0;34m\u001b[0m\u001b[0;34m\u001b[0m\u001b[0m\n\u001b[0m\u001b[1;32m      9\u001b[0m \u001b[0;34m\u001b[0m\u001b[0m\n\u001b[1;32m     10\u001b[0m     \u001b[0;32mreturn\u001b[0m \u001b[0mgradient_value\u001b[0m\u001b[0;34m\u001b[0m\u001b[0;34m\u001b[0m\u001b[0m\n",
      "\u001b[0;32m~/Documents/studyM2/projects/eventddpg/module/keras2/backend/tensorflow_backend.py\u001b[0m in \u001b[0;36m__call__\u001b[0;34m(self, inputs)\u001b[0m\n\u001b[1;32m   2723\u001b[0m \u001b[0;34m\u001b[0m\u001b[0m\n\u001b[1;32m   2724\u001b[0m             \u001b[0;31m# のここ\u001b[0m\u001b[0;34m\u001b[0m\u001b[0;34m\u001b[0m\u001b[0;34m\u001b[0m\u001b[0m\n\u001b[0;32m-> 2725\u001b[0;31m             \u001b[0;32mreturn\u001b[0m \u001b[0mself\u001b[0m\u001b[0;34m.\u001b[0m\u001b[0m_call\u001b[0m\u001b[0;34m(\u001b[0m\u001b[0minputs\u001b[0m\u001b[0;34m)\u001b[0m\u001b[0;34m\u001b[0m\u001b[0;34m\u001b[0m\u001b[0m\n\u001b[0m\u001b[1;32m   2726\u001b[0m         \u001b[0;32melse\u001b[0m\u001b[0;34m:\u001b[0m\u001b[0;34m\u001b[0m\u001b[0;34m\u001b[0m\u001b[0m\n\u001b[1;32m   2727\u001b[0m             \u001b[0;32mif\u001b[0m \u001b[0mpy_any\u001b[0m\u001b[0;34m(\u001b[0m\u001b[0mis_tensor\u001b[0m\u001b[0;34m(\u001b[0m\u001b[0mx\u001b[0m\u001b[0;34m)\u001b[0m \u001b[0;32mfor\u001b[0m \u001b[0mx\u001b[0m \u001b[0;32min\u001b[0m \u001b[0minputs\u001b[0m\u001b[0;34m)\u001b[0m\u001b[0;34m:\u001b[0m\u001b[0;34m\u001b[0m\u001b[0;34m\u001b[0m\u001b[0m\n",
      "\u001b[0;32m~/Documents/studyM2/projects/eventddpg/module/keras2/backend/tensorflow_backend.py\u001b[0m in \u001b[0;36m_call\u001b[0;34m(self, inputs)\u001b[0m\n\u001b[1;32m   2681\u001b[0m             \u001b[0mfetched\u001b[0m \u001b[0;34m=\u001b[0m \u001b[0mself\u001b[0m\u001b[0;34m.\u001b[0m\u001b[0m_callable_fn\u001b[0m\u001b[0;34m(\u001b[0m\u001b[0;34m*\u001b[0m\u001b[0marray_vals\u001b[0m\u001b[0;34m,\u001b[0m \u001b[0mrun_metadata\u001b[0m\u001b[0;34m=\u001b[0m\u001b[0mself\u001b[0m\u001b[0;34m.\u001b[0m\u001b[0mrun_metadata\u001b[0m\u001b[0;34m)\u001b[0m\u001b[0;34m\u001b[0m\u001b[0;34m\u001b[0m\u001b[0m\n\u001b[1;32m   2682\u001b[0m         \u001b[0;32melse\u001b[0m\u001b[0;34m:\u001b[0m\u001b[0;34m\u001b[0m\u001b[0;34m\u001b[0m\u001b[0m\n\u001b[0;32m-> 2683\u001b[0;31m             \u001b[0mfetched\u001b[0m \u001b[0;34m=\u001b[0m \u001b[0mself\u001b[0m\u001b[0;34m.\u001b[0m\u001b[0m_callable_fn\u001b[0m\u001b[0;34m(\u001b[0m\u001b[0;34m*\u001b[0m\u001b[0marray_vals\u001b[0m\u001b[0;34m)\u001b[0m\u001b[0;34m\u001b[0m\u001b[0;34m\u001b[0m\u001b[0m\n\u001b[0m\u001b[1;32m   2684\u001b[0m         \u001b[0;32mreturn\u001b[0m \u001b[0mfetched\u001b[0m\u001b[0;34m[\u001b[0m\u001b[0;34m:\u001b[0m\u001b[0mlen\u001b[0m\u001b[0;34m(\u001b[0m\u001b[0mself\u001b[0m\u001b[0;34m.\u001b[0m\u001b[0moutputs\u001b[0m\u001b[0;34m)\u001b[0m\u001b[0;34m]\u001b[0m\u001b[0;34m\u001b[0m\u001b[0;34m\u001b[0m\u001b[0m\n\u001b[1;32m   2685\u001b[0m \u001b[0;34m\u001b[0m\u001b[0m\n",
      "\u001b[0;32m~/.pyenv/versions/3.7.4/lib/python3.7/site-packages/tensorflow/python/client/session.py\u001b[0m in \u001b[0;36m__call__\u001b[0;34m(self, *args, **kwargs)\u001b[0m\n\u001b[1;32m   1456\u001b[0m         ret = tf_session.TF_SessionRunCallable(self._session._session,\n\u001b[1;32m   1457\u001b[0m                                                \u001b[0mself\u001b[0m\u001b[0;34m.\u001b[0m\u001b[0m_handle\u001b[0m\u001b[0;34m,\u001b[0m \u001b[0margs\u001b[0m\u001b[0;34m,\u001b[0m\u001b[0;34m\u001b[0m\u001b[0;34m\u001b[0m\u001b[0m\n\u001b[0;32m-> 1458\u001b[0;31m                                                run_metadata_ptr)\n\u001b[0m\u001b[1;32m   1459\u001b[0m         \u001b[0;32mif\u001b[0m \u001b[0mrun_metadata\u001b[0m\u001b[0;34m:\u001b[0m\u001b[0;34m\u001b[0m\u001b[0;34m\u001b[0m\u001b[0m\n\u001b[1;32m   1460\u001b[0m           \u001b[0mproto_data\u001b[0m \u001b[0;34m=\u001b[0m \u001b[0mtf_session\u001b[0m\u001b[0;34m.\u001b[0m\u001b[0mTF_GetBuffer\u001b[0m\u001b[0;34m(\u001b[0m\u001b[0mrun_metadata_ptr\u001b[0m\u001b[0;34m)\u001b[0m\u001b[0;34m\u001b[0m\u001b[0;34m\u001b[0m\u001b[0m\n",
      "\u001b[0;31mInvalidArgumentError\u001b[0m: All dimensions except 1 must match. Input 1 has shape [149281 2] and doesn't match input 0 with shape [1 2].\n\t [[{{node gradients_4/model_2_10/concatenate_2/concat_grad/ConcatOffset}}]]"
     ]
    }
   ],
   "source": [
    "gradient = calculate_gradient(virtual_loss, virtual_actor, states_batch, virtual_critic_input)\n",
    "# ∂Q/∂a\n",
    "\n",
    "# ∂Q/∂τ"
   ]
  },
  {
   "cell_type": "code",
   "execution_count": 15,
   "metadata": {},
   "outputs": [
    {
     "data": {
      "image/png": "[encoded data removed]",
      "text/plain": [
       "<Figure size 432x288 with 1 Axes>"
      ]
     },
     "metadata": {
      "needs_background": "light"
     },
     "output_type": "display_data"
    }
   ],
   "source": [
    "state_mini_batch = states_batch[np.random.choice(np.array(range(states_batch.shape[0])), 10000, replace=False)]\n",
    "plt.scatter(state_mini_batch[:,0], state_mini_batch[:,1], marker='.')\n",
    "plt.xlabel('theta')\n",
    "plt.ylabel('theta_dot')\n",
    "plt.title('batch_for_policy_gradient_calculation')\n",
    "plt.show()"
   ]
  },
  {
   "cell_type": "code",
   "execution_count": 51,
   "metadata": {},
   "outputs": [
    {
     "data": {
      "text/plain": [
       "<matplotlib.collections.PathCollection at 0x13a40a990>"
      ]
     },
     "execution_count": 51,
     "metadata": {},
     "output_type": "execute_result"
    },
    {
     "data": {
      "image/png": "[encoded data removed]",
      "text/plain": [
       "<Figure size 432x288 with 1 Axes>"
      ]
     },
     "metadata": {
      "needs_background": "light"
     },
     "output_type": "display_data"
    }
   ],
   "source": [
    "a = []\n",
    "for m in memory[:,3]:\n",
    "    a.append(m)\n",
    "a = np.array(a)\n",
    "plt.scatter(a[:,0], a[:,1], marker='.')"
   ]
  },
  {
   "cell_type": "code",
   "execution_count": 48,
   "metadata": {
    "scrolled": false
   },
   "outputs": [
    {
     "name": "stdout",
     "output_type": "stream",
     "text": [
      "tau = 0.001, actor set\n",
      "memory_making\n",
      "99 %\n",
      "critic learn\n",
      "gradient batch making\n",
      "90 %\n",
      "nabla_a = 9.393062591552734\n",
      "nabla_tau = 7.300512606889242e-06\n",
      "tau = 0.01, actor set\n",
      "memory_making\n",
      "99 %\n",
      "critic learn\n",
      "gradient batch making\n",
      "99 %\n",
      "nabla_a = 108.83155822753906\n",
      "nabla_tau = 0.09803968667984009\n",
      "tau = 0.02, actor set\n",
      "memory_making\n",
      "99 %\n",
      "critic learn\n",
      "gradient batch making\n",
      "99 %\n",
      "nabla_a = 5.213356018066406\n",
      "nabla_tau = 0.09579192847013474\n",
      "tau = 0.03, actor set\n",
      "memory_making\n",
      "99 %\n",
      "critic learn\n",
      "gradient batch making\n",
      "99 %\n",
      "nabla_a = 19.149776458740234\n",
      "nabla_tau = 0.25868645310401917\n",
      "tau = 0.04, actor set\n",
      "memory_making\n",
      "99 %\n",
      "critic learn\n",
      "gradient batch making\n",
      "99 %\n",
      "nabla_a = 8.681486129760742\n",
      "nabla_tau = 0.02973250485956669\n",
      "tau = 0.05, actor set\n",
      "memory_making\n",
      "99 %\n",
      "critic learn\n",
      "gradient batch making\n",
      "99 %\n",
      "nabla_a = 12.410390853881836\n",
      "nabla_tau = 0.0037951068952679634\n",
      "tau = 0.06, actor set\n",
      "memory_making\n",
      "99 %\n",
      "critic learn\n",
      "gradient batch making\n",
      "99 %\n",
      "nabla_a = 7.056506633758545\n",
      "nabla_tau = 0.02095523662865162\n",
      "tau = 0.07, actor set\n",
      "memory_making\n",
      "99 %\n",
      "critic learn\n",
      "gradient batch making\n",
      "99 %\n",
      "nabla_a = 0.5677388906478882\n",
      "nabla_tau = 0.021662451326847076\n",
      "tau = 0.08, actor set\n",
      "memory_making\n",
      "99 %\n",
      "critic learn\n",
      "gradient batch making\n",
      "99 %\n",
      "nabla_a = 1.1467909812927246\n",
      "nabla_tau = 0.014824642799794674\n",
      "tau = 0.09, actor set\n",
      "memory_making\n",
      "99 %\n",
      "critic learn\n",
      "gradient batch making\n",
      "99 %\n",
      "nabla_a = 0.4321840703487396\n",
      "nabla_tau = 0.01271861046552658\n",
      "tau = 0.1, actor set\n",
      "memory_making\n",
      "99 %\n",
      "critic learn\n",
      "gradient batch making\n",
      "99 %\n",
      "nabla_a = 3.586627244949341\n",
      "nabla_tau = 0.0009824155131354928\n"
     ]
    },
    {
     "data": {
      "image/png": "[encoded data removed]",
      "text/plain": [
       "<Figure size 1008x720 with 11 Axes>"
      ]
     },
     "metadata": {
      "needs_background": "light"
     },
     "output_type": "display_data"
    }
   ],
   "source": [
    "# many iteration\n",
    "plt.figure(figsize=(14,10))\n",
    "plt.subplots_adjust(wspace=0.4, hspace=0.6)\n",
    "norms = []\n",
    "all_losses = []\n",
    "\n",
    "for ite in range(11):\n",
    "    s_tau = .01 * ite\n",
    "    s_tau = np.clip(s_tau, 0.001, 0.1)\n",
    "    print(f'tau = {s_tau}, actor set')\n",
    "    actor = branch_actor((2,),(2,))\n",
    "    actor = make_standup_agent(actor, s_tau, env)\n",
    "    \n",
    "    # make memory\n",
    "    memory = []\n",
    "    print('memory_making')\n",
    "    l = 5.\n",
    "    for i in range(50000):\n",
    "        env.reset()\n",
    "        reward = 0\n",
    "        state0 = env.state\n",
    "        a_agent, tau = actor.predict_on_batch(np.array([[state0]]))[0]\n",
    "        action_repetition = int(np.ceil(200 * tau))  # minimum natural number which makes `dt` smaller than 0.005\n",
    "        dt = tau / action_repetition\n",
    "        for p in range(action_repetition):\n",
    "            _,_,r,_ = env.step(np.array([a_agent]), dt, tau)\n",
    "            reward += r\n",
    "        reward *= dt\n",
    "        reward += - 0.01 * a_agent**2 + l * tau\n",
    "        state1 = env.state\n",
    "        memory.append([state0, np.array([a_agent, tau]), reward, state1])\n",
    "        print('\\r' + f'{int(i*.002)} %', end='')\n",
    "    memory = np.array(memory)\n",
    "    print()\n",
    "    \n",
    "    # critic learning\n",
    "    print('critic learn')\n",
    "    critic = critic_net((2,),(2,))[0]\n",
    "    critic.compile(Adam(lr=0.001, clipnorm=1.), loss='mean_squared_error')\n",
    "    epoch = 2000\n",
    "    batch_size = 32\n",
    "    gamma = 0.99\n",
    "    arr = np.array(range(memory.shape[0]))\n",
    "    losses = []\n",
    "    for _ in range(epoch):\n",
    "        # make mini_batch\n",
    "        mem = memory[np.random.choice(arr, batch_size, replace=False)]\n",
    "        state0_batch = []\n",
    "        action_batch = []\n",
    "        reward_batch = []\n",
    "        state1_batch = []\n",
    "        for m in mem:\n",
    "            state0_batch.append([m[0]])\n",
    "            action_batch.append(m[1])\n",
    "            reward_batch.append([m[2]])\n",
    "            state1_batch.append([m[3]])\n",
    "        state0_batch, action_batch, reward_batch, state1_batch = \\\n",
    "        np.array(state0_batch), np.array(action_batch), np.array(reward_batch), np.array(state1_batch)\n",
    "\n",
    "        # TD error\n",
    "        next_action = actor.predict_on_batch(state1_batch)\n",
    "        state1_batch_with_action = [next_action, state1_batch]\n",
    "        r_second = gamma * critic.predict_on_batch(state1_batch_with_action)\n",
    "        r = reward_batch + r_second\n",
    "\n",
    "        # learn\n",
    "        critic_input_batch = [action_batch, state0_batch]\n",
    "        loss = critic.train_on_batch(critic_input_batch, r)\n",
    "        losses.append(loss)\n",
    "    plt.subplot(4,3,ite+1)\n",
    "    plt.plot(losses)\n",
    "    plt.xlabel('epochs')\n",
    "    plt.ylabel('critic_loss')\n",
    "    plt.title(f'tau = {s_tau}')\n",
    "    \n",
    "    all_losses.append(losses)\n",
    "    \n",
    "    # make tensor\n",
    "    state_input = tf.placeholder(tf.float32, shape=(None, 1, 2))\n",
    "    actor_output = actor(state_input)\n",
    "    combined_input_tensor = [actor_output, state_input]\n",
    "    critic_output_tensor = critic(combined_input_tensor)\n",
    "    loss = -K.mean(critic_output_tensor)\n",
    "    action_tw, tau_tw = split_params(actor.trainable_weights)\n",
    "    \n",
    "    # state batch with policy depended distribution\n",
    "\n",
    "    states_batch = []\n",
    "    time_limit = 10\n",
    "    iters = int(time_limit / s_tau)\n",
    "    n_episodes = int(100000 / iters)\n",
    "    print('gradient batch making')\n",
    "    for i in range(n_episodes):\n",
    "        env.reset()\n",
    "        acc_time = 0\n",
    "        while True:\n",
    "            x = env.state\n",
    "            states_batch.append([rad_clip(x[0]), x[1]])\n",
    "            a_agent, tau = actor.predict_on_batch(np.array([[x]]))[0]\n",
    "            action_repetition = int(np.ceil(200 * tau))  # minimum natural number which makes `dt` smaller than 0.005\n",
    "            dt = tau / action_repetition\n",
    "            acc_time += tau\n",
    "            for p in range(action_repetition):\n",
    "                _,_,_,_ = env.step(np.array([a_agent]), dt, tau)\n",
    "            if acc_time > time_limit:\n",
    "                break\n",
    "        print('\\r' + f'{int(100*i/n_episodes)} %', end='')\n",
    "    states_batch = np.array(states_batch)\n",
    "    print()\n",
    "    \n",
    "    # batch gradient\n",
    "\n",
    "    # action_gradient for Q-function\n",
    "    action_gradient = calculate_gradient(loss, action_tw, states_batch, combined_input_tensor)\n",
    "    action_gradient_array = flatten_gradient(action_gradient)\n",
    "    print(f'nabla_a = {np.linalg.norm(action_gradient_array)}')\n",
    "\n",
    "    # tau_gradient for Q-function\n",
    "    tau_gradient = calculate_gradient(loss, tau_tw, states_batch, combined_input_tensor)\n",
    "    tau_gradient_array = flatten_gradient(tau_gradient)\n",
    "    print(f'nabla_tau = {np.linalg.norm(tau_gradient_array)}')\n",
    "    norms.append([np.linalg.norm(action_gradient_array), np.linalg.norm(tau_gradient_array)])\n",
    "    \n",
    "plt.show()\n"
   ]
  },
  {
   "cell_type": "code",
   "execution_count": 55,
   "metadata": {},
   "outputs": [
    {
     "name": "stdout",
     "output_type": "stream",
     "text": [
      "11\n"
     ]
    }
   ],
   "source": [
    "norms = [[9.393062591552734, 7.300512606889242e-06],\n",
    "         [108.83155822753906, 0.09803968667984009],\n",
    "         [5.213356018066406, 0.09579192847013474],\n",
    "         [19.149776458740234, 0.25868645310401917],\n",
    "         [8.681486129760742, 0.02973250485956669],\n",
    "         [12.410390853881836, 0.0037951068952679634],\n",
    "         [7.056506633758545, 0.02095523662865162],\n",
    "         [0.5677388906478882, 0.021662451326847076],\n",
    "         [1.1467909812927246, 0.014824642799794674],\n",
    "         [0.4321840703487396, 0.01271861046552658],\n",
    "         [3.586627244949341, 0.0009824155131354928]\n",
    "        ]\n",
    "print(len(norms))"
   ]
  },
  {
   "cell_type": "code",
   "execution_count": 56,
   "metadata": {},
   "outputs": [
    {
     "name": "stdout",
     "output_type": "stream",
     "text": [
      "0.001: nabla_a = 9.393062591552734, nabla_tau = 7.300512606889242e-06\n",
      "0.01: nabla_a = 108.83155822753906, nabla_tau = 0.09803968667984009\n",
      "0.02: nabla_a = 5.213356018066406, nabla_tau = 0.09579192847013474\n",
      "0.03: nabla_a = 19.149776458740234, nabla_tau = 0.25868645310401917\n",
      "0.04: nabla_a = 8.681486129760742, nabla_tau = 0.02973250485956669\n",
      "0.05: nabla_a = 12.410390853881836, nabla_tau = 0.0037951068952679634\n",
      "0.06: nabla_a = 7.056506633758545, nabla_tau = 0.02095523662865162\n",
      "0.07: nabla_a = 0.5677388906478882, nabla_tau = 0.021662451326847076\n",
      "0.08: nabla_a = 1.1467909812927246, nabla_tau = 0.014824642799794674\n",
      "0.09: nabla_a = 0.4321840703487396, nabla_tau = 0.01271861046552658\n",
      "0.1: nabla_a = 3.586627244949341, nabla_tau = 0.0009824155131354928\n"
     ]
    }
   ],
   "source": [
    "for ite in range(11):\n",
    "    s_tau = .01 * ite\n",
    "    s_tau = np.clip(s_tau, 0.001, 0.1)\n",
    "    a, t = norms[ite]\n",
    "    print(f'{s_tau}: nabla_a = {a}, nabla_tau = {t}')"
   ]
  },
  {
   "cell_type": "code",
   "execution_count": null,
   "metadata": {},
   "outputs": [],
   "source": []
  }
 ],
 "metadata": {
  "kernelspec": {
   "display_name": "Python 3",
   "language": "python",
   "name": "python3"
  },
  "language_info": {
   "codemirror_mode": {
    "name": "ipython",
    "version": 3
   },
   "file_extension": ".py",
   "mimetype": "text/x-python",
   "name": "python",
   "nbconvert_exporter": "python",
   "pygments_lexer": "ipython3",
   "version": "3.7.4"
  }
 },
 "nbformat": 4,
 "nbformat_minor": 4
}
