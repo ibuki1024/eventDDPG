{
 "cells": [
  {
   "cell_type": "code",
   "execution_count": 1,
   "metadata": {},
   "outputs": [
    {
     "name": "stderr",
     "output_type": "stream",
     "text": [
      "Using TensorFlow backend.\n"
     ]
    }
   ],
   "source": [
    "import warnings\n",
    "warnings.filterwarnings('ignore')\n",
    "import numpy as np\n",
    "import matplotlib.pyplot as plt\n",
    "\n",
    "import sys\n",
    "sys.path.append('../../module/')\n",
    "\n",
    "import keras2\n",
    "from keras2.models import Model\n",
    "from keras2.layers import concatenate, Dense, Input, Flatten\n",
    "from keras2.optimizers import Adam\n",
    "import tensorflow as tf\n",
    "import keras2.backend.tensorflow_backend as K\n",
    "import gym2\n",
    "import copy"
   ]
  },
  {
   "cell_type": "code",
   "execution_count": 2,
   "metadata": {},
   "outputs": [],
   "source": [
    "# GymのPendulum環境を作成\n",
    "env = gym2.make(\"Pendulum-v2\")\n",
    "\n",
    "# 取りうる”打ち手”のアクション数と値の定義\n",
    "nb_actios = 2\n",
    "ACT_ID_TO_VALUE = {0: [-1], 1: [+1]}"
   ]
  },
  {
   "cell_type": "code",
   "execution_count": 3,
   "metadata": {},
   "outputs": [],
   "source": [
    "def critic_net(a_shape, s_shape):\n",
    "    action_input = Input(a_shape)\n",
    "    observation_input = Input(shape=(1,)+s_shape)\n",
    "    flattened_observation = Flatten()(observation_input)\n",
    "    x = concatenate([action_input, flattened_observation])\n",
    "    x = Dense(16, activation=\"relu\")(x)\n",
    "    x = Dense(16, activation=\"relu\")(x)\n",
    "    x = Dense(1, activation=\"linear\")(x)\n",
    "    critic = Model(inputs=[action_input, observation_input], outputs=x)\n",
    "    return (critic, action_input)\n",
    "\n",
    "def branch_actor(a_shape, s_shape):\n",
    "    action_input = Input(shape=(1,)+s_shape)\n",
    "    x = Flatten()(action_input) # 実質的なinput layer\n",
    "    \n",
    "    x1 = Dense(8, activation=\"relu\")(x)\n",
    "    x1 = Dense(8, activation=\"relu\")(x1)\n",
    "    x1 = Dense(1, activation=\"multiple_tanh\")(x1) # action signal\n",
    "    \n",
    "    x2 = Dense(8, activation=\"relu\")(x)\n",
    "    x2 = Dense(8, activation=\"relu\")(x2)\n",
    "    x2 = Dense(1, activation=\"tau_output\")(x2) # tau\n",
    "    \n",
    "    output = concatenate([x1, x2])\n",
    "    actor = Model(inputs=action_input, outputs=output)\n",
    "    return actor\n",
    "\n",
    "def split_params(tw):\n",
    "    action_tw = []\n",
    "    tau_tw = []\n",
    "    for i in range(len(tw)):\n",
    "        if i % 4 < 2:\n",
    "            action_tw.append(tw[i])\n",
    "        else:\n",
    "            tau_tw.append(tw[i])\n",
    "    return action_tw, tau_tw"
   ]
  },
  {
   "cell_type": "code",
   "execution_count": 4,
   "metadata": {},
   "outputs": [
    {
     "name": "stdout",
     "output_type": "stream",
     "text": [
      "WARNING:tensorflow:From ../../module/keras2/backend/tensorflow_backend.py:82: The name tf.get_default_graph is deprecated. Please use tf.compat.v1.get_default_graph instead.\n",
      "\n",
      "WARNING:tensorflow:From ../../module/keras2/backend/tensorflow_backend.py:525: The name tf.placeholder is deprecated. Please use tf.compat.v1.placeholder instead.\n",
      "\n",
      "WARNING:tensorflow:From ../../module/keras2/backend/tensorflow_backend.py:4148: The name tf.random_uniform is deprecated. Please use tf.random.uniform instead.\n",
      "\n"
     ]
    }
   ],
   "source": [
    "actor = branch_actor((2,),(2,))"
   ]
  },
  {
   "cell_type": "code",
   "execution_count": 7,
   "metadata": {},
   "outputs": [],
   "source": [
    "# make memory\n",
    "actor.load_weights('./saved_agent/self_trigger_split.h5')\n",
    "memory = []\n",
    "l = 5.\n",
    "for _ in range(50000):\n",
    "    env.reset()\n",
    "    reward = 0\n",
    "    state0 = env.state\n",
    "    a_agent, tau = actor.predict_on_batch(np.array([[state0]]))[0]\n",
    "    action_repetition = int(np.ceil(200 * tau))  # minimum natural number which makes `dt` smaller than 0.005\n",
    "    dt = tau / action_repetition\n",
    "    # print(tau, dt, action_repetition)\n",
    "    for p in range(action_repetition):\n",
    "        _,_,r,_ = env.step(np.array([a_agent]), dt, tau)\n",
    "        reward += r\n",
    "    reward *= dt\n",
    "    reward += - 0.01 * a_agent**2 + l * tau\n",
    "    state1 = env.state\n",
    "    memory.append([state0, np.array([a_agent, tau]), reward, state1])\n",
    "memory = np.array(memory)"
   ]
  },
  {
   "cell_type": "code",
   "execution_count": 8,
   "metadata": {},
   "outputs": [
    {
     "name": "stdout",
     "output_type": "stream",
     "text": [
      "WARNING:tensorflow:From ../../module/keras2/optimizers.py:790: The name tf.train.Optimizer is deprecated. Please use tf.compat.v1.train.Optimizer instead.\n",
      "\n"
     ]
    },
    {
     "data": {
      "image/png": "[encoded data removed]",
      "text/plain": [
       "<Figure size 432x288 with 1 Axes>"
      ]
     },
     "metadata": {
      "needs_background": "light"
     },
     "output_type": "display_data"
    }
   ],
   "source": [
    "# critic learning\n",
    "critic = critic_net((2,),(2,))[0]\n",
    "critic.compile(Adam(lr=0.001, clipnorm=1.), loss='mean_squared_error')\n",
    "epoch = 500\n",
    "batch_size = 32\n",
    "gamma = 0.99\n",
    "arr = np.array(range(memory.shape[0]))\n",
    "losses = []\n",
    "for _ in range(epoch):\n",
    "    # make mini_batch\n",
    "    mem = memory[np.random.choice(arr, batch_size, replace=False)]\n",
    "    state0_batch = []\n",
    "    action_batch = []\n",
    "    reward_batch = []\n",
    "    state1_batch = []\n",
    "    for m in mem:\n",
    "        state0_batch.append([m[0]])\n",
    "        action_batch.append(m[1])\n",
    "        reward_batch.append([m[2]])\n",
    "        state1_batch.append([m[3]])\n",
    "    state0_batch, action_batch, reward_batch, state1_batch = \\\n",
    "    np.array(state0_batch), np.array(action_batch), np.array(reward_batch), np.array(state1_batch)\n",
    "\n",
    "    # TD error\n",
    "    next_action = actor.predict_on_batch(state1_batch)\n",
    "    state1_batch_with_action = [next_action, state1_batch]\n",
    "    r_second = gamma * critic.predict_on_batch(state1_batch_with_action)\n",
    "    r = reward_batch + r_second\n",
    "    \n",
    "    # learn\n",
    "    critic_input_batch = [action_batch, state0_batch]\n",
    "    loss = critic.train_on_batch(critic_input_batch, r)\n",
    "    losses.append(loss)\n",
    "plt.plot(losses)\n",
    "plt.xlabel('epochs')\n",
    "plt.ylabel('critic_loss')\n",
    "plt.show()\n",
    "\n",
    "learned_critic = copy.deepcopy(critic)"
   ]
  },
  {
   "cell_type": "code",
   "execution_count": 9,
   "metadata": {
    "code_folding": []
   },
   "outputs": [
    {
     "data": {
      "image/png": "[encoded data removed]",
      "text/plain": [
       "<Figure size 864x288 with 2 Axes>"
      ]
     },
     "metadata": {
      "needs_background": "light"
     },
     "output_type": "display_data"
    }
   ],
   "source": [
    "def rad_clip(th):\n",
    "    r = abs(th)\n",
    "    while r > np.pi:\n",
    "        r -= 2 * np.pi\n",
    "    th = np.sign(th) * r\n",
    "    return th\n",
    "\n",
    "env.reset()\n",
    "env.set_state(np.array([-0.1, 0.4]))\n",
    "states = []\n",
    "time_limit = 10\n",
    "time_log = []\n",
    "taus = []\n",
    "acc_time = 0\n",
    "episode_reward = 0\n",
    "while True:\n",
    "    reward = 0\n",
    "    x = env.state\n",
    "    states.append([rad_clip(x[0]), x[1]])\n",
    "    a_agent, tau = actor.predict_on_batch(np.array([[x]]))[0]\n",
    "    taus.append(tau)\n",
    "    acc_time += tau\n",
    "    time_log.append(acc_time)\n",
    "    action_repetition = int(np.ceil(200 * tau))  # minimum natural number which makes `dt` smaller than 0.005\n",
    "    dt = tau / action_repetition\n",
    "    # print(tau, dt, action_repetition)\n",
    "    for p in range(action_repetition):\n",
    "        _,_,r,_ = env.step(np.array([a_agent]), dt, tau)\n",
    "        reward += r\n",
    "    reward *= dt\n",
    "    reward += - 0.01 * a_agent**2 + l * tau\n",
    "    episode_reward += reward\n",
    "    if acc_time > time_limit:\n",
    "        break\n",
    "states = np.array(states)\n",
    "\n",
    "plt.figure(figsize=(12,4))\n",
    "plt.subplot(1,2,1)\n",
    "plt.xlabel('steps')\n",
    "plt.ylabel('theta')\n",
    "plt.plot(time_log, states[:,0])\n",
    "plt.subplot(1,2,2)\n",
    "plt.xlabel('steps')\n",
    "plt.ylabel('theta_dot')\n",
    "plt.plot(time_log, states[:,1])\n",
    "plt.show()"
   ]
  },
  {
   "cell_type": "markdown",
   "metadata": {},
   "source": [
    "## check policy gradient for fixed Q function"
   ]
  },
  {
   "cell_type": "code",
   "execution_count": 10,
   "metadata": {},
   "outputs": [],
   "source": [
    "state_input = tf.placeholder(tf.float32, shape=(None, 1, 2))\n",
    "actor_output = actor(state_input)\n",
    "combined_input_tensor = [actor_output, state_input]\n",
    "critic_output_tensor = learned_critic(combined_input_tensor)\n",
    "loss = -K.mean(critic_output_tensor)\n",
    "action_tw, tau_tw = split_params(actor.trainable_weights)"
   ]
  },
  {
   "cell_type": "code",
   "execution_count": 11,
   "metadata": {},
   "outputs": [],
   "source": [
    "from keras2.optimizers import Optimizer\n",
    "\n",
    "def calculate_gradient(target_func, params, state0_batch, combined_input_tensor):\n",
    "    dummy_optimizer = Optimizer()\n",
    "    gradient_tensors = dummy_optimizer.get_gradients(target_func, params)\n",
    "    \n",
    "    gradient_calculate_function = _gradient_calculate_function(combined_input_tensor, gradient_tensors)\n",
    "    gradient_value = gradient_calculate_function([state0_batch])\n",
    "    \n",
    "    return gradient_value\n",
    "\n",
    "def _gradient_calculate_function(combined_input_tensor, gradient_tensors):\n",
    "    # function input\n",
    "    input_tensors = [combined_input_tensor[1]]\n",
    "\n",
    "    # tensorflow running function\n",
    "    gradient_calculate_function = K.function(input_tensors, gradient_tensors)\n",
    "    return gradient_calculate_function\n",
    "\n",
    "def flatten_gradient(gradient_values):\n",
    "    if len(gradient_values[0].shape) == 2:\n",
    "        g_array = gradient_values[0].flatten()\n",
    "    else:\n",
    "        g_array = gradient_values[0]\n",
    "    for g in gradient_values[1:]:\n",
    "        if len(g.shape) == 2:\n",
    "            g = g.flatten()\n",
    "        g_array = np.hstack((g_array, g))\n",
    "    return g_array"
   ]
  },
  {
   "cell_type": "code",
   "execution_count": 17,
   "metadata": {},
   "outputs": [
    {
     "name": "stdout",
     "output_type": "stream",
     "text": [
      "98 %(149281, 2)\n"
     ]
    }
   ],
   "source": [
    "# state batch with policy depended distribution\n",
    "\n",
    "states_batch = []\n",
    "for i in range(50):\n",
    "    env.reset()\n",
    "    time_limit = 3\n",
    "    acc_time = 0\n",
    "    while True:\n",
    "        x = env.state\n",
    "        states_batch.append([rad_clip(x[0]), x[1]])\n",
    "        a_agent, tau = actor.predict_on_batch(np.array([[x]]))[0]\n",
    "        action_repetition = int(np.ceil(200 * tau))  # minimum natural number which makes `dt` smaller than 0.005\n",
    "        dt = tau / action_repetition\n",
    "        acc_time += tau\n",
    "        for p in range(action_repetition):\n",
    "            _,_,_,_ = env.step(np.array([a_agent]), dt, tau)\n",
    "        if acc_time > time_limit:\n",
    "            break\n",
    "    print('\\r' + f'{i*2} %', end='')\n",
    "states_batch = np.array(states_batch)\n",
    "print()\n",
    "print(states_batch.shape)"
   ]
  },
  {
   "cell_type": "code",
   "execution_count": 18,
   "metadata": {},
   "outputs": [],
   "source": [
    "state_mini_batch = states_batch[np.random.choice(np.array(range(states_batch.shape[0])), states_batch.shape[0], replace=False)]"
   ]
  },
  {
   "cell_type": "code",
   "execution_count": 19,
   "metadata": {
    "scrolled": true
   },
   "outputs": [
    {
     "name": "stdout",
     "output_type": "stream",
     "text": [
      "(105,) 67.80409\n",
      "\n",
      "(105,) 1.3254427e-05\n"
     ]
    }
   ],
   "source": [
    "# batch gradient\n",
    "\n",
    "# action_gradient for Q-function\n",
    "action_gradient = calculate_gradient(loss, action_tw, state_mini_batch, combined_input_tensor)\n",
    "action_gradient_array = flatten_gradient(action_gradient)\n",
    "print(action_gradient_array.shape, np.linalg.norm(action_gradient_array))\n",
    "    \n",
    "print()\n",
    "# tau_gradient for Q-function\n",
    "tau_gradient = calculate_gradient(loss, tau_tw, state_mini_batch, combined_input_tensor)\n",
    "tau_gradient_array = flatten_gradient(tau_gradient)\n",
    "print(tau_gradient_array.shape, np.linalg.norm(tau_gradient_array))"
   ]
  },
  {
   "cell_type": "code",
   "execution_count": 20,
   "metadata": {
    "scrolled": true
   },
   "outputs": [
    {
     "name": "stdout",
     "output_type": "stream",
     "text": [
      "(105,) 5543668.5\n",
      "\n",
      "(105,) 6.619278\n"
     ]
    }
   ],
   "source": [
    "# batch gradient\n",
    "\n",
    "# action_gradient for actor_output\n",
    "action_gradient_for_action = calculate_gradient(actor_output[:,0], action_tw, state_mini_batch, combined_input_tensor)\n",
    "action_output_gradient_array = flatten_gradient(action_gradient_for_action)\n",
    "print(action_output_gradient_array.shape, np.linalg.norm(action_output_gradient_array))\n",
    "    \n",
    "print()\n",
    "# tau_gradient for actor_output\n",
    "tau_gradient_for_tau = calculate_gradient(actor_output[:,1], tau_tw, state_mini_batch, combined_input_tensor)\n",
    "tau_output_gradient_array = flatten_gradient(tau_gradient_for_tau)\n",
    "print(tau_output_gradient_array.shape, np.linalg.norm(tau_output_gradient_array))"
   ]
  },
  {
   "cell_type": "code",
   "execution_count": 290,
   "metadata": {},
   "outputs": [
    {
     "name": "stdout",
     "output_type": "stream",
     "text": [
      "[ 1.5764630e-06  2.6226626e-06 -2.5523761e-06  2.3081088e-04\n",
      "  1.0513490e-06  1.1238649e-05  1.2996775e-06 -1.4778662e-05\n",
      " -2.5302115e-05  7.8766249e-07 -4.0437799e-06 -4.0520599e-06\n",
      " -3.9761908e-06 -1.8488432e-05  7.6846567e-07  7.2460188e-07\n",
      " -1.8038792e-06  7.7991029e-07 -4.0320801e-06 -4.1185208e-06\n",
      " -3.9887104e-06 -1.9421775e-06  7.7734518e-07  7.1826997e-07\n",
      " -1.3899336e-06 -1.4273988e-06 -1.3909518e-06 -1.3917395e-06\n",
      " -1.3926106e-06 -1.4084919e-06 -3.4877849e-06            nan\n",
      "  7.2751016e-07  7.2692080e-07  7.2712635e-07  7.7155022e-07\n",
      "  7.7236945e-07  7.2674248e-07 -1.5871004e-06            nan\n",
      " -3.9564229e-06 -3.9740016e-06 -3.9566958e-06 -3.9575398e-06\n",
      " -3.9574747e-06 -3.9581319e-06 -3.9578899e-06            nan\n",
      " -4.1685907e-06 -4.1628964e-06 -4.1678545e-06 -4.1649510e-06\n",
      " -4.1652993e-06 -4.1628959e-06 -4.1628978e-06            nan\n",
      " -3.3614672e-06 -3.4931622e-06 -3.3614679e-06 -3.3614683e-06\n",
      " -3.3614688e-06 -3.3935382e-06 -3.3889960e-06            nan\n",
      " -3.7517982e-06 -3.7517245e-06 -3.7518203e-06 -3.7407260e-06\n",
      " -3.7857035e-06 -3.7516381e-06 -4.0347777e-06            nan\n",
      "  7.8204539e-07  7.7090340e-07  7.8204539e-07  7.8204545e-07\n",
      "  7.8211366e-07  7.7255083e-07  1.3270071e-06            nan\n",
      "  7.3754825e-07  7.3479725e-07  7.3685680e-07  7.7208642e-07\n",
      "  7.7580694e-07  7.3464724e-07 -7.1999722e-07            nan\n",
      " -1.6208364e-06 -1.6434051e-06 -1.6235485e-06 -1.6176538e-06\n",
      " -1.6386080e-06 -1.6382206e-06 -3.8090777e-06            nan\n",
      "  3.9994217e-07 -1.9041464e-06  1.0987655e-07 -1.5361918e-06\n",
      " -2.0100736e-06 -3.3348845e-06 -4.0273167e-06            nan\n",
      " -1.6317528e-06]\n"
     ]
    }
   ],
   "source": [
    "def dqda(dqdth, dadth):\n",
    "    return dqdth/dadth\n",
    "\n",
    "# ∂Q/∂a\n",
    "a_gradient_for_q = dqda(action_gradient_array, action_output_gradient_array)\n",
    "print(a_gradient_for_q)\n",
    "\n",
    "# ∂Q/∂τ\n",
    "tau_gradient_for_q = dqda(tau_gradient_array, tau_output_gradient_array)"
   ]
  },
  {
   "cell_type": "code",
   "execution_count": null,
   "metadata": {},
   "outputs": [],
   "source": []
  }
 ],
 "metadata": {
  "kernelspec": {
   "display_name": "Python 3",
   "language": "python",
   "name": "python3"
  },
  "language_info": {
   "codemirror_mode": {
    "name": "ipython",
    "version": 3
   },
   "file_extension": ".py",
   "mimetype": "text/x-python",
   "name": "python",
   "nbconvert_exporter": "python",
   "pygments_lexer": "ipython3",
   "version": "3.7.4"
  }
 },
 "nbformat": 4,
 "nbformat_minor": 4
}
