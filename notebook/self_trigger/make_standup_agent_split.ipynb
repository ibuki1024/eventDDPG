{
 "cells": [
  {
   "cell_type": "code",
   "execution_count": 1,
   "metadata": {},
   "outputs": [
    {
     "name": "stderr",
     "output_type": "stream",
     "text": [
      "Using TensorFlow backend.\n",
      "Using TensorFlow backend.\n"
     ]
    }
   ],
   "source": [
    "import warnings\n",
    "warnings.filterwarnings('ignore')\n",
    "import numpy as np\n",
    "import matplotlib.pyplot as plt\n",
    "\n",
    "import sys\n",
    "sys.path.append('../../module/')\n",
    "\n",
    "import keras2\n",
    "from keras2.models import Model\n",
    "\n",
    "from keras2.layers import concatenate, Dense, Input, Flatten, merge\n",
    "from keras2.optimizers import Adam\n",
    "from util import moving_average, dlqr, discretized_system, lqr, make_standup_agent\n",
    "import gym2\n",
    "from rl2.agents import selfDDPGAgent, selfDDPGAgent2\n",
    "from rl2.memory import SequentialMemory"
   ]
  },
  {
   "cell_type": "code",
   "execution_count": 2,
   "metadata": {},
   "outputs": [],
   "source": [
    "# GymのPendulum環境を作成\n",
    "env = gym2.make(\"Pendulum-v2\")\n",
    "\n",
    "# 取りうる”打ち手”のアクション数と値の定義\n",
    "nb_actios = 2\n",
    "ACT_ID_TO_VALUE = {0: [-1], 1: [+1]}"
   ]
  },
  {
   "cell_type": "code",
   "execution_count": 3,
   "metadata": {},
   "outputs": [],
   "source": [
    "def critic_net(a_shape , s_shape):\n",
    "    action_input = Input(a_shape)\n",
    "    observation_input = Input(shape=(1,)+s_shape)\n",
    "    flattened_observation = Flatten()(observation_input)\n",
    "    x = concatenate([action_input, flattened_observation])\n",
    "    x = Dense(16, activation=\"relu\")(x)\n",
    "    x = Dense(16, activation=\"relu\")(x)\n",
    "    x = Dense(1, activation=\"linear\")(x)\n",
    "    critic = Model(inputs=[action_input, observation_input], outputs=x)\n",
    "    return (critic, action_input)\n",
    "\n",
    "def branch_actor(a_shape, s_shape):\n",
    "    action_input = Input(shape=(1,)+s_shape)\n",
    "    x = Flatten()(action_input) # 実質的なinput layer\n",
    "    \n",
    "    x1 = Dense(8, activation=\"relu\")(x)\n",
    "    x1 = Dense(8, activation=\"relu\")(x1)\n",
    "    x1 = Dense(1, activation=\"multiple_tanh\")(x1) # action signal\n",
    "    \n",
    "    x2 = Dense(8, activation=\"relu\")(x)\n",
    "    x2 = Dense(8, activation=\"relu\")(x2)\n",
    "    x2 = Dense(1, activation=\"tau_output\")(x2) # tau\n",
    "    \n",
    "    output = concatenate([x1, x2])\n",
    "    actor = Model(inputs=action_input, outputs=output)\n",
    "    return actor\n",
    "\n",
    "# どうやって学習率を変える？\n",
    "\n",
    "def agent2(a_shape, s_shape):\n",
    "    actor = branch_actor(a_shape, s_shape)\n",
    "    critic,  critic_action_input = critic_net(a_shape, s_shape)\n",
    "    memory = SequentialMemory(limit = 50000, window_length = 1)\n",
    "    agent = selfDDPGAgent2(\n",
    "        a_shape[0],\n",
    "        actor,\n",
    "        critic,\n",
    "        critic_action_input,\n",
    "        memory,\n",
    "        clip_com = 0.01,\n",
    "    )\n",
    "    return agent\n",
    "\n",
    "def gain(dt=None):\n",
    "    m, l, g = env.m, env.l, env.g\n",
    "\n",
    "    A = np.array([[0, 1], [(3*g)/(2*l), 0]])\n",
    "    B = np.array([[0], [3/(m*l**2)]])\n",
    "    Q = np.array([[1, 0], [0, 0.1]])\n",
    "    R = np.array([[0.001]])\n",
    "    \n",
    "    if dt is not None:\n",
    "        Ad, Bd = discretized_system(A, B, dt)  \n",
    "        K = dlqr(Ad,Bd,Q,R)[0]\n",
    "    else:\n",
    "        K = lqr(A,B,Q,R)[0]\n",
    "    \n",
    "    return K"
   ]
  },
  {
   "cell_type": "code",
   "execution_count": 4,
   "metadata": {},
   "outputs": [
    {
     "name": "stdout",
     "output_type": "stream",
     "text": [
      "WARNING:tensorflow:From ../../module/keras2/backend/tensorflow_backend.py:82: The name tf.get_default_graph is deprecated. Please use tf.compat.v1.get_default_graph instead.\n",
      "\n",
      "WARNING:tensorflow:From ../../module/keras2/backend/tensorflow_backend.py:525: The name tf.placeholder is deprecated. Please use tf.compat.v1.placeholder instead.\n",
      "\n",
      "WARNING:tensorflow:From ../../module/keras2/backend/tensorflow_backend.py:4148: The name tf.random_uniform is deprecated. Please use tf.random.uniform instead.\n",
      "\n"
     ]
    }
   ],
   "source": [
    "NN = branch_actor((2,),(2,))"
   ]
  },
  {
   "cell_type": "code",
   "execution_count": 20,
   "metadata": {},
   "outputs": [
    {
     "name": "stdout",
     "output_type": "stream",
     "text": [
      "0.005\n",
      "(30000, 1, 2) (30000, 2)\n"
     ]
    }
   ],
   "source": [
    "# 学習データの用意\n",
    "tau = 0.1\n",
    "action_repetition = int(np.ceil(200 * tau))  # minimum natural number which makes `dt` smaller than 0.005\n",
    "dt = tau / action_repetition\n",
    "print(dt)\n",
    "K = gain(dt)\n",
    "x_train = []\n",
    "y_train = []\n",
    "for i in range(30000):\n",
    "    x_train.append([np.random.randn(2,) / 16.])\n",
    "    y_train.append([np.dot(K, x_train[-1][0]), tau])\n",
    "\n",
    "x_train = np.array(x_train)\n",
    "y_train = np.array(y_train)\n",
    "print(x_train.shape, y_train.shape)"
   ]
  },
  {
   "cell_type": "code",
   "execution_count": 21,
   "metadata": {},
   "outputs": [
    {
     "ename": "KeyboardInterrupt",
     "evalue": "",
     "output_type": "error",
     "traceback": [
      "\u001b[0;31m---------------------------------------------------------------------------\u001b[0m",
      "\u001b[0;31mKeyboardInterrupt\u001b[0m                         Traceback (most recent call last)",
      "\u001b[0;32m<ipython-input-21-bc63394fc9f1>\u001b[0m in \u001b[0;36m<module>\u001b[0;34m\u001b[0m\n\u001b[1;32m      1\u001b[0m \u001b[0;31m# learn\u001b[0m\u001b[0;34m\u001b[0m\u001b[0;34m\u001b[0m\u001b[0;34m\u001b[0m\u001b[0m\n\u001b[1;32m      2\u001b[0m \u001b[0mNN\u001b[0m\u001b[0;34m.\u001b[0m\u001b[0mcompile\u001b[0m\u001b[0;34m(\u001b[0m\u001b[0mloss\u001b[0m\u001b[0;34m=\u001b[0m\u001b[0;34m'mean_squared_error'\u001b[0m\u001b[0;34m,\u001b[0m\u001b[0moptimizer\u001b[0m\u001b[0;34m=\u001b[0m\u001b[0;34m'adam'\u001b[0m\u001b[0;34m)\u001b[0m\u001b[0;34m\u001b[0m\u001b[0;34m\u001b[0m\u001b[0m\n\u001b[0;32m----> 3\u001b[0;31m \u001b[0mhistory\u001b[0m \u001b[0;34m=\u001b[0m \u001b[0mNN\u001b[0m\u001b[0;34m.\u001b[0m\u001b[0mfit\u001b[0m\u001b[0;34m(\u001b[0m\u001b[0mx_train\u001b[0m\u001b[0;34m,\u001b[0m \u001b[0my_train\u001b[0m\u001b[0;34m,\u001b[0m \u001b[0mbatch_size\u001b[0m\u001b[0;34m=\u001b[0m\u001b[0;36m128\u001b[0m\u001b[0;34m,\u001b[0m \u001b[0mepochs\u001b[0m\u001b[0;34m=\u001b[0m\u001b[0;36m50\u001b[0m\u001b[0;34m,\u001b[0m \u001b[0mverbose\u001b[0m\u001b[0;34m=\u001b[0m\u001b[0;36m0\u001b[0m\u001b[0;34m)\u001b[0m\u001b[0;34m\u001b[0m\u001b[0;34m\u001b[0m\u001b[0m\n\u001b[0m",
      "\u001b[0;32m~/Documents/studyM2/projects/eventddpg/module/keras2/engine/training.py\u001b[0m in \u001b[0;36mfit\u001b[0;34m(self, x, y, batch_size, epochs, verbose, callbacks, validation_split, validation_data, shuffle, class_weight, sample_weight, initial_epoch, steps_per_epoch, validation_steps, **kwargs)\u001b[0m\n\u001b[1;32m   1037\u001b[0m                                         \u001b[0minitial_epoch\u001b[0m\u001b[0;34m=\u001b[0m\u001b[0minitial_epoch\u001b[0m\u001b[0;34m,\u001b[0m\u001b[0;34m\u001b[0m\u001b[0;34m\u001b[0m\u001b[0m\n\u001b[1;32m   1038\u001b[0m                                         \u001b[0msteps_per_epoch\u001b[0m\u001b[0;34m=\u001b[0m\u001b[0msteps_per_epoch\u001b[0m\u001b[0;34m,\u001b[0m\u001b[0;34m\u001b[0m\u001b[0;34m\u001b[0m\u001b[0m\n\u001b[0;32m-> 1039\u001b[0;31m                                         validation_steps=validation_steps)\n\u001b[0m\u001b[1;32m   1040\u001b[0m \u001b[0;34m\u001b[0m\u001b[0m\n\u001b[1;32m   1041\u001b[0m     def evaluate(self, x=None, y=None,\n",
      "\u001b[0;32m~/Documents/studyM2/projects/eventddpg/module/keras2/engine/training_arrays.py\u001b[0m in \u001b[0;36mfit_loop\u001b[0;34m(model, f, ins, out_labels, batch_size, epochs, verbose, callbacks, val_f, val_ins, shuffle, callback_metrics, initial_epoch, steps_per_epoch, validation_steps)\u001b[0m\n\u001b[1;32m    197\u001b[0m                     \u001b[0mins_batch\u001b[0m\u001b[0;34m[\u001b[0m\u001b[0mi\u001b[0m\u001b[0;34m]\u001b[0m \u001b[0;34m=\u001b[0m \u001b[0mins_batch\u001b[0m\u001b[0;34m[\u001b[0m\u001b[0mi\u001b[0m\u001b[0;34m]\u001b[0m\u001b[0;34m.\u001b[0m\u001b[0mtoarray\u001b[0m\u001b[0;34m(\u001b[0m\u001b[0;34m)\u001b[0m\u001b[0;34m\u001b[0m\u001b[0;34m\u001b[0m\u001b[0m\n\u001b[1;32m    198\u001b[0m \u001b[0;34m\u001b[0m\u001b[0m\n\u001b[0;32m--> 199\u001b[0;31m                 \u001b[0mouts\u001b[0m \u001b[0;34m=\u001b[0m \u001b[0mf\u001b[0m\u001b[0;34m(\u001b[0m\u001b[0mins_batch\u001b[0m\u001b[0;34m)\u001b[0m\u001b[0;34m\u001b[0m\u001b[0;34m\u001b[0m\u001b[0m\n\u001b[0m\u001b[1;32m    200\u001b[0m                 \u001b[0mouts\u001b[0m \u001b[0;34m=\u001b[0m \u001b[0mto_list\u001b[0m\u001b[0;34m(\u001b[0m\u001b[0mouts\u001b[0m\u001b[0;34m)\u001b[0m\u001b[0;34m\u001b[0m\u001b[0;34m\u001b[0m\u001b[0m\n\u001b[1;32m    201\u001b[0m                 \u001b[0;32mfor\u001b[0m \u001b[0ml\u001b[0m\u001b[0;34m,\u001b[0m \u001b[0mo\u001b[0m \u001b[0;32min\u001b[0m \u001b[0mzip\u001b[0m\u001b[0;34m(\u001b[0m\u001b[0mout_labels\u001b[0m\u001b[0;34m,\u001b[0m \u001b[0mouts\u001b[0m\u001b[0;34m)\u001b[0m\u001b[0;34m:\u001b[0m\u001b[0;34m\u001b[0m\u001b[0;34m\u001b[0m\u001b[0m\n",
      "\u001b[0;32m~/Documents/studyM2/projects/eventddpg/module/keras2/backend/tensorflow_backend.py\u001b[0m in \u001b[0;36m__call__\u001b[0;34m(self, inputs)\u001b[0m\n\u001b[1;32m   2723\u001b[0m \u001b[0;34m\u001b[0m\u001b[0m\n\u001b[1;32m   2724\u001b[0m             \u001b[0;31m# のここ\u001b[0m\u001b[0;34m\u001b[0m\u001b[0;34m\u001b[0m\u001b[0;34m\u001b[0m\u001b[0m\n\u001b[0;32m-> 2725\u001b[0;31m             \u001b[0;32mreturn\u001b[0m \u001b[0mself\u001b[0m\u001b[0;34m.\u001b[0m\u001b[0m_call\u001b[0m\u001b[0;34m(\u001b[0m\u001b[0minputs\u001b[0m\u001b[0;34m)\u001b[0m\u001b[0;34m\u001b[0m\u001b[0;34m\u001b[0m\u001b[0m\n\u001b[0m\u001b[1;32m   2726\u001b[0m         \u001b[0;32melse\u001b[0m\u001b[0;34m:\u001b[0m\u001b[0;34m\u001b[0m\u001b[0;34m\u001b[0m\u001b[0m\n\u001b[1;32m   2727\u001b[0m             \u001b[0;32mif\u001b[0m \u001b[0mpy_any\u001b[0m\u001b[0;34m(\u001b[0m\u001b[0mis_tensor\u001b[0m\u001b[0;34m(\u001b[0m\u001b[0mx\u001b[0m\u001b[0;34m)\u001b[0m \u001b[0;32mfor\u001b[0m \u001b[0mx\u001b[0m \u001b[0;32min\u001b[0m \u001b[0minputs\u001b[0m\u001b[0;34m)\u001b[0m\u001b[0;34m:\u001b[0m\u001b[0;34m\u001b[0m\u001b[0;34m\u001b[0m\u001b[0m\n",
      "\u001b[0;32m~/Documents/studyM2/projects/eventddpg/module/keras2/backend/tensorflow_backend.py\u001b[0m in \u001b[0;36m_call\u001b[0;34m(self, inputs)\u001b[0m\n\u001b[1;32m   2681\u001b[0m             \u001b[0mfetched\u001b[0m \u001b[0;34m=\u001b[0m \u001b[0mself\u001b[0m\u001b[0;34m.\u001b[0m\u001b[0m_callable_fn\u001b[0m\u001b[0;34m(\u001b[0m\u001b[0;34m*\u001b[0m\u001b[0marray_vals\u001b[0m\u001b[0;34m,\u001b[0m \u001b[0mrun_metadata\u001b[0m\u001b[0;34m=\u001b[0m\u001b[0mself\u001b[0m\u001b[0;34m.\u001b[0m\u001b[0mrun_metadata\u001b[0m\u001b[0;34m)\u001b[0m\u001b[0;34m\u001b[0m\u001b[0;34m\u001b[0m\u001b[0m\n\u001b[1;32m   2682\u001b[0m         \u001b[0;32melse\u001b[0m\u001b[0;34m:\u001b[0m\u001b[0;34m\u001b[0m\u001b[0;34m\u001b[0m\u001b[0m\n\u001b[0;32m-> 2683\u001b[0;31m             \u001b[0mfetched\u001b[0m \u001b[0;34m=\u001b[0m \u001b[0mself\u001b[0m\u001b[0;34m.\u001b[0m\u001b[0m_callable_fn\u001b[0m\u001b[0;34m(\u001b[0m\u001b[0;34m*\u001b[0m\u001b[0marray_vals\u001b[0m\u001b[0;34m)\u001b[0m\u001b[0;34m\u001b[0m\u001b[0;34m\u001b[0m\u001b[0m\n\u001b[0m\u001b[1;32m   2684\u001b[0m         \u001b[0;32mreturn\u001b[0m \u001b[0mfetched\u001b[0m\u001b[0;34m[\u001b[0m\u001b[0;34m:\u001b[0m\u001b[0mlen\u001b[0m\u001b[0;34m(\u001b[0m\u001b[0mself\u001b[0m\u001b[0;34m.\u001b[0m\u001b[0moutputs\u001b[0m\u001b[0;34m)\u001b[0m\u001b[0;34m]\u001b[0m\u001b[0;34m\u001b[0m\u001b[0;34m\u001b[0m\u001b[0m\n\u001b[1;32m   2685\u001b[0m \u001b[0;34m\u001b[0m\u001b[0m\n",
      "\u001b[0;32m~/.pyenv/versions/3.7.4/lib/python3.7/site-packages/tensorflow/python/client/session.py\u001b[0m in \u001b[0;36m__call__\u001b[0;34m(self, *args, **kwargs)\u001b[0m\n\u001b[1;32m   1456\u001b[0m         ret = tf_session.TF_SessionRunCallable(self._session._session,\n\u001b[1;32m   1457\u001b[0m                                                \u001b[0mself\u001b[0m\u001b[0;34m.\u001b[0m\u001b[0m_handle\u001b[0m\u001b[0;34m,\u001b[0m \u001b[0margs\u001b[0m\u001b[0;34m,\u001b[0m\u001b[0;34m\u001b[0m\u001b[0;34m\u001b[0m\u001b[0m\n\u001b[0;32m-> 1458\u001b[0;31m                                                run_metadata_ptr)\n\u001b[0m\u001b[1;32m   1459\u001b[0m         \u001b[0;32mif\u001b[0m \u001b[0mrun_metadata\u001b[0m\u001b[0;34m:\u001b[0m\u001b[0;34m\u001b[0m\u001b[0;34m\u001b[0m\u001b[0m\n\u001b[1;32m   1460\u001b[0m           \u001b[0mproto_data\u001b[0m \u001b[0;34m=\u001b[0m \u001b[0mtf_session\u001b[0m\u001b[0;34m.\u001b[0m\u001b[0mTF_GetBuffer\u001b[0m\u001b[0;34m(\u001b[0m\u001b[0mrun_metadata_ptr\u001b[0m\u001b[0;34m)\u001b[0m\u001b[0;34m\u001b[0m\u001b[0;34m\u001b[0m\u001b[0m\n",
      "\u001b[0;31mKeyboardInterrupt\u001b[0m: "
     ]
    }
   ],
   "source": [
    "# learn\n",
    "NN.compile(loss='mean_squared_error',optimizer='adam')\n",
    "history = NN.fit(x_train, y_train, batch_size=128, epochs=50, verbose=0)"
   ]
  },
  {
   "cell_type": "code",
   "execution_count": null,
   "metadata": {},
   "outputs": [],
   "source": [
    "# save\n",
    "NN.save_weights('./saved_agent/tmp.h5')"
   ]
  },
  {
   "cell_type": "code",
   "execution_count": 4,
   "metadata": {},
   "outputs": [
    {
     "name": "stdout",
     "output_type": "stream",
     "text": [
      "WARNING:tensorflow:From ../../module/keras2/backend/tensorflow_backend.py:82: The name tf.get_default_graph is deprecated. Please use tf.compat.v1.get_default_graph instead.\n",
      "\n",
      "WARNING:tensorflow:From ../../module/keras2/backend/tensorflow_backend.py:525: The name tf.placeholder is deprecated. Please use tf.compat.v1.placeholder instead.\n",
      "\n",
      "WARNING:tensorflow:From ../../module/keras2/backend/tensorflow_backend.py:4148: The name tf.random_uniform is deprecated. Please use tf.random.uniform instead.\n",
      "\n",
      "WARNING:tensorflow:From ../../module/keras2/backend/tensorflow_backend.py:182: The name tf.get_default_session is deprecated. Please use tf.compat.v1.get_default_session instead.\n",
      "\n",
      "WARNING:tensorflow:From ../../module/keras2/backend/tensorflow_backend.py:189: The name tf.ConfigProto is deprecated. Please use tf.compat.v1.ConfigProto instead.\n",
      "\n",
      "WARNING:tensorflow:From ../../module/keras2/optimizers.py:790: The name tf.train.Optimizer is deprecated. Please use tf.compat.v1.train.Optimizer instead.\n",
      "\n"
     ]
    }
   ],
   "source": [
    "a = agent2((2,), (2,))\n",
    "a.compile(Adam(lr=0.001, clipnorm=1.), metrics=[\"mae\"])\n",
    "a.actor = make_standup_agent(a.actor, 0.05, env)"
   ]
  },
  {
   "cell_type": "code",
   "execution_count": 5,
   "metadata": {},
   "outputs": [
    {
     "ename": "NameError",
     "evalue": "name 'K' is not defined",
     "output_type": "error",
     "traceback": [
      "\u001b[0;31m---------------------------------------------------------------------------\u001b[0m",
      "\u001b[0;31mNameError\u001b[0m                                 Traceback (most recent call last)",
      "\u001b[0;32m<ipython-input-5-1d29bc79051b>\u001b[0m in \u001b[0;36m<module>\u001b[0;34m\u001b[0m\n\u001b[1;32m      5\u001b[0m     \u001b[0ma_agent\u001b[0m\u001b[0;34m,\u001b[0m \u001b[0mtau\u001b[0m \u001b[0;34m=\u001b[0m \u001b[0ma\u001b[0m\u001b[0;34m.\u001b[0m\u001b[0mforward\u001b[0m\u001b[0;34m(\u001b[0m\u001b[0mx\u001b[0m\u001b[0;34m)\u001b[0m\u001b[0;34m\u001b[0m\u001b[0;34m\u001b[0m\u001b[0m\n\u001b[1;32m      6\u001b[0m     \u001b[0mtaus\u001b[0m\u001b[0;34m.\u001b[0m\u001b[0mappend\u001b[0m\u001b[0;34m(\u001b[0m\u001b[0mtau\u001b[0m\u001b[0;34m)\u001b[0m\u001b[0;34m\u001b[0m\u001b[0;34m\u001b[0m\u001b[0m\n\u001b[0;32m----> 7\u001b[0;31m     \u001b[0mprint\u001b[0m\u001b[0;34m(\u001b[0m\u001b[0;34mf'NN: {a_agent}, opt: {np.dot(K, x)}'\u001b[0m\u001b[0;34m)\u001b[0m\u001b[0;34m\u001b[0m\u001b[0;34m\u001b[0m\u001b[0m\n\u001b[0m\u001b[1;32m      8\u001b[0m \u001b[0mplt\u001b[0m\u001b[0;34m.\u001b[0m\u001b[0mplot\u001b[0m\u001b[0;34m(\u001b[0m\u001b[0mrange\u001b[0m\u001b[0;34m(\u001b[0m\u001b[0mlen\u001b[0m\u001b[0;34m(\u001b[0m\u001b[0mtaus\u001b[0m\u001b[0;34m)\u001b[0m\u001b[0;34m)\u001b[0m\u001b[0;34m,\u001b[0m \u001b[0mtaus\u001b[0m\u001b[0;34m)\u001b[0m\u001b[0;34m\u001b[0m\u001b[0;34m\u001b[0m\u001b[0m\n\u001b[1;32m      9\u001b[0m \u001b[0mplt\u001b[0m\u001b[0;34m.\u001b[0m\u001b[0mplot\u001b[0m\u001b[0;34m(\u001b[0m\u001b[0mrange\u001b[0m\u001b[0;34m(\u001b[0m\u001b[0;36m300\u001b[0m\u001b[0;34m,\u001b[0m \u001b[0mlen\u001b[0m\u001b[0;34m(\u001b[0m\u001b[0mtaus\u001b[0m\u001b[0;34m)\u001b[0m\u001b[0;34m)\u001b[0m\u001b[0;34m,\u001b[0m \u001b[0mmoving_average\u001b[0m\u001b[0;34m(\u001b[0m\u001b[0mtaus\u001b[0m\u001b[0;34m,\u001b[0m \u001b[0;36m300\u001b[0m\u001b[0;34m)\u001b[0m\u001b[0;34m)\u001b[0m\u001b[0;34m\u001b[0m\u001b[0;34m\u001b[0m\u001b[0m\n",
      "\u001b[0;31mNameError\u001b[0m: name 'K' is not defined"
     ]
    }
   ],
   "source": [
    "# validation\n",
    "taus = []\n",
    "for i in range(1000):\n",
    "    x = np.random.randn(2,) / 10.\n",
    "    a_agent, tau = a.forward(x)\n",
    "    taus.append(tau)\n",
    "    print(f'NN: {a_agent}, opt: {np.dot(K, x)}')\n",
    "plt.plot(range(len(taus)), taus)\n",
    "plt.plot(range(300, len(taus)), moving_average(taus, 300))\n",
    "plt.show()"
   ]
  },
  {
   "cell_type": "code",
   "execution_count": 8,
   "metadata": {},
   "outputs": [
    {
     "data": {
      "image/png": "[encoded data removed]",
      "text/plain": [
       "<Figure size 864x288 with 2 Axes>"
      ]
     },
     "metadata": {
      "needs_background": "light"
     },
     "output_type": "display_data"
    }
   ],
   "source": [
    "# 実環境テスト\n",
    "\n",
    "def rad_clip(th):\n",
    "    r = abs(th)\n",
    "    while r > np.pi:\n",
    "        r -= 2*np.pi\n",
    "    th = np.sign(th) * r\n",
    "    return th\n",
    "\n",
    "env.reset()\n",
    "states = []\n",
    "taus = []\n",
    "for i in range(1000):\n",
    "    x = env.state\n",
    "    states.append([rad_clip(x[0]), x[1]])\n",
    "    a_agent, tau = a.forward(x)\n",
    "    taus.append(tau)\n",
    "    action_repetition = int(np.ceil(200 * tau))  # minimum natural number which makes `dt` smaller than 0.005\n",
    "    dt = tau / action_repetition\n",
    "    # print(tau, dt, action_repetition)\n",
    "    for p in range(action_repetition):\n",
    "        _,_,_,_ = env.step(np.array([a_agent]), dt, tau)\n",
    "states = np.array(states)\n",
    "\n",
    "plt.figure(figsize=(12,4))\n",
    "plt.subplot(1,2,1)\n",
    "plt.xlabel('steps')\n",
    "plt.ylabel('theta')\n",
    "plt.plot(range(states.shape[0]), states[:,0])\n",
    "plt.subplot(1,2,2)\n",
    "plt.xlabel('steps')\n",
    "plt.ylabel('theta_dot')\n",
    "plt.plot(range(states.shape[0]), states[:,1])\n",
    "plt.show()"
   ]
  },
  {
   "cell_type": "code",
   "execution_count": 9,
   "metadata": {},
   "outputs": [
    {
     "name": "stdout",
     "output_type": "stream",
     "text": [
      "[0.050013267, 0.050142318, 0.05121489, 0.05329549, 0.053299572, 0.052297767, 0.05056961, 0.049978588, 0.050065566, 0.050001062, 0.050001282, 0.05000499, 0.05000347, 0.05001353, 0.050012022, 0.050007623, 0.05000518, 0.050002206, 0.050000276, 0.04999822, 0.049996737, 0.049995292, 0.04999418, 0.049993154, 0.049992334, 0.050003722, 0.050003424, 0.05000232, 0.05000209, 0.050002124, 0.05000216, 0.050002184, 0.050002206, 0.050002232, 0.050002243, 0.050002262, 0.050002277, 0.05000228, 0.050002288, 0.0500023, 0.050002303, 0.05000231, 0.050002318, 0.05000232, 0.05000232, 0.05000233, 0.05000233, 0.050002333, 0.050002333, 0.050002333, 0.050002333, 0.050002333, 0.05000234, 0.05000234, 0.05000234, 0.05000234, 0.05000234, 0.050002348, 0.050002348, 0.050002348, 0.050002348, 0.050002348, 0.050002348, 0.050002348, 0.050002348, 0.050002348, 0.050002348, 0.050002348, 0.050002348, 0.050002348, 0.050002348, 0.050002348, 0.050002348, 0.050002348, 0.050002348, 0.050002348, 0.050002348, 0.050002348, 0.050002348, 0.050002348, 0.050002348, 0.050002348, 0.050002348, 0.050002348, 0.050002348, 0.050002348, 0.050002348, 0.050002348, 0.050002348, 0.050002348, 0.050002348, 0.050002348, 0.050002348, 0.050002348, 0.050002348, 0.050002348, 0.050002348, 0.050002348, 0.050002348, 0.050002348, 0.050002348, 0.050002348, 0.050002348, 0.050002348, 0.050002348, 0.050002348, 0.050002348, 0.050002348, 0.050002348, 0.050002348, 0.050002348, 0.050002348, 0.050002348, 0.050002348, 0.050002348, 0.050002348, 0.050002348, 0.050002348, 0.050002348, 0.050002348, 0.050002348, 0.050002348, 0.050002348, 0.050002348, 0.050002348, 0.050002348, 0.050002348, 0.050002348, 0.050002348, 0.050002348, 0.050002348, 0.050002348, 0.050002348, 0.050002348, 0.050002348, 0.050002348, 0.050002348, 0.050002348, 0.050002348, 0.050002348, 0.050002348, 0.050002348, 0.050002348, 0.050002348, 0.050002348, 0.050002348, 0.050002348, 0.050002348, 0.050002348, 0.050002348, 0.050002348, 0.050002348, 0.050002348, 0.050002348, 0.050002348, 0.050002348, 0.050002348, 0.050002348, 0.050002348, 0.050002348, 0.050002348, 0.050002348, 0.050002348, 0.050002348, 0.050002348, 0.050002348, 0.050002348, 0.050002348, 0.050002348, 0.050002348, 0.050002348, 0.050002348, 0.050002348, 0.050002348, 0.050002348, 0.050002348, 0.050002348, 0.050002348, 0.050002348, 0.050002348, 0.050002348, 0.050002348, 0.050002348, 0.050002348, 0.050002348, 0.050002348, 0.050002348, 0.050002348, 0.050002348, 0.050002348, 0.050002348, 0.050002348, 0.050002348, 0.050002348, 0.050002348, 0.050002348, 0.050002348, 0.050002348, 0.050002348, 0.050002348, 0.050002348, 0.050002348, 0.050002348, 0.050002348, 0.050002348, 0.050002348, 0.050002348, 0.050002348, 0.050002348, 0.050002348, 0.050002348, 0.050002348, 0.050002348, 0.050002348, 0.050002348, 0.050002348, 0.050002348, 0.050002348, 0.050002348, 0.050002348, 0.050002348, 0.050002348, 0.050002348, 0.050002348, 0.050002348, 0.050002348, 0.050002348, 0.050002348, 0.050002348, 0.050002348, 0.050002348, 0.050002348, 0.050002348, 0.050002348, 0.050002348, 0.050002348, 0.050002348, 0.050002348, 0.050002348, 0.050002348, 0.050002348, 0.050002348, 0.050002348, 0.050002348, 0.050002348, 0.050002348, 0.050002348, 0.050002348, 0.050002348, 0.050002348, 0.050002348, 0.050002348, 0.050002348, 0.050002348, 0.050002348, 0.050002348, 0.050002348, 0.050002348, 0.050002348, 0.050002348, 0.050002348, 0.050002348, 0.050002348, 0.050002348, 0.050002348, 0.050002348, 0.050002348, 0.050002348, 0.050002348, 0.050002348, 0.050002348, 0.050002348, 0.050002348, 0.050002348, 0.050002348, 0.050002348, 0.050002348, 0.050002348, 0.050002348, 0.050002348, 0.050002348, 0.050002348, 0.050002348, 0.050002348, 0.050002348, 0.050002348, 0.050002348, 0.050002348, 0.050002348, 0.050002348, 0.050002348, 0.050002348, 0.050002348, 0.050002348, 0.050002348, 0.050002348, 0.050002348, 0.050002348, 0.050002348, 0.050002348, 0.050002348, 0.050002348, 0.050002348, 0.050002348, 0.050002348, 0.050002348, 0.050002348, 0.050002348, 0.050002348, 0.050002348, 0.050002348, 0.050002348, 0.050002348, 0.050002348, 0.050002348, 0.050002348, 0.050002348, 0.050002348, 0.050002348, 0.050002348, 0.050002348, 0.050002348, 0.050002348, 0.050002348, 0.050002348, 0.050002348, 0.050002348, 0.050002348, 0.050002348, 0.050002348, 0.050002348, 0.050002348, 0.050002348, 0.050002348, 0.050002348, 0.050002348, 0.050002348, 0.050002348, 0.050002348, 0.050002348, 0.050002348, 0.050002348, 0.050002348, 0.050002348, 0.050002348, 0.050002348, 0.050002348, 0.050002348, 0.050002348, 0.050002348, 0.050002348, 0.050002348, 0.050002348, 0.050002348, 0.050002348, 0.050002348, 0.050002348, 0.050002348, 0.050002348, 0.050002348, 0.050002348, 0.050002348, 0.050002348, 0.050002348, 0.050002348, 0.050002348, 0.050002348, 0.050002348, 0.050002348, 0.050002348, 0.050002348, 0.050002348, 0.050002348, 0.050002348, 0.050002348, 0.050002348, 0.050002348, 0.050002348, 0.050002348, 0.050002348, 0.050002348, 0.050002348, 0.050002348, 0.050002348, 0.050002348, 0.050002348, 0.050002348, 0.050002348, 0.050002348, 0.050002348, 0.050002348, 0.050002348, 0.050002348, 0.050002348, 0.050002348, 0.050002348, 0.050002348, 0.050002348, 0.050002348, 0.050002348, 0.050002348, 0.050002348, 0.050002348, 0.050002348, 0.050002348, 0.050002348, 0.050002348, 0.050002348, 0.050002348, 0.050002348, 0.050002348, 0.050002348, 0.050002348, 0.050002348, 0.050002348, 0.050002348, 0.050002348, 0.050002348, 0.050002348, 0.050002348, 0.050002348, 0.050002348, 0.050002348, 0.050002348, 0.050002348, 0.050002348, 0.050002348, 0.050002348, 0.050002348, 0.050002348, 0.050002348, 0.050002348, 0.050002348, 0.050002348, 0.050002348, 0.050002348, 0.050002348, 0.050002348, 0.050002348, 0.050002348, 0.050002348, 0.050002348, 0.050002348, 0.050002348, 0.050002348, 0.050002348, 0.050002348, 0.050002348, 0.050002348, 0.050002348, 0.050002348, 0.050002348, 0.050002348, 0.050002348, 0.050002348, 0.050002348, 0.050002348, 0.050002348, 0.050002348, 0.050002348, 0.050002348, 0.050002348, 0.050002348, 0.050002348, 0.050002348, 0.050002348, 0.050002348, 0.050002348, 0.050002348, 0.050002348, 0.050002348, 0.050002348, 0.050002348, 0.050002348, 0.050002348, 0.050002348, 0.050002348, 0.050002348, 0.050002348, 0.050002348, 0.050002348, 0.050002348, 0.050002348, 0.050002348, 0.050002348, 0.050002348, 0.050002348, 0.050002348, 0.050002348, 0.050002348, 0.050002348, 0.050002348, 0.050002348, 0.050002348, 0.050002348, 0.050002348, 0.050002348, 0.050002348, 0.050002348, 0.050002348, 0.050002348, 0.050002348, 0.050002348, 0.050002348, 0.050002348, 0.050002348, 0.050002348, 0.050002348, 0.050002348, 0.050002348, 0.050002348, 0.050002348, 0.050002348, 0.050002348, 0.050002348, 0.050002348, 0.050002348, 0.050002348, 0.050002348, 0.050002348, 0.050002348, 0.050002348, 0.050002348, 0.050002348, 0.050002348, 0.050002348, 0.050002348, 0.050002348, 0.050002348, 0.050002348, 0.050002348, 0.050002348, 0.050002348, 0.050002348, 0.050002348, 0.050002348, 0.050002348, 0.050002348, 0.050002348, 0.050002348, 0.050002348, 0.050002348, 0.050002348, 0.050002348, 0.050002348, 0.050002348, 0.050002348, 0.050002348, 0.050002348, 0.050002348, 0.050002348, 0.050002348, 0.050002348, 0.050002348, 0.050002348, 0.050002348, 0.050002348, 0.050002348, 0.050002348, 0.050002348, 0.050002348, 0.050002348, 0.050002348, 0.050002348, 0.050002348, 0.050002348, 0.050002348, 0.050002348, 0.050002348, 0.050002348, 0.050002348, 0.050002348, 0.050002348, 0.050002348, 0.050002348, 0.050002348, 0.050002348, 0.050002348, 0.050002348, 0.050002348, 0.050002348, 0.050002348, 0.050002348, 0.050002348, 0.050002348, 0.050002348, 0.050002348, 0.050002348, 0.050002348, 0.050002348, 0.050002348, 0.050002348, 0.050002348, 0.050002348, 0.050002348, 0.050002348, 0.050002348, 0.050002348, 0.050002348, 0.050002348, 0.050002348, 0.050002348, 0.050002348, 0.050002348, 0.050002348, 0.050002348, 0.050002348, 0.050002348, 0.050002348, 0.050002348, 0.050002348, 0.050002348, 0.050002348, 0.050002348, 0.050002348, 0.050002348, 0.050002348, 0.050002348, 0.050002348, 0.050002348, 0.050002348, 0.050002348, 0.050002348, 0.050002348, 0.050002348, 0.050002348, 0.050002348, 0.050002348, 0.050002348, 0.050002348, 0.050002348, 0.050002348, 0.050002348, 0.050002348, 0.050002348, 0.050002348, 0.050002348, 0.050002348, 0.050002348, 0.050002348, 0.050002348, 0.050002348, 0.050002348, 0.050002348, 0.050002348, 0.050002348, 0.050002348, 0.050002348, 0.050002348, 0.050002348, 0.050002348, 0.050002348, 0.050002348, 0.050002348, 0.050002348, 0.050002348, 0.050002348, 0.050002348, 0.050002348, 0.050002348, 0.050002348, 0.050002348, 0.050002348, 0.050002348, 0.050002348, 0.050002348, 0.050002348, 0.050002348, 0.050002348, 0.050002348, 0.050002348, 0.050002348, 0.050002348, 0.050002348, 0.050002348, 0.050002348, 0.050002348, 0.050002348, 0.050002348, 0.050002348, 0.050002348, 0.050002348, 0.050002348, 0.050002348, 0.050002348, 0.050002348, 0.050002348, 0.050002348, 0.050002348, 0.050002348, 0.050002348, 0.050002348, 0.050002348, 0.050002348, 0.050002348, 0.050002348, 0.050002348, 0.050002348, 0.050002348, 0.050002348, 0.050002348, 0.050002348, 0.050002348, 0.050002348, 0.050002348, 0.050002348, 0.050002348, 0.050002348, 0.050002348, 0.050002348, 0.050002348, 0.050002348, 0.050002348, 0.050002348, 0.050002348, 0.050002348, 0.050002348, 0.050002348, 0.050002348, 0.050002348, 0.050002348, 0.050002348, 0.050002348, 0.050002348, 0.050002348, 0.050002348, 0.050002348, 0.050002348, 0.050002348, 0.050002348, 0.050002348, 0.050002348, 0.050002348, 0.050002348, 0.050002348, 0.050002348, 0.050002348, 0.050002348, 0.050002348, 0.050002348, 0.050002348, 0.050002348, 0.050002348, 0.050002348, 0.050002348, 0.050002348, 0.050002348, 0.050002348, 0.050002348, 0.050002348, 0.050002348, 0.050002348, 0.050002348, 0.050002348, 0.050002348, 0.050002348, 0.050002348, 0.050002348, 0.050002348, 0.050002348, 0.050002348, 0.050002348, 0.050002348, 0.050002348, 0.050002348, 0.050002348, 0.050002348, 0.050002348, 0.050002348, 0.050002348, 0.050002348, 0.050002348, 0.050002348, 0.050002348, 0.050002348, 0.050002348, 0.050002348, 0.050002348, 0.050002348, 0.050002348, 0.050002348, 0.050002348, 0.050002348, 0.050002348, 0.050002348, 0.050002348, 0.050002348, 0.050002348, 0.050002348, 0.050002348, 0.050002348, 0.050002348, 0.050002348, 0.050002348, 0.050002348, 0.050002348, 0.050002348, 0.050002348, 0.050002348, 0.050002348, 0.050002348, 0.050002348, 0.050002348, 0.050002348, 0.050002348, 0.050002348, 0.050002348, 0.050002348, 0.050002348, 0.050002348, 0.050002348, 0.050002348, 0.050002348, 0.050002348, 0.050002348, 0.050002348, 0.050002348, 0.050002348, 0.050002348, 0.050002348, 0.050002348, 0.050002348, 0.050002348, 0.050002348, 0.050002348, 0.050002348, 0.050002348, 0.050002348, 0.050002348, 0.050002348, 0.050002348, 0.050002348, 0.050002348, 0.050002348, 0.050002348, 0.050002348, 0.050002348, 0.050002348, 0.050002348, 0.050002348, 0.050002348, 0.050002348, 0.050002348, 0.050002348, 0.050002348, 0.050002348, 0.050002348, 0.050002348, 0.050002348, 0.050002348, 0.050002348, 0.050002348, 0.050002348, 0.050002348, 0.050002348, 0.050002348, 0.050002348, 0.050002348, 0.050002348, 0.050002348, 0.050002348, 0.050002348, 0.050002348, 0.050002348, 0.050002348, 0.050002348, 0.050002348, 0.050002348, 0.050002348, 0.050002348, 0.050002348, 0.050002348, 0.050002348, 0.050002348, 0.050002348, 0.050002348, 0.050002348, 0.050002348, 0.050002348, 0.050002348, 0.050002348, 0.050002348, 0.050002348, 0.050002348, 0.050002348, 0.050002348, 0.050002348, 0.050002348, 0.050002348, 0.050002348, 0.050002348, 0.050002348, 0.050002348, 0.050002348, 0.050002348, 0.050002348, 0.050002348, 0.050002348, 0.050002348, 0.050002348, 0.050002348, 0.050002348, 0.050002348, 0.050002348, 0.050002348, 0.050002348, 0.050002348, 0.050002348, 0.050002348, 0.050002348, 0.050002348, 0.050002348, 0.050002348, 0.050002348, 0.050002348, 0.050002348, 0.050002348, 0.050002348, 0.050002348, 0.050002348, 0.050002348, 0.050002348, 0.050002348, 0.050002348, 0.050002348, 0.050002348, 0.050002348, 0.050002348, 0.050002348, 0.050002348, 0.050002348, 0.050002348, 0.050002348, 0.050002348, 0.050002348, 0.050002348, 0.050002348, 0.050002348, 0.050002348, 0.050002348, 0.050002348, 0.050002348, 0.050002348, 0.050002348, 0.050002348, 0.050002348, 0.050002348, 0.050002348, 0.050002348, 0.050002348, 0.050002348, 0.050002348, 0.050002348, 0.050002348, 0.050002348, 0.050002348, 0.050002348, 0.050002348, 0.050002348, 0.050002348, 0.050002348, 0.050002348, 0.050002348, 0.050002348, 0.050002348, 0.050002348, 0.050002348, 0.050002348, 0.050002348, 0.050002348, 0.050002348, 0.050002348, 0.050002348, 0.050002348, 0.050002348, 0.050002348, 0.050002348, 0.050002348, 0.050002348, 0.050002348, 0.050002348, 0.050002348, 0.050002348, 0.050002348, 0.050002348, 0.050002348, 0.050002348, 0.050002348, 0.050002348, 0.050002348, 0.050002348, 0.050002348, 0.050002348, 0.050002348, 0.050002348, 0.050002348, 0.050002348, 0.050002348, 0.050002348, 0.050002348]\n"
     ]
    }
   ],
   "source": [
    "print(taus)"
   ]
  },
  {
   "cell_type": "code",
   "execution_count": null,
   "metadata": {},
   "outputs": [],
   "source": []
  }
 ],
 "metadata": {
  "kernelspec": {
   "display_name": "Python 3",
   "language": "python",
   "name": "python3"
  },
  "language_info": {
   "codemirror_mode": {
    "name": "ipython",
    "version": 3
   },
   "file_extension": ".py",
   "mimetype": "text/x-python",
   "name": "python",
   "nbconvert_exporter": "python",
   "pygments_lexer": "ipython3",
   "version": "3.7.4"
  }
 },
 "nbformat": 4,
 "nbformat_minor": 4
}
