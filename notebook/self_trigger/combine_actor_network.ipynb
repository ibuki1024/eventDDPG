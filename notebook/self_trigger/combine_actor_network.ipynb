{
 "cells": [
  {
   "cell_type": "code",
   "execution_count": 1,
   "metadata": {},
   "outputs": [
    {
     "name": "stderr",
     "output_type": "stream",
     "text": [
      "Using TensorFlow backend.\n",
      "Using TensorFlow backend.\n"
     ]
    }
   ],
   "source": [
    "import warnings\n",
    "warnings.filterwarnings('ignore')\n",
    "import numpy as np\n",
    "import matplotlib.pyplot as plt\n",
    "\n",
    "import sys\n",
    "sys.path.append('../../module/')\n",
    "\n",
    "import keras2\n",
    "from keras2.models import Model\n",
    "\n",
    "from keras2.layers import concatenate, Dense, Input, Flatten, merge\n",
    "from keras2.optimizers import Adam\n",
    "from util import moving_average, dlqr, discretized_system, lqr\n",
    "import gym2\n",
    "from rl2.agents import selfDDPGAgent, selfDDPGAgent2\n",
    "from rl2.memory import SequentialMemory"
   ]
  },
  {
   "cell_type": "code",
   "execution_count": 2,
   "metadata": {},
   "outputs": [],
   "source": [
    "# GymのPendulum環境を作成\n",
    "env = gym2.make(\"Pendulum-v2\")\n",
    "\n",
    "# 取りうる”打ち手”のアクション数と値の定義\n",
    "nb_actios = 2\n",
    "ACT_ID_TO_VALUE = {0: [-1], 1: [+1]}"
   ]
  },
  {
   "cell_type": "code",
   "execution_count": 14,
   "metadata": {},
   "outputs": [],
   "source": [
    "def critic_net(a_shape , s_shape):\n",
    "    action_input = Input(a_shape)\n",
    "    observation_input = Input(shape=(1,)+s_shape)\n",
    "    flattened_observation = Flatten()(observation_input)\n",
    "    x = concatenate([action_input, flattened_observation])\n",
    "    x = Dense(16, activation=\"relu\")(x)\n",
    "    x = Dense(16, activation=\"relu\")(x)\n",
    "    x = Dense(1, activation=\"linear\")(x)\n",
    "    critic = Model(inputs=[action_input, observation_input], outputs=x)\n",
    "    critic.summary()\n",
    "    return (critic, action_input)\n",
    "\n",
    "def branch_actor(a_shape, s_shape):\n",
    "    action_input = Input(shape=(1,)+s_shape)\n",
    "    x = Flatten()(action_input) # 実質的なinput layer\n",
    "    \n",
    "    x1 = Dense(8, activation=\"relu\")(x)\n",
    "    x1 = Dense(8, activation=\"relu\")(x1)\n",
    "    x1 = Dense(1, activation=\"multiple_tanh\")(x1) # action signal\n",
    "    \n",
    "    x2 = Dense(8, activation=\"relu\")(x)\n",
    "    x2 = Dense(8, activation=\"relu\")(x2)\n",
    "    x2 = Dense(1, activation=\"sigmoid\")(x2) # tau\n",
    "    \n",
    "    output = concatenate([x1, x2])\n",
    "    actor = Model(inputs=action_input, outputs=output)\n",
    "    actor.summary()\n",
    "    return actor\n",
    "\n",
    "# どうやって学習率を変える？\n",
    "\n",
    "def agent2(a_shape, s_shape):\n",
    "    actor = branch_actor(a_shape, s_shape)\n",
    "    critic,  critic_action_input = critic_net(a_shape, s_shape)\n",
    "    memory = SequentialMemory(limit = 50000, window_length = 1)\n",
    "    agent = selfDDPGAgent2(\n",
    "        a_shape[0],\n",
    "        actor,\n",
    "        critic,\n",
    "        critic_action_input,\n",
    "        memory,\n",
    "        clip_com = 0.01,\n",
    "    )\n",
    "    return agent"
   ]
  },
  {
   "cell_type": "code",
   "execution_count": 15,
   "metadata": {},
   "outputs": [
    {
     "name": "stdout",
     "output_type": "stream",
     "text": [
      "__________________________________________________________________________________________________\n",
      "Layer (type)                    Output Shape         Param #     Connected to                     \n",
      "==================================================================================================\n",
      "input_10 (InputLayer)           (None, 1, 2)         0                                            \n",
      "__________________________________________________________________________________________________\n",
      "flatten_7 (Flatten)             (None, 2)            0           input_10[0][0]                   \n",
      "__________________________________________________________________________________________________\n",
      "dense_28 (Dense)                (None, 8)            24          flatten_7[0][0]                  \n",
      "__________________________________________________________________________________________________\n",
      "dense_31 (Dense)                (None, 8)            24          flatten_7[0][0]                  \n",
      "__________________________________________________________________________________________________\n",
      "dense_29 (Dense)                (None, 8)            72          dense_28[0][0]                   \n",
      "__________________________________________________________________________________________________\n",
      "dense_32 (Dense)                (None, 8)            72          dense_31[0][0]                   \n",
      "__________________________________________________________________________________________________\n",
      "dense_30 (Dense)                (None, 1)            9           dense_29[0][0]                   \n",
      "__________________________________________________________________________________________________\n",
      "dense_33 (Dense)                (None, 1)            9           dense_32[0][0]                   \n",
      "__________________________________________________________________________________________________\n",
      "concatenate_7 (Concatenate)     (None, 2)            0           dense_30[0][0]                   \n",
      "                                                                 dense_33[0][0]                   \n",
      "==================================================================================================\n",
      "Total params: 210\n",
      "Trainable params: 210\n",
      "Non-trainable params: 0\n",
      "__________________________________________________________________________________________________\n",
      "__________________________________________________________________________________________________\n",
      "Layer (type)                    Output Shape         Param #     Connected to                     \n",
      "==================================================================================================\n",
      "input_12 (InputLayer)           (None, 1, 2)         0                                            \n",
      "__________________________________________________________________________________________________\n",
      "input_11 (InputLayer)           (None, 2)            0                                            \n",
      "__________________________________________________________________________________________________\n",
      "flatten_8 (Flatten)             (None, 2)            0           input_12[0][0]                   \n",
      "__________________________________________________________________________________________________\n",
      "concatenate_8 (Concatenate)     (None, 4)            0           input_11[0][0]                   \n",
      "                                                                 flatten_8[0][0]                  \n",
      "__________________________________________________________________________________________________\n",
      "dense_34 (Dense)                (None, 16)           80          concatenate_8[0][0]              \n",
      "__________________________________________________________________________________________________\n",
      "dense_35 (Dense)                (None, 16)           272         dense_34[0][0]                   \n",
      "__________________________________________________________________________________________________\n",
      "dense_36 (Dense)                (None, 1)            17          dense_35[0][0]                   \n",
      "==================================================================================================\n",
      "Total params: 369\n",
      "Trainable params: 369\n",
      "Non-trainable params: 0\n",
      "__________________________________________________________________________________________________\n"
     ]
    }
   ],
   "source": [
    "ag = agent2((2,),(2,))\n",
    "aa = ag.compile(Adam(lr=0.001, clipnorm=1.), metrics=[\"mae\"])\n",
    "\n",
    "# ag.fit(env, l=5., nb_steps=10000, visualize=0, verbose=1, nb_max_episode_steps=10000)"
   ]
  },
  {
   "cell_type": "code",
   "execution_count": 28,
   "metadata": {
    "scrolled": true
   },
   "outputs": [
    {
     "name": "stdout",
     "output_type": "stream",
     "text": [
      "Tensor(\"model_8/dense_36/BiasAdd:0\", shape=(?, 1), dtype=float32) <class 'tensorflow.python.framework.ops.Tensor'>\n",
      "\n",
      "[<tf.Variable 'dense_28/kernel:0' shape=(2, 8) dtype=float32_ref>, <tf.Variable 'dense_28/bias:0' shape=(8,) dtype=float32_ref>, <tf.Variable 'dense_29/kernel:0' shape=(8, 8) dtype=float32_ref>, <tf.Variable 'dense_29/bias:0' shape=(8,) dtype=float32_ref>, <tf.Variable 'dense_30/kernel:0' shape=(8, 1) dtype=float32_ref>, <tf.Variable 'dense_30/bias:0' shape=(1,) dtype=float32_ref>]\n",
      "\n",
      "[<tf.Variable 'dense_31/kernel:0' shape=(2, 8) dtype=float32_ref>, <tf.Variable 'dense_31/bias:0' shape=(8,) dtype=float32_ref>, <tf.Variable 'dense_32/kernel:0' shape=(8, 8) dtype=float32_ref>, <tf.Variable 'dense_32/bias:0' shape=(8,) dtype=float32_ref>, <tf.Variable 'dense_33/kernel:0' shape=(8, 1) dtype=float32_ref>, <tf.Variable 'dense_33/bias:0' shape=(1,) dtype=float32_ref>]\n",
      "\n",
      "[<tf.Tensor 'AssignAdd_6:0' shape=() dtype=int64_ref>, <tf.Tensor 'Assign_216:0' shape=(2, 8) dtype=float32_ref>, <tf.Tensor 'Assign_217:0' shape=(2, 8) dtype=float32_ref>, <tf.Tensor 'Assign_218:0' shape=(2, 8) dtype=float32_ref>, <tf.Tensor 'Assign_219:0' shape=(8,) dtype=float32_ref>, <tf.Tensor 'Assign_220:0' shape=(8,) dtype=float32_ref>, <tf.Tensor 'Assign_221:0' shape=(8,) dtype=float32_ref>, <tf.Tensor 'Assign_222:0' shape=(8, 8) dtype=float32_ref>, <tf.Tensor 'Assign_223:0' shape=(8, 8) dtype=float32_ref>, <tf.Tensor 'Assign_224:0' shape=(8, 8) dtype=float32_ref>, <tf.Tensor 'Assign_225:0' shape=(8,) dtype=float32_ref>, <tf.Tensor 'Assign_226:0' shape=(8,) dtype=float32_ref>, <tf.Tensor 'Assign_227:0' shape=(8,) dtype=float32_ref>, <tf.Tensor 'Assign_228:0' shape=(8, 1) dtype=float32_ref>, <tf.Tensor 'Assign_229:0' shape=(8, 1) dtype=float32_ref>, <tf.Tensor 'Assign_230:0' shape=(8, 1) dtype=float32_ref>, <tf.Tensor 'Assign_231:0' shape=(1,) dtype=float32_ref>, <tf.Tensor 'Assign_232:0' shape=(1,) dtype=float32_ref>, <tf.Tensor 'Assign_233:0' shape=(1,) dtype=float32_ref>, <tf.Tensor 'AssignAdd_7:0' shape=() dtype=int64_ref>, <tf.Tensor 'Assign_234:0' shape=(2, 8) dtype=float32_ref>, <tf.Tensor 'Assign_235:0' shape=(2, 8) dtype=float32_ref>, <tf.Tensor 'Assign_236:0' shape=(2, 8) dtype=float32_ref>, <tf.Tensor 'Assign_237:0' shape=(8,) dtype=float32_ref>, <tf.Tensor 'Assign_238:0' shape=(8,) dtype=float32_ref>, <tf.Tensor 'Assign_239:0' shape=(8,) dtype=float32_ref>, <tf.Tensor 'Assign_240:0' shape=(8, 8) dtype=float32_ref>, <tf.Tensor 'Assign_241:0' shape=(8, 8) dtype=float32_ref>, <tf.Tensor 'Assign_242:0' shape=(8, 8) dtype=float32_ref>, <tf.Tensor 'Assign_243:0' shape=(8,) dtype=float32_ref>, <tf.Tensor 'Assign_244:0' shape=(8,) dtype=float32_ref>, <tf.Tensor 'Assign_245:0' shape=(8,) dtype=float32_ref>, <tf.Tensor 'Assign_246:0' shape=(8, 1) dtype=float32_ref>, <tf.Tensor 'Assign_247:0' shape=(8, 1) dtype=float32_ref>, <tf.Tensor 'Assign_248:0' shape=(8, 1) dtype=float32_ref>, <tf.Tensor 'Assign_249:0' shape=(1,) dtype=float32_ref>, <tf.Tensor 'Assign_250:0' shape=(1,) dtype=float32_ref>, <tf.Tensor 'Assign_251:0' shape=(1,) dtype=float32_ref>, (<tf.Variable 'dense_28_1/kernel:0' shape=(2, 8) dtype=float32_ref>, <tf.Tensor 'add_260:0' shape=(2, 8) dtype=float32>), (<tf.Variable 'dense_28_1/bias:0' shape=(8,) dtype=float32_ref>, <tf.Tensor 'add_261:0' shape=(8,) dtype=float32>), (<tf.Variable 'dense_31_1/kernel:0' shape=(2, 8) dtype=float32_ref>, <tf.Tensor 'add_262:0' shape=(2, 8) dtype=float32>), (<tf.Variable 'dense_31_1/bias:0' shape=(8,) dtype=float32_ref>, <tf.Tensor 'add_263:0' shape=(8,) dtype=float32>), (<tf.Variable 'dense_29_1/kernel:0' shape=(8, 8) dtype=float32_ref>, <tf.Tensor 'add_264:0' shape=(8, 8) dtype=float32>), (<tf.Variable 'dense_29_1/bias:0' shape=(8,) dtype=float32_ref>, <tf.Tensor 'add_265:0' shape=(8,) dtype=float32>), (<tf.Variable 'dense_32_1/kernel:0' shape=(8, 8) dtype=float32_ref>, <tf.Tensor 'add_266:0' shape=(8, 8) dtype=float32>), (<tf.Variable 'dense_32_1/bias:0' shape=(8,) dtype=float32_ref>, <tf.Tensor 'add_267:0' shape=(8,) dtype=float32>), (<tf.Variable 'dense_30_1/kernel:0' shape=(8, 1) dtype=float32_ref>, <tf.Tensor 'add_268:0' shape=(8, 1) dtype=float32>), (<tf.Variable 'dense_30_1/bias:0' shape=(1,) dtype=float32_ref>, <tf.Tensor 'add_269:0' shape=(1,) dtype=float32>), (<tf.Variable 'dense_33_1/kernel:0' shape=(8, 1) dtype=float32_ref>, <tf.Tensor 'add_270:0' shape=(8, 1) dtype=float32>), (<tf.Variable 'dense_33_1/bias:0' shape=(1,) dtype=float32_ref>, <tf.Tensor 'add_271:0' shape=(1,) dtype=float32>)]\n"
     ]
    }
   ],
   "source": [
    "import keras2.backend.tensorflow_backend as K\n",
    "print(ag.check_ibuki[0], type(ag.check_ibuki[0])) # combined_output\n",
    "print()\n",
    "print(ag.check_ibuki[1]) # action_tw\n",
    "print()\n",
    "print(ag.check_ibuki[2]) # tau_tw"
   ]
  },
  {
   "cell_type": "code",
   "execution_count": 30,
   "metadata": {},
   "outputs": [
    {
     "name": "stdout",
     "output_type": "stream",
     "text": [
      "Tensor(\"AssignAdd_6:0\", shape=(), dtype=int64_ref) <class 'tensorflow.python.framework.ops.Tensor'>\n",
      "Tensor(\"Assign_216:0\", shape=(2, 8), dtype=float32_ref) <class 'tensorflow.python.framework.ops.Tensor'>\n",
      "Tensor(\"Assign_217:0\", shape=(2, 8), dtype=float32_ref) <class 'tensorflow.python.framework.ops.Tensor'>\n",
      "Tensor(\"Assign_218:0\", shape=(2, 8), dtype=float32_ref) <class 'tensorflow.python.framework.ops.Tensor'>\n",
      "Tensor(\"Assign_219:0\", shape=(8,), dtype=float32_ref) <class 'tensorflow.python.framework.ops.Tensor'>\n",
      "Tensor(\"Assign_220:0\", shape=(8,), dtype=float32_ref) <class 'tensorflow.python.framework.ops.Tensor'>\n",
      "Tensor(\"Assign_221:0\", shape=(8,), dtype=float32_ref) <class 'tensorflow.python.framework.ops.Tensor'>\n",
      "Tensor(\"Assign_222:0\", shape=(8, 8), dtype=float32_ref) <class 'tensorflow.python.framework.ops.Tensor'>\n",
      "Tensor(\"Assign_223:0\", shape=(8, 8), dtype=float32_ref) <class 'tensorflow.python.framework.ops.Tensor'>\n",
      "Tensor(\"Assign_224:0\", shape=(8, 8), dtype=float32_ref) <class 'tensorflow.python.framework.ops.Tensor'>\n",
      "Tensor(\"Assign_225:0\", shape=(8,), dtype=float32_ref) <class 'tensorflow.python.framework.ops.Tensor'>\n",
      "Tensor(\"Assign_226:0\", shape=(8,), dtype=float32_ref) <class 'tensorflow.python.framework.ops.Tensor'>\n",
      "Tensor(\"Assign_227:0\", shape=(8,), dtype=float32_ref) <class 'tensorflow.python.framework.ops.Tensor'>\n",
      "Tensor(\"Assign_228:0\", shape=(8, 1), dtype=float32_ref) <class 'tensorflow.python.framework.ops.Tensor'>\n",
      "Tensor(\"Assign_229:0\", shape=(8, 1), dtype=float32_ref) <class 'tensorflow.python.framework.ops.Tensor'>\n",
      "Tensor(\"Assign_230:0\", shape=(8, 1), dtype=float32_ref) <class 'tensorflow.python.framework.ops.Tensor'>\n",
      "Tensor(\"Assign_231:0\", shape=(1,), dtype=float32_ref) <class 'tensorflow.python.framework.ops.Tensor'>\n",
      "Tensor(\"Assign_232:0\", shape=(1,), dtype=float32_ref) <class 'tensorflow.python.framework.ops.Tensor'>\n",
      "Tensor(\"Assign_233:0\", shape=(1,), dtype=float32_ref) <class 'tensorflow.python.framework.ops.Tensor'>\n",
      "Tensor(\"AssignAdd_7:0\", shape=(), dtype=int64_ref) <class 'tensorflow.python.framework.ops.Tensor'>\n",
      "Tensor(\"Assign_234:0\", shape=(2, 8), dtype=float32_ref) <class 'tensorflow.python.framework.ops.Tensor'>\n",
      "Tensor(\"Assign_235:0\", shape=(2, 8), dtype=float32_ref) <class 'tensorflow.python.framework.ops.Tensor'>\n",
      "Tensor(\"Assign_236:0\", shape=(2, 8), dtype=float32_ref) <class 'tensorflow.python.framework.ops.Tensor'>\n",
      "Tensor(\"Assign_237:0\", shape=(8,), dtype=float32_ref) <class 'tensorflow.python.framework.ops.Tensor'>\n",
      "Tensor(\"Assign_238:0\", shape=(8,), dtype=float32_ref) <class 'tensorflow.python.framework.ops.Tensor'>\n",
      "Tensor(\"Assign_239:0\", shape=(8,), dtype=float32_ref) <class 'tensorflow.python.framework.ops.Tensor'>\n",
      "Tensor(\"Assign_240:0\", shape=(8, 8), dtype=float32_ref) <class 'tensorflow.python.framework.ops.Tensor'>\n",
      "Tensor(\"Assign_241:0\", shape=(8, 8), dtype=float32_ref) <class 'tensorflow.python.framework.ops.Tensor'>\n",
      "Tensor(\"Assign_242:0\", shape=(8, 8), dtype=float32_ref) <class 'tensorflow.python.framework.ops.Tensor'>\n",
      "Tensor(\"Assign_243:0\", shape=(8,), dtype=float32_ref) <class 'tensorflow.python.framework.ops.Tensor'>\n",
      "Tensor(\"Assign_244:0\", shape=(8,), dtype=float32_ref) <class 'tensorflow.python.framework.ops.Tensor'>\n",
      "Tensor(\"Assign_245:0\", shape=(8,), dtype=float32_ref) <class 'tensorflow.python.framework.ops.Tensor'>\n",
      "Tensor(\"Assign_246:0\", shape=(8, 1), dtype=float32_ref) <class 'tensorflow.python.framework.ops.Tensor'>\n",
      "Tensor(\"Assign_247:0\", shape=(8, 1), dtype=float32_ref) <class 'tensorflow.python.framework.ops.Tensor'>\n",
      "Tensor(\"Assign_248:0\", shape=(8, 1), dtype=float32_ref) <class 'tensorflow.python.framework.ops.Tensor'>\n",
      "Tensor(\"Assign_249:0\", shape=(1,), dtype=float32_ref) <class 'tensorflow.python.framework.ops.Tensor'>\n",
      "Tensor(\"Assign_250:0\", shape=(1,), dtype=float32_ref) <class 'tensorflow.python.framework.ops.Tensor'>\n",
      "Tensor(\"Assign_251:0\", shape=(1,), dtype=float32_ref) <class 'tensorflow.python.framework.ops.Tensor'>\n",
      "(<tf.Variable 'dense_28_1/kernel:0' shape=(2, 8) dtype=float32_ref>, <tf.Tensor 'add_260:0' shape=(2, 8) dtype=float32>) <class 'tuple'>\n",
      "(<tf.Variable 'dense_28_1/bias:0' shape=(8,) dtype=float32_ref>, <tf.Tensor 'add_261:0' shape=(8,) dtype=float32>) <class 'tuple'>\n",
      "(<tf.Variable 'dense_31_1/kernel:0' shape=(2, 8) dtype=float32_ref>, <tf.Tensor 'add_262:0' shape=(2, 8) dtype=float32>) <class 'tuple'>\n",
      "(<tf.Variable 'dense_31_1/bias:0' shape=(8,) dtype=float32_ref>, <tf.Tensor 'add_263:0' shape=(8,) dtype=float32>) <class 'tuple'>\n",
      "(<tf.Variable 'dense_29_1/kernel:0' shape=(8, 8) dtype=float32_ref>, <tf.Tensor 'add_264:0' shape=(8, 8) dtype=float32>) <class 'tuple'>\n",
      "(<tf.Variable 'dense_29_1/bias:0' shape=(8,) dtype=float32_ref>, <tf.Tensor 'add_265:0' shape=(8,) dtype=float32>) <class 'tuple'>\n",
      "(<tf.Variable 'dense_32_1/kernel:0' shape=(8, 8) dtype=float32_ref>, <tf.Tensor 'add_266:0' shape=(8, 8) dtype=float32>) <class 'tuple'>\n",
      "(<tf.Variable 'dense_32_1/bias:0' shape=(8,) dtype=float32_ref>, <tf.Tensor 'add_267:0' shape=(8,) dtype=float32>) <class 'tuple'>\n",
      "(<tf.Variable 'dense_30_1/kernel:0' shape=(8, 1) dtype=float32_ref>, <tf.Tensor 'add_268:0' shape=(8, 1) dtype=float32>) <class 'tuple'>\n",
      "(<tf.Variable 'dense_30_1/bias:0' shape=(1,) dtype=float32_ref>, <tf.Tensor 'add_269:0' shape=(1,) dtype=float32>) <class 'tuple'>\n",
      "(<tf.Variable 'dense_33_1/kernel:0' shape=(8, 1) dtype=float32_ref>, <tf.Tensor 'add_270:0' shape=(8, 1) dtype=float32>) <class 'tuple'>\n",
      "(<tf.Variable 'dense_33_1/bias:0' shape=(1,) dtype=float32_ref>, <tf.Tensor 'add_271:0' shape=(1,) dtype=float32>) <class 'tuple'>\n"
     ]
    }
   ],
   "source": [
    "upd = ag.actor_updates\n",
    "for u in upd:\n",
    "    print(u, type(u))"
   ]
  },
  {
   "cell_type": "code",
   "execution_count": 6,
   "metadata": {},
   "outputs": [
    {
     "ename": "NameError",
     "evalue": "name 'l' is not defined",
     "output_type": "error",
     "traceback": [
      "\u001b[0;31m---------------------------------------------------------------------------\u001b[0m",
      "\u001b[0;31mNameError\u001b[0m                                 Traceback (most recent call last)",
      "\u001b[0;32m<ipython-input-6-eb55db1a5a4a>\u001b[0m in \u001b[0;36m<module>\u001b[0;34m\u001b[0m\n\u001b[1;32m     10\u001b[0m         \u001b[0mreward\u001b[0m \u001b[0;34m+=\u001b[0m \u001b[0mr\u001b[0m\u001b[0;34m\u001b[0m\u001b[0;34m\u001b[0m\u001b[0m\n\u001b[1;32m     11\u001b[0m     \u001b[0mreward\u001b[0m \u001b[0;34m*=\u001b[0m \u001b[0mdt\u001b[0m\u001b[0;34m\u001b[0m\u001b[0;34m\u001b[0m\u001b[0m\n\u001b[0;32m---> 12\u001b[0;31m     \u001b[0mreward\u001b[0m \u001b[0;34m+=\u001b[0m \u001b[0;34m-\u001b[0m \u001b[0;36m0.01\u001b[0m \u001b[0;34m*\u001b[0m \u001b[0ma_agent\u001b[0m\u001b[0;34m**\u001b[0m\u001b[0;36m2\u001b[0m \u001b[0;34m+\u001b[0m \u001b[0ml\u001b[0m \u001b[0;34m*\u001b[0m \u001b[0mtau\u001b[0m\u001b[0;34m\u001b[0m\u001b[0;34m\u001b[0m\u001b[0m\n\u001b[0m\u001b[1;32m     13\u001b[0m     \u001b[0mag\u001b[0m\u001b[0;34m.\u001b[0m\u001b[0mstep\u001b[0m \u001b[0;34m+=\u001b[0m \u001b[0;36m1\u001b[0m\u001b[0;34m\u001b[0m\u001b[0;34m\u001b[0m\u001b[0m\n\u001b[1;32m     14\u001b[0m     \u001b[0mag2\u001b[0m\u001b[0;34m.\u001b[0m\u001b[0mstep\u001b[0m \u001b[0;34m+=\u001b[0m \u001b[0;36m1\u001b[0m\u001b[0;34m\u001b[0m\u001b[0;34m\u001b[0m\u001b[0m\n",
      "\u001b[0;31mNameError\u001b[0m: name 'l' is not defined"
     ]
    }
   ],
   "source": [
    "# forward logic\n",
    "for _ in range(1000):\n",
    "    reward = 0\n",
    "    x = env.state\n",
    "    a_agent, tau = ag.forward(x)\n",
    "    action_repetition = int(np.ceil(200 * tau))  # minimum natural number which makes `dt` smaller than 0.005\n",
    "    dt = tau / action_repetition\n",
    "    for p in range(action_repetition):\n",
    "        _,_,r,_ = env.step(np.array([a_agent]), dt, tau)\n",
    "        reward += r\n",
    "    reward *= dt\n",
    "    reward += - 0.01 * a_agent**2 + l * tau\n",
    "    ag.step += 1\n",
    "    ag2.step += 1\n",
    "\n",
    "    ag.backward(reward)\n",
    "    ag2.backward(reward)"
   ]
  },
  {
   "cell_type": "code",
   "execution_count": 42,
   "metadata": {},
   "outputs": [
    {
     "name": "stdout",
     "output_type": "stream",
     "text": [
      "{'clipnorm': 1.0, 'lr': 0.10000000149011612, 'beta_1': 0.8999999761581421, 'beta_2': 0.9990000128746033, 'decay': 0.0, 'epsilon': 1e-07, 'amsgrad': False} {'clipnorm': 1.0, 'lr': 1.0000000116860974e-07, 'beta_1': 0.8999999761581421, 'beta_2': 0.9990000128746033, 'decay': 0.0, 'epsilon': 1e-07, 'amsgrad': False}\n",
      "[[-0.23801361  0.5826922 ]\n",
      " [-0.25703552  0.98969066]\n",
      " [ 0.3524211  -0.09759261]\n",
      " [ 1.0482242   0.880807  ]\n",
      " [ 1.3220664   0.7700371 ]\n",
      " [ 0.46805492  0.36902058]\n",
      " [ 0.22250193  0.8971902 ]\n",
      " [ 1.4886876   1.0580552 ]\n",
      " [-0.3471802   0.8712564 ]\n",
      " [ 0.22003923  1.1303307 ]\n",
      " [ 0.6352608   0.8395358 ]\n",
      " [ 0.5627207   0.03149625]\n",
      " [ 0.54934174  0.60261554]\n",
      " [-0.0168894   0.30663964]\n",
      " [ 1.5107838   1.2534057 ]\n",
      " [-0.21516564  0.49798295]]\n",
      "[[-0.23801361  0.5826922 ]\n",
      " [-0.25703552  0.98969066]\n",
      " [ 0.3524211  -0.09759261]\n",
      " [ 1.0482242   0.880807  ]\n",
      " [ 1.3220664   0.7700371 ]\n",
      " [ 0.46805492  0.36902058]\n",
      " [ 0.22250193  0.8971902 ]\n",
      " [ 1.4886876   1.0580552 ]\n",
      " [-0.3471802   0.8712564 ]\n",
      " [ 0.22003923  1.1303307 ]\n",
      " [ 0.6352608   0.8395358 ]\n",
      " [ 0.5627207   0.03149625]\n",
      " [ 0.54934174  0.60261554]\n",
      " [-0.0168894   0.30663964]\n",
      " [ 1.5107838   1.2534057 ]\n",
      " [-0.21516564  0.49798295]]\n",
      "5135028304 5135028304\n"
     ]
    }
   ],
   "source": [
    "print(ag.actor_optimizer.get_config(), ag2.actor_optimizer.get_config())\n",
    "print(ag.actor.layers[4].get_weights()[0])\n",
    "print(ag2.actor.layers[4].get_weights()[0])\n",
    "print(id(ag.actor_train_fn), id(ag.actor_train_fn))"
   ]
  },
  {
   "cell_type": "code",
   "execution_count": 40,
   "metadata": {},
   "outputs": [
    {
     "ename": "TypeError",
     "evalue": "can't pickle _thread.RLock objects",
     "output_type": "error",
     "traceback": [
      "\u001b[0;31m---------------------------------------------------------------------------\u001b[0m",
      "\u001b[0;31mTypeError\u001b[0m                                 Traceback (most recent call last)",
      "\u001b[0;32m<ipython-input-40-ea4805b4d68c>\u001b[0m in \u001b[0;36m<module>\u001b[0;34m\u001b[0m\n\u001b[0;32m----> 1\u001b[0;31m \u001b[0mkk\u001b[0m \u001b[0;34m=\u001b[0m \u001b[0mcopy\u001b[0m\u001b[0;34m.\u001b[0m\u001b[0mdeepcopy\u001b[0m\u001b[0;34m(\u001b[0m\u001b[0mag\u001b[0m\u001b[0;34m.\u001b[0m\u001b[0mactor_train_fn\u001b[0m\u001b[0;34m)\u001b[0m\u001b[0;34m\u001b[0m\u001b[0;34m\u001b[0m\u001b[0m\n\u001b[0m",
      "\u001b[0;32m~/.pyenv/versions/3.7.4/lib/python3.7/copy.py\u001b[0m in \u001b[0;36mdeepcopy\u001b[0;34m(x, memo, _nil)\u001b[0m\n\u001b[1;32m    178\u001b[0m                     \u001b[0my\u001b[0m \u001b[0;34m=\u001b[0m \u001b[0mx\u001b[0m\u001b[0;34m\u001b[0m\u001b[0;34m\u001b[0m\u001b[0m\n\u001b[1;32m    179\u001b[0m                 \u001b[0;32melse\u001b[0m\u001b[0;34m:\u001b[0m\u001b[0;34m\u001b[0m\u001b[0;34m\u001b[0m\u001b[0m\n\u001b[0;32m--> 180\u001b[0;31m                     \u001b[0my\u001b[0m \u001b[0;34m=\u001b[0m \u001b[0m_reconstruct\u001b[0m\u001b[0;34m(\u001b[0m\u001b[0mx\u001b[0m\u001b[0;34m,\u001b[0m \u001b[0mmemo\u001b[0m\u001b[0;34m,\u001b[0m \u001b[0;34m*\u001b[0m\u001b[0mrv\u001b[0m\u001b[0;34m)\u001b[0m\u001b[0;34m\u001b[0m\u001b[0;34m\u001b[0m\u001b[0m\n\u001b[0m\u001b[1;32m    181\u001b[0m \u001b[0;34m\u001b[0m\u001b[0m\n\u001b[1;32m    182\u001b[0m     \u001b[0;31m# If is its own copy, don't memoize.\u001b[0m\u001b[0;34m\u001b[0m\u001b[0;34m\u001b[0m\u001b[0;34m\u001b[0m\u001b[0m\n",
      "\u001b[0;32m~/.pyenv/versions/3.7.4/lib/python3.7/copy.py\u001b[0m in \u001b[0;36m_reconstruct\u001b[0;34m(x, memo, func, args, state, listiter, dictiter, deepcopy)\u001b[0m\n\u001b[1;32m    278\u001b[0m     \u001b[0;32mif\u001b[0m \u001b[0mstate\u001b[0m \u001b[0;32mis\u001b[0m \u001b[0;32mnot\u001b[0m \u001b[0;32mNone\u001b[0m\u001b[0;34m:\u001b[0m\u001b[0;34m\u001b[0m\u001b[0;34m\u001b[0m\u001b[0m\n\u001b[1;32m    279\u001b[0m         \u001b[0;32mif\u001b[0m \u001b[0mdeep\u001b[0m\u001b[0;34m:\u001b[0m\u001b[0;34m\u001b[0m\u001b[0;34m\u001b[0m\u001b[0m\n\u001b[0;32m--> 280\u001b[0;31m             \u001b[0mstate\u001b[0m \u001b[0;34m=\u001b[0m \u001b[0mdeepcopy\u001b[0m\u001b[0;34m(\u001b[0m\u001b[0mstate\u001b[0m\u001b[0;34m,\u001b[0m \u001b[0mmemo\u001b[0m\u001b[0;34m)\u001b[0m\u001b[0;34m\u001b[0m\u001b[0;34m\u001b[0m\u001b[0m\n\u001b[0m\u001b[1;32m    281\u001b[0m         \u001b[0;32mif\u001b[0m \u001b[0mhasattr\u001b[0m\u001b[0;34m(\u001b[0m\u001b[0my\u001b[0m\u001b[0;34m,\u001b[0m \u001b[0;34m'__setstate__'\u001b[0m\u001b[0;34m)\u001b[0m\u001b[0;34m:\u001b[0m\u001b[0;34m\u001b[0m\u001b[0;34m\u001b[0m\u001b[0m\n\u001b[1;32m    282\u001b[0m             \u001b[0my\u001b[0m\u001b[0;34m.\u001b[0m\u001b[0m__setstate__\u001b[0m\u001b[0;34m(\u001b[0m\u001b[0mstate\u001b[0m\u001b[0;34m)\u001b[0m\u001b[0;34m\u001b[0m\u001b[0;34m\u001b[0m\u001b[0m\n",
      "\u001b[0;32m~/.pyenv/versions/3.7.4/lib/python3.7/copy.py\u001b[0m in \u001b[0;36mdeepcopy\u001b[0;34m(x, memo, _nil)\u001b[0m\n\u001b[1;32m    148\u001b[0m     \u001b[0mcopier\u001b[0m \u001b[0;34m=\u001b[0m \u001b[0m_deepcopy_dispatch\u001b[0m\u001b[0;34m.\u001b[0m\u001b[0mget\u001b[0m\u001b[0;34m(\u001b[0m\u001b[0mcls\u001b[0m\u001b[0;34m)\u001b[0m\u001b[0;34m\u001b[0m\u001b[0;34m\u001b[0m\u001b[0m\n\u001b[1;32m    149\u001b[0m     \u001b[0;32mif\u001b[0m \u001b[0mcopier\u001b[0m\u001b[0;34m:\u001b[0m\u001b[0;34m\u001b[0m\u001b[0;34m\u001b[0m\u001b[0m\n\u001b[0;32m--> 150\u001b[0;31m         \u001b[0my\u001b[0m \u001b[0;34m=\u001b[0m \u001b[0mcopier\u001b[0m\u001b[0;34m(\u001b[0m\u001b[0mx\u001b[0m\u001b[0;34m,\u001b[0m \u001b[0mmemo\u001b[0m\u001b[0;34m)\u001b[0m\u001b[0;34m\u001b[0m\u001b[0;34m\u001b[0m\u001b[0m\n\u001b[0m\u001b[1;32m    151\u001b[0m     \u001b[0;32melse\u001b[0m\u001b[0;34m:\u001b[0m\u001b[0;34m\u001b[0m\u001b[0;34m\u001b[0m\u001b[0m\n\u001b[1;32m    152\u001b[0m         \u001b[0;32mtry\u001b[0m\u001b[0;34m:\u001b[0m\u001b[0;34m\u001b[0m\u001b[0;34m\u001b[0m\u001b[0m\n",
      "\u001b[0;32m~/.pyenv/versions/3.7.4/lib/python3.7/copy.py\u001b[0m in \u001b[0;36m_deepcopy_dict\u001b[0;34m(x, memo, deepcopy)\u001b[0m\n\u001b[1;32m    238\u001b[0m     \u001b[0mmemo\u001b[0m\u001b[0;34m[\u001b[0m\u001b[0mid\u001b[0m\u001b[0;34m(\u001b[0m\u001b[0mx\u001b[0m\u001b[0;34m)\u001b[0m\u001b[0;34m]\u001b[0m \u001b[0;34m=\u001b[0m \u001b[0my\u001b[0m\u001b[0;34m\u001b[0m\u001b[0;34m\u001b[0m\u001b[0m\n\u001b[1;32m    239\u001b[0m     \u001b[0;32mfor\u001b[0m \u001b[0mkey\u001b[0m\u001b[0;34m,\u001b[0m \u001b[0mvalue\u001b[0m \u001b[0;32min\u001b[0m \u001b[0mx\u001b[0m\u001b[0;34m.\u001b[0m\u001b[0mitems\u001b[0m\u001b[0;34m(\u001b[0m\u001b[0;34m)\u001b[0m\u001b[0;34m:\u001b[0m\u001b[0;34m\u001b[0m\u001b[0;34m\u001b[0m\u001b[0m\n\u001b[0;32m--> 240\u001b[0;31m         \u001b[0my\u001b[0m\u001b[0;34m[\u001b[0m\u001b[0mdeepcopy\u001b[0m\u001b[0;34m(\u001b[0m\u001b[0mkey\u001b[0m\u001b[0;34m,\u001b[0m \u001b[0mmemo\u001b[0m\u001b[0;34m)\u001b[0m\u001b[0;34m]\u001b[0m \u001b[0;34m=\u001b[0m \u001b[0mdeepcopy\u001b[0m\u001b[0;34m(\u001b[0m\u001b[0mvalue\u001b[0m\u001b[0;34m,\u001b[0m \u001b[0mmemo\u001b[0m\u001b[0;34m)\u001b[0m\u001b[0;34m\u001b[0m\u001b[0;34m\u001b[0m\u001b[0m\n\u001b[0m\u001b[1;32m    241\u001b[0m     \u001b[0;32mreturn\u001b[0m \u001b[0my\u001b[0m\u001b[0;34m\u001b[0m\u001b[0;34m\u001b[0m\u001b[0m\n\u001b[1;32m    242\u001b[0m \u001b[0md\u001b[0m\u001b[0;34m[\u001b[0m\u001b[0mdict\u001b[0m\u001b[0;34m]\u001b[0m \u001b[0;34m=\u001b[0m \u001b[0m_deepcopy_dict\u001b[0m\u001b[0;34m\u001b[0m\u001b[0;34m\u001b[0m\u001b[0m\n",
      "\u001b[0;32m~/.pyenv/versions/3.7.4/lib/python3.7/copy.py\u001b[0m in \u001b[0;36mdeepcopy\u001b[0;34m(x, memo, _nil)\u001b[0m\n\u001b[1;32m    148\u001b[0m     \u001b[0mcopier\u001b[0m \u001b[0;34m=\u001b[0m \u001b[0m_deepcopy_dispatch\u001b[0m\u001b[0;34m.\u001b[0m\u001b[0mget\u001b[0m\u001b[0;34m(\u001b[0m\u001b[0mcls\u001b[0m\u001b[0;34m)\u001b[0m\u001b[0;34m\u001b[0m\u001b[0;34m\u001b[0m\u001b[0m\n\u001b[1;32m    149\u001b[0m     \u001b[0;32mif\u001b[0m \u001b[0mcopier\u001b[0m\u001b[0;34m:\u001b[0m\u001b[0;34m\u001b[0m\u001b[0;34m\u001b[0m\u001b[0m\n\u001b[0;32m--> 150\u001b[0;31m         \u001b[0my\u001b[0m \u001b[0;34m=\u001b[0m \u001b[0mcopier\u001b[0m\u001b[0;34m(\u001b[0m\u001b[0mx\u001b[0m\u001b[0;34m,\u001b[0m \u001b[0mmemo\u001b[0m\u001b[0;34m)\u001b[0m\u001b[0;34m\u001b[0m\u001b[0;34m\u001b[0m\u001b[0m\n\u001b[0m\u001b[1;32m    151\u001b[0m     \u001b[0;32melse\u001b[0m\u001b[0;34m:\u001b[0m\u001b[0;34m\u001b[0m\u001b[0;34m\u001b[0m\u001b[0m\n\u001b[1;32m    152\u001b[0m         \u001b[0;32mtry\u001b[0m\u001b[0;34m:\u001b[0m\u001b[0;34m\u001b[0m\u001b[0;34m\u001b[0m\u001b[0m\n",
      "\u001b[0;32m~/.pyenv/versions/3.7.4/lib/python3.7/copy.py\u001b[0m in \u001b[0;36m_deepcopy_list\u001b[0;34m(x, memo, deepcopy)\u001b[0m\n\u001b[1;32m    213\u001b[0m     \u001b[0mappend\u001b[0m \u001b[0;34m=\u001b[0m \u001b[0my\u001b[0m\u001b[0;34m.\u001b[0m\u001b[0mappend\u001b[0m\u001b[0;34m\u001b[0m\u001b[0;34m\u001b[0m\u001b[0m\n\u001b[1;32m    214\u001b[0m     \u001b[0;32mfor\u001b[0m \u001b[0ma\u001b[0m \u001b[0;32min\u001b[0m \u001b[0mx\u001b[0m\u001b[0;34m:\u001b[0m\u001b[0;34m\u001b[0m\u001b[0;34m\u001b[0m\u001b[0m\n\u001b[0;32m--> 215\u001b[0;31m         \u001b[0mappend\u001b[0m\u001b[0;34m(\u001b[0m\u001b[0mdeepcopy\u001b[0m\u001b[0;34m(\u001b[0m\u001b[0ma\u001b[0m\u001b[0;34m,\u001b[0m \u001b[0mmemo\u001b[0m\u001b[0;34m)\u001b[0m\u001b[0;34m)\u001b[0m\u001b[0;34m\u001b[0m\u001b[0;34m\u001b[0m\u001b[0m\n\u001b[0m\u001b[1;32m    216\u001b[0m     \u001b[0;32mreturn\u001b[0m \u001b[0my\u001b[0m\u001b[0;34m\u001b[0m\u001b[0;34m\u001b[0m\u001b[0m\n\u001b[1;32m    217\u001b[0m \u001b[0md\u001b[0m\u001b[0;34m[\u001b[0m\u001b[0mlist\u001b[0m\u001b[0;34m]\u001b[0m \u001b[0;34m=\u001b[0m \u001b[0m_deepcopy_list\u001b[0m\u001b[0;34m\u001b[0m\u001b[0;34m\u001b[0m\u001b[0m\n",
      "\u001b[0;32m~/.pyenv/versions/3.7.4/lib/python3.7/copy.py\u001b[0m in \u001b[0;36mdeepcopy\u001b[0;34m(x, memo, _nil)\u001b[0m\n\u001b[1;32m    178\u001b[0m                     \u001b[0my\u001b[0m \u001b[0;34m=\u001b[0m \u001b[0mx\u001b[0m\u001b[0;34m\u001b[0m\u001b[0;34m\u001b[0m\u001b[0m\n\u001b[1;32m    179\u001b[0m                 \u001b[0;32melse\u001b[0m\u001b[0;34m:\u001b[0m\u001b[0;34m\u001b[0m\u001b[0;34m\u001b[0m\u001b[0m\n\u001b[0;32m--> 180\u001b[0;31m                     \u001b[0my\u001b[0m \u001b[0;34m=\u001b[0m \u001b[0m_reconstruct\u001b[0m\u001b[0;34m(\u001b[0m\u001b[0mx\u001b[0m\u001b[0;34m,\u001b[0m \u001b[0mmemo\u001b[0m\u001b[0;34m,\u001b[0m \u001b[0;34m*\u001b[0m\u001b[0mrv\u001b[0m\u001b[0;34m)\u001b[0m\u001b[0;34m\u001b[0m\u001b[0;34m\u001b[0m\u001b[0m\n\u001b[0m\u001b[1;32m    181\u001b[0m \u001b[0;34m\u001b[0m\u001b[0m\n\u001b[1;32m    182\u001b[0m     \u001b[0;31m# If is its own copy, don't memoize.\u001b[0m\u001b[0;34m\u001b[0m\u001b[0;34m\u001b[0m\u001b[0;34m\u001b[0m\u001b[0m\n",
      "\u001b[0;32m~/.pyenv/versions/3.7.4/lib/python3.7/copy.py\u001b[0m in \u001b[0;36m_reconstruct\u001b[0;34m(x, memo, func, args, state, listiter, dictiter, deepcopy)\u001b[0m\n\u001b[1;32m    278\u001b[0m     \u001b[0;32mif\u001b[0m \u001b[0mstate\u001b[0m \u001b[0;32mis\u001b[0m \u001b[0;32mnot\u001b[0m \u001b[0;32mNone\u001b[0m\u001b[0;34m:\u001b[0m\u001b[0;34m\u001b[0m\u001b[0;34m\u001b[0m\u001b[0m\n\u001b[1;32m    279\u001b[0m         \u001b[0;32mif\u001b[0m \u001b[0mdeep\u001b[0m\u001b[0;34m:\u001b[0m\u001b[0;34m\u001b[0m\u001b[0;34m\u001b[0m\u001b[0m\n\u001b[0;32m--> 280\u001b[0;31m             \u001b[0mstate\u001b[0m \u001b[0;34m=\u001b[0m \u001b[0mdeepcopy\u001b[0m\u001b[0;34m(\u001b[0m\u001b[0mstate\u001b[0m\u001b[0;34m,\u001b[0m \u001b[0mmemo\u001b[0m\u001b[0;34m)\u001b[0m\u001b[0;34m\u001b[0m\u001b[0;34m\u001b[0m\u001b[0m\n\u001b[0m\u001b[1;32m    281\u001b[0m         \u001b[0;32mif\u001b[0m \u001b[0mhasattr\u001b[0m\u001b[0;34m(\u001b[0m\u001b[0my\u001b[0m\u001b[0;34m,\u001b[0m \u001b[0;34m'__setstate__'\u001b[0m\u001b[0;34m)\u001b[0m\u001b[0;34m:\u001b[0m\u001b[0;34m\u001b[0m\u001b[0;34m\u001b[0m\u001b[0m\n\u001b[1;32m    282\u001b[0m             \u001b[0my\u001b[0m\u001b[0;34m.\u001b[0m\u001b[0m__setstate__\u001b[0m\u001b[0;34m(\u001b[0m\u001b[0mstate\u001b[0m\u001b[0;34m)\u001b[0m\u001b[0;34m\u001b[0m\u001b[0;34m\u001b[0m\u001b[0m\n",
      "\u001b[0;32m~/.pyenv/versions/3.7.4/lib/python3.7/copy.py\u001b[0m in \u001b[0;36mdeepcopy\u001b[0;34m(x, memo, _nil)\u001b[0m\n\u001b[1;32m    148\u001b[0m     \u001b[0mcopier\u001b[0m \u001b[0;34m=\u001b[0m \u001b[0m_deepcopy_dispatch\u001b[0m\u001b[0;34m.\u001b[0m\u001b[0mget\u001b[0m\u001b[0;34m(\u001b[0m\u001b[0mcls\u001b[0m\u001b[0;34m)\u001b[0m\u001b[0;34m\u001b[0m\u001b[0;34m\u001b[0m\u001b[0m\n\u001b[1;32m    149\u001b[0m     \u001b[0;32mif\u001b[0m \u001b[0mcopier\u001b[0m\u001b[0;34m:\u001b[0m\u001b[0;34m\u001b[0m\u001b[0;34m\u001b[0m\u001b[0m\n\u001b[0;32m--> 150\u001b[0;31m         \u001b[0my\u001b[0m \u001b[0;34m=\u001b[0m \u001b[0mcopier\u001b[0m\u001b[0;34m(\u001b[0m\u001b[0mx\u001b[0m\u001b[0;34m,\u001b[0m \u001b[0mmemo\u001b[0m\u001b[0;34m)\u001b[0m\u001b[0;34m\u001b[0m\u001b[0;34m\u001b[0m\u001b[0m\n\u001b[0m\u001b[1;32m    151\u001b[0m     \u001b[0;32melse\u001b[0m\u001b[0;34m:\u001b[0m\u001b[0;34m\u001b[0m\u001b[0;34m\u001b[0m\u001b[0m\n\u001b[1;32m    152\u001b[0m         \u001b[0;32mtry\u001b[0m\u001b[0;34m:\u001b[0m\u001b[0;34m\u001b[0m\u001b[0;34m\u001b[0m\u001b[0m\n",
      "\u001b[0;32m~/.pyenv/versions/3.7.4/lib/python3.7/copy.py\u001b[0m in \u001b[0;36m_deepcopy_dict\u001b[0;34m(x, memo, deepcopy)\u001b[0m\n\u001b[1;32m    238\u001b[0m     \u001b[0mmemo\u001b[0m\u001b[0;34m[\u001b[0m\u001b[0mid\u001b[0m\u001b[0;34m(\u001b[0m\u001b[0mx\u001b[0m\u001b[0;34m)\u001b[0m\u001b[0;34m]\u001b[0m \u001b[0;34m=\u001b[0m \u001b[0my\u001b[0m\u001b[0;34m\u001b[0m\u001b[0;34m\u001b[0m\u001b[0m\n\u001b[1;32m    239\u001b[0m     \u001b[0;32mfor\u001b[0m \u001b[0mkey\u001b[0m\u001b[0;34m,\u001b[0m \u001b[0mvalue\u001b[0m \u001b[0;32min\u001b[0m \u001b[0mx\u001b[0m\u001b[0;34m.\u001b[0m\u001b[0mitems\u001b[0m\u001b[0;34m(\u001b[0m\u001b[0;34m)\u001b[0m\u001b[0;34m:\u001b[0m\u001b[0;34m\u001b[0m\u001b[0;34m\u001b[0m\u001b[0m\n\u001b[0;32m--> 240\u001b[0;31m         \u001b[0my\u001b[0m\u001b[0;34m[\u001b[0m\u001b[0mdeepcopy\u001b[0m\u001b[0;34m(\u001b[0m\u001b[0mkey\u001b[0m\u001b[0;34m,\u001b[0m \u001b[0mmemo\u001b[0m\u001b[0;34m)\u001b[0m\u001b[0;34m]\u001b[0m \u001b[0;34m=\u001b[0m \u001b[0mdeepcopy\u001b[0m\u001b[0;34m(\u001b[0m\u001b[0mvalue\u001b[0m\u001b[0;34m,\u001b[0m \u001b[0mmemo\u001b[0m\u001b[0;34m)\u001b[0m\u001b[0;34m\u001b[0m\u001b[0;34m\u001b[0m\u001b[0m\n\u001b[0m\u001b[1;32m    241\u001b[0m     \u001b[0;32mreturn\u001b[0m \u001b[0my\u001b[0m\u001b[0;34m\u001b[0m\u001b[0;34m\u001b[0m\u001b[0m\n\u001b[1;32m    242\u001b[0m \u001b[0md\u001b[0m\u001b[0;34m[\u001b[0m\u001b[0mdict\u001b[0m\u001b[0;34m]\u001b[0m \u001b[0;34m=\u001b[0m \u001b[0m_deepcopy_dict\u001b[0m\u001b[0;34m\u001b[0m\u001b[0;34m\u001b[0m\u001b[0m\n",
      "\u001b[0;32m~/.pyenv/versions/3.7.4/lib/python3.7/copy.py\u001b[0m in \u001b[0;36mdeepcopy\u001b[0;34m(x, memo, _nil)\u001b[0m\n\u001b[1;32m    178\u001b[0m                     \u001b[0my\u001b[0m \u001b[0;34m=\u001b[0m \u001b[0mx\u001b[0m\u001b[0;34m\u001b[0m\u001b[0;34m\u001b[0m\u001b[0m\n\u001b[1;32m    179\u001b[0m                 \u001b[0;32melse\u001b[0m\u001b[0;34m:\u001b[0m\u001b[0;34m\u001b[0m\u001b[0;34m\u001b[0m\u001b[0m\n\u001b[0;32m--> 180\u001b[0;31m                     \u001b[0my\u001b[0m \u001b[0;34m=\u001b[0m \u001b[0m_reconstruct\u001b[0m\u001b[0;34m(\u001b[0m\u001b[0mx\u001b[0m\u001b[0;34m,\u001b[0m \u001b[0mmemo\u001b[0m\u001b[0;34m,\u001b[0m \u001b[0;34m*\u001b[0m\u001b[0mrv\u001b[0m\u001b[0;34m)\u001b[0m\u001b[0;34m\u001b[0m\u001b[0;34m\u001b[0m\u001b[0m\n\u001b[0m\u001b[1;32m    181\u001b[0m \u001b[0;34m\u001b[0m\u001b[0m\n\u001b[1;32m    182\u001b[0m     \u001b[0;31m# If is its own copy, don't memoize.\u001b[0m\u001b[0;34m\u001b[0m\u001b[0;34m\u001b[0m\u001b[0;34m\u001b[0m\u001b[0m\n",
      "\u001b[0;32m~/.pyenv/versions/3.7.4/lib/python3.7/copy.py\u001b[0m in \u001b[0;36m_reconstruct\u001b[0;34m(x, memo, func, args, state, listiter, dictiter, deepcopy)\u001b[0m\n\u001b[1;32m    278\u001b[0m     \u001b[0;32mif\u001b[0m \u001b[0mstate\u001b[0m \u001b[0;32mis\u001b[0m \u001b[0;32mnot\u001b[0m \u001b[0;32mNone\u001b[0m\u001b[0;34m:\u001b[0m\u001b[0;34m\u001b[0m\u001b[0;34m\u001b[0m\u001b[0m\n\u001b[1;32m    279\u001b[0m         \u001b[0;32mif\u001b[0m \u001b[0mdeep\u001b[0m\u001b[0;34m:\u001b[0m\u001b[0;34m\u001b[0m\u001b[0;34m\u001b[0m\u001b[0m\n\u001b[0;32m--> 280\u001b[0;31m             \u001b[0mstate\u001b[0m \u001b[0;34m=\u001b[0m \u001b[0mdeepcopy\u001b[0m\u001b[0;34m(\u001b[0m\u001b[0mstate\u001b[0m\u001b[0;34m,\u001b[0m \u001b[0mmemo\u001b[0m\u001b[0;34m)\u001b[0m\u001b[0;34m\u001b[0m\u001b[0;34m\u001b[0m\u001b[0m\n\u001b[0m\u001b[1;32m    281\u001b[0m         \u001b[0;32mif\u001b[0m \u001b[0mhasattr\u001b[0m\u001b[0;34m(\u001b[0m\u001b[0my\u001b[0m\u001b[0;34m,\u001b[0m \u001b[0;34m'__setstate__'\u001b[0m\u001b[0;34m)\u001b[0m\u001b[0;34m:\u001b[0m\u001b[0;34m\u001b[0m\u001b[0;34m\u001b[0m\u001b[0m\n\u001b[1;32m    282\u001b[0m             \u001b[0my\u001b[0m\u001b[0;34m.\u001b[0m\u001b[0m__setstate__\u001b[0m\u001b[0;34m(\u001b[0m\u001b[0mstate\u001b[0m\u001b[0;34m)\u001b[0m\u001b[0;34m\u001b[0m\u001b[0;34m\u001b[0m\u001b[0m\n",
      "\u001b[0;32m~/.pyenv/versions/3.7.4/lib/python3.7/copy.py\u001b[0m in \u001b[0;36mdeepcopy\u001b[0;34m(x, memo, _nil)\u001b[0m\n\u001b[1;32m    148\u001b[0m     \u001b[0mcopier\u001b[0m \u001b[0;34m=\u001b[0m \u001b[0m_deepcopy_dispatch\u001b[0m\u001b[0;34m.\u001b[0m\u001b[0mget\u001b[0m\u001b[0;34m(\u001b[0m\u001b[0mcls\u001b[0m\u001b[0;34m)\u001b[0m\u001b[0;34m\u001b[0m\u001b[0;34m\u001b[0m\u001b[0m\n\u001b[1;32m    149\u001b[0m     \u001b[0;32mif\u001b[0m \u001b[0mcopier\u001b[0m\u001b[0;34m:\u001b[0m\u001b[0;34m\u001b[0m\u001b[0;34m\u001b[0m\u001b[0m\n\u001b[0;32m--> 150\u001b[0;31m         \u001b[0my\u001b[0m \u001b[0;34m=\u001b[0m \u001b[0mcopier\u001b[0m\u001b[0;34m(\u001b[0m\u001b[0mx\u001b[0m\u001b[0;34m,\u001b[0m \u001b[0mmemo\u001b[0m\u001b[0;34m)\u001b[0m\u001b[0;34m\u001b[0m\u001b[0;34m\u001b[0m\u001b[0m\n\u001b[0m\u001b[1;32m    151\u001b[0m     \u001b[0;32melse\u001b[0m\u001b[0;34m:\u001b[0m\u001b[0;34m\u001b[0m\u001b[0;34m\u001b[0m\u001b[0m\n\u001b[1;32m    152\u001b[0m         \u001b[0;32mtry\u001b[0m\u001b[0;34m:\u001b[0m\u001b[0;34m\u001b[0m\u001b[0;34m\u001b[0m\u001b[0m\n",
      "\u001b[0;32m~/.pyenv/versions/3.7.4/lib/python3.7/copy.py\u001b[0m in \u001b[0;36m_deepcopy_dict\u001b[0;34m(x, memo, deepcopy)\u001b[0m\n\u001b[1;32m    238\u001b[0m     \u001b[0mmemo\u001b[0m\u001b[0;34m[\u001b[0m\u001b[0mid\u001b[0m\u001b[0;34m(\u001b[0m\u001b[0mx\u001b[0m\u001b[0;34m)\u001b[0m\u001b[0;34m]\u001b[0m \u001b[0;34m=\u001b[0m \u001b[0my\u001b[0m\u001b[0;34m\u001b[0m\u001b[0;34m\u001b[0m\u001b[0m\n\u001b[1;32m    239\u001b[0m     \u001b[0;32mfor\u001b[0m \u001b[0mkey\u001b[0m\u001b[0;34m,\u001b[0m \u001b[0mvalue\u001b[0m \u001b[0;32min\u001b[0m \u001b[0mx\u001b[0m\u001b[0;34m.\u001b[0m\u001b[0mitems\u001b[0m\u001b[0;34m(\u001b[0m\u001b[0;34m)\u001b[0m\u001b[0;34m:\u001b[0m\u001b[0;34m\u001b[0m\u001b[0;34m\u001b[0m\u001b[0m\n\u001b[0;32m--> 240\u001b[0;31m         \u001b[0my\u001b[0m\u001b[0;34m[\u001b[0m\u001b[0mdeepcopy\u001b[0m\u001b[0;34m(\u001b[0m\u001b[0mkey\u001b[0m\u001b[0;34m,\u001b[0m \u001b[0mmemo\u001b[0m\u001b[0;34m)\u001b[0m\u001b[0;34m]\u001b[0m \u001b[0;34m=\u001b[0m \u001b[0mdeepcopy\u001b[0m\u001b[0;34m(\u001b[0m\u001b[0mvalue\u001b[0m\u001b[0;34m,\u001b[0m \u001b[0mmemo\u001b[0m\u001b[0;34m)\u001b[0m\u001b[0;34m\u001b[0m\u001b[0;34m\u001b[0m\u001b[0m\n\u001b[0m\u001b[1;32m    241\u001b[0m     \u001b[0;32mreturn\u001b[0m \u001b[0my\u001b[0m\u001b[0;34m\u001b[0m\u001b[0;34m\u001b[0m\u001b[0m\n\u001b[1;32m    242\u001b[0m \u001b[0md\u001b[0m\u001b[0;34m[\u001b[0m\u001b[0mdict\u001b[0m\u001b[0;34m]\u001b[0m \u001b[0;34m=\u001b[0m \u001b[0m_deepcopy_dict\u001b[0m\u001b[0;34m\u001b[0m\u001b[0;34m\u001b[0m\u001b[0m\n",
      "\u001b[0;32m~/.pyenv/versions/3.7.4/lib/python3.7/copy.py\u001b[0m in \u001b[0;36mdeepcopy\u001b[0;34m(x, memo, _nil)\u001b[0m\n\u001b[1;32m    178\u001b[0m                     \u001b[0my\u001b[0m \u001b[0;34m=\u001b[0m \u001b[0mx\u001b[0m\u001b[0;34m\u001b[0m\u001b[0;34m\u001b[0m\u001b[0m\n\u001b[1;32m    179\u001b[0m                 \u001b[0;32melse\u001b[0m\u001b[0;34m:\u001b[0m\u001b[0;34m\u001b[0m\u001b[0;34m\u001b[0m\u001b[0m\n\u001b[0;32m--> 180\u001b[0;31m                     \u001b[0my\u001b[0m \u001b[0;34m=\u001b[0m \u001b[0m_reconstruct\u001b[0m\u001b[0;34m(\u001b[0m\u001b[0mx\u001b[0m\u001b[0;34m,\u001b[0m \u001b[0mmemo\u001b[0m\u001b[0;34m,\u001b[0m \u001b[0;34m*\u001b[0m\u001b[0mrv\u001b[0m\u001b[0;34m)\u001b[0m\u001b[0;34m\u001b[0m\u001b[0;34m\u001b[0m\u001b[0m\n\u001b[0m\u001b[1;32m    181\u001b[0m \u001b[0;34m\u001b[0m\u001b[0m\n\u001b[1;32m    182\u001b[0m     \u001b[0;31m# If is its own copy, don't memoize.\u001b[0m\u001b[0;34m\u001b[0m\u001b[0;34m\u001b[0m\u001b[0;34m\u001b[0m\u001b[0m\n",
      "\u001b[0;32m~/.pyenv/versions/3.7.4/lib/python3.7/copy.py\u001b[0m in \u001b[0;36m_reconstruct\u001b[0;34m(x, memo, func, args, state, listiter, dictiter, deepcopy)\u001b[0m\n\u001b[1;32m    278\u001b[0m     \u001b[0;32mif\u001b[0m \u001b[0mstate\u001b[0m \u001b[0;32mis\u001b[0m \u001b[0;32mnot\u001b[0m \u001b[0;32mNone\u001b[0m\u001b[0;34m:\u001b[0m\u001b[0;34m\u001b[0m\u001b[0;34m\u001b[0m\u001b[0m\n\u001b[1;32m    279\u001b[0m         \u001b[0;32mif\u001b[0m \u001b[0mdeep\u001b[0m\u001b[0;34m:\u001b[0m\u001b[0;34m\u001b[0m\u001b[0;34m\u001b[0m\u001b[0m\n\u001b[0;32m--> 280\u001b[0;31m             \u001b[0mstate\u001b[0m \u001b[0;34m=\u001b[0m \u001b[0mdeepcopy\u001b[0m\u001b[0;34m(\u001b[0m\u001b[0mstate\u001b[0m\u001b[0;34m,\u001b[0m \u001b[0mmemo\u001b[0m\u001b[0;34m)\u001b[0m\u001b[0;34m\u001b[0m\u001b[0;34m\u001b[0m\u001b[0m\n\u001b[0m\u001b[1;32m    281\u001b[0m         \u001b[0;32mif\u001b[0m \u001b[0mhasattr\u001b[0m\u001b[0;34m(\u001b[0m\u001b[0my\u001b[0m\u001b[0;34m,\u001b[0m \u001b[0;34m'__setstate__'\u001b[0m\u001b[0;34m)\u001b[0m\u001b[0;34m:\u001b[0m\u001b[0;34m\u001b[0m\u001b[0;34m\u001b[0m\u001b[0m\n\u001b[1;32m    282\u001b[0m             \u001b[0my\u001b[0m\u001b[0;34m.\u001b[0m\u001b[0m__setstate__\u001b[0m\u001b[0;34m(\u001b[0m\u001b[0mstate\u001b[0m\u001b[0;34m)\u001b[0m\u001b[0;34m\u001b[0m\u001b[0;34m\u001b[0m\u001b[0m\n",
      "\u001b[0;32m~/.pyenv/versions/3.7.4/lib/python3.7/copy.py\u001b[0m in \u001b[0;36mdeepcopy\u001b[0;34m(x, memo, _nil)\u001b[0m\n\u001b[1;32m    148\u001b[0m     \u001b[0mcopier\u001b[0m \u001b[0;34m=\u001b[0m \u001b[0m_deepcopy_dispatch\u001b[0m\u001b[0;34m.\u001b[0m\u001b[0mget\u001b[0m\u001b[0;34m(\u001b[0m\u001b[0mcls\u001b[0m\u001b[0;34m)\u001b[0m\u001b[0;34m\u001b[0m\u001b[0;34m\u001b[0m\u001b[0m\n\u001b[1;32m    149\u001b[0m     \u001b[0;32mif\u001b[0m \u001b[0mcopier\u001b[0m\u001b[0;34m:\u001b[0m\u001b[0;34m\u001b[0m\u001b[0;34m\u001b[0m\u001b[0m\n\u001b[0;32m--> 150\u001b[0;31m         \u001b[0my\u001b[0m \u001b[0;34m=\u001b[0m \u001b[0mcopier\u001b[0m\u001b[0;34m(\u001b[0m\u001b[0mx\u001b[0m\u001b[0;34m,\u001b[0m \u001b[0mmemo\u001b[0m\u001b[0;34m)\u001b[0m\u001b[0;34m\u001b[0m\u001b[0;34m\u001b[0m\u001b[0m\n\u001b[0m\u001b[1;32m    151\u001b[0m     \u001b[0;32melse\u001b[0m\u001b[0;34m:\u001b[0m\u001b[0;34m\u001b[0m\u001b[0;34m\u001b[0m\u001b[0m\n\u001b[1;32m    152\u001b[0m         \u001b[0;32mtry\u001b[0m\u001b[0;34m:\u001b[0m\u001b[0;34m\u001b[0m\u001b[0;34m\u001b[0m\u001b[0m\n",
      "\u001b[0;32m~/.pyenv/versions/3.7.4/lib/python3.7/copy.py\u001b[0m in \u001b[0;36m_deepcopy_dict\u001b[0;34m(x, memo, deepcopy)\u001b[0m\n\u001b[1;32m    238\u001b[0m     \u001b[0mmemo\u001b[0m\u001b[0;34m[\u001b[0m\u001b[0mid\u001b[0m\u001b[0;34m(\u001b[0m\u001b[0mx\u001b[0m\u001b[0;34m)\u001b[0m\u001b[0;34m]\u001b[0m \u001b[0;34m=\u001b[0m \u001b[0my\u001b[0m\u001b[0;34m\u001b[0m\u001b[0;34m\u001b[0m\u001b[0m\n\u001b[1;32m    239\u001b[0m     \u001b[0;32mfor\u001b[0m \u001b[0mkey\u001b[0m\u001b[0;34m,\u001b[0m \u001b[0mvalue\u001b[0m \u001b[0;32min\u001b[0m \u001b[0mx\u001b[0m\u001b[0;34m.\u001b[0m\u001b[0mitems\u001b[0m\u001b[0;34m(\u001b[0m\u001b[0;34m)\u001b[0m\u001b[0;34m:\u001b[0m\u001b[0;34m\u001b[0m\u001b[0;34m\u001b[0m\u001b[0m\n\u001b[0;32m--> 240\u001b[0;31m         \u001b[0my\u001b[0m\u001b[0;34m[\u001b[0m\u001b[0mdeepcopy\u001b[0m\u001b[0;34m(\u001b[0m\u001b[0mkey\u001b[0m\u001b[0;34m,\u001b[0m \u001b[0mmemo\u001b[0m\u001b[0;34m)\u001b[0m\u001b[0;34m]\u001b[0m \u001b[0;34m=\u001b[0m \u001b[0mdeepcopy\u001b[0m\u001b[0;34m(\u001b[0m\u001b[0mvalue\u001b[0m\u001b[0;34m,\u001b[0m \u001b[0mmemo\u001b[0m\u001b[0;34m)\u001b[0m\u001b[0;34m\u001b[0m\u001b[0;34m\u001b[0m\u001b[0m\n\u001b[0m\u001b[1;32m    241\u001b[0m     \u001b[0;32mreturn\u001b[0m \u001b[0my\u001b[0m\u001b[0;34m\u001b[0m\u001b[0;34m\u001b[0m\u001b[0m\n\u001b[1;32m    242\u001b[0m \u001b[0md\u001b[0m\u001b[0;34m[\u001b[0m\u001b[0mdict\u001b[0m\u001b[0;34m]\u001b[0m \u001b[0;34m=\u001b[0m \u001b[0m_deepcopy_dict\u001b[0m\u001b[0;34m\u001b[0m\u001b[0;34m\u001b[0m\u001b[0m\n",
      "\u001b[0;32m~/.pyenv/versions/3.7.4/lib/python3.7/copy.py\u001b[0m in \u001b[0;36mdeepcopy\u001b[0;34m(x, memo, _nil)\u001b[0m\n\u001b[1;32m    167\u001b[0m                     \u001b[0mreductor\u001b[0m \u001b[0;34m=\u001b[0m \u001b[0mgetattr\u001b[0m\u001b[0;34m(\u001b[0m\u001b[0mx\u001b[0m\u001b[0;34m,\u001b[0m \u001b[0;34m\"__reduce_ex__\"\u001b[0m\u001b[0;34m,\u001b[0m \u001b[0;32mNone\u001b[0m\u001b[0;34m)\u001b[0m\u001b[0;34m\u001b[0m\u001b[0;34m\u001b[0m\u001b[0m\n\u001b[1;32m    168\u001b[0m                     \u001b[0;32mif\u001b[0m \u001b[0mreductor\u001b[0m\u001b[0;34m:\u001b[0m\u001b[0;34m\u001b[0m\u001b[0;34m\u001b[0m\u001b[0m\n\u001b[0;32m--> 169\u001b[0;31m                         \u001b[0mrv\u001b[0m \u001b[0;34m=\u001b[0m \u001b[0mreductor\u001b[0m\u001b[0;34m(\u001b[0m\u001b[0;36m4\u001b[0m\u001b[0;34m)\u001b[0m\u001b[0;34m\u001b[0m\u001b[0;34m\u001b[0m\u001b[0m\n\u001b[0m\u001b[1;32m    170\u001b[0m                     \u001b[0;32melse\u001b[0m\u001b[0;34m:\u001b[0m\u001b[0;34m\u001b[0m\u001b[0;34m\u001b[0m\u001b[0m\n\u001b[1;32m    171\u001b[0m                         \u001b[0mreductor\u001b[0m \u001b[0;34m=\u001b[0m \u001b[0mgetattr\u001b[0m\u001b[0;34m(\u001b[0m\u001b[0mx\u001b[0m\u001b[0;34m,\u001b[0m \u001b[0;34m\"__reduce__\"\u001b[0m\u001b[0;34m,\u001b[0m \u001b[0;32mNone\u001b[0m\u001b[0;34m)\u001b[0m\u001b[0;34m\u001b[0m\u001b[0;34m\u001b[0m\u001b[0m\n",
      "\u001b[0;31mTypeError\u001b[0m: can't pickle _thread.RLock objects"
     ]
    }
   ],
   "source": [
    "kk = copy.deepcopy(ag.actor_train_fn)"
   ]
  },
  {
   "cell_type": "code",
   "execution_count": 20,
   "metadata": {},
   "outputs": [
    {
     "ename": "AttributeError",
     "evalue": "module 'tensorflow' has no attribute 'python'",
     "output_type": "error",
     "traceback": [
      "\u001b[0;31m---------------------------------------------------------------------------\u001b[0m",
      "\u001b[0;31mAttributeError\u001b[0m                            Traceback (most recent call last)",
      "\u001b[0;32m<ipython-input-20-ef57cef4d3da>\u001b[0m in \u001b[0;36m<module>\u001b[0;34m\u001b[0m\n\u001b[1;32m      2\u001b[0m \u001b[0;32mimport\u001b[0m \u001b[0mtensorflow\u001b[0m \u001b[0;32mas\u001b[0m \u001b[0mtf\u001b[0m\u001b[0;34m\u001b[0m\u001b[0;34m\u001b[0m\u001b[0m\n\u001b[1;32m      3\u001b[0m \u001b[0;34m\u001b[0m\u001b[0m\n\u001b[0;32m----> 4\u001b[0;31m \u001b[0mmembers\u001b[0m \u001b[0;34m=\u001b[0m \u001b[0minspect\u001b[0m\u001b[0;34m.\u001b[0m\u001b[0mgetmembers\u001b[0m\u001b[0;34m(\u001b[0m\u001b[0mtf\u001b[0m\u001b[0;34m.\u001b[0m\u001b[0mpython\u001b[0m\u001b[0;34m.\u001b[0m\u001b[0mframework\u001b[0m\u001b[0;34m.\u001b[0m\u001b[0mops\u001b[0m\u001b[0;34m.\u001b[0m\u001b[0mTensor\u001b[0m\u001b[0;34m)\u001b[0m\u001b[0;34m\u001b[0m\u001b[0;34m\u001b[0m\u001b[0m\n\u001b[0m",
      "\u001b[0;32m~/.pyenv/versions/3.7.4/lib/python3.7/site-packages/tensorflow/python/util/deprecation_wrapper.py\u001b[0m in \u001b[0;36m__getattr__\u001b[0;34m(self, name)\u001b[0m\n\u001b[1;32m    104\u001b[0m     \u001b[0;32mif\u001b[0m \u001b[0mname\u001b[0m\u001b[0;34m.\u001b[0m\u001b[0mstartswith\u001b[0m\u001b[0;34m(\u001b[0m\u001b[0;34m'_dw_'\u001b[0m\u001b[0;34m)\u001b[0m\u001b[0;34m:\u001b[0m\u001b[0;34m\u001b[0m\u001b[0;34m\u001b[0m\u001b[0m\n\u001b[1;32m    105\u001b[0m       \u001b[0;32mraise\u001b[0m \u001b[0mAttributeError\u001b[0m\u001b[0;34m(\u001b[0m\u001b[0;34m'Accessing local variables before they are created.'\u001b[0m\u001b[0;34m)\u001b[0m\u001b[0;34m\u001b[0m\u001b[0;34m\u001b[0m\u001b[0m\n\u001b[0;32m--> 106\u001b[0;31m     \u001b[0mattr\u001b[0m \u001b[0;34m=\u001b[0m \u001b[0mgetattr\u001b[0m\u001b[0;34m(\u001b[0m\u001b[0mself\u001b[0m\u001b[0;34m.\u001b[0m\u001b[0m_dw_wrapped_module\u001b[0m\u001b[0;34m,\u001b[0m \u001b[0mname\u001b[0m\u001b[0;34m)\u001b[0m\u001b[0;34m\u001b[0m\u001b[0;34m\u001b[0m\u001b[0m\n\u001b[0m\u001b[1;32m    107\u001b[0m     if (self._dw_warning_count < _PER_MODULE_WARNING_LIMIT and\n\u001b[1;32m    108\u001b[0m         name not in self._dw_deprecated_printed):\n",
      "\u001b[0;31mAttributeError\u001b[0m: module 'tensorflow' has no attribute 'python'"
     ]
    }
   ],
   "source": [
    "import inspect\n",
    "import tensorflow as tf\n",
    "\n",
    "members = inspect.getmembers(tf.python.framework.ops.Tensor)"
   ]
  },
  {
   "cell_type": "code",
   "execution_count": 17,
   "metadata": {},
   "outputs": [
    {
     "name": "stdout",
     "output_type": "stream",
     "text": [
      "\n",
      "('__class__', <class 'gym2.wrappers.time_limit.TimeLimit2'>)\n",
      "\n",
      "('__delattr__', <method-wrapper '__delattr__' of TimeLimit2 object at 0x12fad0c90>)\n",
      "\n",
      "('__dict__', {'env': <gym2.envs.classic_control.pendulum2.PendulumEnv2 object at 0x12fad0a10>, 'action_space': Box(1,), 'observation_space': Box(3,), 'reward_range': (-inf, inf), 'metadata': {'render.modes': ['human', 'rgb_array'], 'video.frames_per_second': 30}, '_max_episode_steps': 20000000, '_elapsed_steps': None})\n",
      "\n",
      "('__dir__', <built-in method __dir__ of TimeLimit2 object at 0x12fad0c90>)\n",
      "\n",
      "('__doc__', None)\n",
      "\n",
      "('__enter__', <bound method Env.__enter__ of <TimeLimit2<PendulumEnv2<Pendulum-v2>>>>)\n",
      "\n",
      "('__eq__', <method-wrapper '__eq__' of TimeLimit2 object at 0x12fad0c90>)\n",
      "\n",
      "('__exit__', <bound method Env.__exit__ of <TimeLimit2<PendulumEnv2<Pendulum-v2>>>>)\n",
      "\n",
      "('__format__', <built-in method __format__ of TimeLimit2 object at 0x12fad0c90>)\n",
      "\n",
      "('__ge__', <method-wrapper '__ge__' of TimeLimit2 object at 0x12fad0c90>)\n",
      "\n",
      "('__getattr__', <bound method Wrapper.__getattr__ of <TimeLimit2<PendulumEnv2<Pendulum-v2>>>>)\n",
      "\n",
      "('__getattribute__', <method-wrapper '__getattribute__' of TimeLimit2 object at 0x12fad0c90>)\n",
      "\n",
      "('__gt__', <method-wrapper '__gt__' of TimeLimit2 object at 0x12fad0c90>)\n",
      "\n",
      "('__hash__', <method-wrapper '__hash__' of TimeLimit2 object at 0x12fad0c90>)\n",
      "\n",
      "('__init__', <bound method TimeLimit2.__init__ of <TimeLimit2<PendulumEnv2<Pendulum-v2>>>>)\n",
      "\n",
      "('__init_subclass__', <built-in method __init_subclass__ of type object at 0x7fb0504d7190>)\n",
      "\n",
      "('__le__', <method-wrapper '__le__' of TimeLimit2 object at 0x12fad0c90>)\n",
      "\n",
      "('__lt__', <method-wrapper '__lt__' of TimeLimit2 object at 0x12fad0c90>)\n",
      "\n",
      "('__module__', 'gym2.wrappers.time_limit')\n",
      "\n",
      "('__ne__', <method-wrapper '__ne__' of TimeLimit2 object at 0x12fad0c90>)\n",
      "\n",
      "('__new__', <built-in method __new__ of type object at 0x1047f22a0>)\n",
      "\n",
      "('__reduce__', <built-in method __reduce__ of TimeLimit2 object at 0x12fad0c90>)\n",
      "\n",
      "('__reduce_ex__', <built-in method __reduce_ex__ of TimeLimit2 object at 0x12fad0c90>)\n",
      "\n",
      "('__repr__', <bound method Wrapper.__repr__ of <TimeLimit2<PendulumEnv2<Pendulum-v2>>>>)\n",
      "\n",
      "('__setattr__', <method-wrapper '__setattr__' of TimeLimit2 object at 0x12fad0c90>)\n",
      "\n",
      "('__sizeof__', <built-in method __sizeof__ of TimeLimit2 object at 0x12fad0c90>)\n",
      "\n",
      "('__str__', <bound method Wrapper.__str__ of <TimeLimit2<PendulumEnv2<Pendulum-v2>>>>)\n",
      "\n",
      "('__subclasshook__', <built-in method __subclasshook__ of type object at 0x7fb0504d7190>)\n",
      "\n",
      "('__weakref__', None)\n",
      "\n",
      "('_elapsed_steps', None)\n",
      "\n",
      "('_max_episode_steps', 20000000)\n",
      "\n",
      "('action_space', Box(1,))\n",
      "\n",
      "('class_name', <bound method Wrapper.class_name of <class 'gym2.wrappers.time_limit.TimeLimit2'>>)\n",
      "\n",
      "('close', <bound method Wrapper.close of <TimeLimit2<PendulumEnv2<Pendulum-v2>>>>)\n",
      "\n",
      "('compute_reward', <bound method Wrapper.compute_reward of <TimeLimit2<PendulumEnv2<Pendulum-v2>>>>)\n",
      "\n",
      "('env', <gym2.envs.classic_control.pendulum2.PendulumEnv2 object at 0x12fad0a10>)\n",
      "\n",
      "('metadata', {'render.modes': ['human', 'rgb_array'], 'video.frames_per_second': 30})\n",
      "\n",
      "('observation_space', Box(3,))\n",
      "\n",
      "('render', <bound method Wrapper.render of <TimeLimit2<PendulumEnv2<Pendulum-v2>>>>)\n",
      "\n",
      "('reset', <bound method TimeLimit2.reset of <TimeLimit2<PendulumEnv2<Pendulum-v2>>>>)\n",
      "\n",
      "('reward_range', (-inf, inf))\n",
      "\n",
      "('seed', <bound method Wrapper.seed of <TimeLimit2<PendulumEnv2<Pendulum-v2>>>>)\n",
      "\n",
      "('spec', EnvSpec(Pendulum-v2))\n",
      "\n",
      "('step', <bound method TimeLimit2.step of <TimeLimit2<PendulumEnv2<Pendulum-v2>>>>)\n",
      "\n",
      "('unwrapped', <gym2.envs.classic_control.pendulum2.PendulumEnv2 object at 0x12fad0a10>)\n"
     ]
    }
   ],
   "source": [
    "for member in members:\n",
    "    print()\n",
    "    print(member)"
   ]
  },
  {
   "cell_type": "code",
   "execution_count": 25,
   "metadata": {},
   "outputs": [
    {
     "name": "stdout",
     "output_type": "stream",
     "text": [
      "Training for 200000 steps ...\n",
      "Interval 1 (0 steps performed)\n",
      "10000/10000 [==============================] - 82s 8ms/step - reward: 0.0049\n",
      "1 episodes - episode_reward: 47.816 [47.816, 47.816] - loss: 0.155 - mean_absolute_error: 0.389 - mean_q: 0.409\n",
      "\n",
      "Interval 2 (10000 steps performed)\n",
      "10000/10000 [==============================] - 94s 9ms/step - reward: 7.8778e-04\n",
      "35 episodes - episode_reward: -9999.769 [-9999.949, -9999.584] - loss: 0.145 - mean_absolute_error: 0.341 - mean_q: 3.090\n",
      "\n",
      "Interval 3 (20000 steps performed)\n",
      "10000/10000 [==============================] - 106s 11ms/step - reward: 7.4294e-04\n",
      "35 episodes - episode_reward: -9999.789 [-9999.889, -9999.632] - loss: 0.016 - mean_absolute_error: 0.048 - mean_q: 3.860\n",
      "\n",
      "Interval 4 (30000 steps performed)\n",
      "10000/10000 [==============================] - 94s 9ms/step - reward: 8.0336e-04\n",
      "35 episodes - episode_reward: -9999.770 [-9999.932, -9999.640] - loss: 0.012 - mean_absolute_error: 0.023 - mean_q: 3.771\n",
      "\n",
      "Interval 5 (40000 steps performed)\n",
      "10000/10000 [==============================] - 109s 11ms/step - reward: 6.8220e-04\n",
      "36 episodes - episode_reward: -9999.800 [-9999.963, -9999.672] - loss: 0.009 - mean_absolute_error: 0.017 - mean_q: 3.577\n",
      "\n",
      "Interval 6 (50000 steps performed)\n",
      "10000/10000 [==============================] - 118s 12ms/step - reward: 6.7191e-04\n",
      "35 episodes - episode_reward: -9999.810 [-9999.939, -9999.666] - loss: 0.006 - mean_absolute_error: 0.015 - mean_q: 3.397\n",
      "\n",
      "Interval 7 (60000 steps performed)\n",
      " 1929/10000 [====>.........................] - ETA: 1:21 - reward: 6.1447e-04done, took 623.401 seconds\n"
     ]
    }
   ],
   "source": [
    "#safe learning   \n",
    "l = 5.\n",
    "step = 200000  # num of interval\n",
    "episode_step = step\n",
    "a = agent((2,), (2,))\n",
    "a.compile(Adam(lr=1e-5, clipnorm=1.), metrics=[\"mae\"])\n",
    "a.actor.load_weights('./saved_agent/self_trigger.h5')\n",
    "# a.load_weights('../learned_models_vol2/0.5standup-agent.h5')\n",
    "# a.load_weights('../../learned_models_stab/lqr_optimal_agent.h5')\n",
    "out = a.fit(env, l=l, nb_steps=step, visualize=0, verbose=1, nb_max_episode_steps=episode_step)"
   ]
  },
  {
   "cell_type": "code",
   "execution_count": 15,
   "metadata": {},
   "outputs": [
    {
     "data": {
      "image/png": "[encoded data removed]",
      "text/plain": [
       "<Figure size 864x288 with 2 Axes>"
      ]
     },
     "metadata": {
      "needs_background": "light"
     },
     "output_type": "display_data"
    }
   ],
   "source": [
    "def rad_clip(th):\n",
    "    r = abs(th)\n",
    "    while r > np.pi:\n",
    "        r -= 2 * np.pi\n",
    "    th = np.sign(th) * r\n",
    "    return th\n",
    "\n",
    "l = 5.\n",
    "env.reset()\n",
    "states = []\n",
    "time_limit = 2\n",
    "time_log = []\n",
    "acc_time = 0\n",
    "episode_reward = 0\n",
    "while True:\n",
    "    reward = 0\n",
    "    x = env.state\n",
    "    states.append([rad_clip(x[0]), x[1]])\n",
    "    a_agent, tau = ag.forward(x)\n",
    "    acc_time += tau\n",
    "    time_log.append(acc_time)\n",
    "    action_repetition = int(np.ceil(200 * tau))  # minimum natural number which makes `dt` smaller than 0.005\n",
    "    dt = tau / action_repetition\n",
    "    # print(tau, dt, action_repetition)\n",
    "    for p in range(action_repetition):\n",
    "        _,_,r,_ = env.step(np.array([a_agent]), dt, tau)\n",
    "        reward += r\n",
    "    reward *= dt\n",
    "    reward += - 0.01 * a_agent**2 + l * tau\n",
    "    episode_reward += reward\n",
    "    if acc_time > time_limit:\n",
    "        break\n",
    "states = np.array(states)\n",
    "\n",
    "plt.figure(figsize=(12,4))\n",
    "plt.subplot(1,2,1)\n",
    "plt.xlabel('steps')\n",
    "plt.ylabel('theta')\n",
    "plt.plot(time_log, states[:,0])\n",
    "plt.subplot(1,2,2)\n",
    "plt.xlabel('steps')\n",
    "plt.ylabel('theta_dot')\n",
    "plt.plot(time_log, states[:,1])\n",
    "plt.show()"
   ]
  },
  {
   "cell_type": "code",
   "execution_count": 47,
   "metadata": {},
   "outputs": [
    {
     "ename": "NameError",
     "evalue": "name 'actor_updates' is not defined",
     "output_type": "error",
     "traceback": [
      "\u001b[0;31m---------------------------------------------------------------------------\u001b[0m",
      "\u001b[0;31mNameError\u001b[0m                                 Traceback (most recent call last)",
      "\u001b[0;32m<ipython-input-47-57de54d81dd4>\u001b[0m in \u001b[0;36m<module>\u001b[0;34m\u001b[0m\n\u001b[0;32m----> 1\u001b[0;31m \u001b[0mprint\u001b[0m\u001b[0;34m(\u001b[0m\u001b[0mactor_updates\u001b[0m\u001b[0;34m)\u001b[0m\u001b[0;34m\u001b[0m\u001b[0;34m\u001b[0m\u001b[0m\n\u001b[0m",
      "\u001b[0;31mNameError\u001b[0m: name 'actor_updates' is not defined"
     ]
    }
   ],
   "source": [
    "print(actor_updates)"
   ]
  },
  {
   "cell_type": "code",
   "execution_count": 48,
   "metadata": {},
   "outputs": [
    {
     "name": "stdout",
     "output_type": "stream",
     "text": [
      "__________________________________________________________________________________________________\n",
      "Layer (type)                    Output Shape         Param #     Connected to                     \n",
      "==================================================================================================\n",
      "input_30 (InputLayer)           (None, 1, 2)         0                                            \n",
      "__________________________________________________________________________________________________\n",
      "flatten_28 (Flatten)            (None, 2)            0           input_30[0][0]                   \n",
      "__________________________________________________________________________________________________\n",
      "dense_154 (Dense)               (None, 8)            24          flatten_28[0][0]                 \n",
      "__________________________________________________________________________________________________\n",
      "dense_157 (Dense)               (None, 8)            24          flatten_28[0][0]                 \n",
      "__________________________________________________________________________________________________\n",
      "dense_155 (Dense)               (None, 8)            72          dense_154[0][0]                  \n",
      "__________________________________________________________________________________________________\n",
      "dense_158 (Dense)               (None, 8)            72          dense_157[0][0]                  \n",
      "__________________________________________________________________________________________________\n",
      "dense_156 (Dense)               (None, 1)            9           dense_155[0][0]                  \n",
      "__________________________________________________________________________________________________\n",
      "dense_159 (Dense)               (None, 1)            9           dense_158[0][0]                  \n",
      "__________________________________________________________________________________________________\n",
      "concatenate_6 (Concatenate)     (None, 2)            0           dense_156[0][0]                  \n",
      "                                                                 dense_159[0][0]                  \n",
      "==================================================================================================\n",
      "Total params: 210\n",
      "Trainable params: 210\n",
      "Non-trainable params: 0\n",
      "__________________________________________________________________________________________________\n"
     ]
    }
   ],
   "source": [
    "class combined_actor(keras2.engine.training.Model):\n",
    "    def __init__(self, action_net, tau_net):\n",
    "        \"\"\"\n",
    "        Parameters\n",
    "        ----------\n",
    "        action_net: Model\n",
    "        tau_net: Model\n",
    "        \"\"\"\n",
    "        # super().__init__() いるか？\n",
    "        self.action_net = action_net\n",
    "        self.tau_net = tau_net\n",
    "        \n",
    "    def compile(self):\n",
    "        pass\n",
    "    \n",
    "    def forward(self, observation):\n",
    "        action = self.action_net.forward(observation)[0]\n",
    "        tau = self.tau_net.forward(observation)[0]\n",
    "        \n",
    "        self_trigger_decision = np.array([action, tau])\n",
    "        return self_trigger_decision\n",
    "    \n",
    "    def backward(self, reward, terminal=False):\n",
    "        self.action_net.backward(reward, terminal)\n",
    "        self.tau_net.backward(reward, terminal)\n",
    "        \n",
    "    def save_weights(self):\n",
    "        pass\n",
    "    \n",
    "    def load_weights(self):\n",
    "        pass\n",
    "    \n",
    "    def update_target_models_hard(self):\n",
    "        pass\n",
    "    \n",
    "    def reset_states(self):\n",
    "        pass\n",
    "    \n",
    "    def process_state_batch(self, batch):\n",
    "        pass\n",
    "        \n",
    "    \n",
    "    \n",
    "\n",
    "def branch_actor(a_shape, s_shape):\n",
    "    action_input = Input(shape=(1,)+s_shape)\n",
    "    x = Flatten()(action_input) # 実質的なinput layer\n",
    "     \n",
    "    x1 = Dense(8, activation=\"relu\")(x)\n",
    "    x1 = Dense(8, activation=\"relu\")(x1)\n",
    "    x1 = Dense(1, activation=\"multiple_tanh\")(x1) # action signal\n",
    "    \n",
    "    x2 = Dense(8, activation=\"relu\")(x)\n",
    "    x2 = Dense(8, activation=\"relu\")(x2)\n",
    "    x2 = Dense(1, activation=\"sigmoid\")(x2) # tau\n",
    "    \n",
    "    output = Concatenate()([x1, x2])\n",
    "    \n",
    "    actor = Model(inputs=action_input, outputs=output)\n",
    "    actor.summary()\n",
    "    return actor\n",
    "\n",
    "def branch_agent(a_shape, s_shape):\n",
    "    actor = branch_actor(a_shape, s_shape)\n",
    "    critic,  critic_action_input = critic_net(a_shape, s_shape)\n",
    "    memory = SequentialMemory(limit = 50000, window_length = 1)\n",
    "    agent = selfDDPGAgent(\n",
    "        a_shape[0],\n",
    "        actor,\n",
    "        critic,\n",
    "        critic_action_input,\n",
    "        memory,\n",
    "        clip_com = 0.01\n",
    "    )\n",
    "    return agent\n",
    "\n",
    "\n",
    "b = branch_actor((2,),(2,))"
   ]
  },
  {
   "cell_type": "code",
   "execution_count": 36,
   "metadata": {},
   "outputs": [
    {
     "name": "stdout",
     "output_type": "stream",
     "text": [
      "[1, 2, 5, 6] [3, 4, 7, 8]\n"
     ]
    }
   ],
   "source": [
    "a = np.array([1,2,3,4,5,6,7,8])\n",
    "\n",
    "action = []\n",
    "tau = []\n",
    "\n",
    "for i in range(a.shape[0]):\n",
    "    if i % 4 < 2:\n",
    "        action.append(a[i])\n",
    "    else:\n",
    "        tau.append(a[i])\n",
    "\n",
    "print(action, tau)"
   ]
  },
  {
   "cell_type": "code",
   "execution_count": null,
   "metadata": {},
   "outputs": [],
   "source": []
  }
 ],
 "metadata": {
  "kernelspec": {
   "display_name": "Python 3",
   "language": "python",
   "name": "python3"
  },
  "language_info": {
   "codemirror_mode": {
    "name": "ipython",
    "version": 3
   },
   "file_extension": ".py",
   "mimetype": "text/x-python",
   "name": "python",
   "nbconvert_exporter": "python",
   "pygments_lexer": "ipython3",
   "version": "3.7.4"
  }
 },
 "nbformat": 4,
 "nbformat_minor": 4
}
