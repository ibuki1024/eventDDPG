{
 "cells": [
  {
   "cell_type": "code",
   "execution_count": 1,
   "metadata": {},
   "outputs": [],
   "source": [
    "import numpy as np\n",
    "import matplotlib.pyplot as plt\n",
    "from scipy import linalg as slinalg\n",
    "%matplotlib inline\n",
    "\n",
    "import sys\n",
    "sys.path.append('../../module')\n",
    "import gym2\n",
    "import util as U"
   ]
  },
  {
   "cell_type": "code",
   "execution_count": 28,
   "metadata": {},
   "outputs": [],
   "source": [
    "env = gym2.make('Linear-v1')\n",
    "Q = .01 * np.eye(2)\n",
    "R = .01 * np.eye(1)\n",
    "lam = .5"
   ]
  },
  {
   "cell_type": "code",
   "execution_count": null,
   "metadata": {},
   "outputs": [],
   "source": [
    "def array_exp(A):\n",
    "    v, p = np.linalg.eig(A)\n",
    "    align = np.array([[v[0], 0],[0, v[1]]])\n",
    "    exp = np.exp(align)\n",
    "    exp[~np.eye(exp.shape[0],dtype=bool)] = 0\n",
    "    out = np.dot(np.dot(p, exp), np.linalg.inv(p))\n",
    "    return out\n",
    "\n",
    "\n",
    "def next_state(state, action, tau, env):\n",
    "    # mean of next state when const action and tau is input\n",
    "    A = env.A\n",
    "    B = env.B\n",
    "    eAt = array_exp(A*tau)\n",
    "    A_inv = np.linalg.inv(A)\n",
    "    \n",
    "    integral = np.dot(np.dot(eAt, A_inv), B) \\\n",
    "             - np.dot(np.dot(eAt, A_inv), np.dot(array_exp(-A*tau), B))\n",
    "    s_prime = np.dot(eAt, state) + integral *action \n",
    "    \n",
    "    return s_prime\n",
    "\n",
    "\n",
    "def variance(A, D, tau):\n",
    "    tmp = np.dot(array_exp(A*tau), D)\n",
    "    Q = np.dot(D.reshape(2,1), D.reshape(1,2)) - np.dot(tmp, tmp)\n",
    "    V = slinalg.solve_lyapunov(A, -Q)\n",
    "    return V\n",
    "    \n",
    "    \n",
    "def control_law(state, env, Q=Q, R=R, l=lam):\n",
    "    A = env.A\n",
    "    B = env.B\n",
    "    D = env.D\n",
    "    next_value_weight = 100\n",
    "    \n",
    "    taus = np.linspace(.01, 10., 1000)\n",
    "    evaluation = np.inf\n",
    "    \n",
    "    # riccati\n",
    "    P = slinalg.solve_continuous_are(A, B.reshape(B.shape[0],1), Q, R)\n",
    "    A_inv = np.linalg.inv(A)\n",
    "    \n",
    "    for tau in taus:\n",
    "        # calculate optimal action with fixed `tau`\n",
    "        eAt = array_exp(A*tau)\n",
    "        \n",
    "        # ∂s'/∂u\n",
    "        dsdu = np.dot(np.dot(eAt, A_inv), B) \\\n",
    "             - np.dot(np.dot(eAt, A_inv), np.dot(array_exp(-A*tau), B))\n",
    "        # int exp(A(t-τ))Budt\n",
    "        integral = dsdu\n",
    "\n",
    "        # ∂c/∂u = first + second * u, c: instant cost\n",
    "        first = 2 * np.dot(np.dot(dsdu, P), np.dot(eAt, state))\n",
    "        first *= next_value_weight\n",
    "        second = 2 * np.dot(np.dot(dsdu, P), integral)\n",
    "        second = next_value_weight * second + 2\n",
    "\n",
    "        # optimal action\n",
    "        u = - first / second\n",
    "        \n",
    "        # evaluation\n",
    "        s_prime = next_state(state, u, tau, env)\n",
    "        V_lqr = np.dot(np.dot(s_prime, P), s_prime) + np.trace(np.dot(P, variance(A, D, tau)))\n",
    "        ev = u**2 - l * tau + next_value_weight * V_lqr\n",
    "        print(s_prime, ev, [u, tau])\n",
    "        if ev < evaluation:\n",
    "            control = np.array([u, tau])\n",
    "            evaluation = ev\n",
    "    \n",
    "    return control"
   ]
  },
  {
   "cell_type": "code",
   "execution_count": null,
   "metadata": {},
   "outputs": [],
   "source": [
    "state = np.array([3.,3.])\n",
    "control_law(state, env)"
   ]
  },
  {
   "cell_type": "code",
   "execution_count": 57,
   "metadata": {},
   "outputs": [
    {
     "name": "stdout",
     "output_type": "stream",
     "text": [
      "[-1.74756887 -1.74791853] 1.05\n",
      "[-1.31212059  0.02637658] 0.8300000000000001\n",
      "[-2.04602508 -0.84744853] 0.5\n",
      "[-0.99152973 -0.05431243] 0.76\n",
      "[-0.11011013  0.17839923] 0.43\n",
      "[-0.13270111  0.03120755] 0.18000000000000002\n",
      "[-0.44922028 -0.26597512] 0.18000000000000002\n",
      "[-0.63923489 -0.45070814] 0.01\n",
      "[-0.67566285 -0.4745508 ] 0.01\n",
      "[-0.74255202 -0.52826672] 0.01\n",
      "[-0.79490562 -0.17933372] 0.47000000000000003\n",
      "[-1.44382399 -0.63989205] 0.4\n",
      "[-0.07411957  0.35710211] 0.64\n",
      "[0.54619975 0.54864195] 0.18000000000000002\n",
      "[0.64714485 0.62735533] 0.01\n",
      "[0.77730992 0.73277206] 0.01\n",
      "[0.90923979 0.17335982] 0.53\n",
      "[1.26816033 0.53499403] 0.44\n",
      "[1.03988347 0.21006494] 0.59\n",
      "[ 0.47526567 -0.03572149] 0.48000000000000004\n",
      "[-0.10205581 -0.34643335] 0.23\n",
      "[-0.19939276 -0.201874  ] 0.15000000000000002\n",
      "[-0.13320234 -0.06949343] 0.17\n",
      "[0.24107391 0.27891227] 0.18000000000000002\n",
      "[0.63038514 0.46018195] 0.15000000000000002\n",
      "[0.73458239 0.55086519] 0.01\n",
      "[-0.65877865 -0.68159934] 0.48000000000000004\n",
      "[-0.65533667 -0.64994837] 0.01\n",
      "[-0.67060958 -0.63913127] 0.01\n",
      "[-0.68014108 -0.62378715] 0.01\n",
      "[-0.75283756 -0.67296904] 0.01\n",
      "[0.5228354  0.68365651] 0.51\n",
      "[0.52707428 0.65549082] 0.01\n",
      "[0.48201015 0.58012537] 0.01\n",
      "[0.58301429 0.65477509] 0.01\n",
      "[0.66081281 0.70398957] 0.01\n",
      "[0.66834945 0.68180629] 0.01\n",
      "[0.59911199 0.58463052] 0.01\n",
      "[0.66523181 0.62756942] 0.01\n",
      "[0.74149864 0.67961188] 0.01\n",
      "[1.04586113 0.37155215] 0.51\n"
     ]
    }
   ],
   "source": [
    "l = .5\n",
    "env.reset()\n",
    "initial_state = np.array([3., 3.])\n",
    "env.set_state(initial_state)\n",
    "\n",
    "states = [initial_state]\n",
    "detail_states = [initial_state]\n",
    "\n",
    "time_limit = 10\n",
    "time_log = [0.]\n",
    "taus = []\n",
    "acc_time = 0\n",
    "episode_reward = 0\n",
    "i = 0\n",
    "detail_time_log = [0.]\n",
    "\n",
    "action_log = []\n",
    "\n",
    "\n",
    "while True:\n",
    "    reward = 0\n",
    "    x = env.state\n",
    "    a_agent, tau = control_law(x, env)\n",
    "    taus.append(tau)\n",
    "    acc_time += tau\n",
    "    time_log.append(acc_time)\n",
    "    dt = 0.01\n",
    "    action_repetition = int(tau * 100)  # minimum natural number which makes `dt` smaller than 0.005\n",
    "    # print(tau, dt, action_repetition)\n",
    "    for p in range(action_repetition):\n",
    "        action_log.append(a_agent)\n",
    "        _,r,_,_ = env.step(np.array([a_agent]), dt, tau)\n",
    "        reward += r\n",
    "        detail_states.append(env.state)\n",
    "        i += 1\n",
    "        detail_time_log.append(i * dt)\n",
    "    print(env.state, tau)\n",
    "    reward *= dt\n",
    "    reward += - 0.01 * a_agent**2 + l * tau\n",
    "    episode_reward += reward\n",
    "    states.append(env.state)\n",
    "    if acc_time > time_limit:\n",
    "        break\n",
    "action_log.append(control_law(env.state, env)[0])\n",
    "states = np.array(states)\n",
    "detail_states = np.array(detail_states)"
   ]
  },
  {
   "cell_type": "code",
   "execution_count": 58,
   "metadata": {},
   "outputs": [
    {
     "data": {
      "image/png": "[encoded data removed]",
      "text/plain": [
       "<Figure size 432x432 with 3 Axes>"
      ]
     },
     "metadata": {
      "needs_background": "light"
     },
     "output_type": "display_data"
    }
   ],
   "source": [
    "plt.figure(figsize=(6,6))\n",
    "plt.subplots_adjust(hspace=0.6)\n",
    "\n",
    "# state\n",
    "plt.subplot(3,1,1)\n",
    "plt.xlabel('control time (s)')\n",
    "plt.ylabel('$\\|s\\|_2$')\n",
    "plt.plot(detail_time_log, np.linalg.norm(detail_states, axis=1))\n",
    "#plt.scatter(time_log, states[:,0], marker='.')\n",
    "\n",
    "# action\n",
    "plt.subplot(3,1,2)\n",
    "plt.xlabel('control time (s)')\n",
    "plt.ylabel('$u$')\n",
    "plt.plot(detail_time_log, action_log, color='red')\n",
    "\n",
    "# communication\n",
    "indices = []\n",
    "for t in np.round(time_log, decimals=2):\n",
    "    if t in np.round(detail_time_log, decimals=2):\n",
    "        indices.append(np.where(t == np.round(detail_time_log, decimals=2))[0][0])\n",
    "com = np.zeros_like(detail_time_log)\n",
    "com[indices] = 1\n",
    "plt.subplot(3,1,3)\n",
    "plt.xlabel('control time (s)')\n",
    "plt.ylabel('interaction (bool)')\n",
    "plt.plot(detail_time_log, com, color='black')\n",
    "\n",
    "plt.show()"
   ]
  },
  {
   "cell_type": "code",
   "execution_count": 59,
   "metadata": {},
   "outputs": [
    {
     "name": "stderr",
     "output_type": "stream",
     "text": [
      "Using TensorFlow backend.\n"
     ]
    }
   ],
   "source": [
    "import warnings\n",
    "warnings.filterwarnings('ignore')\n",
    "from keras2.models import Model\n",
    "from keras2.layers import concatenate, Dense, Input, Flatten\n",
    "from keras2.optimizers import Adam\n",
    "\n",
    "def branch_actor(a_shape, s_shape):\n",
    "    action_input = Input(shape=(1,)+s_shape)\n",
    "    x = Flatten()(action_input) # 実質的なinput layer\n",
    "    \n",
    "    x1 = Dense(8, activation=\"relu\")(x)\n",
    "    x1 = Dense(8, activation=\"relu\")(x1)\n",
    "    x1 = Dense(1, activation=\"multiple_tanh\")(x1) # action signal\n",
    "    \n",
    "    x2 = Dense(8, activation=\"relu\")(x)\n",
    "    x2 = Dense(8, activation=\"relu\")(x2)\n",
    "    x2 = Dense(1, activation=\"tau_output\")(x2) # tau\n",
    "    \n",
    "    output = concatenate([x1, x2])\n",
    "    actor = Model(inputs=action_input, outputs=output)\n",
    "    return actor"
   ]
  },
  {
   "cell_type": "code",
   "execution_count": 60,
   "metadata": {},
   "outputs": [
    {
     "name": "stdout",
     "output_type": "stream",
     "text": [
      "WARNING:tensorflow:From ../../module/keras2/backend/tensorflow_backend.py:82: The name tf.get_default_graph is deprecated. Please use tf.compat.v1.get_default_graph instead.\n",
      "\n",
      "WARNING:tensorflow:From ../../module/keras2/backend/tensorflow_backend.py:525: The name tf.placeholder is deprecated. Please use tf.compat.v1.placeholder instead.\n",
      "\n",
      "WARNING:tensorflow:From ../../module/keras2/backend/tensorflow_backend.py:4148: The name tf.random_uniform is deprecated. Please use tf.random.uniform instead.\n",
      "\n",
      "WARNING:tensorflow:From ../../module/keras2/optimizers.py:790: The name tf.train.Optimizer is deprecated. Please use tf.compat.v1.train.Optimizer instead.\n",
      "\n"
     ]
    }
   ],
   "source": [
    "NN = branch_actor((2,),(2,))\n",
    "NN.compile(loss='mse', optimizer='adam')"
   ]
  },
  {
   "cell_type": "code",
   "execution_count": null,
   "metadata": {},
   "outputs": [],
   "source": [
    "# make train data\n",
    "s1 = np.linspace(-7,7,100)\n",
    "s2 = np.linspace(-7,7,100)\n",
    "S1, S2 = np.meshgrid(s1, s2)\n",
    "batch = []\n",
    "\n",
    "for state in zip(S1.flatten(), S2.flatten()):\n",
    "    state = np.array(state)\n",
    "    action = control_law(state, env)\n",
    "    batch.append([state, action])\n",
    "    \n",
    "batch = np.array(batch)"
   ]
  },
  {
   "cell_type": "code",
   "execution_count": null,
   "metadata": {},
   "outputs": [],
   "source": [
    "batch_size = 64\n",
    "\n",
    "epochs = 10000\n",
    "losses = []\n",
    "for _ in range(epochs):\n",
    "    indices = np.random.choice(range(10000),batch_size,replace=False)\n",
    "    states = batch[:,0].reshape(10000,1,2)\n",
    "    actions = batch[:,1]\n",
    "    \n",
    "    \n",
    "    loss = NN.train_on_batch(states, actions)\n",
    "    losses.append(loss)\n",
    "    \n",
    "plt.plot(losses)\n",
    "plt.xlabel('epochs')\n",
    "plt.ylabel('actor_loss')\n",
    "plt.show()\n"
   ]
  },
  {
   "cell_type": "code",
   "execution_count": null,
   "metadata": {},
   "outputs": [],
   "source": []
  }
 ],
 "metadata": {
  "kernelspec": {
   "display_name": "Python 3",
   "language": "python",
   "name": "python3"
  },
  "language_info": {
   "codemirror_mode": {
    "name": "ipython",
    "version": 3
   },
   "file_extension": ".py",
   "mimetype": "text/x-python",
   "name": "python",
   "nbconvert_exporter": "python",
   "pygments_lexer": "ipython3",
   "version": "3.7.4"
  }
 },
 "nbformat": 4,
 "nbformat_minor": 4
}
