{
 "cells": [
  {
   "cell_type": "code",
   "execution_count": 6,
   "metadata": {},
   "outputs": [],
   "source": [
    "import warnings\n",
    "warnings.filterwarnings('ignore')\n",
    "import numpy as np\n",
    "import matplotlib.pyplot as plt\n",
    "\n",
    "import sys\n",
    "sys.path.append('../../module/')\n",
    "\n",
    "import keras2\n",
    "from keras2.models import Model\n",
    "from keras2.layers import concatenate, Dense, Input, Flatten\n",
    "from keras2.optimizers import Adam\n",
    "from util import moving_average, dlqr, discretized_system, lqr, make_standup_agent, NN_params\n",
    "import gym2\n",
    "from rl2.agents import selfDDPGAgent\n",
    "from rl2.memory import SequentialMemory"
   ]
  },
  {
   "cell_type": "code",
   "execution_count": 2,
   "metadata": {},
   "outputs": [],
   "source": [
    "# GymのPendulum環境を作成\n",
    "env = gym2.make(\"Pendulum-v2\")\n",
    "\n",
    "# 取りうる”打ち手”のアクション数と値の定義\n",
    "nb_actios = 2\n",
    "ACT_ID_TO_VALUE = {0: [-1], 1: [+1]}"
   ]
  },
  {
   "cell_type": "code",
   "execution_count": 7,
   "metadata": {},
   "outputs": [],
   "source": [
    "def actor_net(a_shape, s_shape):\n",
    "    action_input = Input(shape=(1,)+s_shape)\n",
    "    x = Flatten()(action_input)\n",
    "    x = Dense(16, activation=\"relu\")(x)\n",
    "    x = Dense(16, activation=\"relu\")(x)\n",
    "    x = Dense(2, activation=\"self_trigger_output\")(x)\n",
    "    actor = Model(inputs=action_input, outputs=x)\n",
    "    # actor.set_weights(_actor_initial_weight(actor))\n",
    "    return actor\n",
    "\n",
    "def critic_net(a_shape , s_shape):\n",
    "    action_input = Input(a_shape)\n",
    "    observation_input = Input(shape=(1,)+s_shape)\n",
    "    flattened_observation = Flatten()(observation_input)\n",
    "    x = concatenate([action_input, flattened_observation])\n",
    "    x = Dense(16, activation=\"relu\")(x)\n",
    "    x = Dense(16, activation=\"relu\")(x)\n",
    "    x = Dense(1, activation=\"linear\")(x)\n",
    "    critic = Model(inputs=[action_input, observation_input], outputs=x)\n",
    "    return (critic, action_input)"
   ]
  },
  {
   "cell_type": "code",
   "execution_count": 8,
   "metadata": {},
   "outputs": [],
   "source": [
    "def agent(a_shape, s_shape):\n",
    "    actor = actor_net(a_shape, s_shape)\n",
    "    critic,  critic_action_input = critic_net(a_shape, s_shape)\n",
    "    memory = SequentialMemory(limit = 50000, window_length = 1)\n",
    "    agent = selfDDPGAgent(\n",
    "        a_shape[0],\n",
    "        actor,\n",
    "        critic,\n",
    "        critic_action_input,\n",
    "        memory,\n",
    "        clip_com = 0.01\n",
    "    )\n",
    "    return agent"
   ]
  },
  {
   "cell_type": "code",
   "execution_count": 64,
   "metadata": {},
   "outputs": [
    {
     "name": "stdout",
     "output_type": "stream",
     "text": [
      "Training for 200000 steps ...\n",
      "Interval 1 (0 steps performed)\n",
      "10000/10000 [==============================] - 102s 10ms/step - reward: -0.0091\n",
      "6 episodes - episode_reward: -1.903 [-37.474, 9.931] - loss: 40.759 - mean_absolute_error: 3.317 - mean_q: 80.109\n",
      "\n",
      "Interval 2 (10000 steps performed)\n",
      "10000/10000 [==============================] - 110s 11ms/step - reward: -0.0105\n",
      "1 episodes - episode_reward: -97.598 [-97.598, -97.598] - loss: 12.158 - mean_absolute_error: 1.713 - mean_q: -176.331\n",
      "\n",
      "Interval 3 (20000 steps performed)\n",
      "10000/10000 [==============================] - 105s 10ms/step - reward: -0.0175\n",
      "1 episodes - episode_reward: -174.980 [-174.980, -174.980] - loss: 16.664 - mean_absolute_error: 2.073 - mean_q: -1561.007\n",
      "\n",
      "Interval 4 (30000 steps performed)\n",
      "10000/10000 [==============================] - 6913s 691ms/step - reward: -0.1740\n",
      "15 episodes - episode_reward: -112.260 [-162.595, -66.523] - loss: 1634.452 - mean_absolute_error: 8.179 - mean_q: -2245.619\n",
      "\n",
      "Interval 5 (40000 steps performed)\n",
      "10000/10000 [==============================] - 109s 11ms/step - reward: -0.0099\n",
      "1 episodes - episode_reward: -168.730 [-168.730, -168.730] - loss: 1827.386 - mean_absolute_error: 9.296 - mean_q: -2559.958\n",
      "\n",
      "Interval 6 (50000 steps performed)\n",
      "10000/10000 [==============================] - 147s 15ms/step - reward: -0.0112\n",
      "1 episodes - episode_reward: -149.697 [-149.697, -149.697] - loss: 1245.380 - mean_absolute_error: 7.105 - mean_q: -2444.496\n",
      "\n",
      "Interval 7 (60000 steps performed)\n",
      "10000/10000 [==============================] - 130s 13ms/step - reward: -0.0088\n",
      "Interval 8 (70000 steps performed)\n",
      "10000/10000 [==============================] - 123s 12ms/step - reward: -0.0084\n",
      "1 episodes - episode_reward: -156.422 [-156.422, -156.422] - loss: 891.173 - mean_absolute_error: 4.843 - mean_q: -2506.518\n",
      "\n",
      "Interval 9 (80000 steps performed)\n",
      "10000/10000 [==============================] - 105s 11ms/step - reward: -0.0083\n",
      "Interval 10 (90000 steps performed)\n",
      "10000/10000 [==============================] - 104s 10ms/step - reward: -0.0104\n",
      "1 episodes - episode_reward: -174.216 [-174.216, -174.216] - loss: 275.231 - mean_absolute_error: 2.180 - mean_q: -1685.805\n",
      "\n",
      "Interval 11 (100000 steps performed)\n",
      "10000/10000 [==============================] - 110s 11ms/step - reward: -0.0070\n",
      "Interval 12 (110000 steps performed)\n",
      "10000/10000 [==============================] - 105s 11ms/step - reward: -0.0092\n",
      "1 episodes - episode_reward: -153.936 [-153.936, -153.936] - loss: 113.749 - mean_absolute_error: 1.862 - mean_q: -1240.336\n",
      "\n",
      "Interval 13 (120000 steps performed)\n",
      "10000/10000 [==============================] - 105s 10ms/step - reward: -0.0086\n",
      "Interval 14 (130000 steps performed)\n",
      "10000/10000 [==============================] - 104s 10ms/step - reward: -0.0071\n",
      "1 episodes - episode_reward: -168.510 [-168.510, -168.510] - loss: 19.855 - mean_absolute_error: 1.351 - mean_q: -607.009\n",
      "\n",
      "Interval 15 (140000 steps performed)\n",
      "10000/10000 [==============================] - 104s 10ms/step - reward: -0.0053\n",
      "Interval 16 (150000 steps performed)\n",
      "10000/10000 [==============================] - 104s 10ms/step - reward: -0.0066\n",
      "1 episodes - episode_reward: -122.778 [-122.778, -122.778] - loss: 10.310 - mean_absolute_error: 1.035 - mean_q: -252.539\n",
      "\n",
      "Interval 17 (160000 steps performed)\n",
      "10000/10000 [==============================] - 106s 11ms/step - reward: -0.0076\n",
      "Interval 18 (170000 steps performed)\n",
      "10000/10000 [==============================] - 103s 10ms/step - reward: -0.0063\n",
      "1 episodes - episode_reward: -138.419 [-138.419, -138.419] - loss: 0.565 - mean_absolute_error: 0.767 - mean_q: -46.352\n",
      "\n",
      "Interval 19 (180000 steps performed)\n",
      "10000/10000 [==============================] - 104s 10ms/step - reward: -0.0036\n",
      "1 episodes - episode_reward: -84.411 [-84.411, -84.411] - loss: 0.307 - mean_absolute_error: 0.591 - mean_q: 28.405\n",
      "\n",
      "Interval 20 (190000 steps performed)\n",
      "10000/10000 [==============================] - 104s 10ms/step - reward: -0.0063\n",
      "done, took 2216.435 seconds\n"
     ]
    }
   ],
   "source": [
    "#safe learning   \n",
    "l = 0.5\n",
    "step = 200000  # num of interval\n",
    "episode_step = step\n",
    "a = agent((2,), (2,))\n",
    "actor_optimizer, critic_optimizer = Adam(lr=0.00001, clipnorm=1.), Adam(lr=0.001, clipnorm=1.)\n",
    "optimizer = [actor_optimizer, critic_optimizer]\n",
    "a.compile(optimizer=optimizer, metrics=[\"mae\"])\n",
    "a.actor = make_standup_agent(a.actor, .01, env, verbose=False)\n",
    "params_before = NN_params(a.actor)\n",
    "# a.actor.load_weights('./saved_agent/self_trigger.h5')\n",
    "# a.load_weights('../learned_models_vol2/0.5standup-agent.h5')\n",
    "# a.load_weights('../../learned_models_stab/lqr_optimal_agent.h5')\n",
    "out = a.fit(env, l=l, nb_steps=step, visualize=0, verbose=1, nb_max_episode_steps=episode_step)"
   ]
  },
  {
   "cell_type": "code",
   "execution_count": 70,
   "metadata": {},
   "outputs": [
    {
     "name": "stdout",
     "output_type": "stream",
     "text": [
      "(49998,)\n"
     ]
    },
    {
     "data": {
      "image/png": "[encoded data removed]",
      "text/plain": [
       "<Figure size 432x288 with 1 Axes>"
      ]
     },
     "metadata": {
      "needs_background": "light"
     },
     "output_type": "display_data"
    }
   ],
   "source": [
    "states = []\n",
    "indices = np.array(range(1,49999))\n",
    "print(indices.shape)\n",
    "for e in a.memory.sample(len(indices), batch_idxs=indices):\n",
    "    states.append(e.state0[0])\n",
    "states = np.array(states)\n",
    "plt.scatter(states[:,0], states[:,1], marker='.')\n",
    "plt.show()\n",
    "# 急に+∞のmemoryが増えちゃった = ρπの破滅"
   ]
  },
  {
   "cell_type": "code",
   "execution_count": 69,
   "metadata": {},
   "outputs": [
    {
     "data": {
      "text/plain": [
       "(array([  6.,  10.,  24.,  37.,  60., 105.,  80.,  24.,   6.,   2.]),\n",
       " array([-0.5069682 , -0.41397024, -0.32097229, -0.22797433, -0.13497638,\n",
       "        -0.04197842,  0.05101954,  0.14401749,  0.23701545,  0.33001341,\n",
       "         0.42301136]),\n",
       " <a list of 10 Patch objects>)"
      ]
     },
     "execution_count": 69,
     "metadata": {},
     "output_type": "execute_result"
    },
    {
     "data": {
      "image/png": "[encoded data removed]",
      "text/plain": [
       "<Figure size 432x288 with 1 Axes>"
      ]
     },
     "metadata": {
      "needs_background": "light"
     },
     "output_type": "display_data"
    }
   ],
   "source": [
    "params_after = NN_params(a.actor)\n",
    "params_dif = params_after - params_before\n",
    "plt.hist(params_dif)"
   ]
  },
  {
   "cell_type": "code",
   "execution_count": 77,
   "metadata": {},
   "outputs": [
    {
     "data": {
      "image/png": "[encoded data removed]",
      "text/plain": [
       "<Figure size 864x288 with 2 Axes>"
      ]
     },
     "metadata": {
      "needs_background": "light"
     },
     "output_type": "display_data"
    }
   ],
   "source": [
    "%matplotlib inline\n",
    "def rad_clip(th):\n",
    "    r = abs(th)\n",
    "    while r > np.pi:\n",
    "        r -= 2 * np.pi\n",
    "    th = np.sign(th) * r\n",
    "    return th\n",
    "\n",
    "l = 5.\n",
    "a.original_noise = False\n",
    "env.reset()\n",
    "high=np.array([np.pi,np.pi])\n",
    "env.set_state(np.random.uniform(low=-high, high=high))\n",
    "states = []\n",
    "time_limit = 10\n",
    "time_log = []\n",
    "taus = []\n",
    "acc_time = 0\n",
    "episode_reward = 0\n",
    "while True:\n",
    "    reward = 0\n",
    "    x = env.state\n",
    "    states.append([rad_clip(x[0]), x[1]])\n",
    "    a_agent, tau = a.forward(x)\n",
    "    taus.append(tau)\n",
    "    acc_time += tau\n",
    "    time_log.append(acc_time)\n",
    "    action_repetition = int(np.ceil(200 * tau))  # minimum natural number which makes `dt` smaller than 0.005\n",
    "    dt = tau / action_repetition\n",
    "    # print(tau, dt, action_repetition)\n",
    "    for p in range(action_repetition):\n",
    "        _,_,r,_ = env.step(np.array([a_agent]), dt, tau)\n",
    "        reward += r\n",
    "    reward *= dt\n",
    "    reward += - 0.01 * a_agent**2 + l * tau\n",
    "    episode_reward += reward\n",
    "    if acc_time > time_limit:\n",
    "        break\n",
    "states = np.array(states)\n",
    "\n",
    "plt.figure(figsize=(12,4))\n",
    "plt.subplot(1,2,1)\n",
    "plt.xlabel('steps')\n",
    "plt.ylabel('theta')\n",
    "plt.plot(time_log, states[:,0])\n",
    "plt.subplot(1,2,2)\n",
    "plt.xlabel('steps')\n",
    "plt.ylabel('theta_dot')\n",
    "plt.plot(time_log, states[:,1])\n",
    "plt.show()"
   ]
  },
  {
   "cell_type": "code",
   "execution_count": 78,
   "metadata": {},
   "outputs": [
    {
     "data": {
      "text/plain": [
       "[<matplotlib.lines.Line2D at 0x13e172dd0>]"
      ]
     },
     "execution_count": 78,
     "metadata": {},
     "output_type": "execute_result"
    },
    {
     "data": {
      "image/png": "[encoded data removed]",
      "text/plain": [
       "<Figure size 432x288 with 1 Axes>"
      ]
     },
     "metadata": {
      "needs_background": "light"
     },
     "output_type": "display_data"
    }
   ],
   "source": [
    "plt.plot(taus)"
   ]
  },
  {
   "cell_type": "code",
   "execution_count": 76,
   "metadata": {},
   "outputs": [
    {
     "data": {
      "text/plain": [
       "array([-1.03456728, -2.52824338])"
      ]
     },
     "execution_count": 76,
     "metadata": {},
     "output_type": "execute_result"
    }
   ],
   "source": [
    "high=np.array([np.pi,np.pi])\n",
    "np.random.uniform(low=-high, high=high)"
   ]
  },
  {
   "cell_type": "code",
   "execution_count": null,
   "metadata": {},
   "outputs": [],
   "source": []
  }
 ],
 "metadata": {
  "kernelspec": {
   "display_name": "Python 3",
   "language": "python",
   "name": "python3"
  },
  "language_info": {
   "codemirror_mode": {
    "name": "ipython",
    "version": 3
   },
   "file_extension": ".py",
   "mimetype": "text/x-python",
   "name": "python",
   "nbconvert_exporter": "python",
   "pygments_lexer": "ipython3",
   "version": "3.7.4"
  }
 },
 "nbformat": 4,
 "nbformat_minor": 4
}
