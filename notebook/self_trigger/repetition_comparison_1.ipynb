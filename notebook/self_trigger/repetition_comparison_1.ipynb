{
 "cells": [
  {
   "cell_type": "code",
   "execution_count": 1,
   "metadata": {},
   "outputs": [
    {
     "name": "stderr",
     "output_type": "stream",
     "text": [
      "Using TensorFlow backend.\n",
      "Using TensorFlow backend.\n"
     ]
    }
   ],
   "source": [
    "import warnings\n",
    "warnings.filterwarnings('ignore')\n",
    "import numpy as np\n",
    "import matplotlib.pyplot as plt\n",
    "\n",
    "import sys\n",
    "sys.path.append('../../module/')\n",
    "\n",
    "import keras2\n",
    "from keras2.models import Model\n",
    "from keras2.layers import concatenate, Dense, Input, Flatten\n",
    "from keras2.optimizers import Adam\n",
    "from util import moving_average, dlqr, discretized_system, lqr\n",
    "import gym2\n",
    "from rl2.agents import DDPGAgent\n",
    "from rl2.memory import SequentialMemory"
   ]
  },
  {
   "cell_type": "code",
   "execution_count": 10,
   "metadata": {},
   "outputs": [],
   "source": [
    "# GymのPendulum環境を作成\n",
    "dt = 0.05\n",
    "env = gym2.make(\"Pendulum-v1\", dt)\n",
    "clip = 10.\n",
    "env.max_torque, max_torque = clip, clip\n",
    "env.action_space.high, env.action_space.low = max_torque, -max_torque\n",
    "control_interval = 1\n",
    "\n",
    "# 取りうる”打ち手”のアクション数と値の定義\n",
    "nb_actios = 2\n",
    "ACT_ID_TO_VALUE = {0: [-1], 1: [+1]}"
   ]
  },
  {
   "cell_type": "code",
   "execution_count": 11,
   "metadata": {},
   "outputs": [],
   "source": [
    "def actor_net(a_shape, s_shape):\n",
    "    action_input = Input(shape=(1,)+s_shape)\n",
    "    x = Flatten()(action_input)\n",
    "    x = Dense(16, activation=\"relu\")(x)\n",
    "    x = Dense(16, activation=\"relu\")(x)\n",
    "    x = Dense(2, activation=\"multiple_tanh\")(x)\n",
    "    actor = Model(inputs=action_input, outputs=x)\n",
    "    return actor\n",
    "\n",
    "def critic_net(a_shape , s_shape):\n",
    "    action_input = Input(a_shape)\n",
    "    observation_input = Input(shape=(1,)+s_shape)\n",
    "    flattened_observation = Flatten()(observation_input)\n",
    "    x = concatenate([action_input, flattened_observation])\n",
    "    x = Dense(16, activation=\"relu\")(x)\n",
    "    x = Dense(16, activation=\"relu\")(x)\n",
    "    x = Dense(1, activation=\"linear\")(x)\n",
    "    critic = Model(inputs=[action_input, observation_input], outputs=x)\n",
    "    return (critic, action_input)"
   ]
  },
  {
   "cell_type": "code",
   "execution_count": 12,
   "metadata": {},
   "outputs": [],
   "source": [
    "def agent(a_shape, s_shape):\n",
    "    actor = actor_net(a_shape, s_shape)\n",
    "    critic,  critic_action_input = critic_net(a_shape, s_shape)\n",
    "    memory = SequentialMemory(limit = 50000, window_length = 1)\n",
    "    agent = DDPGAgent(\n",
    "        a_shape[0],\n",
    "        actor,\n",
    "        critic,\n",
    "        critic_action_input,\n",
    "        memory\n",
    "    )\n",
    "    return agent"
   ]
  },
  {
   "cell_type": "code",
   "execution_count": null,
   "metadata": {},
   "outputs": [
    {
     "name": "stdout",
     "output_type": "stream",
     "text": [
      "Training for 300000 steps ...\n",
      "Interval 1 (0 steps performed)\n",
      "10000/10000 [==============================] - 40s 4ms/step - reward: -3.8790\n",
      "50 episodes - episode_reward: -775.807 [-1338.655, -283.645] - loss: 3.734 - mean_absolute_error: 2.045 - mean_q: -6.401\n",
      "\n",
      "Interval 2 (10000 steps performed)\n",
      "10000/10000 [==============================] - 42s 4ms/step - reward: -3.7011\n",
      "50 episodes - episode_reward: -740.215 [-1026.980, -604.672] - loss: 15.462 - mean_absolute_error: 2.626 - mean_q: -35.585\n",
      "\n",
      "Interval 3 (20000 steps performed)\n",
      "10000/10000 [==============================] - 43s 4ms/step - reward: -3.1451\n",
      "50 episodes - episode_reward: -629.015 [-1465.490, -253.650] - loss: 33.794 - mean_absolute_error: 2.861 - mean_q: -36.219\n",
      "\n",
      "Interval 4 (30000 steps performed)\n",
      "10000/10000 [==============================] - 45s 4ms/step - reward: -3.9268\n",
      "50 episodes - episode_reward: -785.368 [-1576.395, -22.659] - loss: 25.198 - mean_absolute_error: 2.456 - mean_q: -23.035\n",
      "\n",
      "Interval 5 (40000 steps performed)\n",
      "10000/10000 [==============================] - 46s 5ms/step - reward: -2.9242\n",
      "50 episodes - episode_reward: -584.840 [-1322.008, -2.060] - loss: 20.402 - mean_absolute_error: 2.277 - mean_q: -35.343\n",
      "\n",
      "Interval 6 (50000 steps performed)\n",
      "10000/10000 [==============================] - 47s 5ms/step - reward: -1.6000\n",
      "50 episodes - episode_reward: -319.997 [-1549.650, -4.315] - loss: 21.565 - mean_absolute_error: 2.260 - mean_q: -35.943\n",
      "\n",
      "Interval 7 (60000 steps performed)\n",
      "10000/10000 [==============================] - 47s 5ms/step - reward: -0.9232\n",
      "50 episodes - episode_reward: -184.641 [-668.575, -0.114] - loss: 30.399 - mean_absolute_error: 3.455 - mean_q: 30.586\n",
      "\n",
      "Interval 8 (70000 steps performed)\n",
      "10000/10000 [==============================] - 46s 5ms/step - reward: -1.5076\n",
      "50 episodes - episode_reward: -301.522 [-898.275, -78.371] - loss: 32.368 - mean_absolute_error: 2.265 - mean_q: 105.001\n",
      "\n",
      "Interval 9 (80000 steps performed)\n",
      "10000/10000 [==============================] - 47s 5ms/step - reward: -0.5730\n",
      "50 episodes - episode_reward: -114.602 [-473.046, -0.090] - loss: 42.145 - mean_absolute_error: 2.044 - mean_q: 111.724\n",
      "\n",
      "Interval 10 (90000 steps performed)\n",
      "10000/10000 [==============================] - 47s 5ms/step - reward: -0.0563\n",
      "50 episodes - episode_reward: -11.261 [-89.368, -0.029] - loss: 36.710 - mean_absolute_error: 1.928 - mean_q: 114.243\n",
      "\n",
      "Interval 11 (100000 steps performed)\n",
      "10000/10000 [==============================] - 47s 5ms/step - reward: -0.7039\n",
      "50 episodes - episode_reward: -140.781 [-689.072, -6.443] - loss: 34.522 - mean_absolute_error: 1.496 - mean_q: 113.052\n",
      "\n",
      "Interval 12 (110000 steps performed)\n",
      "10000/10000 [==============================] - 47s 5ms/step - reward: -0.2287\n",
      "50 episodes - episode_reward: -45.740 [-422.909, -2.555] - loss: 30.212 - mean_absolute_error: 1.236 - mean_q: 108.091\n",
      "\n",
      "Interval 13 (120000 steps performed)\n",
      "10000/10000 [==============================] - 47s 5ms/step - reward: -0.9445\n",
      "50 episodes - episode_reward: -188.909 [-802.010, -8.494] - loss: 28.829 - mean_absolute_error: 1.495 - mean_q: 104.976\n",
      "\n",
      "Interval 14 (130000 steps performed)\n",
      "10000/10000 [==============================] - 47s 5ms/step - reward: -0.1322\n",
      "50 episodes - episode_reward: -26.444 [-69.236, -0.123] - loss: 35.196 - mean_absolute_error: 1.345 - mean_q: 115.013\n",
      "\n",
      "Interval 15 (140000 steps performed)\n",
      "10000/10000 [==============================] - 47s 5ms/step - reward: -0.9341\n",
      "50 episodes - episode_reward: -186.817 [-383.526, -2.692] - loss: 34.274 - mean_absolute_error: 1.486 - mean_q: 115.060\n",
      "\n",
      "Interval 16 (150000 steps performed)\n",
      "10000/10000 [==============================] - 47s 5ms/step - reward: -0.2048\n",
      "50 episodes - episode_reward: -40.962 [-180.427, -0.068] - loss: 34.344 - mean_absolute_error: 1.286 - mean_q: 115.087\n",
      "\n",
      "Interval 17 (160000 steps performed)\n",
      "10000/10000 [==============================] - 47s 5ms/step - reward: -0.7345\n",
      "50 episodes - episode_reward: -146.904 [-236.400, -3.327] - loss: 30.493 - mean_absolute_error: 1.069 - mean_q: 111.310\n",
      "\n",
      "Interval 18 (170000 steps performed)\n",
      "10000/10000 [==============================] - 47s 5ms/step - reward: -0.5296\n",
      "50 episodes - episode_reward: -105.929 [-382.359, -5.628] - loss: 24.913 - mean_absolute_error: 0.960 - mean_q: 98.908\n",
      "\n",
      "Interval 19 (180000 steps performed)\n",
      "10000/10000 [==============================] - 47s 5ms/step - reward: -0.3531\n",
      "50 episodes - episode_reward: -70.614 [-926.257, -0.033] - loss: 23.444 - mean_absolute_error: 1.175 - mean_q: 95.212\n",
      "\n",
      "Interval 20 (190000 steps performed)\n",
      "10000/10000 [==============================] - 44s 4ms/step - reward: -0.4800\n",
      "50 episodes - episode_reward: -95.991 [-1027.703, -0.104] - loss: 23.086 - mean_absolute_error: 1.112 - mean_q: 94.260\n",
      "\n",
      "Interval 21 (200000 steps performed)\n",
      "10000/10000 [==============================] - 44s 4ms/step - reward: -0.2379\n",
      "50 episodes - episode_reward: -47.580 [-122.250, -8.243] - loss: 22.083 - mean_absolute_error: 1.043 - mean_q: 91.472\n",
      "\n",
      "Interval 22 (210000 steps performed)\n",
      "10000/10000 [==============================] - 43s 4ms/step - reward: -0.6536\n",
      "50 episodes - episode_reward: -130.720 [-205.852, -28.512] - loss: 17.908 - mean_absolute_error: 0.914 - mean_q: 84.215\n",
      "\n",
      "Interval 23 (220000 steps performed)\n",
      "10000/10000 [==============================] - 43s 4ms/step - reward: -0.1944\n",
      "50 episodes - episode_reward: -38.876 [-97.448, -1.383] - loss: 15.797 - mean_absolute_error: 0.891 - mean_q: 76.079\n",
      "\n",
      "Interval 24 (230000 steps performed)\n",
      "10000/10000 [==============================] - 43s 4ms/step - reward: -0.1315\n",
      "50 episodes - episode_reward: -26.310 [-93.509, -0.107] - loss: 14.357 - mean_absolute_error: 0.850 - mean_q: 75.002\n",
      "\n",
      "Interval 25 (240000 steps performed)\n",
      "10000/10000 [==============================] - 43s 4ms/step - reward: -0.3855\n",
      "50 episodes - episode_reward: -77.093 [-183.033, -7.808] - loss: 13.182 - mean_absolute_error: 0.693 - mean_q: 72.148\n",
      "\n",
      "Interval 26 (250000 steps performed)\n",
      "10000/10000 [==============================] - 43s 4ms/step - reward: -0.0669\n",
      "50 episodes - episode_reward: -13.374 [-37.770, -5.588] - loss: 12.172 - mean_absolute_error: 0.667 - mean_q: 69.123\n",
      "\n",
      "Interval 27 (260000 steps performed)\n",
      "10000/10000 [==============================] - 43s 4ms/step - reward: -0.0371\n",
      "50 episodes - episode_reward: -7.427 [-47.268, -0.186] - loss: 10.802 - mean_absolute_error: 0.574 - mean_q: 65.327\n",
      "\n",
      "Interval 28 (270000 steps performed)\n",
      "10000/10000 [==============================] - 43s 4ms/step - reward: -0.0981\n",
      "50 episodes - episode_reward: -19.612 [-68.491, -0.081] - loss: 9.906 - mean_absolute_error: 0.550 - mean_q: 62.413\n",
      "\n",
      "Interval 29 (280000 steps performed)\n",
      "10000/10000 [==============================] - 43s 4ms/step - reward: -0.0869\n",
      "50 episodes - episode_reward: -17.388 [-82.262, -0.125] - loss: 8.273 - mean_absolute_error: 0.478 - mean_q: 57.813\n",
      "\n",
      "Interval 30 (290000 steps performed)\n",
      " 3034/10000 [========>.....................] - ETA: 30s - reward: -0.0983"
     ]
    }
   ],
   "source": [
    "#safe learning\n",
    "step = 300000\n",
    "episode_step = int(200 * 0.05 / (dt * control_interval)) # 入力が加えられる回数を200(dt=0.05)にする\n",
    "a = agent((2,), (2,))\n",
    "a.compile(Adam(lr=0.001, clipnorm=1.), metrics=[\"mae\"])\n",
    "# a.load_weights('../learned_models_vol2/0.5standup-agent.h5')\n",
    "# a.load_weights('../../learned_models_stab/lqr_optimal_agent.h5')\n",
    "out = a.fit(env, nb_steps=step, visualize=0, verbose=1, nb_max_episode_steps=episode_step, action_repetition=control_interval)\n",
    "\n",
    "episode_rewards = out.history[\"episode_reward\"]"
   ]
  },
  {
   "cell_type": "code",
   "execution_count": 9,
   "metadata": {},
   "outputs": [
    {
     "ename": "NameError",
     "evalue": "name 'l' is not defined",
     "output_type": "error",
     "traceback": [
      "\u001b[0;31m---------------------------------------------------------------------------\u001b[0m",
      "\u001b[0;31mNameError\u001b[0m                                 Traceback (most recent call last)",
      "\u001b[0;32m<ipython-input-9-24402d57ed65>\u001b[0m in \u001b[0;36m<module>\u001b[0;34m\u001b[0m\n\u001b[1;32m      3\u001b[0m \u001b[0mma\u001b[0m \u001b[0;34m=\u001b[0m \u001b[0mmoving_average\u001b[0m\u001b[0;34m(\u001b[0m\u001b[0mepisode_rewards\u001b[0m\u001b[0;34m,\u001b[0m \u001b[0mlma\u001b[0m\u001b[0;34m)\u001b[0m\u001b[0;34m\u001b[0m\u001b[0;34m\u001b[0m\u001b[0m\n\u001b[1;32m      4\u001b[0m \u001b[0mplt\u001b[0m\u001b[0;34m.\u001b[0m\u001b[0mplot\u001b[0m\u001b[0;34m(\u001b[0m\u001b[0mrange\u001b[0m\u001b[0;34m(\u001b[0m\u001b[0mlen\u001b[0m\u001b[0;34m(\u001b[0m\u001b[0mepisode_rewards\u001b[0m\u001b[0;34m)\u001b[0m\u001b[0;34m)\u001b[0m\u001b[0;34m,\u001b[0m \u001b[0mepisode_rewards\u001b[0m\u001b[0;34m,\u001b[0m \u001b[0malpha\u001b[0m\u001b[0;34m=\u001b[0m\u001b[0;36m0.7\u001b[0m\u001b[0;34m)\u001b[0m\u001b[0;34m\u001b[0m\u001b[0;34m\u001b[0m\u001b[0m\n\u001b[0;32m----> 5\u001b[0;31m \u001b[0mplt\u001b[0m\u001b[0;34m.\u001b[0m\u001b[0mplot\u001b[0m\u001b[0;34m(\u001b[0m\u001b[0mrange\u001b[0m\u001b[0;34m(\u001b[0m\u001b[0mlma\u001b[0m\u001b[0;34m,\u001b[0m \u001b[0mlen\u001b[0m\u001b[0;34m(\u001b[0m\u001b[0mepisode_rewards\u001b[0m\u001b[0;34m)\u001b[0m\u001b[0;34m)\u001b[0m\u001b[0;34m,\u001b[0m \u001b[0mma\u001b[0m\u001b[0;34m,\u001b[0m \u001b[0mlabel\u001b[0m\u001b[0;34m=\u001b[0m\u001b[0;34mf'{l} moving average'\u001b[0m\u001b[0;34m,\u001b[0m \u001b[0malpha\u001b[0m\u001b[0;34m=\u001b[0m\u001b[0;36m0.7\u001b[0m\u001b[0;34m)\u001b[0m\u001b[0;34m\u001b[0m\u001b[0;34m\u001b[0m\u001b[0m\n\u001b[0m\u001b[1;32m      6\u001b[0m \u001b[0mplt\u001b[0m\u001b[0;34m.\u001b[0m\u001b[0mxlabel\u001b[0m\u001b[0;34m(\u001b[0m\u001b[0;34m'episode'\u001b[0m\u001b[0;34m)\u001b[0m\u001b[0;34m\u001b[0m\u001b[0;34m\u001b[0m\u001b[0m\n\u001b[1;32m      7\u001b[0m \u001b[0mplt\u001b[0m\u001b[0;34m.\u001b[0m\u001b[0mylabel\u001b[0m\u001b[0;34m(\u001b[0m\u001b[0;34m'accumulated reward'\u001b[0m\u001b[0;34m)\u001b[0m\u001b[0;34m\u001b[0m\u001b[0;34m\u001b[0m\u001b[0m\n",
      "\u001b[0;31mNameError\u001b[0m: name 'l' is not defined"
     ]
    },
    {
     "data": {
      "image/png": "[encoded data removed]",
      "text/plain": [
       "<Figure size 864x432 with 1 Axes>"
      ]
     },
     "metadata": {
      "needs_background": "light"
     },
     "output_type": "display_data"
    }
   ],
   "source": [
    "lma = 30\n",
    "plt.figure(figsize=(12,6))\n",
    "ma = moving_average(episode_rewards, lma)\n",
    "plt.plot(range(len(episode_rewards)), episode_rewards, alpha=0.7)\n",
    "plt.plot(range(lma, len(episode_rewards)), ma, label=f'{lma} moving average', alpha=0.7)\n",
    "plt.xlabel('episode')\n",
    "plt.ylabel('accumulated reward')\n",
    "plt.title('episode transition')\n",
    "plt.legend()\n",
    "plt.show()"
   ]
  },
  {
   "cell_type": "code",
   "execution_count": null,
   "metadata": {},
   "outputs": [],
   "source": []
  }
 ],
 "metadata": {
  "kernelspec": {
   "display_name": "Python 3",
   "language": "python",
   "name": "python3"
  },
  "language_info": {
   "codemirror_mode": {
    "name": "ipython",
    "version": 3
   },
   "file_extension": ".py",
   "mimetype": "text/x-python",
   "name": "python",
   "nbconvert_exporter": "python",
   "pygments_lexer": "ipython3",
   "version": "3.7.3"
  }
 },
 "nbformat": 4,
 "nbformat_minor": 4
}
