{
 "cells": [
  {
   "cell_type": "code",
   "execution_count": 1,
   "metadata": {},
   "outputs": [
    {
     "name": "stderr",
     "output_type": "stream",
     "text": [
      "Using TensorFlow backend.\n",
      "Using TensorFlow backend.\n"
     ]
    }
   ],
   "source": [
    "import warnings\n",
    "warnings.filterwarnings('ignore')\n",
    "import numpy as np\n",
    "import matplotlib.pyplot as plt\n",
    "\n",
    "import sys\n",
    "sys.path.append('../../module/')\n",
    "\n",
    "import keras2\n",
    "from keras2.models import Model\n",
    "from keras2.layers import concatenate, Dense, Input, Flatten\n",
    "from keras2.optimizers import Adam\n",
    "from util import moving_average, dlqr, discretized_system, lqr\n",
    "import gym2\n",
    "from rl2.agents import selfDDPGAgent\n",
    "from rl2.memory import SequentialMemory"
   ]
  },
  {
   "cell_type": "code",
   "execution_count": 2,
   "metadata": {},
   "outputs": [],
   "source": [
    "# GymのPendulum環境を作成\n",
    "dt = 0.05\n",
    "env = gym2.make(\"Pendulum-v1\", dt)\n",
    "clip = 10.\n",
    "env.max_torque, max_torque = clip, clip\n",
    "env.action_space.high, env.action_space.low = max_torque, -max_torque\n",
    "control_interval = 5\n",
    "\n",
    "# 取りうる”打ち手”のアクション数と値の定義\n",
    "nb_actios = 2\n",
    "ACT_ID_TO_VALUE = {0: [-1], 1: [+1]}"
   ]
  },
  {
   "cell_type": "code",
   "execution_count": 8,
   "metadata": {
    "code_folding": []
   },
   "outputs": [],
   "source": [
    "def _actor_initial_weight(actor):\n",
    "    m, l, g = env.m, env.l, env.g\n",
    "\n",
    "    A = np.array([[0, 1], [(3*g)/(2*l), 0]])\n",
    "    B = np.array([[0], [3/(m*l**2)]])\n",
    "    Q = np.array([[1, 0], [0, 0.1]])\n",
    "    R = np.array([[0.01]])\n",
    "    \n",
    "    Ad, Bd = discretized_system(A, B, control_interval * dt)\n",
    "    \n",
    "    K = dlqr(Ad,Bd,Q,R)[0]\n",
    "    K = lqr(A,B,Q,R)[0]\n",
    "    \n",
    "    weights = []\n",
    "    for i in range(len(actor.layers)):\n",
    "        if i < 2:\n",
    "            continue\n",
    "        else:\n",
    "            w, b = actor.layers[i].get_weights()\n",
    "            # w, b = np.zeros_like(w), np.zeros_like(b)\n",
    "            w, b = np.random.randn(w.shape[0], w.shape[1]) / 1., np.random.randn(b.shape[0]) / 1. \n",
    "            if i == 2:\n",
    "                w[0][0] = K[0]\n",
    "                w[1][0] = K[1]\n",
    "            elif i == 4:\n",
    "                w[0][0] = 1\n",
    "                w[1][1] = 1\n",
    "            else:\n",
    "                w[0][0] = 1\n",
    "            weights.append(w)\n",
    "            weights.append(b)\n",
    "    return weights\n",
    "\n",
    "def actor_net(a_shape, s_shape):\n",
    "    action_input = Input(shape=(1,)+s_shape)\n",
    "    x = Flatten()(action_input)\n",
    "    x = Dense(16, activation=\"single_lin_relu\")(x)\n",
    "    x = Dense(16, activation=\"single_lin_relu\")(x)\n",
    "    x = Dense(2, activation=\"linear\")(x)\n",
    "    actor = Model(inputs=action_input, outputs=x)\n",
    "    actor.summary()\n",
    "    actor.set_weights(_actor_initial_weight(actor))\n",
    "    return actor\n",
    "\n",
    "def critic_net(a_shape , s_shape):\n",
    "    action_input = Input(a_shape)\n",
    "    observation_input = Input(shape=(1,)+s_shape)\n",
    "    flattened_observation = Flatten()(observation_input)\n",
    "    x = concatenate([action_input, flattened_observation])\n",
    "    x = Dense(16, activation=\"relu\")(x)\n",
    "    x = Dense(16, activation=\"relu\")(x)\n",
    "    x = Dense(1, activation=\"linear\")(x)\n",
    "    critic = Model(inputs=[action_input, observation_input], outputs=x)\n",
    "    return (critic, action_input)"
   ]
  },
  {
   "cell_type": "code",
   "execution_count": 9,
   "metadata": {},
   "outputs": [],
   "source": [
    "def agent(a_shape, s_shape):\n",
    "    actor = actor_net(a_shape, s_shape)\n",
    "    critic,  critic_action_input = critic_net(a_shape, s_shape)\n",
    "    memory = SequentialMemory(limit = 50000, window_length = 1)\n",
    "    agent = selfDDPGAgent(\n",
    "        a_shape[0],\n",
    "        actor,\n",
    "        critic,\n",
    "        critic_action_input,\n",
    "        memory,\n",
    "        clip_com = 0.01\n",
    "    )\n",
    "    return agent"
   ]
  },
  {
   "cell_type": "code",
   "execution_count": 10,
   "metadata": {},
   "outputs": [
    {
     "name": "stdout",
     "output_type": "stream",
     "text": [
      "_________________________________________________________________\n",
      "Layer (type)                 Output Shape              Param #   \n",
      "=================================================================\n",
      "input_4 (InputLayer)         (None, 1, 2)              0         \n",
      "_________________________________________________________________\n",
      "flatten_3 (Flatten)          (None, 2)                 0         \n",
      "_________________________________________________________________\n",
      "dense_7 (Dense)              (None, 16)                48        \n",
      "_________________________________________________________________\n",
      "dense_8 (Dense)              (None, 16)                272       \n",
      "_________________________________________________________________\n",
      "dense_9 (Dense)              (None, 2)                 34        \n",
      "=================================================================\n",
      "Total params: 354\n",
      "Trainable params: 354\n",
      "Non-trainable params: 0\n",
      "_________________________________________________________________\n"
     ]
    }
   ],
   "source": [
    "#safe learning\n",
    "l = 0.1\n",
    "step = 300000\n",
    "episode_step = int(200 * 0.05 / (dt * control_interval)) # 入力が加えられる回数を200(dt=0.05)にする\n",
    "a = agent((2,), (2,))\n",
    "a.compile(Adam(lr=0.001, clipnorm=1.), metrics=[\"mae\"])\n",
    "# a.load_weights('../learned_models_vol2/0.5standup-agent.h5')\n",
    "# a.load_weights('../../learned_models_stab/lqr_optimal_agent.h5')\n",
    "# a.fit(env, l=l, nb_steps=step, visualize=0, verbose=1, nb_max_episode_steps=episode_step, action_repetition=control_interval)"
   ]
  },
  {
   "cell_type": "code",
   "execution_count": 11,
   "metadata": {},
   "outputs": [
    {
     "name": "stdout",
     "output_type": "stream",
     "text": [
      "Testing for 1 episodes ...\n",
      "Episode 1: reward: nan, steps: 40\n"
     ]
    },
    {
     "data": {
      "text/plain": [
       "<keras2.callbacks.History at 0x13912cd90>"
      ]
     },
     "execution_count": 11,
     "metadata": {},
     "output_type": "execute_result"
    }
   ],
   "source": [
    "# a.load_weights('../../learned_models_stab/lqr_optimal_agent.h5')\n",
    "a.test(env, l=l, visualize=0, nb_max_episode_steps=episode_step, action_repetition=control_interval)"
   ]
  },
  {
   "cell_type": "code",
   "execution_count": 12,
   "metadata": {},
   "outputs": [
    {
     "data": {
      "image/png": "[encoded data removed]",
      "text/plain": [
       "<Figure size 576x576 with 4 Axes>"
      ]
     },
     "metadata": {
      "needs_background": "light"
     },
     "output_type": "display_data"
    }
   ],
   "source": [
    "titles = ['theta(rad)', 'theta_dot(rad/s)', 'input(Nm)', 'communication'] \n",
    "history = a.data_log[0]\n",
    "x_axis = range(history.shape[0])\n",
    "plt.figure(figsize=(8,8))\n",
    "plt.subplots_adjust(wspace=0.4, hspace=0.6)\n",
    "for i in range(history.shape[1]):\n",
    "    data = history[:,i]\n",
    "    plt.subplot(history.shape[1],1,i+1)\n",
    "    plt.title(titles[i])\n",
    "    plt.plot(x_axis, data)\n",
    "plt.show()"
   ]
  },
  {
   "cell_type": "code",
   "execution_count": 142,
   "metadata": {
    "scrolled": true
   },
   "outputs": [
    {
     "name": "stdout",
     "output_type": "stream",
     "text": [
      "[array([[ 1.6708455 , -2.6261177 ],\n",
      "       [-0.4536044 ,  0.06555211],\n",
      "       [ 0.19171396, -3.577578  ],\n",
      "       [ 1.2969854 ,  4.695612  ],\n",
      "       [-1.6315181 ,  2.983626  ],\n",
      "       [ 0.2194768 ,  1.9341103 ],\n",
      "       [-0.21658091, -4.2455235 ],\n",
      "       [-0.4239911 , -3.5816257 ],\n",
      "       [ 2.6188326 ,  0.6973056 ],\n",
      "       [ 2.7679698 ,  3.9677534 ],\n",
      "       [ 3.4326649 , -2.3517933 ],\n",
      "       [ 1.5291673 , -3.7719707 ],\n",
      "       [ 3.1383488 , -4.980534  ],\n",
      "       [ 3.7697053 ,  2.3376274 ],\n",
      "       [ 0.3606081 , -3.1280239 ],\n",
      "       [ 1.2477865 ,  1.5982213 ]], dtype=float32), array([3.0436926 , 0.22727203], dtype=float32)]\n"
     ]
    }
   ],
   "source": [
    "print(a.layers[4].get_weights())\n",
    "# LQRの重みだけ大きすぎて、他の重みが同じような計算しかしなくなってる"
   ]
  },
  {
   "cell_type": "code",
   "execution_count": 15,
   "metadata": {},
   "outputs": [
    {
     "name": "stdout",
     "output_type": "stream",
     "text": [
      "[ 4.133422  -0.6691612]\n"
     ]
    }
   ],
   "source": [
    "x = np.array([0., 0.])\n",
    "print(a.forward(x))"
   ]
  },
  {
   "cell_type": "code",
   "execution_count": 32,
   "metadata": {
    "scrolled": true
   },
   "outputs": [
    {
     "name": "stdout",
     "output_type": "stream",
     "text": [
      "dict_keys([])\n",
      "__class__\n",
      "__delattr__\n",
      "__dict__\n",
      "__dir__\n",
      "__doc__\n",
      "__eq__\n",
      "__format__\n",
      "__ge__\n",
      "__getattribute__\n",
      "__gt__\n",
      "__hash__\n",
      "__init__\n",
      "__init_subclass__\n",
      "__le__\n",
      "__lt__\n",
      "__module__\n",
      "__ne__\n",
      "__new__\n",
      "__reduce__\n",
      "__reduce_ex__\n",
      "__repr__\n",
      "__setattr__\n",
      "__sizeof__\n",
      "__str__\n",
      "__subclasshook__\n",
      "__weakref__\n",
      "_set_env\n",
      "env\n",
      "episode_rewards\n",
      "info_names\n",
      "infos\n",
      "interval\n",
      "interval_start\n",
      "metrics\n",
      "metrics_names\n",
      "model\n",
      "on_action_begin\n",
      "on_action_end\n",
      "on_batch_begin\n",
      "on_batch_end\n",
      "on_episode_begin\n",
      "on_episode_end\n",
      "on_epoch_begin\n",
      "on_epoch_end\n",
      "on_step_begin\n",
      "on_step_end\n",
      "on_train_begin\n",
      "on_train_end\n",
      "params\n",
      "progbar\n",
      "reset\n",
      "set_model\n",
      "set_params\n",
      "step\n",
      "train_start\n"
     ]
    }
   ],
   "source": [
    "import inspect\n",
    "logger = callback.callbacks[0]\n",
    "print(logger.info_names)\n",
    "#print(vars(logger))\n",
    "\n",
    "for m in inspect.getmembers(logger):\n",
    "    print(m[0])"
   ]
  },
  {
   "cell_type": "code",
   "execution_count": null,
   "metadata": {},
   "outputs": [],
   "source": []
  }
 ],
 "metadata": {
  "kernelspec": {
   "display_name": "Python 3",
   "language": "python",
   "name": "python3"
  },
  "language_info": {
   "codemirror_mode": {
    "name": "ipython",
    "version": 3
   },
   "file_extension": ".py",
   "mimetype": "text/x-python",
   "name": "python",
   "nbconvert_exporter": "python",
   "pygments_lexer": "ipython3",
   "version": "3.7.4"
  }
 },
 "nbformat": 4,
 "nbformat_minor": 4
}
