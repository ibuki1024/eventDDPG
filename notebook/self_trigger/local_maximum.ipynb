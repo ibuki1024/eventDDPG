{
 "cells": [
  {
   "cell_type": "code",
   "execution_count": 7,
   "metadata": {},
   "outputs": [
    {
     "name": "stderr",
     "output_type": "stream",
     "text": [
      "Using TensorFlow backend.\n",
      "Using TensorFlow backend.\n"
     ]
    }
   ],
   "source": [
    "import warnings\n",
    "warnings.filterwarnings('ignore')\n",
    "import numpy as np\n",
    "import matplotlib.pyplot as plt\n",
    "\n",
    "import sys\n",
    "sys.path.append('../../module/')\n",
    "\n",
    "from keras2.models import Model\n",
    "from keras2.layers import concatenate, Dense, Input, Flatten\n",
    "from keras2.optimizers import Adam\n",
    "import csv\n",
    "from util import *\n",
    "import gym2\n",
    "from rl2.agents import selfDDPGAgent, selfDDPGAgent2\n",
    "from rl2.memory import SequentialMemory"
   ]
  },
  {
   "cell_type": "code",
   "execution_count": 8,
   "metadata": {},
   "outputs": [],
   "source": [
    "# GymのPendulum環境を作成\n",
    "env = gym2.make(\"Pendulum-v2\")\n",
    "\n",
    "# 取りうる”打ち手”のアクション数と値の定義\n",
    "nb_actios = 2\n",
    "ACT_ID_TO_VALUE = {0: [-1], 1: [+1]}"
   ]
  },
  {
   "cell_type": "code",
   "execution_count": 9,
   "metadata": {},
   "outputs": [],
   "source": [
    "def critic_net(a_shape , s_shape):\n",
    "    action_input = Input(a_shape)\n",
    "    observation_input = Input(shape=(1,)+s_shape)\n",
    "    flattened_observation = Flatten()(observation_input)\n",
    "    x = concatenate([action_input, flattened_observation])\n",
    "    x = Dense(16, activation=\"relu\")(x)\n",
    "    x = Dense(16, activation=\"relu\")(x)\n",
    "    x = Dense(1, activation=\"linear\")(x)\n",
    "    critic = Model(inputs=[action_input, observation_input], outputs=x)\n",
    "    return (critic, action_input)\n",
    "\n",
    "def branch_actor(a_shape, s_shape):\n",
    "    action_input = Input(shape=(1,)+s_shape)\n",
    "    x = Flatten()(action_input) # 実質的なinput layer\n",
    "    \n",
    "    x1 = Dense(8, activation=\"relu\")(x)\n",
    "    x1 = Dense(8, activation=\"relu\")(x1)\n",
    "    x1 = Dense(1, activation=\"multiple_tanh\")(x1) # action signal\n",
    "    \n",
    "    x2 = Dense(8, activation=\"relu\")(x)\n",
    "    x2 = Dense(8, activation=\"relu\")(x2)\n",
    "    x2 = Dense(1, activation=\"tau_output\")(x2) # tau\n",
    "    \n",
    "    output = concatenate([x1, x2])\n",
    "    actor = Model(inputs=action_input, outputs=output)\n",
    "    return actor\n",
    "\n",
    "\n",
    "def agent2(a_shape, s_shape):\n",
    "    actor = branch_actor(a_shape, s_shape)\n",
    "    critic,  critic_action_input = critic_net(a_shape, s_shape)\n",
    "    memory = SequentialMemory(limit = 50000, window_length = 1)\n",
    "    agent = selfDDPGAgent2(\n",
    "        a_shape[0],\n",
    "        actor,\n",
    "        critic,\n",
    "        critic_action_input,\n",
    "        memory,\n",
    "        original_noise=True,\n",
    "        action_clipper=[-10., 10.],\n",
    "        tau_clipper=[0.001, 1.],\n",
    "        params_logging=False,\n",
    "        gradient_logging=False,\n",
    "        batch_size=128,\n",
    "    )\n",
    "    return agent"
   ]
  },
  {
   "cell_type": "code",
   "execution_count": 26,
   "metadata": {},
   "outputs": [],
   "source": [
    "def value_function_ap(state, agent):\n",
    "    assert agent.compiled == True\n",
    "    state_ = np.array([[state]])\n",
    "    action_ = agent.actor.predict(state_)\n",
    "    value_function = agent.critic.predict([action_, state_])[0][0] #Q(a,s)\n",
    "    return value_function\n",
    "\n",
    "def value_function(state, agent, step_limit=5000):\n",
    "    gamma = 0.99\n",
    "    env.reset()\n",
    "    env.set_state = state\n",
    "    episode_reward = 0\n",
    "    for steps in range(step_limit):\n",
    "        reward = 0\n",
    "        x = env.state\n",
    "        a_agent, tau = agent.forward(x)\n",
    "        action_repetition = int(np.ceil(20 * tau))  # minimum natural number which makes `dt` smaller than 0.05\n",
    "        dt = tau / action_repetition\n",
    "        for p in range(action_repetition):\n",
    "            _,_,r,_ = env.step(np.array([a_agent]), dt, tau)\n",
    "            reward += r\n",
    "        reward *= dt\n",
    "        reward += - tau * 0.01 * a_agent**2 + l * tau # step reward\n",
    "\n",
    "        episode_reward += pow(gamma, steps) * reward\n",
    "    return episode_reward"
   ]
  },
  {
   "cell_type": "code",
   "execution_count": 11,
   "metadata": {},
   "outputs": [
    {
     "name": "stdout",
     "output_type": "stream",
     "text": [
      "WARNING:tensorflow:From ../../module/keras2/backend/tensorflow_backend.py:82: The name tf.get_default_graph is deprecated. Please use tf.compat.v1.get_default_graph instead.\n",
      "\n",
      "WARNING:tensorflow:From ../../module/keras2/backend/tensorflow_backend.py:525: The name tf.placeholder is deprecated. Please use tf.compat.v1.placeholder instead.\n",
      "\n",
      "WARNING:tensorflow:From ../../module/keras2/backend/tensorflow_backend.py:4148: The name tf.random_uniform is deprecated. Please use tf.random.uniform instead.\n",
      "\n",
      "WARNING:tensorflow:From ../../module/keras2/backend/tensorflow_backend.py:182: The name tf.get_default_session is deprecated. Please use tf.compat.v1.get_default_session instead.\n",
      "\n",
      "WARNING:tensorflow:From ../../module/keras2/backend/tensorflow_backend.py:189: The name tf.ConfigProto is deprecated. Please use tf.compat.v1.ConfigProto instead.\n",
      "\n",
      "WARNING:tensorflow:From ../../module/keras2/optimizers.py:790: The name tf.train.Optimizer is deprecated. Please use tf.compat.v1.train.Optimizer instead.\n",
      "\n"
     ]
    }
   ],
   "source": [
    "# agent compilation\n",
    "l = 1.\n",
    "step = 50000  # num of interval\n",
    "episode_step = step\n",
    "a = agent2((2,), (2,))\n",
    "actor_optimizer, critic_optimizer = Adam(lr=100., clipnorm=1.), Adam(lr=0.001, clipnorm=1.) # actorの方は何でもいい\n",
    "optimizer = [actor_optimizer, critic_optimizer]\n",
    "a.compile(optimizer=optimizer, metrics=[\"mse\"], action_lr=0.0001, tau_lr=0.001)"
   ]
  },
  {
   "cell_type": "markdown",
   "metadata": {},
   "source": [
    "## 0.01に張り付くagentか, self_triggerっぽいagentかどちらかに学習できるか, 学習が発散するかのどれかになる\n",
    "学習できた二つについて,  $J(\\theta)$の値がどちらが大きいのかを調べる"
   ]
  },
  {
   "cell_type": "code",
   "execution_count": 14,
   "metadata": {},
   "outputs": [
    {
     "data": {
      "text/plain": [
       "<matplotlib.collections.PathCollection at 0x12b3ba310>"
      ]
     },
     "execution_count": 14,
     "metadata": {},
     "output_type": "execute_result"
    },
    {
     "data": {
      "image/png": "[encoded data removed]",
      "text/plain": [
       "<Figure size 432x288 with 1 Axes>"
      ]
     },
     "metadata": {
      "needs_background": "light"
     },
     "output_type": "display_data"
    }
   ],
   "source": [
    "# sample state\n",
    "lim = np.array([np.pi, np.pi])\n",
    "state_batch = []\n",
    "batch_size = 500\n",
    "\n",
    "for _ in range(batch_size):\n",
    "    state_batch.append(np.random.uniform(low=-lim, high=lim))\n",
    "state_batch = np.array(state_batch)\n",
    "\n",
    "plt.scatter(state_batch[:,0], state_batch[:,1])"
   ]
  },
  {
   "cell_type": "markdown",
   "metadata": {},
   "source": [
    "## 0.01に張り付くagent"
   ]
  },
  {
   "cell_type": "code",
   "execution_count": 27,
   "metadata": {},
   "outputs": [],
   "source": [
    "# agent setup\n",
    "a.load_weights('./saved_agent/learned_from_001.h5')\n",
    "a.training = False"
   ]
  },
  {
   "cell_type": "code",
   "execution_count": 28,
   "metadata": {},
   "outputs": [
    {
     "name": "stdout",
     "output_type": "stream",
     "text": [
      "99%\r"
     ]
    }
   ],
   "source": [
    "# critic由来のVと, 蓄積リワードをそれぞれ調べる(全然違う疑惑があるから)\n",
    "\n",
    "v_aps_001 = []\n",
    "vs_001 = []\n",
    "\n",
    "for i, state in enumerate(state_batch):\n",
    "    print(f'{int(i/5)}%\\r',end='')\n",
    "    v_aps_001.append(value_function_ap(state, a))\n",
    "    vs_001.append(value_function(state, a))"
   ]
  },
  {
   "cell_type": "code",
   "execution_count": 29,
   "metadata": {},
   "outputs": [
    {
     "name": "stdout",
     "output_type": "stream",
     "text": [
      "J(theta) with reward: 0.7500236001079005\n",
      "J(theta) with critic: 1.0748480558395386\n"
     ]
    }
   ],
   "source": [
    "# evaluation function\n",
    "\n",
    "print(f'J(theta) with reward: {np.average(vs_001)}')\n",
    "print(f'J(theta) with critic: {np.average(v_aps_001)}')"
   ]
  },
  {
   "cell_type": "markdown",
   "metadata": {},
   "source": [
    "## いい感じのagent"
   ]
  },
  {
   "cell_type": "code",
   "execution_count": 30,
   "metadata": {},
   "outputs": [],
   "source": [
    "# agent setup\n",
    "a.load_weights('./saved_agent/learned_self4.h5')\n",
    "a.training = False"
   ]
  },
  {
   "cell_type": "code",
   "execution_count": 31,
   "metadata": {},
   "outputs": [
    {
     "name": "stdout",
     "output_type": "stream",
     "text": [
      "99%\r"
     ]
    }
   ],
   "source": [
    "# critic由来のVと, 蓄積リワードをそれぞれ調べる(全然違う疑惑があるから)\n",
    "\n",
    "v_aps = []\n",
    "vs = []\n",
    "\n",
    "for i, state in enumerate(state_batch):\n",
    "    print(f'{int(i/5)}%\\r',end='')\n",
    "    v_aps.append(value_function_ap(state, a))\n",
    "    vs.append(value_function(state, a))"
   ]
  },
  {
   "cell_type": "code",
   "execution_count": 32,
   "metadata": {},
   "outputs": [
    {
     "name": "stdout",
     "output_type": "stream",
     "text": [
      "J(theta) with reward: 33.81102331765953\n",
      "J(theta) with critic: 10.565957069396973\n"
     ]
    }
   ],
   "source": [
    "# evaluation function\n",
    "\n",
    "print(f'J(theta) with reward: {np.average(vs)}')\n",
    "print(f'J(theta) with critic: {np.average(v_aps)}')"
   ]
  },
  {
   "cell_type": "code",
   "execution_count": 39,
   "metadata": {},
   "outputs": [],
   "source": [
    "# data save"
   ]
  },
  {
   "cell_type": "code",
   "execution_count": 38,
   "metadata": {},
   "outputs": [],
   "source": [
    "with open('./csv/v_aps_001.csv', 'w') as f:\n",
    "    writer = csv.writer(f)\n",
    "    writer.writerow(np.array(v_aps_001))\n",
    "    \n",
    "with open('./csv/vs_001.csv', 'w') as f:\n",
    "    writer = csv.writer(f)\n",
    "    writer.writerow(np.array(vs_001))\n",
    "    \n",
    "with open('./csv/v_aps.csv', 'w') as f:\n",
    "    writer = csv.writer(f)\n",
    "    writer.writerow(np.array(v_aps))\n",
    "    \n",
    "with open('./csv/vs.csv', 'w') as f:\n",
    "    writer = csv.writer(f)\n",
    "    writer.writerow(np.array(vs))\n",
    "    \n",
    "with open('./csv/state_batch.csv', 'w') as f:\n",
    "    writer = csv.writer(f)\n",
    "    writer.writerows(state_batch)"
   ]
  },
  {
   "cell_type": "code",
   "execution_count": null,
   "metadata": {},
   "outputs": [],
   "source": []
  }
 ],
 "metadata": {
  "kernelspec": {
   "display_name": "Python 3",
   "language": "python",
   "name": "python3"
  },
  "language_info": {
   "codemirror_mode": {
    "name": "ipython",
    "version": 3
   },
   "file_extension": ".py",
   "mimetype": "text/x-python",
   "name": "python",
   "nbconvert_exporter": "python",
   "pygments_lexer": "ipython3",
   "version": "3.7.4"
  }
 },
 "nbformat": 4,
 "nbformat_minor": 4
}
