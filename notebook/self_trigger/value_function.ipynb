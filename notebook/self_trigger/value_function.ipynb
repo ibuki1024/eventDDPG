{
 "cells": [
  {
   "cell_type": "code",
   "execution_count": 1,
   "metadata": {},
   "outputs": [],
   "source": [
    "# シミュレーションによる価値関数がなぜギザギザなのか考える"
   ]
  },
  {
   "cell_type": "code",
   "execution_count": 2,
   "metadata": {},
   "outputs": [
    {
     "name": "stderr",
     "output_type": "stream",
     "text": [
      "Using TensorFlow backend.\n",
      "Using TensorFlow backend.\n"
     ]
    }
   ],
   "source": [
    "import warnings\n",
    "warnings.filterwarnings('ignore')\n",
    "import numpy as np\n",
    "import matplotlib.pyplot as plt\n",
    "from mpl_toolkits.mplot3d import Axes3D\n",
    "\n",
    "import sys\n",
    "sys.path.append('../../module/')\n",
    "\n",
    "from keras2.models import Model\n",
    "from keras2.layers import concatenate, Dense, Input, Flatten\n",
    "from keras2.optimizers import Adam\n",
    "import csv\n",
    "from util import *\n",
    "import gym2\n",
    "from rl2.agents import selfDDPGAgent, selfDDPGAgent2\n",
    "from rl2.memory import SequentialMemory"
   ]
  },
  {
   "cell_type": "code",
   "execution_count": 3,
   "metadata": {},
   "outputs": [],
   "source": [
    "# GymのPendulum環境を作成\n",
    "env = gym2.make(\"Pendulum-v2\")\n",
    "\n",
    "# 取りうる”打ち手”のアクション数と値の定義\n",
    "nb_actios = 2\n",
    "ACT_ID_TO_VALUE = {0: [-1], 1: [+1]}"
   ]
  },
  {
   "cell_type": "code",
   "execution_count": 172,
   "metadata": {},
   "outputs": [],
   "source": [
    "def critic_net(a_shape , s_shape):\n",
    "    action_input = Input(a_shape)\n",
    "    observation_input = Input(shape=(1,)+s_shape)\n",
    "    flattened_observation = Flatten()(observation_input)\n",
    "    x = concatenate([action_input, flattened_observation])\n",
    "    x = Dense(16, activation=\"relu\")(x)\n",
    "    x = Dense(16, activation=\"relu\")(x)\n",
    "    x = Dense(1, activation=\"linear\")(x)\n",
    "    critic = Model(inputs=[action_input, observation_input], outputs=x)\n",
    "    return (critic, action_input)\n",
    "\n",
    "def branch_actor(a_shape, s_shape):\n",
    "    action_input = Input(shape=(1,)+s_shape)\n",
    "    x = Flatten()(action_input) # 実質的なinput layer\n",
    "    \n",
    "    x1 = Dense(8, activation=\"relu\")(x)\n",
    "    x1 = Dense(8, activation=\"relu\")(x1)\n",
    "    x1 = Dense(1, activation=\"multiple_tanh\")(x1) # action signal\n",
    "    \n",
    "    x2 = Dense(8, activation=\"relu\")(x)\n",
    "    x2 = Dense(8, activation=\"relu\")(x2)\n",
    "    x2 = Dense(1, activation=\"tau_output\")(x2) # tau\n",
    "    \n",
    "    output = concatenate([x1, x2])\n",
    "    actor = Model(inputs=action_input, outputs=output)\n",
    "    return actor\n",
    "\n",
    "def split_params(tw):\n",
    "    action_tw = []\n",
    "    tau_tw = []\n",
    "    for i in range(len(tw)):\n",
    "        if i % 4 < 2:\n",
    "            action_tw.append(tw[i])\n",
    "        else:\n",
    "            tau_tw.append(tw[i])\n",
    "    return action_tw, tau_tw\n",
    "\n",
    "def agent2(a_shape, s_shape):\n",
    "    actor = branch_actor(a_shape, s_shape)\n",
    "    critic,  critic_action_input = critic_net(a_shape, s_shape)\n",
    "    memory = SequentialMemory(limit = 50000, window_length = 1)\n",
    "    agent = selfDDPGAgent2(\n",
    "        a_shape[0],\n",
    "        actor,\n",
    "        critic,\n",
    "        critic_action_input,\n",
    "        memory,\n",
    "        original_noise=True,\n",
    "        action_clipper=[-10., 10.],\n",
    "        tau_clipper=[0.001, 1.],\n",
    "        params_logging=False,\n",
    "        gradient_logging=False,\n",
    "        batch_size=128,\n",
    "    )\n",
    "    return agent"
   ]
  },
  {
   "cell_type": "code",
   "execution_count": 5,
   "metadata": {},
   "outputs": [
    {
     "name": "stdout",
     "output_type": "stream",
     "text": [
      "WARNING:tensorflow:From ../../module/keras2/backend/tensorflow_backend.py:82: The name tf.get_default_graph is deprecated. Please use tf.compat.v1.get_default_graph instead.\n",
      "\n",
      "WARNING:tensorflow:From ../../module/keras2/backend/tensorflow_backend.py:525: The name tf.placeholder is deprecated. Please use tf.compat.v1.placeholder instead.\n",
      "\n",
      "WARNING:tensorflow:From ../../module/keras2/backend/tensorflow_backend.py:4148: The name tf.random_uniform is deprecated. Please use tf.random.uniform instead.\n",
      "\n",
      "WARNING:tensorflow:From ../../module/keras2/backend/tensorflow_backend.py:182: The name tf.get_default_session is deprecated. Please use tf.compat.v1.get_default_session instead.\n",
      "\n",
      "WARNING:tensorflow:From ../../module/keras2/backend/tensorflow_backend.py:189: The name tf.ConfigProto is deprecated. Please use tf.compat.v1.ConfigProto instead.\n",
      "\n",
      "WARNING:tensorflow:From ../../module/keras2/optimizers.py:790: The name tf.train.Optimizer is deprecated. Please use tf.compat.v1.train.Optimizer instead.\n",
      "\n"
     ]
    }
   ],
   "source": [
    "# agent compilation\n",
    "l = 1.\n",
    "a = agent2((2,), (2,))\n",
    "actor_optimizer, critic_optimizer = Adam(lr=100., clipnorm=1.), Adam(lr=0.001, clipnorm=1.) # actorの方は何でもいい\n",
    "optimizer = [actor_optimizer, critic_optimizer]\n",
    "a.compile(optimizer=optimizer, metrics=[\"mse\"], action_lr=0.0001, tau_lr=0.001)"
   ]
  },
  {
   "cell_type": "code",
   "execution_count": 156,
   "metadata": {},
   "outputs": [],
   "source": [
    "# value_function_network\n",
    "def value_model(s_shape):\n",
    "    action_input = Input(shape=(1,)+s_shape)\n",
    "    x = Flatten()(action_input) # 実質的なinput layer\n",
    "    \n",
    "    x = Dense(32, activation=\"relu\")(x)\n",
    "    x = Dense(16, activation=\"relu\")(x)\n",
    "    x = Dense(1, activation=\"linear\")(x) # action signal\n",
    "    \n",
    "    output = x\n",
    "    value = Model(inputs=action_input, outputs=output)\n",
    "    return value\n",
    "\n",
    "def Q_model(s_shape, a_shape):\n",
    "    action_input = Input(a_shape)\n",
    "    observation_input = Input(shape=(1,)+s_shape)\n",
    "    flattened_observation = Flatten()(observation_input)\n",
    "    x = concatenate([action_input, flattened_observation])\n",
    "    \n",
    "    x = Dense(8, activation=\"relu\")(x)\n",
    "    x = Dense(8, activation=\"relu\")(x)\n",
    "    x = Dense(1, activation=\"linear\")(x) # action signal\n",
    "    \n",
    "    output = x\n",
    "    value = Model(inputs=[action_input, observation_input], outputs=output)\n",
    "    value.summary()\n",
    "    return value\n",
    "\n",
    "def interaction(agent, env, start_state, gamma=.99, step_limit=1000):\n",
    "    rewards = []\n",
    "    env.reset()\n",
    "    env.set_state(start_state)\n",
    "    episode_reward = 0\n",
    "    for steps in range(step_limit):\n",
    "        reward = 0\n",
    "        x = env.state\n",
    "        a_agent, tau = agent.forward(x)\n",
    "        action_repetition = int(np.ceil(20 * tau))  # minimum natural number which makes `dt` smaller than 0.005\n",
    "        dt = tau/action_repetition\n",
    "        for p in range(action_repetition):\n",
    "            _,r,_,_ = env.step(np.array([a_agent]), dt, tau)\n",
    "            reward += r\n",
    "        reward *= dt\n",
    "        reward += - tau * 0.01 * a_agent**2 + l * tau # step reward\n",
    "        rewards.append(reward)\n",
    "        #if steps < 5000:\n",
    "            #print(steps, reward, pow(gamma, steps) * reward)\n",
    "\n",
    "        episode_reward += pow(gamma, steps) * reward\n",
    "    \n",
    "    return episode_reward\n"
   ]
  },
  {
   "cell_type": "markdown",
   "metadata": {},
   "source": [
    "## `self_trigger7`"
   ]
  },
  {
   "cell_type": "code",
   "execution_count": null,
   "metadata": {},
   "outputs": [],
   "source": [
    "%%time\n",
    "# make train_data\n",
    "a.actor.load_weights('./saved_agent/learned_self_clipped7_actor.h5')\n",
    "\n",
    "values = []\n",
    "\n",
    "th = np.linspace(-np.pi, np.pi, 100)\n",
    "thd = np.linspace(-2*np.pi, 2*np.pi, 100)\n",
    "\n",
    "TH, THD = np.meshgrid(th, thd)\n",
    "torques, taus = [], []\n",
    "\n",
    "for state in zip(TH.flatten(), THD.flatten()):\n",
    "    state = np.array(state)\n",
    "    v = interaction(a, env, state)\n",
    "    values.append(v)\n",
    "\n",
    "values = np.array(values)"
   ]
  },
  {
   "cell_type": "code",
   "execution_count": 134,
   "metadata": {},
   "outputs": [],
   "source": [
    "# write\n",
    "with open('./csv/value_true7.csv', 'w') as f:\n",
    "    writer = csv.writer(f)\n",
    "    writer.writerow(values)"
   ]
  },
  {
   "cell_type": "code",
   "execution_count": 10,
   "metadata": {},
   "outputs": [],
   "source": [
    "# read \n",
    "with open('./csv/value_true7.csv', 'r') as f:\n",
    "    reader = csv.reader(f)\n",
    "    values = np.array([r for r in reader]).astype('float')"
   ]
  },
  {
   "cell_type": "code",
   "execution_count": 137,
   "metadata": {},
   "outputs": [
    {
     "data": {
      "text/plain": [
       "<matplotlib.collections.QuadMesh at 0x12e34bd50>"
      ]
     },
     "execution_count": 137,
     "metadata": {},
     "output_type": "execute_result"
    },
    {
     "data": {
      "image/png": "[encoded data removed]",
      "text/plain": [
       "<Figure size 936x432 with 1 Axes>"
      ]
     },
     "metadata": {
      "needs_background": "light"
     },
     "output_type": "display_data"
    }
   ],
   "source": [
    "values\n",
    "fig = plt.figure(figsize=(13,6))\n",
    "ax1 = fig.add_subplot(121)\n",
    "ax1.set_xlabel('angle (rad)')\n",
    "ax1.set_ylabel('angular velocity (rad/s)')\n",
    "ax1.set_title('value')\n",
    "\n",
    "ax1.pcolormesh(TH, THD, values.reshape((100,100)), cmap='seismic')"
   ]
  },
  {
   "cell_type": "code",
   "execution_count": 138,
   "metadata": {
    "scrolled": true
   },
   "outputs": [
    {
     "data": {
      "text/plain": [
       "(array([  96.,  139.,  176.,   45.,  389.,  927., 1711., 1617., 2042.,\n",
       "        2858.]),\n",
       " array([40.88671393, 43.86692312, 46.8471323 , 49.82734149, 52.80755067,\n",
       "        55.78775985, 58.76796904, 61.74817822, 64.72838741, 67.70859659,\n",
       "        70.68880578]),\n",
       " <a list of 10 Patch objects>)"
      ]
     },
     "execution_count": 138,
     "metadata": {},
     "output_type": "execute_result"
    },
    {
     "data": {
      "image/png": "[encoded data removed]",
      "text/plain": [
       "<Figure size 432x288 with 1 Axes>"
      ]
     },
     "metadata": {
      "needs_background": "light"
     },
     "output_type": "display_data"
    }
   ],
   "source": [
    "plt.hist(values)"
   ]
  },
  {
   "cell_type": "code",
   "execution_count": 111,
   "metadata": {},
   "outputs": [
    {
     "name": "stdout",
     "output_type": "stream",
     "text": [
      "<keras2.engine.training.Model object at 0x1345c3610>\n"
     ]
    }
   ],
   "source": [
    "value_function = value_model((2,))\n",
    "value_function.compile(loss='mean_squared_error',optimizer='adam')\n",
    "print(value_function)"
   ]
  },
  {
   "cell_type": "markdown",
   "metadata": {},
   "source": [
    "## `self_trigger1`"
   ]
  },
  {
   "cell_type": "code",
   "execution_count": 29,
   "metadata": {
    "code_folding": []
   },
   "outputs": [],
   "source": [
    "a.actor.load_weights('./saved_agent/learned_self_clipped_actor.h5')\n",
    "\n",
    "\n",
    "with open('./csv/value_true1.csv', 'r') as f:\n",
    "    reader = csv.reader(f)\n",
    "    values = np.array([r for r in reader]).astype('float')\n",
    "\n",
    "th = np.linspace(-np.pi, np.pi, 100)\n",
    "thd = np.linspace(-2*np.pi, 2*np.pi, 100)\n",
    "\n",
    "TH, THD = np.meshgrid(th, thd)"
   ]
  },
  {
   "cell_type": "code",
   "execution_count": 30,
   "metadata": {
    "scrolled": false
   },
   "outputs": [
    {
     "data": {
      "text/plain": [
       "<matplotlib.collections.QuadMesh at 0x131549390>"
      ]
     },
     "execution_count": 30,
     "metadata": {},
     "output_type": "execute_result"
    },
    {
     "data": {
      "image/png": "[encoded data removed]",
      "text/plain": [
       "<Figure size 936x432 with 1 Axes>"
      ]
     },
     "metadata": {
      "needs_background": "light"
     },
     "output_type": "display_data"
    }
   ],
   "source": [
    "fig = plt.figure(figsize=(13,6))\n",
    "ax1 = fig.add_subplot(121)\n",
    "ax1.set_xlabel('angle (rad)')\n",
    "ax1.set_ylabel('angular velocity (rad/s)')\n",
    "ax1.set_title('value')\n",
    "\n",
    "ax1.pcolormesh(TH, THD, values.reshape((100,100)), cmap='seismic')"
   ]
  },
  {
   "cell_type": "markdown",
   "metadata": {},
   "source": [
    "### Q関数を学習する"
   ]
  },
  {
   "cell_type": "code",
   "execution_count": 157,
   "metadata": {},
   "outputs": [
    {
     "name": "stdout",
     "output_type": "stream",
     "text": [
      "__________________________________________________________________________________________________\n",
      "Layer (type)                    Output Shape         Param #     Connected to                     \n",
      "==================================================================================================\n",
      "input_23 (InputLayer)           (None, 1, 2)         0                                            \n",
      "__________________________________________________________________________________________________\n",
      "input_22 (InputLayer)           (None, 2)            0                                            \n",
      "__________________________________________________________________________________________________\n",
      "flatten_19 (Flatten)            (None, 2)            0           input_23[0][0]                   \n",
      "__________________________________________________________________________________________________\n",
      "concatenate_6 (Concatenate)     (None, 4)            0           input_22[0][0]                   \n",
      "                                                                 flatten_19[0][0]                 \n",
      "__________________________________________________________________________________________________\n",
      "dense_52 (Dense)                (None, 8)            40          concatenate_6[0][0]              \n",
      "__________________________________________________________________________________________________\n",
      "dense_53 (Dense)                (None, 8)            72          dense_52[0][0]                   \n",
      "__________________________________________________________________________________________________\n",
      "dense_54 (Dense)                (None, 1)            9           dense_53[0][0]                   \n",
      "==================================================================================================\n",
      "Total params: 121\n",
      "Trainable params: 121\n",
      "Non-trainable params: 0\n",
      "__________________________________________________________________________________________________\n"
     ]
    }
   ],
   "source": [
    "Q_nn = Q_model((2,), (2,))\n",
    "Q_nn.compile(loss='mse', optimizer=Adam(lr=0.001, clipnorm=1.))"
   ]
  },
  {
   "cell_type": "code",
   "execution_count": 92,
   "metadata": {},
   "outputs": [],
   "source": [
    "# 教師データ\n",
    "rewards = []\n",
    "actions = []\n",
    "for state in zip(TH.flatten(), THD.flatten()):\n",
    "    state = np.array(state)\n",
    "    action = a.forward(state)\n",
    "    r = interaction(a, env, state, step_limit=1)\n",
    "    rewards.append(r)\n",
    "    actions.append(action)\n",
    "\n",
    "rewards = np.array(rewards).reshape(TH.shape)\n",
    "actions = np.array(actions)"
   ]
  },
  {
   "cell_type": "code",
   "execution_count": 166,
   "metadata": {},
   "outputs": [],
   "source": [
    "batch_size = 10\n",
    "gamma = 0.99\n",
    "indices = np.random.choice(range(10000),batch_size,replace=False)\n",
    "states = np.vstack((TH.flatten(), THD.flatten())).T\n",
    "batch = [states[indices], actions[indices], rewards.flatten()[indices], values[0][indices]]\n",
    "inputs = [np.array(batch[1]), np.array([batch[0]]).reshape(10,1,2)]"
   ]
  },
  {
   "cell_type": "code",
   "execution_count": 168,
   "metadata": {},
   "outputs": [
    {
     "data": {
      "image/png": "[encoded data removed]",
      "text/plain": [
       "<Figure size 432x288 with 1 Axes>"
      ]
     },
     "metadata": {
      "needs_background": "light"
     },
     "output_type": "display_data"
    }
   ],
   "source": [
    "# 学習\n",
    "a.actor.load_weights('./saved_agent/learned_self_clipped_actor.h5')\n",
    "batch_size = 64\n",
    "gamma = 0.99\n",
    "indices = np.random.choice(range(10000),batch_size,replace=False)\n",
    "states = np.vstack((TH.flatten(), THD.flatten())).T\n",
    "batch = [states[indices], actions[indices], rewards.flatten()[indices], values[0][indices]]\n",
    "\n",
    "epochs = 10000\n",
    "losses = []\n",
    "for _ in range(epochs):\n",
    "    indices = np.random.choice(range(10000),batch_size,replace=False)\n",
    "    batch = [states[indices], actions[indices], rewards.flatten()[indices], values[0][indices]]\n",
    "    \n",
    "    inputs = [np.array(batch[1]), np.array([batch[0]]).reshape(batch_size, 1, 2)]\n",
    "    teacher = batch[2] + gamma * batch[3]\n",
    "    \n",
    "    loss = Q_nn.train_on_batch(inputs, teacher)\n",
    "    losses.append(loss)\n",
    "    \n",
    "plt.plot(losses)\n",
    "plt.xlabel('epochs')\n",
    "plt.ylabel('critic_loss')\n",
    "plt.show()"
   ]
  },
  {
   "cell_type": "code",
   "execution_count": 169,
   "metadata": {},
   "outputs": [],
   "source": [
    "Q_nn.save_weights('./saved_agent/q_function_self1.h5')"
   ]
  },
  {
   "cell_type": "markdown",
   "metadata": {},
   "source": [
    "## 方策勾配を計算する"
   ]
  },
  {
   "cell_type": "code",
   "execution_count": 174,
   "metadata": {},
   "outputs": [],
   "source": [
    "import tensorflow as tf\n",
    "from keras2.optimizers import Optimizer\n",
    "import keras2.backend as K\n",
    "\n",
    "def calculate_gradient(target_func, params, state0_batch, combined_input_tensor):\n",
    "    dummy_optimizer = Optimizer()\n",
    "    gradient_tensors = dummy_optimizer.get_gradients(target_func, params)\n",
    "    \n",
    "    gradient_calculate_function = _gradient_calculate_function(combined_input_tensor, gradient_tensors)\n",
    "    gradient_value = gradient_calculate_function([state0_batch])\n",
    "    \n",
    "    return gradient_value\n",
    "\n",
    "def _gradient_calculate_function(combined_input_tensor, gradient_tensors):\n",
    "    # function input\n",
    "    input_tensors = [combined_input_tensor[1]]\n",
    "\n",
    "    # tensorflow running function\n",
    "    gradient_calculate_function = K.function(input_tensors, gradient_tensors)\n",
    "    return gradient_calculate_function\n",
    "\n",
    "def flatten_gradient(gradient_values):\n",
    "    if len(gradient_values[0].shape) == 2:\n",
    "        g_array = gradient_values[0].flatten()\n",
    "    else:\n",
    "        g_array = gradient_values[0]\n",
    "    for g in gradient_values[1:]:\n",
    "        if len(g.shape) == 2:\n",
    "            g = g.flatten()\n",
    "        g_array = np.hstack((g_array, g))\n",
    "    return g_array\n",
    "\n",
    "state_input = tf.placeholder(tf.float32, shape=(None, 1, 2))\n",
    "actor_output = a.actor(state_input)\n",
    "combined_input_tensor = [actor_output, state_input]\n",
    "critic_output_tensor = Q_nn(combined_input_tensor)\n",
    "loss = -K.mean(critic_output_tensor)\n",
    "action_tw, tau_tw = split_params(a.actor.trainable_weights)"
   ]
  },
  {
   "cell_type": "code",
   "execution_count": 176,
   "metadata": {},
   "outputs": [
    {
     "name": "stdout",
     "output_type": "stream",
     "text": [
      "998 %\n",
      "(14288, 2)\n"
     ]
    }
   ],
   "source": [
    "# state batch with policy depended distribution\n",
    "# 期待値を変えるならここを計算\n",
    "\n",
    "states_batch = []\n",
    "for i in range(500):\n",
    "    env.reset()\n",
    "    time_limit = 10\n",
    "    acc_time = 0\n",
    "    while True:\n",
    "        x = env.state\n",
    "        states_batch.append([x[0], x[1]])\n",
    "        a_agent, tau = a.actor.predict_on_batch(np.array([[x]]))[0]\n",
    "        action_repetition = int(np.ceil(200 * tau))  # minimum natural number which makes `dt` smaller than 0.005\n",
    "        dt = tau / action_repetition\n",
    "        acc_time += tau\n",
    "        for p in range(action_repetition):\n",
    "            _,_,_,_ = env.step(np.array([a_agent]), dt, tau)\n",
    "        if acc_time > time_limit:\n",
    "            break\n",
    "    print('\\r' + f'{i*2} %', end='')\n",
    "states_batch = np.array(states_batch)\n",
    "print()\n",
    "print(states_batch.shape)"
   ]
  },
  {
   "cell_type": "code",
   "execution_count": 177,
   "metadata": {},
   "outputs": [
    {
     "name": "stdout",
     "output_type": "stream",
     "text": [
      "(105,) 14.005304\n",
      "\n",
      "(105,) 8.724301\n"
     ]
    }
   ],
   "source": [
    "# batch gradient\n",
    "\n",
    "# action_gradient for Q-function\n",
    "action_gradient = calculate_gradient(loss, action_tw, states_batch, combined_input_tensor)\n",
    "action_gradient_array = flatten_gradient(action_gradient)\n",
    "print(action_gradient_array.shape, np.linalg.norm(action_gradient_array))\n",
    "    \n",
    "print()\n",
    "# tau_gradient for Q-function\n",
    "tau_gradient = calculate_gradient(loss, tau_tw, states_batch, combined_input_tensor)\n",
    "tau_gradient_array = flatten_gradient(tau_gradient)\n",
    "print(tau_gradient_array.shape, np.linalg.norm(tau_gradient_array))"
   ]
  },
  {
   "cell_type": "markdown",
   "metadata": {},
   "source": [
    "# 以下検証"
   ]
  },
  {
   "cell_type": "code",
   "execution_count": 27,
   "metadata": {},
   "outputs": [],
   "source": [
    "# agent setup\n",
    "a.load_weights('./saved_agent/learned_self_clipped.h5')\n",
    "a.training = False"
   ]
  },
  {
   "cell_type": "code",
   "execution_count": 28,
   "metadata": {},
   "outputs": [
    {
     "name": "stdout",
     "output_type": "stream",
     "text": [
      "36.08192164343578\n",
      "36.08808603859671\n"
     ]
    },
    {
     "data": {
      "image/png": "[encoded data removed]",
      "text/plain": [
       "<Figure size 432x288 with 1 Axes>"
      ]
     },
     "metadata": {
      "needs_background": "light"
     },
     "output_type": "display_data"
    },
    {
     "name": "stdout",
     "output_type": "stream",
     "text": [
      "CPU times: user 6.46 s, sys: 414 ms, total: 6.87 s\n",
      "Wall time: 6.67 s\n"
     ]
    }
   ],
   "source": [
    "%%time\n",
    "# experiment\n",
    "\n",
    "# 近い二つの状態のパスを比べる\n",
    "l = 1.\n",
    "\n",
    "view_path = True\n",
    "cycle = plt.rcParams['axes.prop_cycle'].by_key()['color']\n",
    "\n",
    "# step wise evaluation\n",
    "\n",
    "step_limit = 2000\n",
    "n_episodes = 2\n",
    "gamma = .99\n",
    "average_reward = 0\n",
    "\n",
    "start_point = np.array([[.0, .0],[.01, .01]])\n",
    "\n",
    "\n",
    "for ep in range(n_episodes):\n",
    "    state_log = []\n",
    "    rewards = []\n",
    "    env.reset()\n",
    "    #env.set_state(np.random.uniform(low=-np.array([np.pi,2*np.pi]), high=np.array([np.pi,2*np.pi])))\n",
    "    #env.set_state(np.array([0.,0.]))\n",
    "    env.set_state(start_point[ep])\n",
    "    episode_reward = 0\n",
    "    for steps in range(step_limit):\n",
    "        reward = 0\n",
    "        x = env.state\n",
    "        a_agent, tau = a.forward(x)\n",
    "        state_log.append(x)\n",
    "        action_repetition = int(np.ceil(20 * tau))  # minimum natural number which makes `dt` smaller than 0.005\n",
    "        dt = tau/action_repetition\n",
    "        for p in range(action_repetition):\n",
    "            _,r,_,_ = env.step(np.array([a_agent]), dt, tau)\n",
    "            reward += r\n",
    "        reward *= dt\n",
    "        reward += - tau * 0.01 * a_agent**2 + l * tau # step reward\n",
    "        rewards.append(reward)\n",
    "        #if steps < 5000:\n",
    "            #print(steps, reward, pow(gamma, steps) * reward)\n",
    "\n",
    "        episode_reward += pow(gamma, steps) * reward\n",
    "    print(episode_reward)\n",
    "    average_reward += episode_reward / n_episodes\n",
    "    state_log = np.array(state_log)\n",
    "    if view_path:\n",
    "        plt.scatter(state_log[:,0], state_log[:,1], alpha=0.4, color=cycle[ep])\n",
    "        plt.plot(state_log[:,0], state_log[:,1], alpha=0.4, color=cycle[ep])\n",
    "        plt.scatter(state_log[0,0], state_log[0,1], marker='o', color=cycle[ep])\n",
    "        plt.scatter(state_log[-1,0], state_log[-1,1], marker='x', color=cycle[ep])\n",
    "\n",
    "if view_path:\n",
    "    plt.show()"
   ]
  },
  {
   "cell_type": "code",
   "execution_count": 114,
   "metadata": {},
   "outputs": [],
   "source": [
    "th = np.linspace(-np.pi, np.pi, 100)\n",
    "thd = np.linspace(-2*np.pi, 2*np.pi, 100)\n",
    "\n",
    "TH, THD = np.meshgrid(th, thd)\n",
    "torques, taus = [], []\n",
    "\n",
    "for state in zip(TH.flatten(), THD.flatten()):\n",
    "    state = np.array(state)\n",
    "    action = a.forward(state)\n",
    "    torques.append(action[0])\n",
    "    taus.append(action[1])\n",
    "\n",
    "torques = np.array(torques).reshape(TH.shape)\n",
    "taus = np.array(taus).reshape(TH.shape)"
   ]
  },
  {
   "cell_type": "code",
   "execution_count": 115,
   "metadata": {},
   "outputs": [
    {
     "data": {
      "image/png": "[encoded data removed]",
      "text/plain": [
       "<Figure size 936x432 with 2 Axes>"
      ]
     },
     "metadata": {
      "needs_background": "light"
     },
     "output_type": "display_data"
    }
   ],
   "source": [
    "fig = plt.figure(figsize=(13,6))\n",
    "ax1 = fig.add_subplot(121)\n",
    "ax1.set_xlabel('angle (rad)')\n",
    "ax1.set_ylabel('angular velocity (rad/s)')\n",
    "ax1.set_title('torque')\n",
    "\n",
    "ax1.pcolormesh(TH, THD, torques, cmap='seismic')\n",
    "\n",
    "ax2 = fig.add_subplot(122)\n",
    "ax2.set_xlabel('angle (rad)')\n",
    "ax2.set_ylabel('angular velocity (rad/s)')\n",
    "ax2.set_title('tau')\n",
    "\n",
    "ax2.pcolormesh(TH, THD, taus, cmap='seismic')\n",
    "plt.show()"
   ]
  },
  {
   "cell_type": "code",
   "execution_count": 105,
   "metadata": {},
   "outputs": [
    {
     "name": "stdout",
     "output_type": "stream",
     "text": [
      "36.08192171081065\n",
      "33.80125436189932\n",
      "34.035519305852425\n",
      "CPU times: user 17.2 s, sys: 936 ms, total: 18.2 s\n",
      "Wall time: 17.6 s\n"
     ]
    }
   ],
   "source": [
    "%%time\n",
    "\n",
    "# どのくらいのstep数で切るのが妥当？\n",
    "# experiment\n",
    "\n",
    "# 近い二つの状態のパスを比べる\n",
    "l = 1.\n",
    "\n",
    "view_path = True\n",
    "cycle = plt.rcParams['axes.prop_cycle'].by_key()['color']\n",
    "\n",
    "# step wise evaluation\n",
    "\n",
    "start_point = np.array([[.0, .0], [2.0, -1.0], [-2.0, 1.0]])\n",
    "step_limit = 5000\n",
    "n_episodes = len(start_point)\n",
    "gamma = .99\n",
    "average_reward = 0\n",
    "rewardss = []\n",
    "\n",
    "\n",
    "for ep in range(n_episodes):\n",
    "    state_log = []\n",
    "    rewards = []\n",
    "    env.reset()\n",
    "    env.set_state(start_point[ep])\n",
    "    episode_reward = 0\n",
    "    for steps in range(step_limit):\n",
    "        reward = 0\n",
    "        x = env.state\n",
    "        a_agent, tau = a.forward(x)\n",
    "        state_log.append(x)\n",
    "        action_repetition = int(np.ceil(20 * tau))  # minimum natural number which makes `dt` smaller than 0.005\n",
    "        dt = tau/action_repetition\n",
    "        for p in range(action_repetition):\n",
    "            _,r,_,_ = env.step(np.array([a_agent]), dt, tau)\n",
    "            reward += r\n",
    "        reward *= dt\n",
    "        reward += - tau * 0.01 * a_agent**2 + l * tau # step reward\n",
    "        rewards.append(reward)\n",
    "        #if steps < 5000:\n",
    "            #print(steps, reward, pow(gamma, steps) * reward)\n",
    "\n",
    "        episode_reward += pow(gamma, steps) * reward\n",
    "    print(episode_reward)\n",
    "    rewardss.append(rewards)"
   ]
  },
  {
   "cell_type": "code",
   "execution_count": 107,
   "metadata": {},
   "outputs": [
    {
     "data": {
      "image/png": "[encoded data removed]",
      "text/plain": [
       "<Figure size 432x288 with 1 Axes>"
      ]
     },
     "metadata": {
      "needs_background": "light"
     },
     "output_type": "display_data"
    }
   ],
   "source": [
    "for rewards in rewardss:\n",
    "    eps = 0\n",
    "    discounts = []\n",
    "    for i,r in enumerate(rewards):\n",
    "        eps += pow(.99,i) * r\n",
    "        discounts.append(eps)\n",
    "    plt.plot(discounts)\n",
    "    \n",
    "# 1000もあれば十分"
   ]
  },
  {
   "cell_type": "code",
   "execution_count": null,
   "metadata": {},
   "outputs": [],
   "source": []
  }
 ],
 "metadata": {
  "kernelspec": {
   "display_name": "Python 3",
   "language": "python",
   "name": "python3"
  },
  "language_info": {
   "codemirror_mode": {
    "name": "ipython",
    "version": 3
   },
   "file_extension": ".py",
   "mimetype": "text/x-python",
   "name": "python",
   "nbconvert_exporter": "python",
   "pygments_lexer": "ipython3",
   "version": "3.7.4"
  }
 },
 "nbformat": 4,
 "nbformat_minor": 4
}
