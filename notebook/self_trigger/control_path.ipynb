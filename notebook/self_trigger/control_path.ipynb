{
 "cells": [
  {
   "cell_type": "code",
   "execution_count": 1,
   "metadata": {},
   "outputs": [
    {
     "name": "stderr",
     "output_type": "stream",
     "text": [
      "Using TensorFlow backend.\n",
      "Using TensorFlow backend.\n"
     ]
    }
   ],
   "source": [
    "import warnings\n",
    "warnings.filterwarnings('ignore')\n",
    "import numpy as np\n",
    "import matplotlib.pyplot as plt\n",
    "from mpl_toolkits.mplot3d import Axes3D\n",
    "\n",
    "import sys\n",
    "sys.path.append('../../module/')\n",
    "\n",
    "from keras2.models import Model\n",
    "from keras2.layers import concatenate, Dense, Input, Flatten\n",
    "from keras2.optimizers import Adam\n",
    "import csv\n",
    "from util import *\n",
    "import gym2\n",
    "from rl2.agents import selfDDPGAgent, selfDDPGAgent2\n",
    "from rl2.memory import SequentialMemory"
   ]
  },
  {
   "cell_type": "code",
   "execution_count": 2,
   "metadata": {},
   "outputs": [],
   "source": [
    "# GymのPendulum環境を作成\n",
    "env = gym2.make(\"Pendulum-v2\")\n",
    "\n",
    "# 取りうる”打ち手”のアクション数と値の定義\n",
    "nb_actios = 2\n",
    "ACT_ID_TO_VALUE = {0: [-1], 1: [+1]}"
   ]
  },
  {
   "cell_type": "code",
   "execution_count": 7,
   "metadata": {},
   "outputs": [],
   "source": [
    "def critic_net(a_shape , s_shape):\n",
    "    action_input = Input(a_shape)\n",
    "    observation_input = Input(shape=(1,)+s_shape)\n",
    "    flattened_observation = Flatten()(observation_input)\n",
    "    x = concatenate([action_input, flattened_observation])\n",
    "    x = Dense(16, activation=\"relu\")(x)\n",
    "    x = Dense(16, activation=\"relu\")(x)\n",
    "    x = Dense(1, activation=\"linear\")(x)\n",
    "    critic = Model(inputs=[action_input, observation_input], outputs=x)\n",
    "    return (critic, action_input)\n",
    "\n",
    "def branch_actor(a_shape, s_shape):\n",
    "    action_input = Input(shape=(1,)+s_shape)\n",
    "    x = Flatten()(action_input) # 実質的なinput layer\n",
    "    \n",
    "    x1 = Dense(8, activation=\"relu\")(x)\n",
    "    x1 = Dense(8, activation=\"relu\")(x1)\n",
    "    x1 = Dense(1, activation=\"multiple_tanh\")(x1) # action signal\n",
    "    \n",
    "    x2 = Dense(8, activation=\"relu\")(x)\n",
    "    x2 = Dense(8, activation=\"relu\")(x2)\n",
    "    x2 = Dense(1, activation=\"tau_output\")(x2) # tau\n",
    "    \n",
    "    output = concatenate([x1, x2])\n",
    "    actor = Model(inputs=action_input, outputs=output)\n",
    "    return actor\n",
    "\n",
    "def agent2(a_shape, s_shape):\n",
    "    actor = branch_actor(a_shape, s_shape)\n",
    "    critic,  critic_action_input = critic_net(a_shape, s_shape)\n",
    "    memory = SequentialMemory(limit = 50000, window_length = 1)\n",
    "    agent = selfDDPGAgent2(\n",
    "        a_shape[0],\n",
    "        actor,\n",
    "        critic,\n",
    "        critic_action_input,\n",
    "        memory,\n",
    "        original_noise=True,\n",
    "        action_clipper=[-10., 10.],\n",
    "        tau_clipper=[0.001, 1.],\n",
    "        params_logging=False,\n",
    "        gradient_logging=False,\n",
    "        batch_size=128,\n",
    "    )\n",
    "    return agent\n",
    "\n",
    "def rad_clip(th):\n",
    "    r = abs(th)\n",
    "    while r > np.pi:\n",
    "        r -= 2 * np.pi\n",
    "    th = np.sign(th) * r\n",
    "    return th\n"
   ]
  },
  {
   "cell_type": "code",
   "execution_count": 4,
   "metadata": {
    "scrolled": true
   },
   "outputs": [
    {
     "name": "stdout",
     "output_type": "stream",
     "text": [
      "WARNING:tensorflow:From ../../module/keras2/backend/tensorflow_backend.py:82: The name tf.get_default_graph is deprecated. Please use tf.compat.v1.get_default_graph instead.\n",
      "\n",
      "WARNING:tensorflow:From ../../module/keras2/backend/tensorflow_backend.py:525: The name tf.placeholder is deprecated. Please use tf.compat.v1.placeholder instead.\n",
      "\n",
      "WARNING:tensorflow:From ../../module/keras2/backend/tensorflow_backend.py:4148: The name tf.random_uniform is deprecated. Please use tf.random.uniform instead.\n",
      "\n",
      "WARNING:tensorflow:From ../../module/keras2/backend/tensorflow_backend.py:182: The name tf.get_default_session is deprecated. Please use tf.compat.v1.get_default_session instead.\n",
      "\n",
      "WARNING:tensorflow:From ../../module/keras2/backend/tensorflow_backend.py:189: The name tf.ConfigProto is deprecated. Please use tf.compat.v1.ConfigProto instead.\n",
      "\n",
      "WARNING:tensorflow:From ../../module/keras2/optimizers.py:790: The name tf.train.Optimizer is deprecated. Please use tf.compat.v1.train.Optimizer instead.\n",
      "\n"
     ]
    }
   ],
   "source": [
    "# agent compilation\n",
    "l = 1.\n",
    "a = agent2((2,), (2,))\n",
    "actor_optimizer, critic_optimizer = Adam(lr=100., clipnorm=1.), Adam(lr=0.001, clipnorm=1.) # actorの方は何でもいい\n",
    "optimizer = [actor_optimizer, critic_optimizer]\n",
    "a.compile(optimizer=optimizer, metrics=[\"mse\"], action_lr=0.0001, tau_lr=0.001)"
   ]
  },
  {
   "cell_type": "markdown",
   "metadata": {},
   "source": [
    "## model free RL policy $\\pi_{\\rm{RL}}$"
   ]
  },
  {
   "cell_type": "code",
   "execution_count": 5,
   "metadata": {},
   "outputs": [],
   "source": [
    "a.actor.load_weights('./saved_agent/learned_self_clipped_actor.h5')"
   ]
  },
  {
   "cell_type": "code",
   "execution_count": 107,
   "metadata": {},
   "outputs": [],
   "source": [
    "env.reset()\n",
    "initial_state = np.array([3., 3.])\n",
    "env.set_state(initial_state)\n",
    "\n",
    "states = [initial_state]\n",
    "detail_states = [initial_state]\n",
    "\n",
    "time_limit = 10\n",
    "time_log = [0.]\n",
    "taus = []\n",
    "acc_time = 0\n",
    "episode_reward = 0\n",
    "i = 0\n",
    "detail_time_log = [0.]\n",
    "\n",
    "action_log = []\n",
    "\n",
    "\n",
    "while True:\n",
    "    reward = 0\n",
    "    x = env.state\n",
    "    a_agent, tau = a.forward(x)\n",
    "    taus.append(tau)\n",
    "    acc_time += tau\n",
    "    time_log.append(acc_time)\n",
    "    dt = 0.01\n",
    "    action_repetition = int(tau * 100)  # minimum natural number which makes `dt` smaller than 0.005\n",
    "    # print(tau, dt, action_repetition)\n",
    "    for p in range(action_repetition):\n",
    "        action_log.append(a_agent)\n",
    "        _,r,_,_ = env.step(np.array([a_agent]), dt, tau)\n",
    "        reward += r\n",
    "        detail_states.append(env.state)\n",
    "        i += 1\n",
    "        detail_time_log.append(i * dt)\n",
    "    reward *= dt\n",
    "    reward += - 0.01 * a_agent**2 + l * tau\n",
    "    episode_reward += reward\n",
    "    states.append(env.state)\n",
    "    if acc_time > time_limit:\n",
    "        break\n",
    "action_log.append(a.forward(env.state)[0])\n",
    "states = np.array(states)\n",
    "detail_states = np.array(detail_states)"
   ]
  },
  {
   "cell_type": "code",
   "execution_count": 106,
   "metadata": {},
   "outputs": [
    {
     "data": {
      "image/png": "[encoded data removed]",
      "text/plain": [
       "<Figure size 432x432 with 3 Axes>"
      ]
     },
     "metadata": {
      "needs_background": "light"
     },
     "output_type": "display_data"
    }
   ],
   "source": [
    "plt.figure(figsize=(6,6))\n",
    "plt.subplots_adjust(hspace=0.6)\n",
    "\n",
    "# state\n",
    "plt.subplot(3,1,1)\n",
    "plt.xlabel('control time (s)')\n",
    "plt.ylabel('theta (rad)')\n",
    "plt.plot(detail_time_log, detail_states[:,0])\n",
    "#plt.scatter(time_log, states[:,0], marker='.')\n",
    "\n",
    "# action\n",
    "plt.subplot(3,1,2)\n",
    "plt.xlabel('control time (s)')\n",
    "plt.ylabel('torque (Nm)')\n",
    "plt.plot(detail_time_log, action_log, color='red')\n",
    "\n",
    "# communication\n",
    "indices = []\n",
    "for t in np.round(time_log, decimals=2):\n",
    "    if t in np.round(detail_time_log, decimals=2):\n",
    "        indices.append(np.where(t == np.round(detail_time_log, decimals=2))[0][0])\n",
    "com = np.zeros_like(detail_time_log)\n",
    "com[indices] = 1\n",
    "plt.subplot(3,1,3)\n",
    "plt.xlabel('control time (s)')\n",
    "plt.ylabel('interaction (bool)')\n",
    "plt.plot(detail_time_log, com, color='black')\n",
    "\n",
    "plt.show()"
   ]
  },
  {
   "cell_type": "markdown",
   "metadata": {},
   "source": [
    "## model based RL policy $\\pi_{\\rm{MBRL}}$"
   ]
  },
  {
   "cell_type": "code",
   "execution_count": 108,
   "metadata": {},
   "outputs": [],
   "source": [
    "a.actor.load_weights('./saved_agent/learned_self_clipped6_actor.h5')"
   ]
  },
  {
   "cell_type": "code",
   "execution_count": 109,
   "metadata": {},
   "outputs": [],
   "source": [
    "env.reset()\n",
    "initial_state = np.array([3., 3.])\n",
    "env.set_state(initial_state)\n",
    "\n",
    "states = [initial_state]\n",
    "detail_states = [initial_state]\n",
    "\n",
    "time_limit = 10\n",
    "time_log = [0.]\n",
    "taus = []\n",
    "acc_time = 0\n",
    "episode_reward = 0\n",
    "i = 0\n",
    "detail_time_log = [0.]\n",
    "\n",
    "action_log = []\n",
    "\n",
    "\n",
    "while True:\n",
    "    reward = 0\n",
    "    x = env.state\n",
    "    a_agent, tau = a.forward(x)\n",
    "    taus.append(tau)\n",
    "    acc_time += tau\n",
    "    time_log.append(acc_time)\n",
    "    dt = 0.01\n",
    "    action_repetition = int(tau * 100)  # minimum natural number which makes `dt` smaller than 0.005\n",
    "    # print(tau, dt, action_repetition)\n",
    "    for p in range(action_repetition):\n",
    "        action_log.append(a_agent)\n",
    "        _,r,_,_ = env.step(np.array([a_agent]), dt, tau)\n",
    "        reward += r\n",
    "        detail_states.append(env.state)\n",
    "        i += 1\n",
    "        detail_time_log.append(i * dt)\n",
    "    reward *= dt\n",
    "    reward += - 0.01 * a_agent**2 + l * tau\n",
    "    episode_reward += reward\n",
    "    states.append(env.state)\n",
    "    if acc_time > time_limit:\n",
    "        break\n",
    "action_log.append(a.forward(env.state)[0])\n",
    "states = np.array(states)\n",
    "detail_states = np.array(detail_states)"
   ]
  },
  {
   "cell_type": "code",
   "execution_count": 110,
   "metadata": {},
   "outputs": [
    {
     "data": {
      "image/png": "[encoded data removed]",
      "text/plain": [
       "<Figure size 432x432 with 3 Axes>"
      ]
     },
     "metadata": {
      "needs_background": "light"
     },
     "output_type": "display_data"
    }
   ],
   "source": [
    "plt.figure(figsize=(6,6))\n",
    "plt.subplots_adjust(hspace=0.6)\n",
    "\n",
    "# state\n",
    "plt.subplot(3,1,1)\n",
    "plt.xlabel('control time (s)')\n",
    "plt.ylabel('theta (rad)')\n",
    "plt.plot(detail_time_log, detail_states[:,0])\n",
    "#plt.scatter(time_log, states[:,0], marker='.')\n",
    "\n",
    "# action\n",
    "plt.subplot(3,1,2)\n",
    "plt.xlabel('control time (s)')\n",
    "plt.ylabel('torque (Nm)')\n",
    "plt.plot(detail_time_log, action_log, color='red')\n",
    "\n",
    "# communication\n",
    "indices = []\n",
    "for t in np.round(time_log, decimals=2):\n",
    "    if t in np.round(detail_time_log, decimals=2):\n",
    "        indices.append(np.where(t == np.round(detail_time_log, decimals=2))[0][0])\n",
    "com = np.zeros_like(detail_time_log)\n",
    "com[indices] = 1\n",
    "plt.subplot(3,1,3)\n",
    "plt.xlabel('control time (s)')\n",
    "plt.ylabel('interaction (bool)')\n",
    "plt.plot(detail_time_log, com, color='black')\n",
    "\n",
    "plt.show()"
   ]
  },
  {
   "cell_type": "markdown",
   "metadata": {},
   "source": [
    "## initial policy $\\pi_{\\rm{init}}$"
   ]
  },
  {
   "cell_type": "code",
   "execution_count": 111,
   "metadata": {},
   "outputs": [],
   "source": [
    "a.actor.load_weights('./saved_agent/sample_02.h5')"
   ]
  },
  {
   "cell_type": "code",
   "execution_count": 112,
   "metadata": {},
   "outputs": [],
   "source": [
    "env.reset()\n",
    "initial_state = np.array([3., 3.])\n",
    "env.set_state(initial_state)\n",
    "\n",
    "states = [initial_state]\n",
    "detail_states = [initial_state]\n",
    "\n",
    "time_limit = 10\n",
    "time_log = [0.]\n",
    "taus = []\n",
    "acc_time = 0\n",
    "episode_reward = 0\n",
    "i = 0\n",
    "detail_time_log = [0.]\n",
    "\n",
    "action_log = []\n",
    "\n",
    "\n",
    "while True:\n",
    "    reward = 0\n",
    "    x = env.state\n",
    "    a_agent, tau = a.forward(x)\n",
    "    taus.append(tau)\n",
    "    acc_time += tau\n",
    "    time_log.append(acc_time)\n",
    "    dt = 0.01\n",
    "    action_repetition = int(tau * 100)  # minimum natural number which makes `dt` smaller than 0.005\n",
    "    # print(tau, dt, action_repetition)\n",
    "    for p in range(action_repetition):\n",
    "        action_log.append(a_agent)\n",
    "        _,r,_,_ = env.step(np.array([a_agent]), dt, tau)\n",
    "        reward += r\n",
    "        detail_states.append(env.state)\n",
    "        i += 1\n",
    "        detail_time_log.append(i * dt)\n",
    "    reward *= dt\n",
    "    reward += - 0.01 * a_agent**2 + l * tau\n",
    "    episode_reward += reward\n",
    "    states.append(env.state)\n",
    "    if acc_time > time_limit:\n",
    "        break\n",
    "action_log.append(a.forward(env.state)[0])\n",
    "states = np.array(states)\n",
    "detail_states = np.array(detail_states)"
   ]
  },
  {
   "cell_type": "code",
   "execution_count": 113,
   "metadata": {},
   "outputs": [
    {
     "data": {
      "image/png": "[encoded data removed]",
      "text/plain": [
       "<Figure size 432x432 with 3 Axes>"
      ]
     },
     "metadata": {
      "needs_background": "light"
     },
     "output_type": "display_data"
    }
   ],
   "source": [
    "plt.figure(figsize=(6,6))\n",
    "plt.subplots_adjust(hspace=0.6)\n",
    "\n",
    "# state\n",
    "plt.subplot(3,1,1)\n",
    "plt.xlabel('control time (s)')\n",
    "plt.ylabel('theta (rad)')\n",
    "plt.plot(detail_time_log, detail_states[:,0])\n",
    "#plt.scatter(time_log, states[:,0], marker='.')\n",
    "\n",
    "# action\n",
    "plt.subplot(3,1,2)\n",
    "plt.xlabel('control time (s)')\n",
    "plt.ylabel('torque (Nm)')\n",
    "plt.plot(detail_time_log, action_log, color='red')\n",
    "\n",
    "# communication\n",
    "indices = []\n",
    "for t in np.round(time_log, decimals=2):\n",
    "    if t in np.round(detail_time_log, decimals=2):\n",
    "        indices.append(np.where(t == np.round(detail_time_log, decimals=2))[0][0])\n",
    "com = np.zeros_like(detail_time_log)\n",
    "com[indices] = 1\n",
    "plt.subplot(3,1,3)\n",
    "plt.xlabel('control time (s)')\n",
    "plt.ylabel('interaction (bool)')\n",
    "plt.plot(detail_time_log, com, color='black')\n",
    "\n",
    "plt.show()"
   ]
  },
  {
   "cell_type": "code",
   "execution_count": null,
   "metadata": {},
   "outputs": [],
   "source": []
  }
 ],
 "metadata": {
  "kernelspec": {
   "display_name": "Python 3",
   "language": "python",
   "name": "python3"
  },
  "language_info": {
   "codemirror_mode": {
    "name": "ipython",
    "version": 3
   },
   "file_extension": ".py",
   "mimetype": "text/x-python",
   "name": "python",
   "nbconvert_exporter": "python",
   "pygments_lexer": "ipython3",
   "version": "3.7.4"
  }
 },
 "nbformat": 4,
 "nbformat_minor": 4
}
