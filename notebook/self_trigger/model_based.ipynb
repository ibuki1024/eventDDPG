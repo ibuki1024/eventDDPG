{
 "cells": [
  {
   "cell_type": "code",
   "execution_count": 36,
   "metadata": {},
   "outputs": [],
   "source": [
    "import numpy as np\n",
    "import matplotlib.pyplot as plt\n",
    "from scipy import linalg as slinalg\n",
    "%matplotlib inline\n",
    "\n",
    "import sys\n",
    "sys.path.append('../../module')\n",
    "import gym2\n",
    "import util as U"
   ]
  },
  {
   "cell_type": "code",
   "execution_count": 2,
   "metadata": {},
   "outputs": [],
   "source": [
    "env = gym2.make('Linear-v0')\n",
    "Q = .01 * np.eye(2)\n",
    "R = .01 * np.eye(1)\n",
    "lam = 1."
   ]
  },
  {
   "cell_type": "code",
   "execution_count": 3,
   "metadata": {},
   "outputs": [],
   "source": [
    "def array_exp(A):\n",
    "    v, p = np.linalg.eig(A)\n",
    "    align = np.array([[v[0], 0],[0, v[1]]])\n",
    "    exp = np.exp(align)\n",
    "    exp[~np.eye(exp.shape[0],dtype=bool)] = 0\n",
    "    out = np.dot(np.dot(p, exp), np.linalg.inv(p))\n",
    "    return out\n",
    "\n",
    "\n",
    "def next_state(state, action, tau, env):\n",
    "    # next state when const action and tau is input\n",
    "    A = env.A\n",
    "    B = env.B\n",
    "    eAt = array_exp(A*tau)\n",
    "    A_inv = np.linalg.inv(A)\n",
    "    \n",
    "    integral = np.dot(np.dot(eAt, A_inv), B) \\\n",
    "             - np.dot(np.dot(eAt, A_inv), np.dot(array_exp(-A*tau), B))\n",
    "    s_prime = np.dot(eAt, state) + integral *action \n",
    "    \n",
    "    return s_prime\n",
    "    \n",
    "    \n",
    "def control_law(state, env, Q=Q, R=R, l=lam):\n",
    "    A = env.A\n",
    "    B = env.B\n",
    "    next_value_weight = 100\n",
    "    \n",
    "    taus = np.linspace(.01, 1., 100)\n",
    "    evaluation = np.inf\n",
    "    \n",
    "    # riccati\n",
    "    P = slinalg.solve_continuous_are(A, B.reshape(B.shape[0],1), Q, R)\n",
    "    A_inv = np.linalg.inv(A)\n",
    "    \n",
    "    for tau in taus:\n",
    "        # calculate optimal action with fixed `tau`\n",
    "        eAt = array_exp(A*tau)\n",
    "        \n",
    "        # ∂s'/∂u\n",
    "        dsdu = np.dot(np.dot(eAt, A_inv), B) \\\n",
    "             - np.dot(np.dot(eAt, A_inv), np.dot(array_exp(-A*tau), B))\n",
    "        # int exp(A(t-τ))Budt\n",
    "        integral = dsdu\n",
    "\n",
    "        # ∂c/∂u = first + second * u, c: instant cost\n",
    "        first = 2 * np.dot(np.dot(dsdu, P), np.dot(eAt, state))\n",
    "        first *= next_value_weight\n",
    "        second = 2 * np.dot(np.dot(dsdu, P), integral)\n",
    "        second = next_value_weight * second + 2\n",
    "\n",
    "        # optimal action\n",
    "        u = - first / second\n",
    "        \n",
    "        # evaluation\n",
    "        s_prime = next_state(state, u, tau, env)\n",
    "        ev = u**2 - l * tau + next_value_weight * np.dot(np.dot(s_prime, P), s_prime)\n",
    "        #print(s_prime, ev, [u, tau])\n",
    "        if ev < evaluation:\n",
    "            control = np.array([u, tau])\n",
    "            evaluation = ev\n",
    "    \n",
    "    return control"
   ]
  },
  {
   "cell_type": "code",
   "execution_count": 29,
   "metadata": {},
   "outputs": [
    {
     "data": {
      "text/plain": [
       "array([-1.52416014,  1.        ])"
      ]
     },
     "execution_count": 29,
     "metadata": {},
     "output_type": "execute_result"
    }
   ],
   "source": [
    "state = np.array([3.,3.])\n",
    "control_law(state, env)"
   ]
  },
  {
   "cell_type": "code",
   "execution_count": 30,
   "metadata": {},
   "outputs": [
    {
     "data": {
      "text/plain": [
       "array([-304.46215094,  592.05302704])"
      ]
     },
     "execution_count": 30,
     "metadata": {},
     "output_type": "execute_result"
    }
   ],
   "source": [
    "tau = 5\n",
    "\n",
    "u = control_law(state, env)\n",
    "\n",
    "next_state(state, u, tau, env)"
   ]
  },
  {
   "cell_type": "code",
   "execution_count": 31,
   "metadata": {
    "scrolled": true
   },
   "outputs": [
    {
     "name": "stdout",
     "output_type": "stream",
     "text": [
      "[ 0.94089663 -0.74094886]\n",
      "[3 3]\n",
      "[3 3] -1.5241601432633363 1.0\n",
      "[ 0.99619883 -0.40012792] -0.15157680513044497 1.0\n",
      "[ 0.10264279 -0.04506411] -0.01464333066055773 1.0\n",
      "[ 0.00994875 -0.00440186] -0.0014106896683447766 1.0\n",
      "[ 0.00095874 -0.00042452] -0.00013586379414804874 1.0\n",
      "[ 9.23392588e-05 -4.08897261e-05] -1.3084714472064969e-05 1.0\n",
      "[ 8.89299918e-06 -3.93803195e-06] -1.260153954185662e-06 1.0\n",
      "[ 8.56461297e-07 -3.79261743e-07] -1.2136203476848567e-07 1.0\n",
      "[ 8.24834843e-08 -3.65256811e-08] -1.1688050539395709e-08 1.0\n",
      "[ 7.94376213e-09 -3.51768996e-09] -1.1256446493010395e-09 1.0\n",
      "[ 7.65042323e-10 -3.38779240e-10] -1.0840780264540194e-10 1.0\n"
     ]
    },
    {
     "data": {
      "image/png": "[encoded data removed]",
      "text/plain": [
       "<Figure size 936x288 with 2 Axes>"
      ]
     },
     "metadata": {
      "needs_background": "light"
     },
     "output_type": "display_data"
    }
   ],
   "source": [
    "l = .1\n",
    "env.reset()\n",
    "print(env.state)\n",
    "i_state = np.array([3,3])\n",
    "env.set_state(i_state)\n",
    "print(env.state)\n",
    "states = []\n",
    "time_limit = 10\n",
    "time_log = [0]\n",
    "actions = []\n",
    "acc_time = 0\n",
    "episode_reward = 0\n",
    "while True:\n",
    "    reward = 0\n",
    "    x = env.state\n",
    "    states.append(x)\n",
    "    a_agent, tau = control_law(x, env, l=l)\n",
    "    actions.append([a_agent, tau])\n",
    "    print(x, a_agent, tau)\n",
    "    acc_time += tau\n",
    "    time_log.append(acc_time)\n",
    "    env.set_state(next_state(x, a_agent, tau, env))\n",
    "    if acc_time > time_limit:\n",
    "        break\n",
    "states.append(env.state)\n",
    "actions.append(control_law(env.state, env, l=l))\n",
    "states = np.array(states)\n",
    "actions = np.array(actions)\n",
    "\n",
    "plt.figure(figsize=(13,4))\n",
    "plt.subplot(1,2,1)\n",
    "plt.xlabel('time (s)')\n",
    "plt.ylabel('x1')\n",
    "plt.plot(time_log, states[:,0])\n",
    "plt.subplot(1,2,2)\n",
    "plt.xlabel('time (s)')\n",
    "plt.ylabel('x2')\n",
    "plt.plot(time_log, states[:,1])\n",
    "plt.scatter(time_log, states[:,1], marker='.')\n",
    "plt.show()"
   ]
  },
  {
   "cell_type": "markdown",
   "metadata": {
    "code_folding": []
   },
   "source": [
    "## approximate mb agent with NN"
   ]
  },
  {
   "cell_type": "code",
   "execution_count": 41,
   "metadata": {
    "code_folding": []
   },
   "outputs": [],
   "source": [
    "import warnings\n",
    "warnings.filterwarnings('ignore')\n",
    "from keras2.models import Model\n",
    "from keras2.layers import concatenate, Dense, Input, Flatten\n",
    "from keras2.optimizers import Adam\n",
    "\n",
    "def branch_actor(a_shape, s_shape):\n",
    "    action_input = Input(shape=(1,)+s_shape)\n",
    "    x = Flatten()(action_input) # 実質的なinput layer\n",
    "    \n",
    "    x1 = Dense(8, activation=\"relu\")(x)\n",
    "    x1 = Dense(8, activation=\"relu\")(x1)\n",
    "    x1 = Dense(1, activation=\"multiple_tanh\")(x1) # action signal\n",
    "    \n",
    "    x2 = Dense(8, activation=\"relu\")(x)\n",
    "    x2 = Dense(8, activation=\"relu\")(x2)\n",
    "    x2 = Dense(1, activation=\"tau_output\")(x2) # tau\n",
    "    \n",
    "    output = concatenate([x1, x2])\n",
    "    actor = Model(inputs=action_input, outputs=output)\n",
    "    return actor"
   ]
  },
  {
   "cell_type": "code",
   "execution_count": 73,
   "metadata": {},
   "outputs": [],
   "source": [
    "NN = branch_actor((2,),(2,))\n",
    "NN.compile(loss='mse', optimizer='adam')"
   ]
  },
  {
   "cell_type": "code",
   "execution_count": 53,
   "metadata": {},
   "outputs": [],
   "source": [
    "# make train data\n",
    "s1 = np.linspace(-7,7,100)\n",
    "s2 = np.linspace(-7,7,100)\n",
    "S1, S2 = np.meshgrid(s1, s2)\n",
    "batch = []\n",
    "\n",
    "for state in zip(S1.flatten(), S2.flatten()):\n",
    "    state = np.array(state)\n",
    "    action = control_law(state, env)\n",
    "    batch.append([state, action])\n",
    "    \n",
    "batch = np.array(batch)"
   ]
  },
  {
   "cell_type": "code",
   "execution_count": 74,
   "metadata": {},
   "outputs": [
    {
     "data": {
      "image/png": "[encoded data removed]",
      "text/plain": [
       "<Figure size 432x288 with 1 Axes>"
      ]
     },
     "metadata": {
      "needs_background": "light"
     },
     "output_type": "display_data"
    }
   ],
   "source": [
    "batch_size = 64\n",
    "\n",
    "epochs = 10000\n",
    "losses = []\n",
    "for _ in range(epochs):\n",
    "    indices = np.random.choice(range(10000),batch_size,replace=False)\n",
    "    states = batch[:,0].reshape(10000,1,2)\n",
    "    actions = batch[:,1]\n",
    "    \n",
    "    \n",
    "    loss = NN.train_on_batch(states, actions)\n",
    "    losses.append(loss)\n",
    "    \n",
    "plt.plot(losses)\n",
    "plt.xlabel('epochs')\n",
    "plt.ylabel('actor_loss')\n",
    "plt.show()\n"
   ]
  },
  {
   "cell_type": "code",
   "execution_count": 75,
   "metadata": {},
   "outputs": [],
   "source": [
    "NN.save_weights('./saved_agent/mb_self.h5')"
   ]
  },
  {
   "cell_type": "code",
   "execution_count": 70,
   "metadata": {},
   "outputs": [
    {
     "data": {
      "text/plain": [
       "array([[[-7.        , -7.        ]],\n",
       "\n",
       "       [[-6.85858586, -7.        ]],\n",
       "\n",
       "       [[-6.71717172, -7.        ]],\n",
       "\n",
       "       ...,\n",
       "\n",
       "       [[ 6.71717172,  7.        ]],\n",
       "\n",
       "       [[ 6.85858586,  7.        ]],\n",
       "\n",
       "       [[ 7.        ,  7.        ]]])"
      ]
     },
     "execution_count": 70,
     "metadata": {},
     "output_type": "execute_result"
    }
   ],
   "source": [
    "batch[:,0].reshape(10000,1,2)"
   ]
  },
  {
   "cell_type": "code",
   "execution_count": null,
   "metadata": {},
   "outputs": [],
   "source": []
  }
 ],
 "metadata": {
  "kernelspec": {
   "display_name": "Python 3",
   "language": "python",
   "name": "python3"
  },
  "language_info": {
   "codemirror_mode": {
    "name": "ipython",
    "version": 3
   },
   "file_extension": ".py",
   "mimetype": "text/x-python",
   "name": "python",
   "nbconvert_exporter": "python",
   "pygments_lexer": "ipython3",
   "version": "3.7.4"
  }
 },
 "nbformat": 4,
 "nbformat_minor": 4
}
