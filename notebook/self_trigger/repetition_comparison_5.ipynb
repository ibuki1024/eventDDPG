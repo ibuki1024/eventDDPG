{
 "cells": [
  {
   "cell_type": "code",
   "execution_count": 1,
   "metadata": {},
   "outputs": [
    {
     "name": "stderr",
     "output_type": "stream",
     "text": [
      "Using TensorFlow backend.\n",
      "Using TensorFlow backend.\n"
     ]
    }
   ],
   "source": [
    "import warnings\n",
    "warnings.filterwarnings('ignore')\n",
    "import numpy as np\n",
    "import matplotlib.pyplot as plt\n",
    "\n",
    "import sys\n",
    "sys.path.append('../../module/')\n",
    "\n",
    "import keras2\n",
    "from keras2.models import Model\n",
    "from keras2.layers import concatenate, Dense, Input, Flatten\n",
    "from keras2.optimizers import Adam\n",
    "from util import moving_average, dlqr, discretized_system, lqr\n",
    "import gym2\n",
    "from rl2.agents import DDPGAgent\n",
    "from rl2.memory import SequentialMemory"
   ]
  },
  {
   "cell_type": "code",
   "execution_count": 2,
   "metadata": {},
   "outputs": [],
   "source": [
    "# GymのPendulum環境を作成\n",
    "dt = 0.05\n",
    "env = gym2.make(\"Pendulum-v1\", dt)\n",
    "clip = 10.\n",
    "env.max_torque, max_torque = clip, clip\n",
    "env.action_space.high, env.action_space.low = max_torque, -max_torque\n",
    "control_interval = 5\n",
    "\n",
    "# 取りうる”打ち手”のアクション数と値の定義\n",
    "nb_actios = 2\n",
    "ACT_ID_TO_VALUE = {0: [-1], 1: [+1]}"
   ]
  },
  {
   "cell_type": "code",
   "execution_count": 3,
   "metadata": {},
   "outputs": [],
   "source": [
    "def actor_net(a_shape, s_shape):\n",
    "    action_input = Input(shape=(1,)+s_shape)\n",
    "    x = Flatten()(action_input)\n",
    "    x = Dense(16, activation=\"relu\")(x)\n",
    "    x = Dense(16, activation=\"relu\")(x)\n",
    "    x = Dense(2, activation=\"multiple_tanh\")(x)\n",
    "    actor = Model(inputs=action_input, outputs=x)\n",
    "    return actor\n",
    "\n",
    "def critic_net(a_shape , s_shape):\n",
    "    action_input = Input(a_shape)\n",
    "    observation_input = Input(shape=(1,)+s_shape)\n",
    "    flattened_observation = Flatten()(observation_input)\n",
    "    x = concatenate([action_input, flattened_observation])\n",
    "    x = Dense(16, activation=\"relu\")(x)\n",
    "    x = Dense(16, activation=\"relu\")(x)\n",
    "    x = Dense(1, activation=\"linear\")(x)\n",
    "    critic = Model(inputs=[action_input, observation_input], outputs=x)\n",
    "    return (critic, action_input)"
   ]
  },
  {
   "cell_type": "code",
   "execution_count": 4,
   "metadata": {},
   "outputs": [],
   "source": [
    "def agent(a_shape, s_shape):\n",
    "    actor = actor_net(a_shape, s_shape)\n",
    "    critic,  critic_action_input = critic_net(a_shape, s_shape)\n",
    "    memory = SequentialMemory(limit = 50000, window_length = 1)\n",
    "    agent = DDPGAgent(\n",
    "        a_shape[0],\n",
    "        actor,\n",
    "        critic,\n",
    "        critic_action_input,\n",
    "        memory\n",
    "    )\n",
    "    return agent"
   ]
  },
  {
   "cell_type": "code",
   "execution_count": 5,
   "metadata": {},
   "outputs": [
    {
     "name": "stdout",
     "output_type": "stream",
     "text": [
      "WARNING:tensorflow:From ../../module/keras2/backend/tensorflow_backend.py:82: The name tf.get_default_graph is deprecated. Please use tf.compat.v1.get_default_graph instead.\n",
      "\n",
      "WARNING:tensorflow:From ../../module/keras2/backend/tensorflow_backend.py:525: The name tf.placeholder is deprecated. Please use tf.compat.v1.placeholder instead.\n",
      "\n",
      "WARNING:tensorflow:From ../../module/keras2/backend/tensorflow_backend.py:4146: The name tf.random_uniform is deprecated. Please use tf.random.uniform instead.\n",
      "\n",
      "WARNING:tensorflow:From ../../module/keras2/backend/tensorflow_backend.py:182: The name tf.get_default_session is deprecated. Please use tf.compat.v1.get_default_session instead.\n",
      "\n",
      "WARNING:tensorflow:From ../../module/keras2/backend/tensorflow_backend.py:189: The name tf.ConfigProto is deprecated. Please use tf.compat.v1.ConfigProto instead.\n",
      "\n",
      "WARNING:tensorflow:From ../../module/keras2/optimizers.py:790: The name tf.train.Optimizer is deprecated. Please use tf.compat.v1.train.Optimizer instead.\n",
      "\n",
      "Training for 300000 steps ...\n",
      "Interval 1 (0 steps performed)\n",
      " 3647/10000 [=========>....................] - ETA: 45s - reward: -20.8212done, took 26.203 seconds\n"
     ]
    },
    {
     "data": {
      "text/plain": [
       "<keras2.callbacks.History at 0x136646390>"
      ]
     },
     "execution_count": 5,
     "metadata": {},
     "output_type": "execute_result"
    }
   ],
   "source": [
    "#safe learning\n",
    "step = 300000\n",
    "episode_step = int(200 * 0.05 / (dt * control_interval)) # 入力が加えられる回数を200(dt=0.05)にする\n",
    "a = agent((2,), (2,))\n",
    "a.compile(Adam(lr=0.001, clipnorm=1.), metrics=[\"mae\"])\n",
    "# a.load_weights('../learned_models_vol2/0.5standup-agent.h5')\n",
    "# a.load_weights('../../learned_models_stab/lqr_optimal_agent.h5')\n",
    "a.fit(env, nb_steps=step, visualize=0, verbose=1, nb_max_episode_steps=episode_step, action_repetition=control_interval)"
   ]
  },
  {
   "cell_type": "code",
   "execution_count": null,
   "metadata": {},
   "outputs": [],
   "source": []
  }
 ],
 "metadata": {
  "kernelspec": {
   "display_name": "Python 3",
   "language": "python",
   "name": "python3"
  },
  "language_info": {
   "codemirror_mode": {
    "name": "ipython",
    "version": 3
   },
   "file_extension": ".py",
   "mimetype": "text/x-python",
   "name": "python",
   "nbconvert_exporter": "python",
   "pygments_lexer": "ipython3",
   "version": "3.7.4"
  }
 },
 "nbformat": 4,
 "nbformat_minor": 4
}
