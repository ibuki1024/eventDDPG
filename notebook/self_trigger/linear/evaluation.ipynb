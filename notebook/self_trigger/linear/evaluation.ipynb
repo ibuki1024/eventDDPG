{
 "cells": [
  {
   "cell_type": "markdown",
   "metadata": {},
   "source": [
    "## confirm $\\min_{s}V^{\\pi_{\\textrm{RL}}}(s) > \\max_sV^{\\pi_{\\textrm{init}}}(s)$"
   ]
  },
  {
   "cell_type": "code",
   "execution_count": 16,
   "metadata": {},
   "outputs": [],
   "source": [
    "import warnings\n",
    "warnings.filterwarnings('ignore')\n",
    "import numpy as np\n",
    "import matplotlib.pyplot as plt\n",
    "import pandas as pd\n",
    "\n",
    "import sys\n",
    "sys.path.append('../../../module/')\n",
    "\n",
    "from keras2.models import Model\n",
    "from keras2.layers import concatenate, Dense, Input, Flatten\n",
    "from keras2.optimizers import Adam\n",
    "import csv\n",
    "from util import *\n",
    "import gym2\n",
    "from rl2.agents import selfDDPGAgent, selfDDPGAgent2\n",
    "from rl2.memory import SequentialMemory\n",
    "from scipy import linalg as slinalg"
   ]
  },
  {
   "cell_type": "code",
   "execution_count": 17,
   "metadata": {},
   "outputs": [],
   "source": [
    "env = gym2.make('Linear-v0')\n",
    "Q = .01 * np.eye(2)\n",
    "R = .01 * np.eye(1)\n",
    "l = 1."
   ]
  },
  {
   "cell_type": "code",
   "execution_count": 3,
   "metadata": {},
   "outputs": [],
   "source": [
    "def critic_net(a_shape , s_shape):\n",
    "    action_input = Input(a_shape)\n",
    "    observation_input = Input(shape=(1,)+s_shape)\n",
    "    flattened_observation = Flatten()(observation_input)\n",
    "    x = concatenate([action_input, flattened_observation])\n",
    "    x = Dense(16, activation=\"relu\")(x)\n",
    "    x = Dense(16, activation=\"relu\")(x)\n",
    "    x = Dense(1, activation=\"linear\")(x)\n",
    "    critic = Model(inputs=[action_input, observation_input], outputs=x)\n",
    "    return (critic, action_input)\n",
    "\n",
    "def branch_actor(a_shape, s_shape):\n",
    "    action_input = Input(shape=(1,)+s_shape)\n",
    "    x = Flatten()(action_input) # 実質的なinput layer\n",
    "    \n",
    "    x1 = Dense(8, activation=\"relu\")(x)\n",
    "    x1 = Dense(8, activation=\"relu\")(x1)\n",
    "    x1 = Dense(1, activation=\"multiple_tanh\")(x1) # action signal\n",
    "    \n",
    "    x2 = Dense(8, activation=\"relu\")(x)\n",
    "    x2 = Dense(8, activation=\"relu\")(x2)\n",
    "    x2 = Dense(1, activation=\"tau_output\")(x2) # tau\n",
    "    \n",
    "    output = concatenate([x1, x2])\n",
    "    actor = Model(inputs=action_input, outputs=output)\n",
    "    return actor\n",
    "\n",
    "\n",
    "def agent2(a_shape, s_shape):\n",
    "    actor = branch_actor(a_shape, s_shape)\n",
    "    critic, critic_action_input = critic_net(a_shape, s_shape)\n",
    "    memory = SequentialMemory(limit = 50000, window_length = 1)\n",
    "    agent = selfDDPGAgent2(\n",
    "        a_shape[0],\n",
    "        actor,\n",
    "        critic,\n",
    "        critic_action_input,\n",
    "        memory,\n",
    "        mb_noise=False,\n",
    "        coef_u=.01,\n",
    "        coef_tau=.001,\n",
    "        action_clipper=[-10., 10.],\n",
    "        tau_clipper=[0.001, 1.],\n",
    "        params_logging=False,\n",
    "        gradient_logging=False,\n",
    "        batch_size=128,\n",
    "    )\n",
    "    return agent"
   ]
  },
  {
   "cell_type": "code",
   "execution_count": 4,
   "metadata": {},
   "outputs": [
    {
     "name": "stdout",
     "output_type": "stream",
     "text": [
      "WARNING:tensorflow:From /Users/takeuchi_ibuki/anaconda3/lib/python3.7/site-packages/tensorflow/python/framework/op_def_library.py:263: colocate_with (from tensorflow.python.framework.ops) is deprecated and will be removed in a future version.\n",
      "Instructions for updating:\n",
      "Colocations handled automatically by placer.\n"
     ]
    }
   ],
   "source": [
    "#learning   \n",
    "l = .1\n",
    "step = 1000000  # num of interval\n",
    "episode_step = step\n",
    "a = agent2((2,), (2,))\n",
    "actor_optimizer, critic_optimizer = Adam(lr=100., clipnorm=1.), Adam(lr=0.001, clipnorm=1.) # actorの方は何でもいい\n",
    "optimizer = [actor_optimizer, critic_optimizer]\n",
    "a.compile(optimizer=optimizer, metrics=[\"mse\"], action_lr=0.0001, tau_lr=0.001)\n",
    "\n",
    "b = agent2((2,), (2,))\n",
    "b.compile(optimizer=optimizer, metrics=[\"mse\"], action_lr=0.0001, tau_lr=0.001)"
   ]
  },
  {
   "cell_type": "code",
   "execution_count": 20,
   "metadata": {},
   "outputs": [],
   "source": [
    "l = 1.\n",
    "def value_function(state, agent, env, gamma=.99, step_limit=1000):\n",
    "    env.reset()\n",
    "    env.set_state(state)\n",
    "    value = 0\n",
    "    \n",
    "    for step in range(step_limit):\n",
    "        reward = 0\n",
    "        x = env.state\n",
    "        a_agent, tau = agent.forward(x)\n",
    "        \n",
    "        action_repetition = int(np.ceil(20 * tau))  # minimum natural number which makes `dt` smaller than 0.05\n",
    "        dt = tau / action_repetition\n",
    "        for p in range(action_repetition):\n",
    "            _,r,_,_ = env.step(np.array([a_agent]), dt, tau)\n",
    "            reward += r\n",
    "        reward *= dt\n",
    "        reward += - tau * 0.01 * a_agent**2 + l * tau\n",
    "        \n",
    "        value += pow(gamma, step) * reward\n",
    "    \n",
    "    return value"
   ]
  },
  {
   "cell_type": "code",
   "execution_count": 21,
   "metadata": {},
   "outputs": [
    {
     "name": "stdout",
     "output_type": "stream",
     "text": [
      "CPU times: user 4h 24min 15s, sys: 1h 14min 49s, total: 5h 39min 5s\n",
      "Wall time: 3h 35min 55s\n"
     ]
    }
   ],
   "source": [
    "%%time\n",
    "a.load_weights('../saved_agent/linear_init.h5')\n",
    "b.load_weights('../saved_agent/learned_self_linear0.h5')\n",
    "\n",
    "s1 = np.linspace(-7, 7, 100)\n",
    "s2 = np.linspace(-7, 7, 100)\n",
    "S1, S2 = np.meshgrid(s1, s2)\n",
    "\n",
    "values_init = []\n",
    "values_rl = []\n",
    "i = 0\n",
    "\n",
    "for state in zip(S1.flatten(), S2.flatten()):\n",
    "    print(f'{int(i*100/S1.shape[0]**2)}%\\r', end='')\n",
    "    i += 1\n",
    "    state = np.array(state)\n",
    "    values_init.append(value_function(state, a, env))\n",
    "    values_rl.append(value_function(state, b, env))\n",
    "    \n",
    "values_init = np.array(values_init).reshape(S1.shape)\n",
    "values_rl = np.array(values_rl).reshape(S1.shape)"
   ]
  },
  {
   "cell_type": "code",
   "execution_count": 22,
   "metadata": {
    "scrolled": true
   },
   "outputs": [
    {
     "name": "stdout",
     "output_type": "stream",
     "text": [
      "32.940298968662816 1.8869420942565018\n"
     ]
    }
   ],
   "source": [
    "print(np.min(values_rl), np.max(values_init))"
   ]
  },
  {
   "cell_type": "markdown",
   "metadata": {},
   "source": [
    "## Model Based"
   ]
  },
  {
   "cell_type": "code",
   "execution_count": 18,
   "metadata": {},
   "outputs": [],
   "source": [
    "def array_exp(A):\n",
    "    v, p = np.linalg.eig(A)\n",
    "    align = np.array([[v[0], 0],[0, v[1]]])\n",
    "    exp = np.exp(align)\n",
    "    exp[~np.eye(exp.shape[0],dtype=bool)] = 0\n",
    "    out = np.dot(np.dot(p, exp), np.linalg.inv(p))\n",
    "    return out\n",
    "\n",
    "\n",
    "def next_state(state, action, tau, env):\n",
    "    # next state when const action and tau is input\n",
    "    A = env.A\n",
    "    B = env.B\n",
    "    eAt = array_exp(A*tau)\n",
    "    A_inv = np.linalg.inv(A)\n",
    "    \n",
    "    integral = np.dot(np.dot(eAt, A_inv), B) \\\n",
    "             - np.dot(np.dot(eAt, A_inv), np.dot(array_exp(-A*tau), B))\n",
    "    s_prime = np.dot(eAt, state) + integral *action \n",
    "    \n",
    "    return s_prime\n",
    "    \n",
    "    \n",
    "def control_law(state, env, Q=Q, R=R, l=1.):\n",
    "    A = env.A\n",
    "    B = env.B\n",
    "    next_value_weight = 100\n",
    "    \n",
    "    taus = np.linspace(.01, 1., 100)\n",
    "    evaluation = np.inf\n",
    "    \n",
    "    # riccati\n",
    "    P = slinalg.solve_continuous_are(A, B.reshape(B.shape[0],1), Q, R)\n",
    "    A_inv = np.linalg.inv(A)\n",
    "    \n",
    "    for tau in taus:\n",
    "        # calculate optimal action with fixed `tau`\n",
    "        eAt = array_exp(A*tau)\n",
    "        \n",
    "        # ∂s'/∂u\n",
    "        dsdu = np.dot(np.dot(eAt, A_inv), B) \\\n",
    "             - np.dot(np.dot(eAt, A_inv), np.dot(array_exp(-A*tau), B))\n",
    "        # int exp(A(t-τ))Budt\n",
    "        integral = dsdu\n",
    "\n",
    "        # ∂c/∂u = first + second * u, c: instant cost\n",
    "        first = 2 * np.dot(np.dot(dsdu, P), np.dot(eAt, state))\n",
    "        first *= next_value_weight\n",
    "        second = 2 * np.dot(np.dot(dsdu, P), integral)\n",
    "        second = next_value_weight * second + 2\n",
    "\n",
    "        # optimal action\n",
    "        u = - first / second\n",
    "        \n",
    "        # evaluation\n",
    "        s_prime = next_state(state, u, tau, env)\n",
    "        ev = u**2 - l * tau + next_value_weight * np.dot(np.dot(s_prime, P), s_prime)\n",
    "        #print(s_prime, ev, [u, tau])\n",
    "        if ev < evaluation:\n",
    "            control = np.array([u, tau])\n",
    "            evaluation = ev\n",
    "    \n",
    "    return control\n",
    "\n",
    "def value_function_mb(state, env, gamma=.99, step_limit=2000):\n",
    "    env.reset()\n",
    "    env.set_state(state)\n",
    "    value = 0\n",
    "    \n",
    "    for step in range(step_limit):\n",
    "        reward = 0\n",
    "        x = env.state\n",
    "        a_agent, tau = control_law(x, env, l=l)\n",
    "        \n",
    "        action_repetition = int(np.ceil(20 * tau))  # minimum natural number which makes `dt` smaller than 0.05\n",
    "        dt = tau / action_repetition\n",
    "        for p in range(action_repetition):\n",
    "            _,r,_,_ = env.step(np.array([a_agent]), dt, tau)\n",
    "            reward += r\n",
    "        reward *= dt\n",
    "        reward += - 0.01 * a_agent**2 + l * tau\n",
    "        \n",
    "        value += pow(gamma, step) * reward\n",
    " \n",
    "    return value"
   ]
  },
  {
   "cell_type": "code",
   "execution_count": 13,
   "metadata": {},
   "outputs": [
    {
     "name": "stdout",
     "output_type": "stream",
     "text": [
      "0%\r"
     ]
    },
    {
     "ename": "TypeError",
     "evalue": "value_function() missing 1 required positional argument: 'env'",
     "output_type": "error",
     "traceback": [
      "\u001b[0;31m---------------------------------------------------------------------------\u001b[0m",
      "\u001b[0;31mTypeError\u001b[0m                                 Traceback (most recent call last)",
      "\u001b[0;32m<ipython-input-13-0d18cde1a788>\u001b[0m in \u001b[0;36m<module>\u001b[0;34m\u001b[0m\n\u001b[1;32m      6\u001b[0m     \u001b[0mi\u001b[0m \u001b[0;34m+=\u001b[0m \u001b[0;36m1\u001b[0m\u001b[0;34m\u001b[0m\u001b[0;34m\u001b[0m\u001b[0m\n\u001b[1;32m      7\u001b[0m     \u001b[0mstate\u001b[0m \u001b[0;34m=\u001b[0m \u001b[0mnp\u001b[0m\u001b[0;34m.\u001b[0m\u001b[0marray\u001b[0m\u001b[0;34m(\u001b[0m\u001b[0mstate\u001b[0m\u001b[0;34m)\u001b[0m\u001b[0;34m\u001b[0m\u001b[0;34m\u001b[0m\u001b[0m\n\u001b[0;32m----> 8\u001b[0;31m     \u001b[0mvalues_mb\u001b[0m\u001b[0;34m.\u001b[0m\u001b[0mappend\u001b[0m\u001b[0;34m(\u001b[0m\u001b[0mvalue_function\u001b[0m\u001b[0;34m(\u001b[0m\u001b[0mstate\u001b[0m\u001b[0;34m,\u001b[0m \u001b[0menv\u001b[0m\u001b[0;34m)\u001b[0m\u001b[0;34m)\u001b[0m\u001b[0;34m\u001b[0m\u001b[0;34m\u001b[0m\u001b[0m\n\u001b[0m\u001b[1;32m      9\u001b[0m \u001b[0;34m\u001b[0m\u001b[0m\n\u001b[1;32m     10\u001b[0m \u001b[0mvalues_mb\u001b[0m \u001b[0;34m=\u001b[0m \u001b[0mnp\u001b[0m\u001b[0;34m.\u001b[0m\u001b[0marray\u001b[0m\u001b[0;34m(\u001b[0m\u001b[0mvalues_mb\u001b[0m\u001b[0;34m)\u001b[0m\u001b[0;34m.\u001b[0m\u001b[0mreshape\u001b[0m\u001b[0;34m(\u001b[0m\u001b[0mS1\u001b[0m\u001b[0;34m.\u001b[0m\u001b[0mshape\u001b[0m\u001b[0;34m)\u001b[0m\u001b[0;34m\u001b[0m\u001b[0;34m\u001b[0m\u001b[0m\n",
      "\u001b[0;31mTypeError\u001b[0m: value_function() missing 1 required positional argument: 'env'"
     ]
    }
   ],
   "source": [
    "values_mb = []\n",
    "i = 0\n",
    "\n",
    "for state in zip(S1.flatten(), S2.flatten()):\n",
    "    print(f'{int(i*100/S1.shape[0]**2)}%\\r', end='')\n",
    "    i += 1\n",
    "    state = np.array(state)\n",
    "    values_mb.append(value_function(state, env))\n",
    "    \n",
    "values_mb = np.array(values_mb).reshape(S1.shape)"
   ]
  },
  {
   "cell_type": "code",
   "execution_count": 53,
   "metadata": {},
   "outputs": [
    {
     "name": "stdout",
     "output_type": "stream",
     "text": [
      "-9.697294025257953\n",
      "34.39552520415214\n",
      "-14.709444689856836\n",
      "-6.630478880023541\n",
      "CPU times: user 5.56 s, sys: 323 ms, total: 5.88 s\n",
      "Wall time: 5.56 s\n"
     ]
    }
   ],
   "source": [
    "%%time\n",
    "## ノイズのやつ\n",
    "state = np.array([6.,6.])\n",
    "\n",
    "a.load_weights('../saved_agent/large_noise0.h5')\n",
    "print(value_function(state, a, env))\n",
    "\n",
    "a.load_weights('../saved_agent/small_noise0.h5')\n",
    "print(value_function(state, a, env))"
   ]
  },
  {
   "cell_type": "code",
   "execution_count": null,
   "metadata": {},
   "outputs": [],
   "source": []
  }
 ],
 "metadata": {
  "kernelspec": {
   "display_name": "Python 3",
   "language": "python",
   "name": "python3"
  },
  "language_info": {
   "codemirror_mode": {
    "name": "ipython",
    "version": 3
   },
   "file_extension": ".py",
   "mimetype": "text/x-python",
   "name": "python",
   "nbconvert_exporter": "python",
   "pygments_lexer": "ipython3",
   "version": "3.7.4"
  }
 },
 "nbformat": 4,
 "nbformat_minor": 4
}
