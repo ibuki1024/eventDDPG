{
 "cells": [
  {
   "cell_type": "code",
   "execution_count": 1,
   "metadata": {},
   "outputs": [
    {
     "name": "stderr",
     "output_type": "stream",
     "text": [
      "Using TensorFlow backend.\n",
      "Using TensorFlow backend.\n"
     ]
    }
   ],
   "source": [
    "import warnings\n",
    "warnings.filterwarnings('ignore')\n",
    "import numpy as np\n",
    "import matplotlib.pyplot as plt\n",
    "import pandas as pd\n",
    "\n",
    "import sys\n",
    "sys.path.append('../../../module/')\n",
    "\n",
    "from keras2.models import Model\n",
    "from keras2.layers import concatenate, Dense, Input, Flatten\n",
    "from keras2.optimizers import Adam\n",
    "import csv\n",
    "import itertools\n",
    "from util import *\n",
    "import gym2\n",
    "from rl2.agents import selfDDPGAgent, selfDDPGAgent2, selfDDPGAgent3\n",
    "from rl2.memory import SequentialMemory"
   ]
  },
  {
   "cell_type": "code",
   "execution_count": 5,
   "metadata": {},
   "outputs": [],
   "source": [
    "env = gym2.make('Linear-v1')\n",
    "Q = .01 * np.eye(2)\n",
    "R = .01\n",
    "alpha = 0.4"
   ]
  },
  {
   "cell_type": "code",
   "execution_count": 6,
   "metadata": {},
   "outputs": [],
   "source": [
    "def critic_net(a_shape , s_shape):\n",
    "    action_input = Input(a_shape)\n",
    "    observation_input = Input(shape=(1,)+s_shape)\n",
    "    flattened_observation = Flatten()(observation_input)\n",
    "    x = concatenate([action_input, flattened_observation])\n",
    "    x = Dense(16, activation=\"relu\")(x)\n",
    "    x = Dense(16, activation=\"relu\")(x)\n",
    "    x = Dense(1, activation=\"linear\")(x)\n",
    "    critic = Model(inputs=[action_input, observation_input], outputs=x)\n",
    "    return (critic, action_input)\n",
    "\n",
    "def branch_actor(a_shape, s_shape):\n",
    "    action_input = Input(shape=(1,)+s_shape)\n",
    "    x = Flatten()(action_input) # 実質的なinput layer\n",
    "    \n",
    "    x1 = Dense(16, activation=\"relu\")(x)\n",
    "    x1 = Dense(16, activation=\"relu\")(x1)\n",
    "    x1 = Dense(1, activation=\"multiple_tanh\")(x1) # action signal\n",
    "    \n",
    "    x2 = Dense(16, activation=\"relu\")(x)\n",
    "    x2 = Dense(16, activation=\"relu\")(x2)\n",
    "    x2 = Dense(1, activation=\"tau_output_large\")(x2) # tau\n",
    "    \n",
    "    output = concatenate([x1, x2])\n",
    "    actor = Model(inputs=action_input, outputs=output)\n",
    "    return actor\n",
    "\n",
    "def agent3(a_shape, s_shape):\n",
    "    actor = branch_actor(a_shape, s_shape)\n",
    "    critic, critic_action_input = critic_net(a_shape, s_shape)\n",
    "    memory = SequentialMemory(limit = 30000, window_length = 1)\n",
    "    agent = selfDDPGAgent3(\n",
    "        a_shape[0],\n",
    "        actor,\n",
    "        critic,\n",
    "        critic_action_input,\n",
    "        memory,\n",
    "        gamma=1.,\n",
    "        alpha=alpha,\n",
    "        mb_noise=True,\n",
    "        action_clipper=[-10., 10.],\n",
    "        tau_clipper=[0.001, 10.],\n",
    "        batch_size=128,\n",
    "    )\n",
    "    return agent"
   ]
  },
  {
   "cell_type": "code",
   "execution_count": 9,
   "metadata": {
    "scrolled": false
   },
   "outputs": [],
   "source": [
    "#learning   \n",
    "l = 1.\n",
    "step = 1000000  # num of interval\n",
    "episode_step = step\n",
    "a = agent3((2,), (2,))\n",
    "actor_optimizer, critic_optimizer = Adam(lr=100., clipnorm=1.), Adam(lr=0.001, clipnorm=1.) # actorの方は何でもいい\n",
    "optimizer = [actor_optimizer, critic_optimizer]\n",
    "a.compile(optimizer=optimizer, metrics=[\"mse\"], action_lr=0.00001, tau_lr=0.0001)"
   ]
  },
  {
   "cell_type": "code",
   "execution_count": 14,
   "metadata": {
    "scrolled": false
   },
   "outputs": [
    {
     "name": "stdout",
     "output_type": "stream",
     "text": [
      "Training for 1000000 steps ...\n",
      "Interval 1 (0 steps performed)\n",
      "10000/10000 [==============================] - 74s 7ms/step - reward: -1.2866\n",
      "100 episodes - episode_reward: -127.490 [-171.748, -73.776] - loss: 0.333 - mean_squared_error: 0.667 - mean_q: -1.971\n",
      "\n",
      "Interval 2 (10000 steps performed)\n",
      "10000/10000 [==============================] - 83s 8ms/step - reward: -1.4519\n",
      "106 episodes - episode_reward: -137.913 [-240.710, -83.534] - loss: 0.300 - mean_squared_error: 0.600 - mean_q: -2.580\n",
      "\n",
      "Interval 3 (20000 steps performed)\n",
      "10000/10000 [==============================] - 87s 9ms/step - reward: -2.2649\n",
      "139 episodes - episode_reward: -162.520 [-269.780, -87.324] - loss: 0.258 - mean_squared_error: 0.516 - mean_q: -5.333\n",
      "\n",
      "Interval 4 (30000 steps performed)\n",
      "10000/10000 [==============================] - 89s 9ms/step - reward: -3.9440\n",
      "161 episodes - episode_reward: -244.621 [-284.992, -210.839] - loss: 0.854 - mean_squared_error: 1.709 - mean_q: -14.005\n",
      "\n",
      "Interval 5 (40000 steps performed)\n",
      "10000/10000 [==============================] - 87s 9ms/step - reward: -4.0035\n",
      "164 episodes - episode_reward: -244.368 [-287.460, -213.745] - loss: 2.422 - mean_squared_error: 4.844 - mean_q: -24.158\n",
      "\n",
      "Interval 6 (50000 steps performed)\n",
      "10000/10000 [==============================] - 87s 9ms/step - reward: -4.0331\n",
      "166 episodes - episode_reward: -243.056 [-289.760, -202.579] - loss: 4.509 - mean_squared_error: 9.019 - mean_q: -33.359\n",
      "\n",
      "Interval 7 (60000 steps performed)\n",
      "10000/10000 [==============================] - 87s 9ms/step - reward: -3.9373\n",
      "160 episodes - episode_reward: -245.155 [-300.245, -208.645] - loss: 7.343 - mean_squared_error: 14.685 - mean_q: -42.276\n",
      "\n",
      "Interval 8 (70000 steps performed)\n",
      "10000/10000 [==============================] - 86s 9ms/step - reward: -3.9022\n",
      "159 episodes - episode_reward: -246.508 [-289.783, -214.796] - loss: 10.878 - mean_squared_error: 21.755 - mean_q: -50.717\n",
      "\n",
      "Interval 9 (80000 steps performed)\n",
      "10000/10000 [==============================] - 88s 9ms/step - reward: -3.9258\n",
      "159 episodes - episode_reward: -245.925 [-283.828, -200.894] - loss: 14.863 - mean_squared_error: 29.725 - mean_q: -58.432\n",
      "\n",
      "Interval 10 (90000 steps performed)\n",
      "10000/10000 [==============================] - 93s 9ms/step - reward: -3.9137\n",
      "159 episodes - episode_reward: -245.967 [-290.135, -203.908] - loss: 18.252 - mean_squared_error: 36.503 - mean_q: -65.803\n",
      "\n",
      "Interval 11 (100000 steps performed)\n",
      "10000/10000 [==============================] - 89s 9ms/step - reward: -4.0212\n",
      "165 episodes - episode_reward: -243.996 [-282.084, -204.352] - loss: 22.541 - mean_squared_error: 45.083 - mean_q: -73.143\n",
      "\n",
      "Interval 12 (110000 steps performed)\n",
      "10000/10000 [==============================] - 87s 9ms/step - reward: -3.9015\n",
      "159 episodes - episode_reward: -245.775 [-288.006, -201.718] - loss: 27.894 - mean_squared_error: 55.787 - mean_q: -79.833\n",
      "\n",
      "Interval 13 (120000 steps performed)\n",
      "10000/10000 [==============================] - 86s 9ms/step - reward: -3.8960\n",
      "158 episodes - episode_reward: -247.242 [-297.824, -213.568] - loss: 33.399 - mean_squared_error: 66.797 - mean_q: -86.235\n",
      "\n",
      "Interval 14 (130000 steps performed)\n",
      "10000/10000 [==============================] - 87s 9ms/step - reward: -3.9170\n",
      "159 episodes - episode_reward: -246.342 [-288.409, -215.139] - loss: 38.551 - mean_squared_error: 77.103 - mean_q: -92.536\n",
      "\n",
      "Interval 15 (140000 steps performed)\n",
      "10000/10000 [==============================] - 92s 9ms/step - reward: -3.9796\n",
      "162 episodes - episode_reward: -244.992 [-292.064, -210.951] - loss: 43.284 - mean_squared_error: 86.568 - mean_q: -98.537\n",
      "\n",
      "Interval 16 (150000 steps performed)\n",
      "10000/10000 [==============================] - 91s 9ms/step - reward: -4.0521\n",
      "167 episodes - episode_reward: -243.123 [-278.919, -201.098] - loss: 47.996 - mean_squared_error: 95.992 - mean_q: -104.152\n",
      "\n",
      "Interval 17 (160000 steps performed)\n",
      "10000/10000 [==============================] - 93s 9ms/step - reward: -3.9319\n",
      "160 episodes - episode_reward: -245.184 [-291.748, -192.310] - loss: 52.701 - mean_squared_error: 105.403 - mean_q: -109.355\n",
      "\n",
      "Interval 18 (170000 steps performed)\n",
      "10000/10000 [==============================] - 93s 9ms/step - reward: -4.0069\n",
      "164 episodes - episode_reward: -244.272 [-277.206, -215.106] - loss: 59.439 - mean_squared_error: 118.877 - mean_q: -114.658\n",
      "\n",
      "Interval 19 (180000 steps performed)\n",
      "10000/10000 [==============================] - 89s 9ms/step - reward: -3.9644\n",
      "163 episodes - episode_reward: -244.036 [-281.071, -206.254] - loss: 65.963 - mean_squared_error: 131.926 - mean_q: -119.352\n",
      "\n",
      "Interval 20 (190000 steps performed)\n",
      "10000/10000 [==============================] - 92s 9ms/step - reward: -3.9387\n",
      "160 episodes - episode_reward: -245.368 [-297.698, -202.898] - loss: 72.421 - mean_squared_error: 144.841 - mean_q: -124.316\n",
      "\n",
      "Interval 21 (200000 steps performed)\n",
      "10000/10000 [==============================] - 91s 9ms/step - reward: -4.0235\n",
      "165 episodes - episode_reward: -243.458 [-287.806, -210.470] - loss: 76.653 - mean_squared_error: 153.307 - mean_q: -128.452\n",
      "\n",
      "Interval 22 (210000 steps performed)\n",
      "10000/10000 [==============================] - 93s 9ms/step - reward: -3.9592\n",
      "162 episodes - episode_reward: -244.490 [-286.378, -206.391] - loss: 83.233 - mean_squared_error: 166.466 - mean_q: -132.469\n",
      "\n",
      "Interval 23 (220000 steps performed)\n",
      "10000/10000 [==============================] - 96s 10ms/step - reward: -3.9515\n",
      "162 episodes - episode_reward: -245.011 [-284.900, -212.437] - loss: 87.470 - mean_squared_error: 174.941 - mean_q: -136.759\n",
      "\n",
      "Interval 24 (230000 steps performed)\n",
      "10000/10000 [==============================] - 93s 9ms/step - reward: -4.0178\n",
      "165 episodes - episode_reward: -243.431 [-280.793, -202.411] - loss: 91.873 - mean_squared_error: 183.746 - mean_q: -140.641\n",
      "\n",
      "Interval 25 (240000 steps performed)\n",
      "10000/10000 [==============================] - 94s 9ms/step - reward: -3.9333\n",
      "159 episodes - episode_reward: -246.493 [-282.892, -201.573] - loss: 95.298 - mean_squared_error: 190.596 - mean_q: -144.458\n",
      "\n",
      "Interval 26 (250000 steps performed)\n",
      "10000/10000 [==============================] - 93s 9ms/step - reward: -3.9367\n",
      "161 episodes - episode_reward: -245.246 [-288.878, -208.440] - loss: 99.823 - mean_squared_error: 199.646 - mean_q: -147.757\n",
      "\n",
      "Interval 27 (260000 steps performed)\n",
      "10000/10000 [==============================] - 92s 9ms/step - reward: -3.9599\n",
      "161 episodes - episode_reward: -245.945 [-299.819, -206.458] - loss: 105.117 - mean_squared_error: 210.233 - mean_q: -150.555\n",
      "\n",
      "Interval 28 (270000 steps performed)\n",
      "10000/10000 [==============================] - 94s 9ms/step - reward: -3.9349\n",
      "160 episodes - episode_reward: -245.645 [-294.550, -210.051] - loss: 106.858 - mean_squared_error: 213.716 - mean_q: -153.365\n",
      "\n",
      "Interval 29 (280000 steps performed)\n",
      "10000/10000 [==============================] - 97s 10ms/step - reward: -3.9671\n",
      "162 episodes - episode_reward: -244.596 [-295.500, -215.273] - loss: 112.733 - mean_squared_error: 225.466 - mean_q: -156.177\n",
      "\n",
      "Interval 30 (290000 steps performed)\n",
      "10000/10000 [==============================] - 97s 10ms/step - reward: -3.9777\n",
      "163 episodes - episode_reward: -243.421 [-286.321, -209.503] - loss: 118.514 - mean_squared_error: 237.027 - mean_q: -159.068\n",
      "\n",
      "Interval 31 (300000 steps performed)\n",
      "10000/10000 [==============================] - 88s 9ms/step - reward: -3.8756\n",
      "157 episodes - episode_reward: -247.085 [-288.484, -213.704] - loss: 123.079 - mean_squared_error: 246.157 - mean_q: -162.062\n",
      "\n",
      "Interval 32 (310000 steps performed)\n",
      "10000/10000 [==============================] - 87s 9ms/step - reward: -3.9367\n",
      "161 episodes - episode_reward: -244.663 [-283.160, -212.889] - loss: 126.066 - mean_squared_error: 252.131 - mean_q: -165.660\n",
      "\n",
      "Interval 33 (320000 steps performed)\n",
      "10000/10000 [==============================] - 87s 9ms/step - reward: -3.9775\n",
      "163 episodes - episode_reward: -244.503 [-282.888, -204.369] - loss: 131.305 - mean_squared_error: 262.610 - mean_q: -168.755\n",
      "\n",
      "Interval 34 (330000 steps performed)\n",
      "10000/10000 [==============================] - 87s 9ms/step - reward: -3.9372\n",
      "161 episodes - episode_reward: -244.986 [-289.427, -197.555] - loss: 136.306 - mean_squared_error: 272.612 - mean_q: -172.227\n",
      "\n",
      "Interval 35 (340000 steps performed)\n"
     ]
    },
    {
     "name": "stdout",
     "output_type": "stream",
     "text": [
      "10000/10000 [==============================] - 87s 9ms/step - reward: -3.9474\n",
      "161 episodes - episode_reward: -244.804 [-285.353, -189.867] - loss: 140.375 - mean_squared_error: 280.750 - mean_q: -175.345\n",
      "\n",
      "Interval 36 (350000 steps performed)\n",
      "10000/10000 [==============================] - 88s 9ms/step - reward: -3.9365\n",
      "160 episodes - episode_reward: -245.998 [-296.728, -212.311] - loss: 142.384 - mean_squared_error: 284.768 - mean_q: -178.859\n",
      "\n",
      "Interval 37 (360000 steps performed)\n",
      "10000/10000 [==============================] - 87s 9ms/step - reward: -3.9102\n",
      "159 episodes - episode_reward: -246.197 [-287.235, -212.072] - loss: 149.734 - mean_squared_error: 299.468 - mean_q: -181.925\n",
      "\n",
      "Interval 38 (370000 steps performed)\n",
      "10000/10000 [==============================] - 87s 9ms/step - reward: -3.9344\n",
      "160 episodes - episode_reward: -244.752 [-295.935, -205.858] - loss: 156.208 - mean_squared_error: 312.416 - mean_q: -183.464\n",
      "\n",
      "Interval 39 (380000 steps performed)\n",
      "10000/10000 [==============================] - 87s 9ms/step - reward: -3.9656\n",
      "163 episodes - episode_reward: -244.320 [-286.834, -208.562] - loss: 156.911 - mean_squared_error: 313.822 - mean_q: -184.888\n",
      "\n",
      "Interval 40 (390000 steps performed)\n",
      "10000/10000 [==============================] - 87s 9ms/step - reward: -3.9875\n",
      "163 episodes - episode_reward: -244.315 [-287.560, -211.273] - loss: 160.903 - mean_squared_error: 321.805 - mean_q: -186.503\n",
      "\n",
      "Interval 41 (400000 steps performed)\n",
      "10000/10000 [==============================] - 87s 9ms/step - reward: -3.9128\n",
      "159 episodes - episode_reward: -246.685 [-294.351, -218.010] - loss: 161.179 - mean_squared_error: 322.358 - mean_q: -188.206\n",
      "\n",
      "Interval 42 (410000 steps performed)\n",
      "10000/10000 [==============================] - 92s 9ms/step - reward: -4.0351\n",
      "166 episodes - episode_reward: -242.924 [-285.323, -206.968] - loss: 164.559 - mean_squared_error: 329.117 - mean_q: -189.532\n",
      "\n",
      "Interval 43 (420000 steps performed)\n",
      " 5000/10000 [==============>...............] - ETA: 45s - reward: -3.9848done, took 3793.595 seconds\n"
     ]
    }
   ],
   "source": [
    "a.load_weights('../saved_agent/linear_init_extend.h5')\n",
    "a.critic.load_weights('../saved_agent/linear_init_extend_critic2.h5')\n",
    "out = a.fit(env, alpha=alpha, l=l, nb_steps=step, visualize=0, verbose=1, nb_max_episode_steps=episode_step, episode_time=20.)"
   ]
  },
  {
   "cell_type": "code",
   "execution_count": 15,
   "metadata": {},
   "outputs": [
    {
     "name": "stdout",
     "output_type": "stream",
     "text": [
      "(65, 2)\n",
      "(55, 2)\n",
      "(68, 2)\n",
      "(52, 2)\n",
      "(69, 2)\n",
      "(76, 2)\n",
      "(57, 2)\n",
      "(59, 2)\n",
      "(65, 2)\n",
      "(26, 2)\n"
     ]
    },
    {
     "data": {
      "image/png": "[encoded data removed]",
      "text/plain": [
       "<Figure size 432x288 with 1 Axes>"
      ]
     },
     "metadata": {
      "needs_background": "light"
     },
     "output_type": "display_data"
    }
   ],
   "source": [
    "cycle = plt.rcParams['axes.prop_cycle'].by_key()['color']\n",
    "for i, em in enumerate(a.state_memory):\n",
    "    if i<len(a.state_memory)-10:\n",
    "        continue\n",
    "    print(em.shape)\n",
    "    plt.scatter(em[0,0], em[0,1], marker='o', color=cycle[i % 10])\n",
    "    plt.scatter(em[-1,0], em[-1,1], marker='x', color=cycle[i % 10])\n",
    "    plt.plot(em[:,0], em[:,1], color=cycle[i % 10], label=f'{i+1} th episode', alpha=0.5)\n",
    "plt.xlabel('angle (rad)')\n",
    "plt.ylabel('anglar velocity (rad/s)')\n",
    "plt.title('state distribution of replay buffer')\n",
    "plt.legend(bbox_to_anchor=(1.05, 1), loc='upper left', borderaxespad=0)\n",
    "plt.show()"
   ]
  },
  {
   "cell_type": "code",
   "execution_count": 31,
   "metadata": {},
   "outputs": [
    {
     "data": {
      "image/png": "[encoded data removed]",
      "text/plain": [
       "<Figure size 432x288 with 1 Axes>"
      ]
     },
     "metadata": {
      "needs_background": "light"
     },
     "output_type": "display_data"
    },
    {
     "data": {
      "image/png": "[encoded data removed]",
      "text/plain": [
       "<Figure size 432x288 with 1 Axes>"
      ]
     },
     "metadata": {
      "needs_background": "light"
     },
     "output_type": "display_data"
    },
    {
     "data": {
      "image/png": "[encoded data removed]",
      "text/plain": [
       "<Figure size 432x288 with 2 Axes>"
      ]
     },
     "metadata": {
      "needs_background": "light"
     },
     "output_type": "display_data"
    }
   ],
   "source": [
    "experiences = a.memory.sample(2**14)\n",
    "state0_batch = [] # current_state\n",
    "reward_batch = [] # current_reward\n",
    "action_batch = [] # current_action\n",
    "terminal1_batch = []\n",
    "state1_batch = [] # next_state\n",
    "for e in experiences:\n",
    "    state0_batch.append(e.state0)\n",
    "    state1_batch.append(e.state1)\n",
    "    reward_batch.append(e.reward)\n",
    "    action_batch.append(e.action)\n",
    "state0_batch = np.array(state0_batch)\n",
    "state1_batch = np.array(state1_batch)\n",
    "reward_batch = np.array(reward_batch)\n",
    "action_batch = np.array(action_batch)\n",
    "\n",
    "plt.scatter(state0_batch[:,0,0], state0_batch[:,0,1], marker='.')\n",
    "plt.show()\n",
    "plt.scatter(state1_batch[:,0,0], state1_batch[:,0,1], marker='.')\n",
    "plt.show()\n",
    "\n",
    "import matplotlib.cm as cm\n",
    "from matplotlib.colors import LogNorm\n",
    "fig = plt.figure()\n",
    "ax = fig.add_subplot(111)\n",
    "H = ax.hist2d(state0_batch[:,0,0], state0_batch[:,0,1], bins=50, cmap=cm.jet)\n",
    "# H[3].set_clim(0,200)\n",
    "fig.colorbar(H[3],ax=ax)\n",
    "ax.set_title('replay buffer density')\n",
    "ax.set_xlabel('angle (rad)')\n",
    "ax.set_ylabel('anglar velocity (rad/s)')\n",
    "plt.show()"
   ]
  },
  {
   "cell_type": "code",
   "execution_count": 16,
   "metadata": {},
   "outputs": [],
   "source": [
    "env.reset()\n",
    "a.training = False\n",
    "# a.load_weights('../saved_agent/learned_self_linear1.h5')\n",
    "# a.load_weights('../saved_agent/linear_init_extend.h5')\n",
    "# a.load_weights('../saved_agent/adaptive_linear3.h5')\n",
    "initial_state = np.array([3., 3.])\n",
    "env.set_state(initial_state)\n",
    "\n",
    "states = [initial_state]\n",
    "detail_states = [initial_state]\n",
    "\n",
    "time_limit = 10\n",
    "time_log = [0.]\n",
    "taus = []\n",
    "acc_time = 0\n",
    "episode_reward = 0\n",
    "i = 0\n",
    "detail_time_log = [0.]\n",
    "\n",
    "action_log = []\n",
    "\n",
    "\n",
    "while True:\n",
    "    reward = 0\n",
    "    x = env.state\n",
    "    a_agent, tau = a.forward(x)\n",
    "    tau = np.clip(tau, .01,10.)\n",
    "    taus.append(tau)\n",
    "    acc_time += tau\n",
    "    time_log.append(acc_time)\n",
    "    dt = 0.01\n",
    "    action_repetition = int(tau * 100)  # minimum natural number which makes `dt` smaller than 0.005\n",
    "    # print(tau, dt, action_repetition)\n",
    "    for p in range(action_repetition):\n",
    "        action_log.append(a_agent)\n",
    "        _,r,_,_ = env.step(np.array([a_agent]), dt, tau)\n",
    "        reward += r\n",
    "        detail_states.append(env.state)\n",
    "        i += 1\n",
    "        detail_time_log.append(i * dt)\n",
    "    reward *= dt\n",
    "    reward += - 0.01 * a_agent**2 + l * tau\n",
    "    episode_reward += reward\n",
    "    states.append(env.state)\n",
    "    if acc_time > time_limit:\n",
    "        break\n",
    "action_log.append(a.forward(env.state)[0])\n",
    "states = np.array(states)\n",
    "detail_states = np.array(detail_states)"
   ]
  },
  {
   "cell_type": "code",
   "execution_count": 17,
   "metadata": {},
   "outputs": [
    {
     "data": {
      "image/png": "[encoded data removed]",
      "text/plain": [
       "<Figure size 432x432 with 3 Axes>"
      ]
     },
     "metadata": {
      "needs_background": "light"
     },
     "output_type": "display_data"
    }
   ],
   "source": [
    "plt.figure(figsize=(6,6))\n",
    "plt.subplots_adjust(hspace=0.6)\n",
    "\n",
    "# state\n",
    "plt.subplot(3,1,1)\n",
    "plt.xlabel('control time (s)')\n",
    "plt.ylabel('$\\|s\\|_2$')\n",
    "plt.plot(detail_time_log, np.linalg.norm(detail_states, axis=1))\n",
    "#plt.scatter(time_log, states[:,0], marker='.')\n",
    "\n",
    "# action\n",
    "plt.subplot(3,1,2)\n",
    "plt.xlabel('control time (s)')\n",
    "plt.ylabel('$u$')\n",
    "plt.plot(detail_time_log, action_log, color='red')\n",
    "\n",
    "# communication\n",
    "indices = []\n",
    "for t in np.round(time_log, decimals=2):\n",
    "    if t in np.round(detail_time_log, decimals=2):\n",
    "        indices.append(np.where(t == np.round(detail_time_log, decimals=2))[0][0])\n",
    "com = np.zeros_like(detail_time_log)\n",
    "com[indices] = 1\n",
    "plt.subplot(3,1,3)\n",
    "plt.xlabel('control time (s)')\n",
    "plt.ylabel('interaction (bool)')\n",
    "plt.plot(detail_time_log, com, color='black')\n",
    "\n",
    "plt.show()"
   ]
  },
  {
   "cell_type": "code",
   "execution_count": 21,
   "metadata": {},
   "outputs": [
    {
     "name": "stdout",
     "output_type": "stream",
     "text": [
      "[WARNING] ../saved_agent/adaptive_linear3_actor.h5 already exists - overwrite? [y/n]n\n",
      "[WARNING] ../saved_agent/adaptive_linear3_critic.h5 already exists - overwrite? [y/n]n\n"
     ]
    }
   ],
   "source": [
    "a.save_weights('../saved_agent/adaptive_linear3.h5')"
   ]
  },
  {
   "cell_type": "code",
   "execution_count": 21,
   "metadata": {},
   "outputs": [],
   "source": [
    "a.save_weights('../saved_agent/proposed3.h5')"
   ]
  },
  {
   "cell_type": "code",
   "execution_count": 26,
   "metadata": {},
   "outputs": [
    {
     "data": {
      "text/plain": [
       "array([ 0.26799357, -0.37171593, -0.3281413 ,  0.42214495, -0.3014254 ,\n",
       "       -0.19572398, -0.57996166,  0.55098283,  0.16457053,  0.5574997 ,\n",
       "        0.60330904, -0.01650081,  0.48838076, -0.49716952,  0.5379124 ,\n",
       "        1.0325062 ], dtype=float32)"
      ]
     },
     "execution_count": 26,
     "metadata": {},
     "output_type": "execute_result"
    }
   ],
   "source": [
    "a.actor.layers[3].get_weights()[0][0]"
   ]
  },
  {
   "cell_type": "code",
   "execution_count": 23,
   "metadata": {},
   "outputs": [],
   "source": [
    "b = agent3((2,),(2,))\n",
    "b.compile(optimizer=optimizer, metrics=[\"mse\"], action_lr=0.00001, tau_lr=0.0001)\n",
    "b.load_weights('../saved_agent/linear_init_extend.h5')"
   ]
  },
  {
   "cell_type": "code",
   "execution_count": 25,
   "metadata": {},
   "outputs": [
    {
     "data": {
      "text/plain": [
       "array([ 0.20290345, -0.34204164, -0.39623806,  0.415017  , -0.48174024,\n",
       "       -0.23529607, -0.44098592,  0.09035595, -0.02329248,  0.5625542 ,\n",
       "        0.20785663, -0.2992738 ,  0.3523975 , -0.6927294 , -0.03136721,\n",
       "        0.50546575], dtype=float32)"
      ]
     },
     "execution_count": 25,
     "metadata": {},
     "output_type": "execute_result"
    }
   ],
   "source": [
    "b.actor.layers[3].get_weights()[0][0]"
   ]
  },
  {
   "cell_type": "code",
   "execution_count": null,
   "metadata": {},
   "outputs": [],
   "source": []
  }
 ],
 "metadata": {
  "kernelspec": {
   "display_name": "Python 3",
   "language": "python",
   "name": "python3"
  },
  "language_info": {
   "codemirror_mode": {
    "name": "ipython",
    "version": 3
   },
   "file_extension": ".py",
   "mimetype": "text/x-python",
   "name": "python",
   "nbconvert_exporter": "python",
   "pygments_lexer": "ipython3",
   "version": "3.7.3"
  }
 },
 "nbformat": 4,
 "nbformat_minor": 4
}
