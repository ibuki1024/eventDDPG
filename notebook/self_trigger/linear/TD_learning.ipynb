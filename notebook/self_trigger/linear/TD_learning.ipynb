{
 "cells": [
  {
   "cell_type": "code",
   "execution_count": 1,
   "metadata": {},
   "outputs": [
    {
     "name": "stderr",
     "output_type": "stream",
     "text": [
      "Using TensorFlow backend.\n",
      "Using TensorFlow backend.\n"
     ]
    }
   ],
   "source": [
    "import warnings\n",
    "warnings.filterwarnings('ignore')\n",
    "import numpy as np\n",
    "import matplotlib.pyplot as plt\n",
    "import pandas as pd\n",
    "\n",
    "import sys\n",
    "sys.path.append('../../../module/')\n",
    "\n",
    "from keras2.models import Model\n",
    "from keras2.layers import concatenate, Dense, Input, Flatten\n",
    "from keras2.optimizers import Adam\n",
    "import csv\n",
    "import itertools\n",
    "from util import *\n",
    "import gym2\n",
    "from rl2.agents import selfDDPGAgent, selfDDPGAgent2, selfDDPGAgent3\n",
    "from rl2.memory import SequentialMemory"
   ]
  },
  {
   "cell_type": "code",
   "execution_count": 2,
   "metadata": {},
   "outputs": [],
   "source": [
    "env = gym2.make('Linear-v1')\n",
    "Q = .01 * np.eye(2)\n",
    "R = .01"
   ]
  },
  {
   "cell_type": "code",
   "execution_count": 3,
   "metadata": {},
   "outputs": [],
   "source": [
    "def critic_net(a_shape , s_shape):\n",
    "    action_input = Input(a_shape)\n",
    "    observation_input = Input(shape=(1,)+s_shape)\n",
    "    flattened_observation = Flatten()(observation_input)\n",
    "    x = concatenate([action_input, flattened_observation])\n",
    "    x = Dense(16, activation=\"relu\")(x)\n",
    "    x = Dense(16, activation=\"relu\")(x)\n",
    "    x = Dense(1, activation=\"linear\")(x)\n",
    "    critic = Model(inputs=[action_input, observation_input], outputs=x)\n",
    "    return (critic, action_input)\n",
    "\n",
    "def branch_actor(a_shape, s_shape):\n",
    "    action_input = Input(shape=(1,)+s_shape)\n",
    "    x = Flatten()(action_input) # 実質的なinput layer\n",
    "    \n",
    "    x1 = Dense(16, activation=\"relu\")(x)\n",
    "    x1 = Dense(16, activation=\"relu\")(x1)\n",
    "    x1 = Dense(1, activation=\"multiple_tanh\")(x1) # action signal\n",
    "    \n",
    "    x2 = Dense(16, activation=\"relu\")(x)\n",
    "    x2 = Dense(16, activation=\"relu\")(x2)\n",
    "    x2 = Dense(1, activation=\"tau_output_large\")(x2) # tau\n",
    "    \n",
    "    output = concatenate([x1, x2])\n",
    "    actor = Model(inputs=action_input, outputs=output)\n",
    "    return actor"
   ]
  },
  {
   "cell_type": "code",
   "execution_count": 4,
   "metadata": {},
   "outputs": [
    {
     "name": "stdout",
     "output_type": "stream",
     "text": [
      "WARNING:tensorflow:From ../../../module/keras2/backend/tensorflow_backend.py:86: The name tf.get_default_graph is deprecated. Please use tf.compat.v1.get_default_graph instead.\n",
      "\n",
      "WARNING:tensorflow:From ../../../module/keras2/backend/tensorflow_backend.py:529: The name tf.placeholder is deprecated. Please use tf.compat.v1.placeholder instead.\n",
      "\n",
      "WARNING:tensorflow:From ../../../module/keras2/backend/tensorflow_backend.py:4152: The name tf.random_uniform is deprecated. Please use tf.random.uniform instead.\n",
      "\n"
     ]
    }
   ],
   "source": [
    "actor = branch_actor((2,),(2,))"
   ]
  },
  {
   "cell_type": "code",
   "execution_count": 5,
   "metadata": {},
   "outputs": [
    {
     "name": "stdout",
     "output_type": "stream",
     "text": [
      "WARNING:tensorflow:From ../../../module/keras2/backend/tensorflow_backend.py:186: The name tf.get_default_session is deprecated. Please use tf.compat.v1.get_default_session instead.\n",
      "\n",
      "WARNING:tensorflow:From ../../../module/keras2/backend/tensorflow_backend.py:193: The name tf.ConfigProto is deprecated. Please use tf.compat.v1.ConfigProto instead.\n",
      "\n"
     ]
    }
   ],
   "source": [
    "# init\n",
    "actor.load_weights('../saved_agent/linear_init_extend_actor.h5')"
   ]
  },
  {
   "cell_type": "code",
   "execution_count": 36,
   "metadata": {},
   "outputs": [
    {
     "name": "stdout",
     "output_type": "stream",
     "text": [
      "2 %"
     ]
    },
    {
     "ename": "KeyboardInterrupt",
     "evalue": "",
     "output_type": "error",
     "traceback": [
      "\u001b[0;31m---------------------------------------------------------------------------\u001b[0m",
      "\u001b[0;31mKeyboardInterrupt\u001b[0m                         Traceback (most recent call last)",
      "\u001b[0;32m<ipython-input-36-698fe7b1ebb3>\u001b[0m in \u001b[0;36m<module>\u001b[0;34m\u001b[0m\n\u001b[1;32m     22\u001b[0m         \u001b[0mepisode_time\u001b[0m \u001b[0;34m+=\u001b[0m \u001b[0mtau\u001b[0m\u001b[0;34m\u001b[0m\u001b[0;34m\u001b[0m\u001b[0m\n\u001b[1;32m     23\u001b[0m         \u001b[0;32mfor\u001b[0m \u001b[0mp\u001b[0m \u001b[0;32min\u001b[0m \u001b[0mrange\u001b[0m\u001b[0;34m(\u001b[0m\u001b[0maction_repetition\u001b[0m\u001b[0;34m)\u001b[0m\u001b[0;34m:\u001b[0m\u001b[0;34m\u001b[0m\u001b[0;34m\u001b[0m\u001b[0m\n\u001b[0;32m---> 24\u001b[0;31m             \u001b[0m_\u001b[0m\u001b[0;34m,\u001b[0m\u001b[0mr\u001b[0m\u001b[0;34m,\u001b[0m\u001b[0m_\u001b[0m\u001b[0;34m,\u001b[0m\u001b[0m_\u001b[0m \u001b[0;34m=\u001b[0m \u001b[0menv\u001b[0m\u001b[0;34m.\u001b[0m\u001b[0mstep\u001b[0m\u001b[0;34m(\u001b[0m\u001b[0mnp\u001b[0m\u001b[0;34m.\u001b[0m\u001b[0marray\u001b[0m\u001b[0;34m(\u001b[0m\u001b[0;34m[\u001b[0m\u001b[0ma_agent\u001b[0m\u001b[0;34m]\u001b[0m\u001b[0;34m)\u001b[0m\u001b[0;34m,\u001b[0m \u001b[0mdt\u001b[0m\u001b[0;34m,\u001b[0m \u001b[0mtau\u001b[0m\u001b[0;34m)\u001b[0m\u001b[0;34m\u001b[0m\u001b[0;34m\u001b[0m\u001b[0m\n\u001b[0m\u001b[1;32m     25\u001b[0m             \u001b[0mr\u001b[0m \u001b[0;34m*=\u001b[0m \u001b[0mnp\u001b[0m\u001b[0;34m.\u001b[0m\u001b[0mexp\u001b[0m\u001b[0;34m(\u001b[0m\u001b[0;34m-\u001b[0m \u001b[0malpha\u001b[0m \u001b[0;34m*\u001b[0m \u001b[0mp\u001b[0m \u001b[0;34m*\u001b[0m \u001b[0mdt\u001b[0m\u001b[0;34m)\u001b[0m\u001b[0;34m\u001b[0m\u001b[0;34m\u001b[0m\u001b[0m\n\u001b[1;32m     26\u001b[0m             \u001b[0mreward\u001b[0m \u001b[0;34m+=\u001b[0m \u001b[0mr\u001b[0m\u001b[0;34m\u001b[0m\u001b[0;34m\u001b[0m\u001b[0m\n",
      "\u001b[0;32m~/Documents/studyM2/projects/eventddpg/module/gym2/wrappers/time_limit.py\u001b[0m in \u001b[0;36mstep\u001b[0;34m(self, action, dt, tau)\u001b[0m\n\u001b[1;32m     42\u001b[0m         \u001b[0;32massert\u001b[0m \u001b[0mself\u001b[0m\u001b[0;34m.\u001b[0m\u001b[0m_elapsed_steps\u001b[0m \u001b[0;32mis\u001b[0m \u001b[0;32mnot\u001b[0m \u001b[0;32mNone\u001b[0m\u001b[0;34m,\u001b[0m \u001b[0;34m\"Cannot call env.step() before calling reset()\"\u001b[0m\u001b[0;34m\u001b[0m\u001b[0;34m\u001b[0m\u001b[0m\n\u001b[1;32m     43\u001b[0m         \u001b[0mobservation\u001b[0m\u001b[0;34m,\u001b[0m \u001b[0mreward\u001b[0m\u001b[0;34m,\u001b[0m \u001b[0mdone\u001b[0m\u001b[0;34m,\u001b[0m \u001b[0minfo\u001b[0m \u001b[0;34m=\u001b[0m \u001b[0mself\u001b[0m\u001b[0;34m.\u001b[0m\u001b[0menv\u001b[0m\u001b[0;34m.\u001b[0m\u001b[0mstep\u001b[0m\u001b[0;34m(\u001b[0m\u001b[0maction\u001b[0m\u001b[0;34m,\u001b[0m \u001b[0mdt\u001b[0m\u001b[0;34m,\u001b[0m \u001b[0mtau\u001b[0m\u001b[0;34m)\u001b[0m\u001b[0;34m\u001b[0m\u001b[0;34m\u001b[0m\u001b[0m\n\u001b[0;32m---> 44\u001b[0;31m         \u001b[0mself\u001b[0m\u001b[0;34m.\u001b[0m\u001b[0m_elapsed_steps\u001b[0m \u001b[0;34m+=\u001b[0m \u001b[0;36m1\u001b[0m\u001b[0;34m\u001b[0m\u001b[0;34m\u001b[0m\u001b[0m\n\u001b[0m\u001b[1;32m     45\u001b[0m         \u001b[0;32mif\u001b[0m \u001b[0mself\u001b[0m\u001b[0;34m.\u001b[0m\u001b[0m_elapsed_steps\u001b[0m \u001b[0;34m>=\u001b[0m \u001b[0mself\u001b[0m\u001b[0;34m.\u001b[0m\u001b[0m_max_episode_steps\u001b[0m\u001b[0;34m:\u001b[0m\u001b[0;34m\u001b[0m\u001b[0;34m\u001b[0m\u001b[0m\n\u001b[1;32m     46\u001b[0m             \u001b[0minfo\u001b[0m\u001b[0;34m[\u001b[0m\u001b[0;34m'TimeLimit.truncated'\u001b[0m\u001b[0;34m]\u001b[0m \u001b[0;34m=\u001b[0m \u001b[0;32mnot\u001b[0m \u001b[0mdone\u001b[0m\u001b[0;34m\u001b[0m\u001b[0;34m\u001b[0m\u001b[0m\n",
      "\u001b[0;31mKeyboardInterrupt\u001b[0m: "
     ]
    }
   ],
   "source": [
    "alpha = 0.07\n",
    "beta = 1.\n",
    "\n",
    "smemory = []\n",
    "end_time = 20.\n",
    "l = 1.\n",
    "n_episodes = 100\n",
    "gamma = .99\n",
    "\n",
    "for i in range(n_episodes):\n",
    "    env.reset()\n",
    "    episode_time = 0\n",
    "    episode_step = 0\n",
    "    episode_memory = []\n",
    "    while True:\n",
    "        reward = 0\n",
    "        state0 = env.state\n",
    "        a_agent, tau = actor.predict_on_batch(np.array([[state0]]))[0]\n",
    "        a_agent, tau = np.clip(a_agent, -10., 10.), np.clip(tau, .01, 10.)\n",
    "        action_repetition = int(np.ceil(20 * tau))  # minimum natural number which makes `dt` smaller than 0.005\n",
    "        dt = tau / action_repetition\n",
    "        episode_time += tau\n",
    "        for p in range(action_repetition):\n",
    "            _,r,_,_ = env.step(np.array([a_agent]), dt, tau)\n",
    "            r *= np.exp(- alpha * p * dt)\n",
    "            reward += r\n",
    "        reward *= dt\n",
    "        reward -= beta\n",
    "        state1 = env.state\n",
    "        if np.random.uniform(0,1) < pow(gamma, episode_step):\n",
    "            episode_memory.append([state0, np.array([a_agent, tau]), reward, state1])\n",
    "        episode_step += 1\n",
    "        if episode_time > end_time:\n",
    "            break\n",
    "    print('\\r' + f'{int(i*100/n_episodes)} %', end='')\n",
    "    smemory.append(np.array(episode_memory))"
   ]
  },
  {
   "cell_type": "code",
   "execution_count": 37,
   "metadata": {},
   "outputs": [
    {
     "name": "stdout",
     "output_type": "stream",
     "text": [
      "(306, 4)\n"
     ]
    }
   ],
   "source": [
    "memory = np.array(list(itertools.chain.from_iterable(np.array(smemory))))\n",
    "print(memory.shape)"
   ]
  },
  {
   "cell_type": "code",
   "execution_count": 38,
   "metadata": {
    "scrolled": true
   },
   "outputs": [
    {
     "data": {
      "image/png": "[encoded data removed]",
      "text/plain": [
       "<Figure size 432x288 with 1 Axes>"
      ]
     },
     "metadata": {
      "needs_background": "light"
     },
     "output_type": "display_data"
    }
   ],
   "source": [
    "action_memory = np.array(memory[:,1].tolist())\n",
    "state0_memory = np.array(memory[:,0].tolist())\n",
    "state1_memory = np.array(memory[:,3].tolist())\n",
    "plt.scatter(state1_memory[:,0], state1_memory[:,1], marker='x', label='state1')\n",
    "plt.scatter(state0_memory[:,0], state0_memory[:,1], marker='.', label='state0')\n",
    "plt.legend()\n",
    "plt.show()"
   ]
  },
  {
   "cell_type": "code",
   "execution_count": 11,
   "metadata": {},
   "outputs": [
    {
     "data": {
      "image/png": "[encoded data removed]",
      "text/plain": [
       "<Figure size 432x288 with 1 Axes>"
      ]
     },
     "metadata": {
      "needs_background": "light"
     },
     "output_type": "display_data"
    }
   ],
   "source": [
    "# critic learning\n",
    "critic = critic_net((2,),(2,))[0]\n",
    "critic.compile(Adam(lr=0.001, clipnorm=1.), loss='mean_squared_error')\n",
    "critic.load_weights('../saved_agent/linear_init_extend_critic2.h5')\n",
    "epoch = 20000\n",
    "batch_size = 32\n",
    "gamma = 0.99\n",
    "arr = np.array(range(memory.shape[0]))\n",
    "losses = []\n",
    "for _ in range(epoch):\n",
    "    # make mini_batch\n",
    "    mem = memory[np.random.choice(arr, batch_size, replace=False)]\n",
    "    state0_batch = []\n",
    "    action_batch = []\n",
    "    reward_batch = []\n",
    "    state1_batch = []\n",
    "    for m in mem:\n",
    "        state0_batch.append([m[0]])\n",
    "        action_batch.append(m[1])\n",
    "        reward_batch.append([m[2]])\n",
    "        state1_batch.append([m[3]])\n",
    "    state0_batch, action_batch, reward_batch, state1_batch = \\\n",
    "    np.array(state0_batch), np.array(action_batch), np.array(reward_batch), np.array(state1_batch)\n",
    "\n",
    "    # TD error\n",
    "    next_action = actor.predict_on_batch(state1_batch)\n",
    "    state1_batch_with_action = [next_action, state1_batch]\n",
    "    r_second = gamma * critic.predict_on_batch(state1_batch_with_action)\n",
    "    r = reward_batch + r_second\n",
    "    \n",
    "    # learn\n",
    "    critic_input_batch = [action_batch, state0_batch]\n",
    "    loss = critic.train_on_batch(critic_input_batch, r)\n",
    "    losses.append(loss)\n",
    "    \n",
    "plt.plot(losses)\n",
    "plt.xlabel('epochs')\n",
    "plt.ylabel('critic_loss')\n",
    "plt.show()"
   ]
  },
  {
   "cell_type": "code",
   "execution_count": 12,
   "metadata": {},
   "outputs": [],
   "source": [
    "critic.save_weights('../saved_agent/linear_init_extend_critic2.h5')"
   ]
  },
  {
   "cell_type": "code",
   "execution_count": 33,
   "metadata": {},
   "outputs": [
    {
     "data": {
      "image/png": "[encoded data removed]",
      "text/plain": [
       "<Figure size 432x288 with 1 Axes>"
      ]
     },
     "metadata": {
      "needs_background": "light"
     },
     "output_type": "display_data"
    }
   ],
   "source": [
    "# critic learning\n",
    "critic = critic_net((2,),(2,))[0]\n",
    "critic.compile(Adam(lr=0.001, clipnorm=1.), loss='mean_squared_error')\n",
    "critic.load_weights('../saved_agent/linear_init_extend_critic2.h5')\n",
    "epoch = 200000\n",
    "batch_size = 64\n",
    "arr = np.array(range(memory.shape[0]))\n",
    "losses = []\n",
    "for _ in range(epoch):\n",
    "    # make mini_batch\n",
    "    mem = memory[np.random.choice(arr, batch_size, replace=False)]\n",
    "    state0_batch = []\n",
    "    action_batch = []\n",
    "    reward_batch = []\n",
    "    state1_batch = []\n",
    "    for m in mem:\n",
    "        state0_batch.append([m[0]])\n",
    "        action_batch.append(m[1])\n",
    "        reward_batch.append([m[2]])\n",
    "        state1_batch.append([m[3]])\n",
    "    state0_batch, action_batch, reward_batch, state1_batch = \\\n",
    "    np.array(state0_batch), np.array(action_batch), np.array(reward_batch), np.array(state1_batch)\n",
    "\n",
    "    # TD error\n",
    "    next_action = actor.predict_on_batch(state1_batch)\n",
    "    state1_batch_with_action = [next_action, state1_batch]\n",
    "    target = critic.predict_on_batch(state1_batch_with_action)\n",
    "    discount = np.exp(- alpha * action_batch[:,1].reshape(batch_size, 1))\n",
    "    r_second = np.multiply(discount, target)\n",
    "    r = reward_batch + r_second\n",
    "    \n",
    "    # learn\n",
    "    critic_input_batch = [action_batch, state0_batch]\n",
    "    loss = critic.train_on_batch(critic_input_batch, r)\n",
    "    losses.append(loss)\n",
    "    \n",
    "plt.plot(losses)\n",
    "plt.xlabel('epochs')\n",
    "plt.ylabel('critic_loss')\n",
    "plt.show()"
   ]
  },
  {
   "cell_type": "code",
   "execution_count": null,
   "metadata": {},
   "outputs": [],
   "source": [
    "# learned\n",
    "actor.load_weights('../saved_agent/proposed_actor.h5')"
   ]
  },
  {
   "cell_type": "code",
   "execution_count": 36,
   "metadata": {},
   "outputs": [
    {
     "name": "stdout",
     "output_type": "stream",
     "text": [
      "2 %"
     ]
    },
    {
     "ename": "KeyboardInterrupt",
     "evalue": "",
     "output_type": "error",
     "traceback": [
      "\u001b[0;31m---------------------------------------------------------------------------\u001b[0m",
      "\u001b[0;31mKeyboardInterrupt\u001b[0m                         Traceback (most recent call last)",
      "\u001b[0;32m<ipython-input-36-698fe7b1ebb3>\u001b[0m in \u001b[0;36m<module>\u001b[0;34m\u001b[0m\n\u001b[1;32m     22\u001b[0m         \u001b[0mepisode_time\u001b[0m \u001b[0;34m+=\u001b[0m \u001b[0mtau\u001b[0m\u001b[0;34m\u001b[0m\u001b[0;34m\u001b[0m\u001b[0m\n\u001b[1;32m     23\u001b[0m         \u001b[0;32mfor\u001b[0m \u001b[0mp\u001b[0m \u001b[0;32min\u001b[0m \u001b[0mrange\u001b[0m\u001b[0;34m(\u001b[0m\u001b[0maction_repetition\u001b[0m\u001b[0;34m)\u001b[0m\u001b[0;34m:\u001b[0m\u001b[0;34m\u001b[0m\u001b[0;34m\u001b[0m\u001b[0m\n\u001b[0;32m---> 24\u001b[0;31m             \u001b[0m_\u001b[0m\u001b[0;34m,\u001b[0m\u001b[0mr\u001b[0m\u001b[0;34m,\u001b[0m\u001b[0m_\u001b[0m\u001b[0;34m,\u001b[0m\u001b[0m_\u001b[0m \u001b[0;34m=\u001b[0m \u001b[0menv\u001b[0m\u001b[0;34m.\u001b[0m\u001b[0mstep\u001b[0m\u001b[0;34m(\u001b[0m\u001b[0mnp\u001b[0m\u001b[0;34m.\u001b[0m\u001b[0marray\u001b[0m\u001b[0;34m(\u001b[0m\u001b[0;34m[\u001b[0m\u001b[0ma_agent\u001b[0m\u001b[0;34m]\u001b[0m\u001b[0;34m)\u001b[0m\u001b[0;34m,\u001b[0m \u001b[0mdt\u001b[0m\u001b[0;34m,\u001b[0m \u001b[0mtau\u001b[0m\u001b[0;34m)\u001b[0m\u001b[0;34m\u001b[0m\u001b[0;34m\u001b[0m\u001b[0m\n\u001b[0m\u001b[1;32m     25\u001b[0m             \u001b[0mr\u001b[0m \u001b[0;34m*=\u001b[0m \u001b[0mnp\u001b[0m\u001b[0;34m.\u001b[0m\u001b[0mexp\u001b[0m\u001b[0;34m(\u001b[0m\u001b[0;34m-\u001b[0m \u001b[0malpha\u001b[0m \u001b[0;34m*\u001b[0m \u001b[0mp\u001b[0m \u001b[0;34m*\u001b[0m \u001b[0mdt\u001b[0m\u001b[0;34m)\u001b[0m\u001b[0;34m\u001b[0m\u001b[0;34m\u001b[0m\u001b[0m\n\u001b[1;32m     26\u001b[0m             \u001b[0mreward\u001b[0m \u001b[0;34m+=\u001b[0m \u001b[0mr\u001b[0m\u001b[0;34m\u001b[0m\u001b[0;34m\u001b[0m\u001b[0m\n",
      "\u001b[0;32m~/Documents/studyM2/projects/eventddpg/module/gym2/wrappers/time_limit.py\u001b[0m in \u001b[0;36mstep\u001b[0;34m(self, action, dt, tau)\u001b[0m\n\u001b[1;32m     42\u001b[0m         \u001b[0;32massert\u001b[0m \u001b[0mself\u001b[0m\u001b[0;34m.\u001b[0m\u001b[0m_elapsed_steps\u001b[0m \u001b[0;32mis\u001b[0m \u001b[0;32mnot\u001b[0m \u001b[0;32mNone\u001b[0m\u001b[0;34m,\u001b[0m \u001b[0;34m\"Cannot call env.step() before calling reset()\"\u001b[0m\u001b[0;34m\u001b[0m\u001b[0;34m\u001b[0m\u001b[0m\n\u001b[1;32m     43\u001b[0m         \u001b[0mobservation\u001b[0m\u001b[0;34m,\u001b[0m \u001b[0mreward\u001b[0m\u001b[0;34m,\u001b[0m \u001b[0mdone\u001b[0m\u001b[0;34m,\u001b[0m \u001b[0minfo\u001b[0m \u001b[0;34m=\u001b[0m \u001b[0mself\u001b[0m\u001b[0;34m.\u001b[0m\u001b[0menv\u001b[0m\u001b[0;34m.\u001b[0m\u001b[0mstep\u001b[0m\u001b[0;34m(\u001b[0m\u001b[0maction\u001b[0m\u001b[0;34m,\u001b[0m \u001b[0mdt\u001b[0m\u001b[0;34m,\u001b[0m \u001b[0mtau\u001b[0m\u001b[0;34m)\u001b[0m\u001b[0;34m\u001b[0m\u001b[0;34m\u001b[0m\u001b[0m\n\u001b[0;32m---> 44\u001b[0;31m         \u001b[0mself\u001b[0m\u001b[0;34m.\u001b[0m\u001b[0m_elapsed_steps\u001b[0m \u001b[0;34m+=\u001b[0m \u001b[0;36m1\u001b[0m\u001b[0;34m\u001b[0m\u001b[0;34m\u001b[0m\u001b[0m\n\u001b[0m\u001b[1;32m     45\u001b[0m         \u001b[0;32mif\u001b[0m \u001b[0mself\u001b[0m\u001b[0;34m.\u001b[0m\u001b[0m_elapsed_steps\u001b[0m \u001b[0;34m>=\u001b[0m \u001b[0mself\u001b[0m\u001b[0;34m.\u001b[0m\u001b[0m_max_episode_steps\u001b[0m\u001b[0;34m:\u001b[0m\u001b[0;34m\u001b[0m\u001b[0;34m\u001b[0m\u001b[0m\n\u001b[1;32m     46\u001b[0m             \u001b[0minfo\u001b[0m\u001b[0;34m[\u001b[0m\u001b[0;34m'TimeLimit.truncated'\u001b[0m\u001b[0;34m]\u001b[0m \u001b[0;34m=\u001b[0m \u001b[0;32mnot\u001b[0m \u001b[0mdone\u001b[0m\u001b[0;34m\u001b[0m\u001b[0;34m\u001b[0m\u001b[0m\n",
      "\u001b[0;31mKeyboardInterrupt\u001b[0m: "
     ]
    }
   ],
   "source": [
    "alpha = 0.07\n",
    "beta = 1.\n",
    "\n",
    "smemory = []\n",
    "end_time = 20.\n",
    "l = 1.\n",
    "n_episodes = 100\n",
    "gamma = .99\n",
    "\n",
    "for i in range(n_episodes):\n",
    "    env.reset()\n",
    "    episode_time = 0\n",
    "    episode_step = 0\n",
    "    episode_memory = []\n",
    "    while True:\n",
    "        reward = 0\n",
    "        state0 = env.state\n",
    "        a_agent, tau = actor.predict_on_batch(np.array([[state0]]))[0]\n",
    "        a_agent, tau = np.clip(a_agent, -10., 10.), np.clip(tau, .01, 10.)\n",
    "        action_repetition = int(np.ceil(20 * tau))  # minimum natural number which makes `dt` smaller than 0.005\n",
    "        dt = tau / action_repetition\n",
    "        episode_time += tau\n",
    "        for p in range(action_repetition):\n",
    "            _,r,_,_ = env.step(np.array([a_agent]), dt, tau)\n",
    "            r *= np.exp(- alpha * p * dt)\n",
    "            reward += r\n",
    "        reward *= dt\n",
    "        reward -= beta\n",
    "        state1 = env.state\n",
    "        if np.random.uniform(0,1) < pow(gamma, episode_step):\n",
    "            episode_memory.append([state0, np.array([a_agent, tau]), reward, state1])\n",
    "        episode_step += 1\n",
    "        if episode_time > end_time:\n",
    "            break\n",
    "    print('\\r' + f'{int(i*100/n_episodes)} %', end='')\n",
    "    smemory.append(np.array(episode_memory))"
   ]
  },
  {
   "cell_type": "code",
   "execution_count": 37,
   "metadata": {},
   "outputs": [
    {
     "name": "stdout",
     "output_type": "stream",
     "text": [
      "(306, 4)\n"
     ]
    }
   ],
   "source": [
    "memory = np.array(list(itertools.chain.from_iterable(np.array(smemory))))\n",
    "print(memory.shape)"
   ]
  },
  {
   "cell_type": "code",
   "execution_count": 38,
   "metadata": {
    "scrolled": true
   },
   "outputs": [
    {
     "data": {
      "image/png": "[encoded data removed]",
      "text/plain": [
       "<Figure size 432x288 with 1 Axes>"
      ]
     },
     "metadata": {
      "needs_background": "light"
     },
     "output_type": "display_data"
    }
   ],
   "source": [
    "action_memory = np.array(memory[:,1].tolist())\n",
    "state0_memory = np.array(memory[:,0].tolist())\n",
    "state1_memory = np.array(memory[:,3].tolist())\n",
    "plt.scatter(state1_memory[:,0], state1_memory[:,1], marker='x', label='state1')\n",
    "plt.scatter(state0_memory[:,0], state0_memory[:,1], marker='.', label='state0')\n",
    "plt.legend()\n",
    "plt.show()"
   ]
  },
  {
   "cell_type": "code",
   "execution_count": 11,
   "metadata": {},
   "outputs": [
    {
     "data": {
      "image/png": "[encoded data removed]",
      "text/plain": [
       "<Figure size 432x288 with 1 Axes>"
      ]
     },
     "metadata": {
      "needs_background": "light"
     },
     "output_type": "display_data"
    }
   ],
   "source": [
    "# critic learning\n",
    "critic = critic_net((2,),(2,))[0]\n",
    "critic.compile(Adam(lr=0.001, clipnorm=1.), loss='mean_squared_error')\n",
    "critic.load_weights('../saved_agent/linear_init_extend_critic2.h5')\n",
    "epoch = 20000\n",
    "batch_size = 32\n",
    "gamma = 0.99\n",
    "arr = np.array(range(memory.shape[0]))\n",
    "losses = []\n",
    "for _ in range(epoch):\n",
    "    # make mini_batch\n",
    "    mem = memory[np.random.choice(arr, batch_size, replace=False)]\n",
    "    state0_batch = []\n",
    "    action_batch = []\n",
    "    reward_batch = []\n",
    "    state1_batch = []\n",
    "    for m in mem:\n",
    "        state0_batch.append([m[0]])\n",
    "        action_batch.append(m[1])\n",
    "        reward_batch.append([m[2]])\n",
    "        state1_batch.append([m[3]])\n",
    "    state0_batch, action_batch, reward_batch, state1_batch = \\\n",
    "    np.array(state0_batch), np.array(action_batch), np.array(reward_batch), np.array(state1_batch)\n",
    "\n",
    "    # TD error\n",
    "    next_action = actor.predict_on_batch(state1_batch)\n",
    "    state1_batch_with_action = [next_action, state1_batch]\n",
    "    r_second = gamma * critic.predict_on_batch(state1_batch_with_action)\n",
    "    r = reward_batch + r_second\n",
    "    \n",
    "    # learn\n",
    "    critic_input_batch = [action_batch, state0_batch]\n",
    "    loss = critic.train_on_batch(critic_input_batch, r)\n",
    "    losses.append(loss)\n",
    "    \n",
    "plt.plot(losses)\n",
    "plt.xlabel('epochs')\n",
    "plt.ylabel('critic_loss')\n",
    "plt.show()"
   ]
  },
  {
   "cell_type": "code",
   "execution_count": 12,
   "metadata": {},
   "outputs": [],
   "source": [
    "critic.save_weights('../saved_agent/linear_init_extend_critic2.h5')"
   ]
  },
  {
   "cell_type": "code",
   "execution_count": 33,
   "metadata": {},
   "outputs": [
    {
     "data": {
      "image/png": "[encoded data removed]",
      "text/plain": [
       "<Figure size 432x288 with 1 Axes>"
      ]
     },
     "metadata": {
      "needs_background": "light"
     },
     "output_type": "display_data"
    }
   ],
   "source": [
    "# critic learning\n",
    "critic = critic_net((2,),(2,))[0]\n",
    "critic.compile(Adam(lr=0.001, clipnorm=1.), loss='mean_squared_error')\n",
    "critic.load_weights('../saved_agent/linear_init_extend_critic2.h5')\n",
    "epoch = 200000\n",
    "batch_size = 64\n",
    "arr = np.array(range(memory.shape[0]))\n",
    "losses = []\n",
    "for _ in range(epoch):\n",
    "    # make mini_batch\n",
    "    mem = memory[np.random.choice(arr, batch_size, replace=False)]\n",
    "    state0_batch = []\n",
    "    action_batch = []\n",
    "    reward_batch = []\n",
    "    state1_batch = []\n",
    "    for m in mem:\n",
    "        state0_batch.append([m[0]])\n",
    "        action_batch.append(m[1])\n",
    "        reward_batch.append([m[2]])\n",
    "        state1_batch.append([m[3]])\n",
    "    state0_batch, action_batch, reward_batch, state1_batch = \\\n",
    "    np.array(state0_batch), np.array(action_batch), np.array(reward_batch), np.array(state1_batch)\n",
    "\n",
    "    # TD error\n",
    "    next_action = actor.predict_on_batch(state1_batch)\n",
    "    state1_batch_with_action = [next_action, state1_batch]\n",
    "    target = critic.predict_on_batch(state1_batch_with_action)\n",
    "    discount = np.exp(- alpha * action_batch[:,1].reshape(batch_size, 1))\n",
    "    r_second = np.multiply(discount, target)\n",
    "    r = reward_batch + r_second\n",
    "    \n",
    "    # learn\n",
    "    critic_input_batch = [action_batch, state0_batch]\n",
    "    loss = critic.train_on_batch(critic_input_batch, r)\n",
    "    losses.append(loss)\n",
    "    \n",
    "plt.plot(losses)\n",
    "plt.xlabel('epochs')\n",
    "plt.ylabel('critic_loss')\n",
    "plt.show()"
   ]
  },
  {
   "cell_type": "code",
   "execution_count": null,
   "metadata": {},
   "outputs": [],
   "source": []
  }
 ],
 "metadata": {
  "kernelspec": {
   "display_name": "Python 3",
   "language": "python",
   "name": "python3"
  },
  "language_info": {
   "codemirror_mode": {
    "name": "ipython",
    "version": 3
   },
   "file_extension": ".py",
   "mimetype": "text/x-python",
   "name": "python",
   "nbconvert_exporter": "python",
   "pygments_lexer": "ipython3",
   "version": "3.7.4"
  }
 },
 "nbformat": 4,
 "nbformat_minor": 4
}
