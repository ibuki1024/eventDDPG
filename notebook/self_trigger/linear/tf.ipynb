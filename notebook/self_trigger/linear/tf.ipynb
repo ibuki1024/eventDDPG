{
 "cells": [
  {
   "cell_type": "code",
   "execution_count": 1,
   "metadata": {},
   "outputs": [
    {
     "name": "stderr",
     "output_type": "stream",
     "text": [
      "Using TensorFlow backend.\n",
      "Using TensorFlow backend.\n"
     ]
    }
   ],
   "source": [
    "import warnings\n",
    "warnings.filterwarnings('ignore')\n",
    "import numpy as np\n",
    "import matplotlib.pyplot as plt\n",
    "import pandas as pd\n",
    "\n",
    "import sys\n",
    "sys.path.append('../../../module/')\n",
    "\n",
    "from keras2.models import Model\n",
    "from keras2.layers import concatenate, Dense, Input, Flatten\n",
    "from keras2.optimizers import Adam, Optimizer\n",
    "import keras2.backend as K\n",
    "import tensorflow as tf\n",
    "import csv\n",
    "import itertools\n",
    "from util import *\n",
    "import gym2\n",
    "from rl2.agents import selfDDPGAgent, selfDDPGAgent2, selfDDPGAgent3\n",
    "from rl2.memory import SequentialMemory"
   ]
  },
  {
   "cell_type": "code",
   "execution_count": 2,
   "metadata": {},
   "outputs": [],
   "source": [
    "env = gym2.make('Linear-v1')\n",
    "Q = .01 * np.eye(2)\n",
    "R = .01"
   ]
  },
  {
   "cell_type": "code",
   "execution_count": 86,
   "metadata": {},
   "outputs": [],
   "source": [
    "def critic_net(a_shape , s_shape):\n",
    "    action_input = Input(a_shape)\n",
    "    observation_input = Input(shape=(1,)+s_shape)\n",
    "    flattened_observation = Flatten()(observation_input)\n",
    "    x = concatenate([action_input, flattened_observation])\n",
    "    x = Dense(16, activation=\"relu\")(x)\n",
    "    x = Dense(16, activation=\"relu\")(x)\n",
    "    x = Dense(1, activation=\"linear\")(x)\n",
    "    critic = Model(inputs=[action_input, observation_input], outputs=x)\n",
    "    return (critic, action_input)\n",
    "\n",
    "def value_net(s_shape):\n",
    "    state_input = Input((1,)+s_shape)\n",
    "    x = Flatten()(state_input)\n",
    "    \n",
    "    x = Dense(16, activation='relu')(x)\n",
    "    x = Dense(16, activation='relu')(x)\n",
    "    x = Dense(1, activation=\"linear\")(x)\n",
    "    value = Model(inputs=state_input, output=x)\n",
    "    return value\n",
    "\n",
    "def branch_actor(a_shape, s_shape):\n",
    "    action_input = Input(shape=(1,)+s_shape)\n",
    "    x = Flatten()(action_input) # 実質的なinput layer\n",
    "    \n",
    "    x1 = Dense(16, activation=\"relu\")(x)\n",
    "    x1 = Dense(16, activation=\"relu\")(x1)\n",
    "    x1 = Dense(1, activation=\"multiple_tanh\")(x1) # action signal\n",
    "    \n",
    "    x2 = Dense(16, activation=\"relu\")(x)\n",
    "    x2 = Dense(16, activation=\"relu\")(x2)\n",
    "    x2 = Dense(1, activation=\"tau_output_large\")(x2) # tau\n",
    "    \n",
    "    output = concatenate([x1, x2])\n",
    "    actor = Model(inputs=action_input, outputs=output)\n",
    "    return actor"
   ]
  },
  {
   "cell_type": "code",
   "execution_count": 87,
   "metadata": {},
   "outputs": [],
   "source": [
    "actor = branch_actor((2,),(2,))\n",
    "critic = critic_net((2,),(2,))[0]\n",
    "critic.compile(Adam(lr=0.001, clipnorm=1.), loss='mean_squared_error')"
   ]
  },
  {
   "cell_type": "code",
   "execution_count": 88,
   "metadata": {},
   "outputs": [
    {
     "name": "stdout",
     "output_type": "stream",
     "text": [
      "Tensor(\"Placeholder_91:0\", shape=(?, 1), dtype=float32)\n",
      "Tensor(\"MatMul_16:0\", shape=(1, 1), dtype=float32)\n",
      "[[1.7]]\n"
     ]
    }
   ],
   "source": [
    "x = tf.placeholder(tf.float32, shape=(None, 1))\n",
    "y = tf.placeholder(tf.float32, shape=(None, 1))\n",
    "d = tf.matmul(x,y, transpose_a=True)\n",
    "\n",
    "print(x)\n",
    "print(d)\n",
    "\n",
    "with tf.Session() as sess:\n",
    "    print(sess.run(d, feed_dict={x:[[0.3],[0.2]], y:[[3],[4]]}))"
   ]
  },
  {
   "cell_type": "code",
   "execution_count": 89,
   "metadata": {},
   "outputs": [
    {
     "name": "stdout",
     "output_type": "stream",
     "text": [
      "(2, 1, 1)\n"
     ]
    }
   ],
   "source": [
    "print(np.array([[[1]],[[2]]]).shape)"
   ]
  },
  {
   "cell_type": "code",
   "execution_count": 226,
   "metadata": {},
   "outputs": [],
   "source": [
    "alpha = 0.4\n",
    "beta = 1.\n",
    "dummy_optimizer = Optimizer()\n",
    "def gradient_for_one_data(state, next_state, actor, critic):\n",
    "    params = actor.trainable_weights  \n",
    "    # q_func gradient tensor\n",
    "    state_input = tf.constant([[state.tolist()]], tf.float32)\n",
    "    actor_output = actor(state_input)\n",
    "    combined_input_tensor = [actor_output, state_input]\n",
    "    critic_output_tensor = critic(combined_input_tensor)\n",
    "    loss = -K.mean(critic_output_tensor)\n",
    "    gradient_for_q = dummy_optimizer.get_gradients(loss, params)\n",
    "    \n",
    "    # discount factor gradient tensor\n",
    "    discount = - tf.exp(- alpha * actor_output[0])\n",
    "    gradient_for_d = dummy_optimizer.get_gradients(discount, params)\n",
    "    next_state_input = tf.constant([[next_state.tolist()]], tf.float32)\n",
    "    next_action = actor(next_state_input)\n",
    "    next_value = critic([next_action, next_state_input])[0]\n",
    "    gradient_for_d = [next_value * g for g in gradient_for_d]\n",
    "    \n",
    "    gradient_for_one_state = [K.add(gq, gd) for gq, gd in zip(gradient_for_q, gradient_for_d)]\n",
    "    \n",
    "    return gradient_for_one_state\n",
    "\n",
    "def gradient(states, ts, next_states, actor, critic):\n",
    "    batch_size = len(states)\n",
    "    for i in range(batch_size):\n",
    "        state, t, next_state = states[i], ts[i], next_states[i]\n",
    "        discount = np.exp(- alpha * np.array(t))\n",
    "        g_tensor = gradient_for_one_data(state, next_state, actor, critic)\n",
    "        g_tensor = [discount * g for g in g_tensor]\n",
    "        if i == 0:\n",
    "            out = [tf.constant(0.)] * len(g_tensor)\n",
    "            out = [K.add(o, g) for o, g in zip(out, g_tensor)]\n",
    "        else:\n",
    "            out = [K.add(o, g) for o, g in zip(out, g_tensor)]\n",
    "    with tf.Session() as sess:\n",
    "        sess.run(tf.global_variables_initializer())\n",
    "        g = sess.run(out) \n",
    "    return g"
   ]
  },
  {
   "cell_type": "code",
   "execution_count": 220,
   "metadata": {},
   "outputs": [
    {
     "data": {
      "text/plain": [
       "[<tf.Tensor 'Add_765:0' shape=(2, 16) dtype=float32>,\n",
       " <tf.Tensor 'Add_766:0' shape=(16,) dtype=float32>,\n",
       " <tf.Tensor 'Add_767:0' shape=(2, 16) dtype=float32>,\n",
       " <tf.Tensor 'Add_768:0' shape=(16,) dtype=float32>,\n",
       " <tf.Tensor 'Add_769:0' shape=(16, 16) dtype=float32>,\n",
       " <tf.Tensor 'Add_770:0' shape=(16,) dtype=float32>,\n",
       " <tf.Tensor 'Add_771:0' shape=(16, 16) dtype=float32>,\n",
       " <tf.Tensor 'Add_772:0' shape=(16,) dtype=float32>,\n",
       " <tf.Tensor 'Add_773:0' shape=(16, 1) dtype=float32>,\n",
       " <tf.Tensor 'Add_774:0' shape=(1,) dtype=float32>,\n",
       " <tf.Tensor 'Add_775:0' shape=(16, 1) dtype=float32>,\n",
       " <tf.Tensor 'Add_776:0' shape=(1,) dtype=float32>]"
      ]
     },
     "execution_count": 220,
     "metadata": {},
     "output_type": "execute_result"
    }
   ],
   "source": [
    "state = np.array([1,2])\n",
    "next_state = np.array([2,3])\n",
    "g = gradient_for_one_data(state, next_state, actor, critic)\n",
    "g"
   ]
  },
  {
   "cell_type": "code",
   "execution_count": 227,
   "metadata": {},
   "outputs": [],
   "source": [
    "states = [np.array([1,2]), np.array([1,2])]\n",
    "ts = np.random.uniform(0,10,2)\n",
    "discounts = np.exp(- alpha * np.array(ts))\n",
    "out = gradient(states,ts,states,actor,critic)"
   ]
  },
  {
   "cell_type": "code",
   "execution_count": 157,
   "metadata": {},
   "outputs": [],
   "source": [
    "state_input = tf.placeholder(tf.float32, shape=(1, 1, 2))\n",
    "b = actor(state_input)[0][1]\n",
    "c = tf.exp(-0.4*b)\n",
    "f = K.function([state_input], [c])"
   ]
  },
  {
   "cell_type": "code",
   "execution_count": 245,
   "metadata": {},
   "outputs": [],
   "source": [
    "\n",
    "next_state_input = tf.constant([[next_state.tolist()]], tf.float32)\n",
    "next_action = actor(next_state_input)\n",
    "next_value = critic([next_action, next_state_input])[0][0]"
   ]
  },
  {
   "cell_type": "code",
   "execution_count": 246,
   "metadata": {},
   "outputs": [
    {
     "data": {
      "text/plain": [
       "1.9683669"
      ]
     },
     "execution_count": 246,
     "metadata": {},
     "output_type": "execute_result"
    }
   ],
   "source": [
    "with tf.Session() as sess:\n",
    "    sess.run(tf.global_variables_initializer())\n",
    "    o = sess.run(next_value)\n",
    "o"
   ]
  },
  {
   "cell_type": "code",
   "execution_count": 274,
   "metadata": {},
   "outputs": [],
   "source": [
    "def gradient_for_one_data(state, next_state, actor, critic):\n",
    "    params = actor.trainable_weights  \n",
    "    # q_func gradient tensor\n",
    "    state_input = tf.constant([[state.tolist()]], tf.float32)\n",
    "    actor_output = actor(state_input)\n",
    "    combined_input_tensor = [actor_output, state_input]\n",
    "    critic_output_tensor = critic(combined_input_tensor)\n",
    "    loss = -K.mean(critic_output_tensor)\n",
    "    gradient_for_q = dummy_optimizer.get_gradients(loss, params)\n",
    "    \n",
    "    # discount factor gradient tensor\n",
    "    discount = - tf.exp(- alpha * actor_output[0][1])\n",
    "    gradient_for_d = dummy_optimizer.get_gradients(discount, params)\n",
    "    next_state_input = tf.constant([[next_state.tolist()]], tf.float32)\n",
    "    next_action = actor(next_state_input)\n",
    "    next_value = critic([next_action, next_state_input])[0][0]\n",
    "    gradient_for_d = [next_value * g for g in gradient_for_d]\n",
    "    \n",
    "    gradient_for_one_state = [K.add(gq, gd) for gq, gd in zip(gradient_for_q, gradient_for_d)]\n",
    "    \n",
    "    return gradient_for_one_state\n",
    "\n",
    "def gradient(states, next_states, actor, critic):\n",
    "    batch_size = len(states)\n",
    "    for i in range(batch_size):\n",
    "        state, next_state = states[i], next_states[i]\n",
    "        g_tensor = gradient_for_one_data(state, next_state, actor, critic)\n",
    "        if i == 0:\n",
    "            out = [tf.constant(0.)] * len(g_tensor)\n",
    "            out = [K.add(o, g) for o, g in zip(out, g_tensor)]\n",
    "        else:\n",
    "            out = [K.add(o, g) for o, g in zip(out, g_tensor)]\n",
    "    func = K.function([], out)\n",
    "    gg = func([[]])\n",
    "    return gg"
   ]
  },
  {
   "cell_type": "code",
   "execution_count": 273,
   "metadata": {},
   "outputs": [
    {
     "data": {
      "text/plain": [
       "[array([[0., 0., 0., 0., 0., 0., 0., 0., 0., 0., 0., 0., 0., 0., 0., 0.],\n",
       "        [0., 0., 0., 0., 0., 0., 0., 0., 0., 0., 0., 0., 0., 0., 0., 0.]],\n",
       "       dtype=float32),\n",
       " array([0., 0., 0., 0., 0., 0., 0., 0., 0., 0., 0., 0., 0., 0., 0., 0.],\n",
       "       dtype=float32),\n",
       " array([[-0.11229111, -0.24341993, -0.03630567, -0.08787848, -0.10941689,\n",
       "          0.21040806,  0.02520856, -0.06745154, -0.06868149,  0.01851335,\n",
       "          0.07598334,  0.0614257 ,  0.09258272, -0.05652423,  0.10875043,\n",
       "         -0.11025535],\n",
       "        [-0.13694474, -0.11092255, -0.06447151, -0.03315563, -0.04780806,\n",
       "          0.03805738, -0.00338256, -0.02910255,  0.07443681,  0.00394833,\n",
       "          0.03462461,  0.03452566, -0.06600756,  0.00651356,  0.04361254,\n",
       "         -0.0466548 ]], dtype=float32),\n",
       " array([ 0.1351693 ,  0.19580382,  0.04206249, -0.07052041,  0.08830704,\n",
       "        -0.16184129,  0.0344316 , -0.04228456, -0.03849045, -0.01294317,\n",
       "         0.04166566,  0.03302442,  0.19174244, -0.0796766 ,  0.07889966,\n",
       "        -0.07208639], dtype=float32),\n",
       " array([[0., 0., 0., 0., 0., 0., 0., 0., 0., 0., 0., 0., 0., 0., 0., 0.],\n",
       "        [0., 0., 0., 0., 0., 0., 0., 0., 0., 0., 0., 0., 0., 0., 0., 0.],\n",
       "        [0., 0., 0., 0., 0., 0., 0., 0., 0., 0., 0., 0., 0., 0., 0., 0.],\n",
       "        [0., 0., 0., 0., 0., 0., 0., 0., 0., 0., 0., 0., 0., 0., 0., 0.],\n",
       "        [0., 0., 0., 0., 0., 0., 0., 0., 0., 0., 0., 0., 0., 0., 0., 0.],\n",
       "        [0., 0., 0., 0., 0., 0., 0., 0., 0., 0., 0., 0., 0., 0., 0., 0.],\n",
       "        [0., 0., 0., 0., 0., 0., 0., 0., 0., 0., 0., 0., 0., 0., 0., 0.],\n",
       "        [0., 0., 0., 0., 0., 0., 0., 0., 0., 0., 0., 0., 0., 0., 0., 0.],\n",
       "        [0., 0., 0., 0., 0., 0., 0., 0., 0., 0., 0., 0., 0., 0., 0., 0.],\n",
       "        [0., 0., 0., 0., 0., 0., 0., 0., 0., 0., 0., 0., 0., 0., 0., 0.],\n",
       "        [0., 0., 0., 0., 0., 0., 0., 0., 0., 0., 0., 0., 0., 0., 0., 0.],\n",
       "        [0., 0., 0., 0., 0., 0., 0., 0., 0., 0., 0., 0., 0., 0., 0., 0.],\n",
       "        [0., 0., 0., 0., 0., 0., 0., 0., 0., 0., 0., 0., 0., 0., 0., 0.],\n",
       "        [0., 0., 0., 0., 0., 0., 0., 0., 0., 0., 0., 0., 0., 0., 0., 0.],\n",
       "        [0., 0., 0., 0., 0., 0., 0., 0., 0., 0., 0., 0., 0., 0., 0., 0.],\n",
       "        [0., 0., 0., 0., 0., 0., 0., 0., 0., 0., 0., 0., 0., 0., 0., 0.]],\n",
       "       dtype=float32),\n",
       " array([0., 0., 0., 0., 0., 0., 0., 0., 0., 0., 0., 0., 0., 0., 0., 0.],\n",
       "       dtype=float32),\n",
       " array([[-9.63785946e-02, -1.46049932e-01, -2.96771005e-02,\n",
       "          2.15082526e-01,  1.94790006e-01, -2.89123449e-02,\n",
       "         -3.59384157e-03,  1.12137206e-01,  8.82928595e-02,\n",
       "          6.08034257e-04,  9.68697388e-03,  0.00000000e+00,\n",
       "          3.00958604e-02,  9.28848609e-02, -7.09856004e-02,\n",
       "          0.00000000e+00],\n",
       "        [-2.02154722e-02, -2.76118256e-02, -6.22479105e-03,\n",
       "          4.06629518e-02,  3.77298929e-02, -3.49271158e-03,\n",
       "          0.00000000e+00,  2.17204411e-02,  1.44545138e-02,\n",
       "          0.00000000e+00,  1.86988292e-03,  0.00000000e+00,\n",
       "          2.41194549e-03,  2.09352653e-02, -1.26327137e-02,\n",
       "          0.00000000e+00],\n",
       "        [ 0.00000000e+00, -1.75622832e-02,  0.00000000e+00,\n",
       "          1.19278312e-01,  4.26850514e-03, -4.61555459e-02,\n",
       "         -8.00279900e-02,  2.45730393e-03,  7.96520039e-02,\n",
       "          3.52092870e-02,  0.00000000e+00,  0.00000000e+00,\n",
       "          3.54876071e-02,  0.00000000e+00, -5.37310727e-02,\n",
       "          0.00000000e+00],\n",
       "        [ 0.00000000e+00,  0.00000000e+00,  0.00000000e+00,\n",
       "          1.92984834e-01,  0.00000000e+00, -7.46767819e-02,\n",
       "         -1.34674415e-01,  0.00000000e+00,  1.28871962e-01,\n",
       "          6.64462373e-02,  0.00000000e+00,  0.00000000e+00,\n",
       "          2.16832384e-02,  0.00000000e+00, -8.69335160e-02,\n",
       "          0.00000000e+00],\n",
       "        [-4.24986258e-02, -5.97459488e-02, -1.30862687e-02,\n",
       "          8.79857391e-02,  8.16392452e-02, -8.94055795e-03,\n",
       "          0.00000000e+00,  4.69982885e-02,  3.28682251e-02,\n",
       "          0.00000000e+00,  4.05118987e-03,  0.00000000e+00,\n",
       "          7.26225739e-03,  4.29340973e-02, -2.78707333e-02,\n",
       "          0.00000000e+00],\n",
       "        [-2.74768900e-02, -3.49899866e-02, -8.46074335e-03,\n",
       "          5.15285097e-02,  4.78117093e-02,  0.00000000e+00,\n",
       "          0.00000000e+00,  2.75243651e-02,  1.22566624e-02,\n",
       "          0.00000000e+00,  1.81651907e-03,  0.00000000e+00,\n",
       "          0.00000000e+00,  3.40983085e-02, -1.49439378e-02,\n",
       "          0.00000000e+00],\n",
       "        [ 0.00000000e+00, -1.36810429e-02,  0.00000000e+00,\n",
       "          1.13164395e-01,  1.97511003e-03, -4.37897258e-02,\n",
       "         -7.74862617e-02,  1.13703636e-03,  7.55692422e-02,\n",
       "          3.46156843e-02,  0.00000000e+00,  0.00000000e+00,\n",
       "          3.01052183e-02,  0.00000000e+00, -5.09769507e-02,\n",
       "          0.00000000e+00],\n",
       "        [ 0.00000000e+00,  0.00000000e+00,  0.00000000e+00,\n",
       "          1.92172483e-01,  0.00000000e+00, -7.43624419e-02,\n",
       "         -1.34107500e-01,  0.00000000e+00,  1.28329486e-01,\n",
       "          6.61665350e-02,  0.00000000e+00,  0.00000000e+00,\n",
       "          1.83702204e-02,  0.00000000e+00, -8.65675732e-02,\n",
       "          0.00000000e+00],\n",
       "        [-3.67796458e-02, -7.37377182e-02, -1.13252671e-02,\n",
       "          1.08590908e-01,  8.50959122e-02, -2.42150836e-02,\n",
       "         -1.17795551e-02,  4.89882343e-02,  5.51584326e-02,\n",
       "          2.32977024e-03,  4.25399980e-03,  0.00000000e+00,\n",
       "          3.47203910e-02,  3.04482561e-02, -3.98978814e-02,\n",
       "          0.00000000e+00],\n",
       "        [-3.94667052e-02, -5.02582155e-02, -1.21526727e-02,\n",
       "          7.40134865e-02,  6.86748251e-02,  0.00000000e+00,\n",
       "          0.00000000e+00,  3.95348966e-02,  1.72632858e-02,\n",
       "          0.00000000e+00,  2.55853427e-03,  0.00000000e+00,\n",
       "          0.00000000e+00,  4.89774421e-02, -2.16953717e-02,\n",
       "          0.00000000e+00],\n",
       "        [ 0.00000000e+00,  0.00000000e+00,  0.00000000e+00,\n",
       "          2.31046841e-01,  0.00000000e+00, -8.94051269e-02,\n",
       "         -1.61235958e-01,  0.00000000e+00,  1.54289111e-01,\n",
       "          7.95512870e-02,  0.00000000e+00,  0.00000000e+00,\n",
       "          2.10253205e-02,  0.00000000e+00, -1.04079224e-01,\n",
       "          0.00000000e+00],\n",
       "        [ 0.00000000e+00, -2.90591866e-02,  0.00000000e+00,\n",
       "          1.42643884e-01,  1.07115200e-02, -5.51970117e-02,\n",
       "         -9.14878696e-02,  6.16643578e-03,  9.52551365e-02,\n",
       "          3.88332345e-02,  0.00000000e+00,  0.00000000e+00,\n",
       "          5.20697795e-02,  0.00000000e+00, -6.42565191e-02,\n",
       "          0.00000000e+00],\n",
       "        [-1.02751013e-02, -7.20881522e-02, -3.16393096e-03,\n",
       "          1.41508192e-01,  5.07907607e-02, -5.47575504e-02,\n",
       "         -6.05517589e-02,  2.92393547e-02,  9.44967493e-02,\n",
       "          1.94235574e-02,  1.90708064e-03,  0.00000000e+00,\n",
       "          8.53841081e-02,  0.00000000e+00, -6.37449250e-02,\n",
       "          0.00000000e+00],\n",
       "        [-8.27157055e-04, -2.49796826e-02, -2.54699960e-04,\n",
       "          9.14770588e-02,  1.20940423e-02, -3.53976637e-02,\n",
       "         -5.47413081e-02,  6.96232915e-03,  6.10868074e-02,\n",
       "          2.22033970e-02,  1.53522109e-04,  0.00000000e+00,\n",
       "          3.95280272e-02,  0.00000000e+00, -4.12074924e-02,\n",
       "          0.00000000e+00],\n",
       "        [ 0.00000000e+00,  0.00000000e+00,  0.00000000e+00,\n",
       "          1.74595147e-01,  0.00000000e+00, -6.75607622e-02,\n",
       "         -1.21841162e-01,  0.00000000e+00,  1.16591640e-01,\n",
       "          6.01145141e-02,  0.00000000e+00,  0.00000000e+00,\n",
       "          1.78159289e-02,  0.00000000e+00, -7.86495358e-02,\n",
       "          0.00000000e+00],\n",
       "        [ 0.00000000e+00,  0.00000000e+00,  0.00000000e+00,\n",
       "          2.11724296e-01,  0.00000000e+00, -8.19281489e-02,\n",
       "         -1.47751749e-01,  0.00000000e+00,  1.41385868e-01,\n",
       "          7.28983879e-02,  0.00000000e+00,  0.00000000e+00,\n",
       "          2.15519797e-02,  0.00000000e+00, -9.53750461e-02,\n",
       "          0.00000000e+00]], dtype=float32),\n",
       " array([-0.12362633, -0.2819214 , -0.03806728,  0.64192104,  0.2675644 ,\n",
       "        -0.17753094, -0.2467294 ,  0.15403217,  0.34401143,  0.10038396,\n",
       "         0.01039926,  0.        ,  0.22226194,  0.12118614, -0.26377335,\n",
       "         0.        ], dtype=float32),\n",
       " array([[0.],\n",
       "        [0.],\n",
       "        [0.],\n",
       "        [0.],\n",
       "        [0.],\n",
       "        [0.],\n",
       "        [0.],\n",
       "        [0.],\n",
       "        [0.],\n",
       "        [0.],\n",
       "        [0.],\n",
       "        [0.],\n",
       "        [0.],\n",
       "        [0.],\n",
       "        [0.],\n",
       "        [0.]], dtype=float32),\n",
       " array([0.], dtype=float32),\n",
       " array([[0.01352022],\n",
       "        [0.03589883],\n",
       "        [0.13190329],\n",
       "        [0.15814342],\n",
       "        [0.0630431 ],\n",
       "        [0.13271637],\n",
       "        [0.26492906],\n",
       "        [0.06582571],\n",
       "        [0.14094369],\n",
       "        [0.42205736],\n",
       "        [0.02204831],\n",
       "        [0.        ],\n",
       "        [0.06262945],\n",
       "        [0.03003462],\n",
       "        [0.20271073],\n",
       "        [0.        ]], dtype=float32),\n",
       " array([1.2252529], dtype=float32)]"
      ]
     },
     "execution_count": 273,
     "metadata": {},
     "output_type": "execute_result"
    }
   ],
   "source": [
    "func = K.function([state_input], gradient_for_d)\n",
    "states = np.random.randn(10,1,2)"
   ]
  },
  {
   "cell_type": "code",
   "execution_count": 272,
   "metadata": {},
   "outputs": [
    {
     "data": {
      "text/plain": [
       "array([[[ 0.30088118, -0.38656207]],\n",
       "\n",
       "       [[ 0.02471239,  0.30542027]],\n",
       "\n",
       "       [[-0.19578595, -1.40778848]],\n",
       "\n",
       "       [[-0.40148604, -1.25714324]],\n",
       "\n",
       "       [[ 1.57934584, -0.79851163]],\n",
       "\n",
       "       [[ 0.24536596,  0.46897948]],\n",
       "\n",
       "       [[-0.38385112,  1.8293963 ]],\n",
       "\n",
       "       [[-0.7633261 ,  0.02787994]],\n",
       "\n",
       "       [[-0.54199855, -1.81471219]],\n",
       "\n",
       "       [[ 1.54494108,  0.79743481]]])"
      ]
     },
     "execution_count": 272,
     "metadata": {},
     "output_type": "execute_result"
    }
   ],
   "source": [
    "def gradient(states, ts, next_states, actor, critic):\n",
    "    batch_size = len(states)\n",
    "    for i in range(batch_size):\n",
    "        state, t, next_state = states[i], ts[i], next_states[i]\n",
    "        discount = np.exp(- alpha * t)\n",
    "        g_tensor = gradient_for_one_data(state, next_state, actor, critic)\n",
    "        g_tensor = [discount * g for g in g_tensor]\n",
    "        if i == 0:\n",
    "            out = [tf.constant(0.)] * len(g_tensor)\n",
    "            out = [K.add(o, g) for o, g in zip(out, g_tensor)]\n",
    "        else:\n",
    "            out = [K.add(o, g) for o, g in zip(out, g_tensor)]\n",
    "    func = K.function([], out)\n",
    "    gg = func([[]])\n",
    "    return gg"
   ]
  },
  {
   "cell_type": "code",
   "execution_count": null,
   "metadata": {},
   "outputs": [],
   "source": []
  }
 ],
 "metadata": {
  "kernelspec": {
   "display_name": "Python 3",
   "language": "python",
   "name": "python3"
  },
  "language_info": {
   "codemirror_mode": {
    "name": "ipython",
    "version": 3
   },
   "file_extension": ".py",
   "mimetype": "text/x-python",
   "name": "python",
   "nbconvert_exporter": "python",
   "pygments_lexer": "ipython3",
   "version": "3.7.4"
  }
 },
 "nbformat": 4,
 "nbformat_minor": 4
}
