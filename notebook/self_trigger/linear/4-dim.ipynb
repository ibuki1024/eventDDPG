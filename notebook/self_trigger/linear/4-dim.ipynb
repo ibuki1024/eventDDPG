{
 "cells": [
  {
   "cell_type": "code",
   "execution_count": 1,
   "metadata": {},
   "outputs": [
    {
     "name": "stderr",
     "output_type": "stream",
     "text": [
      "Using TensorFlow backend.\n",
      "Using TensorFlow backend.\n"
     ]
    }
   ],
   "source": [
    "import warnings\n",
    "warnings.filterwarnings('ignore')\n",
    "import numpy as np\n",
    "import matplotlib.pyplot as plt\n",
    "import pandas as pd\n",
    "from scipy import linalg as slinalg\n",
    "\n",
    "import sys\n",
    "sys.path.append('../../../module/')\n",
    "\n",
    "from keras2.models import Model\n",
    "from keras2.layers import concatenate, Dense, Input, Flatten\n",
    "from keras2.optimizers import Adam, Optimizer\n",
    "import keras2.backend as K\n",
    "import tensorflow as tf\n",
    "import csv\n",
    "import itertools\n",
    "from util import *\n",
    "import gym2\n",
    "from rl2.agents import selfDDPGAgent, selfDDPGAgent2, selfDDPGAgent3\n",
    "from rl2.memory import SequentialMemory"
   ]
  },
  {
   "cell_type": "code",
   "execution_count": 15,
   "metadata": {},
   "outputs": [],
   "source": [
    "def critic_net(a_shape , s_shape):\n",
    "    action_input = Input(a_shape)\n",
    "    observation_input = Input(shape=(1,)+s_shape)\n",
    "    flattened_observation = Flatten()(observation_input)\n",
    "    x = concatenate([action_input, flattened_observation])\n",
    "    x = Dense(16, activation=\"relu\")(x)\n",
    "    x = Dense(16, activation=\"relu\")(x)\n",
    "    x = Dense(1, activation=\"linear\")(x)\n",
    "    critic = Model(inputs=[action_input, observation_input], outputs=x)\n",
    "    return (critic, action_input)\n",
    "\n",
    "def value_net(s_shape):\n",
    "    state_input = Input((1,)+s_shape)\n",
    "    x = Flatten()(state_input)\n",
    "    \n",
    "    x = Dense(16, activation='relu')(x)\n",
    "    x = Dense(16, activation='relu')(x)\n",
    "    x = Dense(1, activation=\"linear\")(x)\n",
    "    value = Model(inputs=state_input, output=x)\n",
    "    return value\n",
    "\n",
    "def branch_actor(a_shape, s_shape):\n",
    "    action_input = Input(shape=(1,)+s_shape)\n",
    "    x = Flatten()(action_input) # 実質的なinput layer\n",
    "    \n",
    "    x1 = Dense(32, activation=\"relu\")(x)\n",
    "    x1 = Dense(32, activation=\"relu\")(x1)\n",
    "    x1 = Dense(1, activation=\"multiple_tanh\")(x1) # action signal\n",
    "    \n",
    "    x2 = Dense(32, activation=\"relu\")(x)\n",
    "    x2 = Dense(32, activation=\"relu\")(x2)\n",
    "    x2 = Dense(1, activation=\"tau_output_large\")(x2) # tau\n",
    "    \n",
    "    output = concatenate([x1, x2])\n",
    "    actor = Model(inputs=action_input, outputs=output)\n",
    "    return actor"
   ]
  },
  {
   "cell_type": "code",
   "execution_count": 2,
   "metadata": {},
   "outputs": [],
   "source": [
    "env = gym2.make('Linear-v3')"
   ]
  },
  {
   "cell_type": "code",
   "execution_count": 3,
   "metadata": {},
   "outputs": [],
   "source": [
    "Q = 1.*np.eye(4)\n",
    "R = 1"
   ]
  },
  {
   "cell_type": "code",
   "execution_count": 4,
   "metadata": {},
   "outputs": [],
   "source": [
    "def dlqr(A, B, Q, R, dt):\n",
    "    A, B = discretized_system(A, B.reshape(len(B),1), dt)\n",
    "    P = scipy.linalg.solve_discrete_are(A, B, Q, R)\n",
    "    K = np.linalg.inv(np.dot(B.T, P).dot(B) + R).dot(B.T).dot(P).dot(A)[0]\n",
    "    return -K\n",
    "\n",
    "\n",
    "def discretized_system(A, B, dt):\n",
    "    Ad = np.eye(A.shape[0]) + dt * A\n",
    "    Bd = dt * B\n",
    "    return Ad, Bd"
   ]
  },
  {
   "cell_type": "code",
   "execution_count": 11,
   "metadata": {},
   "outputs": [],
   "source": [
    "T = dlqr(env.A, env.B, Q, R, 0.05)"
   ]
  },
  {
   "cell_type": "code",
   "execution_count": 12,
   "metadata": {},
   "outputs": [],
   "source": [
    "l = .5\n",
    "env.reset()\n",
    "initial_state = np.array([3.,3.,3.,3.])\n",
    "env.set_state(initial_state)\n",
    "\n",
    "states = [initial_state]\n",
    "detail_states = [initial_state]\n",
    "\n",
    "time_limit = 10\n",
    "time_log = [0.]\n",
    "taus = []\n",
    "acc_time = 0\n",
    "episode_reward = 0\n",
    "i = 0\n",
    "detail_time_log = [0.]\n",
    "\n",
    "action_log = []\n",
    "\n",
    "\n",
    "while True:\n",
    "    reward = 0\n",
    "    x = env.state\n",
    "    # a_agent, tau = control_law(x, env)\n",
    "    a_agent, tau = np.clip(np.dot(T, x), -10, 10), 0.05\n",
    "    taus.append(tau)\n",
    "    acc_time += tau\n",
    "    time_log.append(acc_time)\n",
    "    dt = 0.01\n",
    "    action_repetition = int(tau * 100)  # minimum natural number which makes `dt` smaller than 0.005\n",
    "    # print(tau, dt, action_repetition)\n",
    "    for p in range(action_repetition):\n",
    "        action_log.append(a_agent)\n",
    "        _,r,_,_ = env.step(np.array([a_agent]), dt, tau, ln=1)\n",
    "        reward += r\n",
    "        detail_states.append(env.state)\n",
    "        i += 1\n",
    "        detail_time_log.append(i * dt)\n",
    "    #print(env.state, tau)\n",
    "    reward *= dt\n",
    "    reward += - 0.01 * a_agent**2 + l * tau\n",
    "    episode_reward += reward\n",
    "    states.append(env.state)\n",
    "    if acc_time > time_limit:\n",
    "        break\n",
    "action_log.append(np.clip(np.dot(T, x), -10, 10))\n",
    "states = np.array(states)\n",
    "detail_states = np.array(detail_states)"
   ]
  },
  {
   "cell_type": "code",
   "execution_count": 13,
   "metadata": {},
   "outputs": [
    {
     "data": {
      "image/png": "[encoded data removed]",
      "text/plain": [
       "<Figure size 432x432 with 3 Axes>"
      ]
     },
     "metadata": {
      "needs_background": "light"
     },
     "output_type": "display_data"
    }
   ],
   "source": [
    "plt.figure(figsize=(6,6))\n",
    "plt.subplots_adjust(hspace=0.6)\n",
    "\n",
    "# state\n",
    "plt.subplot(3,1,1)\n",
    "plt.xlabel('control time (s)')\n",
    "plt.ylabel('$\\|s\\|_2$')\n",
    "plt.plot(detail_time_log, np.linalg.norm(detail_states, axis=1))\n",
    "#plt.scatter(time_log, states[:,0], marker='.')\n",
    "\n",
    "# action\n",
    "plt.subplot(3,1,2)\n",
    "plt.xlabel('control time (s)')\n",
    "plt.ylabel('$u$')\n",
    "plt.plot(detail_time_log, action_log, color='red')\n",
    "\n",
    "# communication\n",
    "indices = []\n",
    "for t in np.round(time_log, decimals=2):\n",
    "    if t in np.round(detail_time_log, decimals=2):\n",
    "        indices.append(np.where(t == np.round(detail_time_log, decimals=2))[0][0])\n",
    "com = np.zeros_like(detail_time_log)\n",
    "com[indices] = 1\n",
    "plt.subplot(3,1,3)\n",
    "plt.xlabel('control time (s)')\n",
    "plt.ylabel('interaction (bool)')\n",
    "plt.plot(detail_time_log, com, color='black')\n",
    "\n",
    "plt.show()"
   ]
  },
  {
   "cell_type": "code",
   "execution_count": 14,
   "metadata": {},
   "outputs": [],
   "source": [
    "x_train = []\n",
    "y_train = []\n",
    "high = np.array([7, 7, 7, 7])\n",
    "tau = 0.05\n",
    "for i in range(30000):\n",
    "    x_train.append([np.random.uniform(low=-high, high=high)])\n",
    "    y_train.append([np.clip(np.dot(T, x_train[-1][0]), -10, 10), tau])\n",
    "\n",
    "x_train = np.array(x_train)\n",
    "y_train = np.array(y_train)"
   ]
  },
  {
   "cell_type": "code",
   "execution_count": 16,
   "metadata": {},
   "outputs": [
    {
     "name": "stdout",
     "output_type": "stream",
     "text": [
      "WARNING:tensorflow:From ../../../module/keras2/backend/tensorflow_backend.py:86: The name tf.get_default_graph is deprecated. Please use tf.compat.v1.get_default_graph instead.\n",
      "\n",
      "WARNING:tensorflow:From ../../../module/keras2/backend/tensorflow_backend.py:529: The name tf.placeholder is deprecated. Please use tf.compat.v1.placeholder instead.\n",
      "\n",
      "WARNING:tensorflow:From ../../../module/keras2/backend/tensorflow_backend.py:4152: The name tf.random_uniform is deprecated. Please use tf.random.uniform instead.\n",
      "\n"
     ]
    }
   ],
   "source": [
    "actor = branch_actor((2,),(4,))"
   ]
  },
  {
   "cell_type": "code",
   "execution_count": 18,
   "metadata": {
    "collapsed": true
   },
   "outputs": [
    {
     "name": "stdout",
     "output_type": "stream",
     "text": [
      "Epoch 1/100\n",
      "30000/30000 [==============================] - 2s 83us/step - loss: 0.0050\n",
      "Epoch 2/100\n",
      "30000/30000 [==============================] - 2s 67us/step - loss: 0.0037\n",
      "Epoch 3/100\n",
      "30000/30000 [==============================] - 2s 60us/step - loss: 0.0030\n",
      "Epoch 4/100\n",
      "30000/30000 [==============================] - 2s 59us/step - loss: 0.0027: 0s - los\n",
      "Epoch 5/100\n",
      "30000/30000 [==============================] - 2s 60us/step - loss: 0.0023\n",
      "Epoch 6/100\n",
      "30000/30000 [==============================] - 2s 65us/step - loss: 0.0017\n",
      "Epoch 7/100\n",
      "30000/30000 [==============================] - 2s 68us/step - loss: 0.0018\n",
      "Epoch 8/100\n",
      "30000/30000 [==============================] - 2s 73us/step - loss: 0.0016\n",
      "Epoch 9/100\n",
      "30000/30000 [==============================] - 2s 78us/step - loss: 0.0013: 0s\n",
      "Epoch 10/100\n",
      "30000/30000 [==============================] - 2s 67us/step - loss: 0.0012: 0s - loss: 0.00\n",
      "Epoch 11/100\n",
      "30000/30000 [==============================] - 2s 60us/step - loss: 0.0011\n",
      "Epoch 12/100\n",
      "30000/30000 [==============================] - 2s 58us/step - loss: 0.0010\n",
      "Epoch 13/100\n",
      "30000/30000 [==============================] - 2s 61us/step - loss: 0.0010\n",
      "Epoch 14/100\n",
      "30000/30000 [==============================] - 2s 57us/step - loss: 9.7964e-04\n",
      "Epoch 15/100\n",
      "30000/30000 [==============================] - 2s 60us/step - loss: 7.8575e-04\n",
      "Epoch 16/100\n",
      "30000/30000 [==============================] - 2s 60us/step - loss: 8.7298e-04: 0s - loss: \n",
      "Epoch 17/100\n",
      "30000/30000 [==============================] - 2s 73us/step - loss: 8.5594e-04: 0s - l\n",
      "Epoch 18/100\n",
      "10528/30000 [=========>....................] - ETA: 1s - loss: 0.0011 "
     ]
    },
    {
     "ename": "KeyboardInterrupt",
     "evalue": "",
     "output_type": "error",
     "traceback": [
      "\u001b[0;31m---------------------------------------------------------------------------\u001b[0m",
      "\u001b[0;31mKeyboardInterrupt\u001b[0m                         Traceback (most recent call last)",
      "\u001b[0;32m<ipython-input-18-4a1e780c9181>\u001b[0m in \u001b[0;36m<module>\u001b[0;34m\u001b[0m\n\u001b[1;32m      1\u001b[0m \u001b[0;31m# 学習\u001b[0m\u001b[0;34m\u001b[0m\u001b[0;34m\u001b[0m\u001b[0;34m\u001b[0m\u001b[0m\n\u001b[1;32m      2\u001b[0m \u001b[0;31m#actor.compile(loss='mean_squared_error',optimizer=Adam(lr=0.001, clipnorm=1.))\u001b[0m\u001b[0;34m\u001b[0m\u001b[0;34m\u001b[0m\u001b[0;34m\u001b[0m\u001b[0m\n\u001b[0;32m----> 3\u001b[0;31m \u001b[0mactor\u001b[0m\u001b[0;34m.\u001b[0m\u001b[0mfit\u001b[0m\u001b[0;34m(\u001b[0m\u001b[0mx_train\u001b[0m\u001b[0;34m,\u001b[0m \u001b[0my_train\u001b[0m\u001b[0;34m,\u001b[0m \u001b[0mbatch_size\u001b[0m\u001b[0;34m=\u001b[0m\u001b[0;36m32\u001b[0m\u001b[0;34m,\u001b[0m \u001b[0mepochs\u001b[0m\u001b[0;34m=\u001b[0m\u001b[0;36m100\u001b[0m\u001b[0;34m,\u001b[0m \u001b[0mverbose\u001b[0m\u001b[0;34m=\u001b[0m\u001b[0;32mTrue\u001b[0m\u001b[0;34m)\u001b[0m\u001b[0;34m\u001b[0m\u001b[0;34m\u001b[0m\u001b[0m\n\u001b[0m",
      "\u001b[0;32m~/Documents/studyM2/projects/eventddpg/module/keras2/engine/training.py\u001b[0m in \u001b[0;36mfit\u001b[0;34m(self, x, y, batch_size, epochs, verbose, callbacks, validation_split, validation_data, shuffle, class_weight, sample_weight, initial_epoch, steps_per_epoch, validation_steps, **kwargs)\u001b[0m\n\u001b[1;32m   1037\u001b[0m                                         \u001b[0minitial_epoch\u001b[0m\u001b[0;34m=\u001b[0m\u001b[0minitial_epoch\u001b[0m\u001b[0;34m,\u001b[0m\u001b[0;34m\u001b[0m\u001b[0;34m\u001b[0m\u001b[0m\n\u001b[1;32m   1038\u001b[0m                                         \u001b[0msteps_per_epoch\u001b[0m\u001b[0;34m=\u001b[0m\u001b[0msteps_per_epoch\u001b[0m\u001b[0;34m,\u001b[0m\u001b[0;34m\u001b[0m\u001b[0;34m\u001b[0m\u001b[0m\n\u001b[0;32m-> 1039\u001b[0;31m                                         validation_steps=validation_steps)\n\u001b[0m\u001b[1;32m   1040\u001b[0m \u001b[0;34m\u001b[0m\u001b[0m\n\u001b[1;32m   1041\u001b[0m     def evaluate(self, x=None, y=None,\n",
      "\u001b[0;32m~/Documents/studyM2/projects/eventddpg/module/keras2/engine/training_arrays.py\u001b[0m in \u001b[0;36mfit_loop\u001b[0;34m(model, f, ins, out_labels, batch_size, epochs, verbose, callbacks, val_f, val_ins, shuffle, callback_metrics, initial_epoch, steps_per_epoch, validation_steps)\u001b[0m\n\u001b[1;32m    197\u001b[0m                     \u001b[0mins_batch\u001b[0m\u001b[0;34m[\u001b[0m\u001b[0mi\u001b[0m\u001b[0;34m]\u001b[0m \u001b[0;34m=\u001b[0m \u001b[0mins_batch\u001b[0m\u001b[0;34m[\u001b[0m\u001b[0mi\u001b[0m\u001b[0;34m]\u001b[0m\u001b[0;34m.\u001b[0m\u001b[0mtoarray\u001b[0m\u001b[0;34m(\u001b[0m\u001b[0;34m)\u001b[0m\u001b[0;34m\u001b[0m\u001b[0;34m\u001b[0m\u001b[0m\n\u001b[1;32m    198\u001b[0m \u001b[0;34m\u001b[0m\u001b[0m\n\u001b[0;32m--> 199\u001b[0;31m                 \u001b[0mouts\u001b[0m \u001b[0;34m=\u001b[0m \u001b[0mf\u001b[0m\u001b[0;34m(\u001b[0m\u001b[0mins_batch\u001b[0m\u001b[0;34m)\u001b[0m\u001b[0;34m\u001b[0m\u001b[0;34m\u001b[0m\u001b[0m\n\u001b[0m\u001b[1;32m    200\u001b[0m                 \u001b[0mouts\u001b[0m \u001b[0;34m=\u001b[0m \u001b[0mto_list\u001b[0m\u001b[0;34m(\u001b[0m\u001b[0mouts\u001b[0m\u001b[0;34m)\u001b[0m\u001b[0;34m\u001b[0m\u001b[0;34m\u001b[0m\u001b[0m\n\u001b[1;32m    201\u001b[0m                 \u001b[0;32mfor\u001b[0m \u001b[0ml\u001b[0m\u001b[0;34m,\u001b[0m \u001b[0mo\u001b[0m \u001b[0;32min\u001b[0m \u001b[0mzip\u001b[0m\u001b[0;34m(\u001b[0m\u001b[0mout_labels\u001b[0m\u001b[0;34m,\u001b[0m \u001b[0mouts\u001b[0m\u001b[0;34m)\u001b[0m\u001b[0;34m:\u001b[0m\u001b[0;34m\u001b[0m\u001b[0;34m\u001b[0m\u001b[0m\n",
      "\u001b[0;32m~/Documents/studyM2/projects/eventddpg/module/keras2/backend/tensorflow_backend.py\u001b[0m in \u001b[0;36m__call__\u001b[0;34m(self, inputs)\u001b[0m\n\u001b[1;32m   2727\u001b[0m \u001b[0;34m\u001b[0m\u001b[0m\n\u001b[1;32m   2728\u001b[0m             \u001b[0;31m# のここ\u001b[0m\u001b[0;34m\u001b[0m\u001b[0;34m\u001b[0m\u001b[0;34m\u001b[0m\u001b[0m\n\u001b[0;32m-> 2729\u001b[0;31m             \u001b[0;32mreturn\u001b[0m \u001b[0mself\u001b[0m\u001b[0;34m.\u001b[0m\u001b[0m_call\u001b[0m\u001b[0;34m(\u001b[0m\u001b[0minputs\u001b[0m\u001b[0;34m)\u001b[0m\u001b[0;34m\u001b[0m\u001b[0;34m\u001b[0m\u001b[0m\n\u001b[0m\u001b[1;32m   2730\u001b[0m         \u001b[0;32melse\u001b[0m\u001b[0;34m:\u001b[0m\u001b[0;34m\u001b[0m\u001b[0;34m\u001b[0m\u001b[0m\n\u001b[1;32m   2731\u001b[0m             \u001b[0;32mif\u001b[0m \u001b[0mpy_any\u001b[0m\u001b[0;34m(\u001b[0m\u001b[0mis_tensor\u001b[0m\u001b[0;34m(\u001b[0m\u001b[0mx\u001b[0m\u001b[0;34m)\u001b[0m \u001b[0;32mfor\u001b[0m \u001b[0mx\u001b[0m \u001b[0;32min\u001b[0m \u001b[0minputs\u001b[0m\u001b[0;34m)\u001b[0m\u001b[0;34m:\u001b[0m\u001b[0;34m\u001b[0m\u001b[0;34m\u001b[0m\u001b[0m\n",
      "\u001b[0;32m~/Documents/studyM2/projects/eventddpg/module/keras2/backend/tensorflow_backend.py\u001b[0m in \u001b[0;36m_call\u001b[0;34m(self, inputs)\u001b[0m\n\u001b[1;32m   2685\u001b[0m             \u001b[0mfetched\u001b[0m \u001b[0;34m=\u001b[0m \u001b[0mself\u001b[0m\u001b[0;34m.\u001b[0m\u001b[0m_callable_fn\u001b[0m\u001b[0;34m(\u001b[0m\u001b[0;34m*\u001b[0m\u001b[0marray_vals\u001b[0m\u001b[0;34m,\u001b[0m \u001b[0mrun_metadata\u001b[0m\u001b[0;34m=\u001b[0m\u001b[0mself\u001b[0m\u001b[0;34m.\u001b[0m\u001b[0mrun_metadata\u001b[0m\u001b[0;34m)\u001b[0m\u001b[0;34m\u001b[0m\u001b[0;34m\u001b[0m\u001b[0m\n\u001b[1;32m   2686\u001b[0m         \u001b[0;32melse\u001b[0m\u001b[0;34m:\u001b[0m\u001b[0;34m\u001b[0m\u001b[0;34m\u001b[0m\u001b[0m\n\u001b[0;32m-> 2687\u001b[0;31m             \u001b[0mfetched\u001b[0m \u001b[0;34m=\u001b[0m \u001b[0mself\u001b[0m\u001b[0;34m.\u001b[0m\u001b[0m_callable_fn\u001b[0m\u001b[0;34m(\u001b[0m\u001b[0;34m*\u001b[0m\u001b[0marray_vals\u001b[0m\u001b[0;34m)\u001b[0m\u001b[0;34m\u001b[0m\u001b[0;34m\u001b[0m\u001b[0m\n\u001b[0m\u001b[1;32m   2688\u001b[0m         \u001b[0;32mreturn\u001b[0m \u001b[0mfetched\u001b[0m\u001b[0;34m[\u001b[0m\u001b[0;34m:\u001b[0m\u001b[0mlen\u001b[0m\u001b[0;34m(\u001b[0m\u001b[0mself\u001b[0m\u001b[0;34m.\u001b[0m\u001b[0moutputs\u001b[0m\u001b[0;34m)\u001b[0m\u001b[0;34m]\u001b[0m\u001b[0;34m\u001b[0m\u001b[0;34m\u001b[0m\u001b[0m\n\u001b[1;32m   2689\u001b[0m \u001b[0;34m\u001b[0m\u001b[0m\n",
      "\u001b[0;32m~/.pyenv/versions/3.7.4/lib/python3.7/site-packages/tensorflow/python/client/session.py\u001b[0m in \u001b[0;36m__call__\u001b[0;34m(self, *args, **kwargs)\u001b[0m\n\u001b[1;32m   1456\u001b[0m         ret = tf_session.TF_SessionRunCallable(self._session._session,\n\u001b[1;32m   1457\u001b[0m                                                \u001b[0mself\u001b[0m\u001b[0;34m.\u001b[0m\u001b[0m_handle\u001b[0m\u001b[0;34m,\u001b[0m \u001b[0margs\u001b[0m\u001b[0;34m,\u001b[0m\u001b[0;34m\u001b[0m\u001b[0;34m\u001b[0m\u001b[0m\n\u001b[0;32m-> 1458\u001b[0;31m                                                run_metadata_ptr)\n\u001b[0m\u001b[1;32m   1459\u001b[0m         \u001b[0;32mif\u001b[0m \u001b[0mrun_metadata\u001b[0m\u001b[0;34m:\u001b[0m\u001b[0;34m\u001b[0m\u001b[0;34m\u001b[0m\u001b[0m\n\u001b[1;32m   1460\u001b[0m           \u001b[0mproto_data\u001b[0m \u001b[0;34m=\u001b[0m \u001b[0mtf_session\u001b[0m\u001b[0;34m.\u001b[0m\u001b[0mTF_GetBuffer\u001b[0m\u001b[0;34m(\u001b[0m\u001b[0mrun_metadata_ptr\u001b[0m\u001b[0;34m)\u001b[0m\u001b[0;34m\u001b[0m\u001b[0;34m\u001b[0m\u001b[0m\n",
      "\u001b[0;31mKeyboardInterrupt\u001b[0m: "
     ]
    }
   ],
   "source": [
    "# 学習\n",
    "actor.compile(loss='mean_squared_error',optimizer=Adam(lr=0.001, clipnorm=1.))\n",
    "actor.fit(x_train, y_train, batch_size=32, epochs=100, verbose=True)"
   ]
  },
  {
   "cell_type": "code",
   "execution_count": 25,
   "metadata": {},
   "outputs": [],
   "source": [
    "l = .5\n",
    "env.reset()\n",
    "initial_state = np.array([3.,-3.,3.,-3.])\n",
    "env.set_state(initial_state)\n",
    "\n",
    "states = [initial_state]\n",
    "detail_states = [initial_state]\n",
    "\n",
    "time_limit = 10\n",
    "time_log = [0.]\n",
    "taus = []\n",
    "acc_time = 0\n",
    "episode_reward = 0\n",
    "i = 0\n",
    "detail_time_log = [0.]\n",
    "\n",
    "action_log = []\n",
    "\n",
    "\n",
    "while True:\n",
    "    reward = 0\n",
    "    x = env.state\n",
    "    # a_agent, tau = control_law(x, env)\n",
    "    a_agent, tau = actor.predict_on_batch(x.reshape(1,1,4))[0]\n",
    "    taus.append(tau)\n",
    "    acc_time += tau\n",
    "    time_log.append(acc_time)\n",
    "    dt = 0.01\n",
    "    action_repetition = int(tau * 100)  # minimum natural number which makes `dt` smaller than 0.005\n",
    "    # print(tau, dt, action_repetition)\n",
    "    for p in range(action_repetition):\n",
    "        action_log.append(a_agent)\n",
    "        _,r,_,_ = env.step(np.array([a_agent]), dt, tau, ln=1)\n",
    "        reward += r\n",
    "        detail_states.append(env.state)\n",
    "        i += 1\n",
    "        detail_time_log.append(i * dt)\n",
    "    #print(env.state, tau)\n",
    "    reward *= dt\n",
    "    reward += - 0.01 * a_agent**2 + l * tau\n",
    "    episode_reward += reward\n",
    "    states.append(env.state)\n",
    "    if acc_time > time_limit:\n",
    "        break\n",
    "action_log.append(actor.predict_on_batch(env.state.reshape(1,1,4))[0][0])\n",
    "states = np.array(states)\n",
    "detail_states = np.array(detail_states)"
   ]
  },
  {
   "cell_type": "code",
   "execution_count": 26,
   "metadata": {},
   "outputs": [
    {
     "data": {
      "image/png": "[encoded data removed]",
      "text/plain": [
       "<Figure size 432x432 with 3 Axes>"
      ]
     },
     "metadata": {
      "needs_background": "light"
     },
     "output_type": "display_data"
    }
   ],
   "source": [
    "plt.figure(figsize=(6,6))\n",
    "plt.subplots_adjust(hspace=0.6)\n",
    "\n",
    "# state\n",
    "plt.subplot(3,1,1)\n",
    "plt.xlabel('control time (s)')\n",
    "plt.ylabel('$\\|s\\|_2$')\n",
    "plt.plot(detail_time_log, np.linalg.norm(detail_states, axis=1))\n",
    "#plt.scatter(time_log, states[:,0], marker='.')\n",
    "\n",
    "# action\n",
    "plt.subplot(3,1,2)\n",
    "plt.xlabel('control time (s)')\n",
    "plt.ylabel('$u$')\n",
    "plt.plot(detail_time_log, action_log, color='red')\n",
    "\n",
    "# communication\n",
    "indices = []\n",
    "for t in np.round(time_log, decimals=2):\n",
    "    if t in np.round(detail_time_log, decimals=2):\n",
    "        indices.append(np.where(t == np.round(detail_time_log, decimals=2))[0][0])\n",
    "com = np.zeros_like(detail_time_log)\n",
    "com[indices] = 1\n",
    "plt.subplot(3,1,3)\n",
    "plt.xlabel('control time (s)')\n",
    "plt.ylabel('interaction (bool)')\n",
    "plt.plot(detail_time_log, com, color='black')\n",
    "\n",
    "plt.show()"
   ]
  },
  {
   "cell_type": "code",
   "execution_count": null,
   "metadata": {},
   "outputs": [],
   "source": [
    "alpha = 0.1\n",
    "beta = .5\n",
    "\n",
    "memory = []\n",
    "S1 = np.linspace(-7, 7, 10)\n",
    "S2 = np.linspace(-7, 7, 10)\n",
    "S3 = np.linspace(-7, 7, 10)\n",
    "S4 = np.linspace(-7, 7, 10)\n",
    "S1, S2, S3, S4 = np.meshgrid(S1, S2, S3, S4)\n",
    "S1, S2, S3, S4 = S1.flatten(), S2.flatten(), S3.flatten(), S4.flatten()\n",
    "\n",
    "nn = 5\n",
    "for st in range(nn):\n",
    "    for i, x in enumerate(zip(S1, S2, S3, S4)):\n",
    "        env.reset()\n",
    "        x = np.array(x)\n",
    "        env.set_state(x)\n",
    "        reward = 0\n",
    "        state0 = env.state\n",
    "        noise = np.array([np.random.randn() / 10., np.random.randn() / 100.])\n",
    "        a_agent, tau = actor.predict_on_batch(state0.reshape((1,1,)+state0.shape))[0] + noise\n",
    "        tau = np.clip(tau, 0.01, 10.)\n",
    "        action_repetition = int(np.ceil(100 * tau))  # minimum natural number which makes `dt` smaller than 0.005\n",
    "        dt = .01\n",
    "        for p in range(action_repetition):\n",
    "            _,r,_,_ = env.step(np.array([a_agent]), dt, tau, 0)\n",
    "            r *= np.exp(- alpha * p * dt)\n",
    "            reward += r\n",
    "        reward *= dt\n",
    "        reward -= beta\n",
    "        state1 = env.state\n",
    "        memory.append([state0, np.array([a_agent, tau]), reward, state1])\n",
    "    print('\\r' + f'{int(st)*100/nn} %', end='')\n",
    "memory = np.array(memory)"
   ]
  },
  {
   "cell_type": "code",
   "execution_count": null,
   "metadata": {},
   "outputs": [],
   "source": [
    "# critic learning\n",
    "critic = critic_net((2,),(4,))[0]\n",
    "critic.compile(Adam(lr=0.001, clipnorm=1.), loss='mean_squared_error')\n",
    "epoch = 10000\n",
    "batch_size = 64\n",
    "arr = np.array(range(memory.shape[0]))\n",
    "losses = []\n",
    "for _ in range(epoch):\n",
    "    # make mini_batch\n",
    "    mem = memory[np.random.choice(arr, batch_size, replace=False)]\n",
    "    state0_batch = []\n",
    "    action_batch = []\n",
    "    reward_batch = []\n",
    "    state1_batch = []\n",
    "    for m in mem:\n",
    "        state0_batch.append([m[0]])\n",
    "        action_batch.append(m[1])\n",
    "        reward_batch.append([m[2]])\n",
    "        state1_batch.append([m[3]])\n",
    "    state0_batch, action_batch, reward_batch, state1_batch = \\\n",
    "    np.array(state0_batch), np.array(action_batch), np.array(reward_batch), np.array(state1_batch)\n",
    "\n",
    "    # TD error\n",
    "    next_action = actor.predict_on_batch(state1_batch)\n",
    "    state1_batch_with_action = [next_action, state1_batch]\n",
    "    target = critic.predict_on_batch(state1_batch_with_action)\n",
    "    discount = np.exp(- alpha * action_batch[:,1].reshape(batch_size, 1))\n",
    "    r_second = np.multiply(discount, target)\n",
    "    r = reward_batch + r_second\n",
    "    \n",
    "    # learn\n",
    "    critic_input_batch = [action_batch, state0_batch]\n",
    "    loss = critic.train_on_batch(critic_input_batch, r)\n",
    "    losses.append(loss)\n",
    "    \n",
    "plt.plot(losses)\n",
    "plt.xlabel('epochs')\n",
    "plt.ylabel('critic_loss')\n",
    "plt.show()"
   ]
  }
 ],
 "metadata": {
  "kernelspec": {
   "display_name": "Python 3",
   "language": "python",
   "name": "python3"
  },
  "language_info": {
   "codemirror_mode": {
    "name": "ipython",
    "version": 3
   },
   "file_extension": ".py",
   "mimetype": "text/x-python",
   "name": "python",
   "nbconvert_exporter": "python",
   "pygments_lexer": "ipython3",
   "version": "3.7.4"
  }
 },
 "nbformat": 4,
 "nbformat_minor": 4
}
