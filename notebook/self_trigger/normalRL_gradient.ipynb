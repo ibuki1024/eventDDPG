{
 "cells": [
  {
   "cell_type": "code",
   "execution_count": 1,
   "metadata": {},
   "outputs": [
    {
     "name": "stderr",
     "output_type": "stream",
     "text": [
      "Using TensorFlow backend.\n",
      "Using TensorFlow backend.\n"
     ]
    }
   ],
   "source": [
    "import warnings\n",
    "warnings.filterwarnings('ignore')\n",
    "import numpy as np\n",
    "import matplotlib.pyplot as plt\n",
    "\n",
    "import sys\n",
    "sys.path.append('../../module/')\n",
    "\n",
    "import keras2\n",
    "from keras2.models import Model\n",
    "\n",
    "from keras2.layers import concatenate, Dense, Input, Flatten, merge\n",
    "from keras2.optimizers import Adam\n",
    "from util import moving_average, dlqr, discretized_system, lqr\n",
    "import gym\n",
    "from rl2.agents import DDPGAgent2\n",
    "from rl2.memory import SequentialMemory"
   ]
  },
  {
   "cell_type": "code",
   "execution_count": 2,
   "metadata": {},
   "outputs": [],
   "source": [
    "# GymのPendulum環境を作成\n",
    "env = gym.make(\"Pendulum-v0\")\n",
    "\n",
    "# 取りうる”打ち手”のアクション数と値の定義\n",
    "nb_actios = 2\n",
    "ACT_ID_TO_VALUE = {0: [-1], 1: [+1]}"
   ]
  },
  {
   "cell_type": "code",
   "execution_count": 29,
   "metadata": {},
   "outputs": [],
   "source": [
    "def critic_net(a_shape , s_shape):\n",
    "    action_input = Input(a_shape)\n",
    "    observation_input = Input(shape=(1,)+s_shape)\n",
    "    flattened_observation = Flatten()(observation_input)\n",
    "    x = concatenate([action_input, flattened_observation])\n",
    "    x = Dense(16, activation=\"relu\")(x)\n",
    "    x = Dense(16, activation=\"relu\")(x)\n",
    "    x = Dense(1, activation=\"linear\")(x)\n",
    "    critic = Model(inputs=[action_input, observation_input], outputs=x)\n",
    "    critic.summary()\n",
    "    return (critic, action_input)\n",
    "\n",
    "def branch_actor(a_shape, s_shape):\n",
    "    action_input = Input(shape=(1,)+s_shape)\n",
    "    x = Flatten()(action_input) # 実質的なinput layer\n",
    "    \n",
    "    x1 = Dense(8, activation=\"relu\")(x)\n",
    "    x1 = Dense(8, activation=\"relu\")(x1)\n",
    "    x1 = Dense(1, activation=\"multiple_tanh\")(x1) # action signal\n",
    "    \n",
    "    x2 = Dense(8, activation=\"relu\")(x)\n",
    "    x2 = Dense(8, activation=\"relu\")(x2)\n",
    "    x2 = Dense(1, activation=\"sigmoid\")(x2) # tau\n",
    "    \n",
    "    output = concatenate([x1, x2])\n",
    "    actor = Model(inputs=action_input, outputs=output)\n",
    "    actor.summary()\n",
    "    return actor\n",
    "\n",
    "def normal_actor(a_shape, s_shape):\n",
    "    action_input = Input(shape=(1,)+s_shape)\n",
    "    x = Flatten()(action_input) # 実質的なinput layer\n",
    "    \n",
    "    x1 = Dense(16, activation=\"relu\")(x)\n",
    "    x1 = Dense(16, activation=\"relu\")(x1)\n",
    "    x1 = Dense(1, activation=\"multiple_tanh\")(x1) # action signal\n",
    "    \n",
    "    actor = Model(inputs=action_input, outputs=x1)\n",
    "    actor.summary()\n",
    "    return actor\n",
    "    \n",
    "\n",
    "# どうやって学習率を変える？\n",
    "\n",
    "def agent2(a_shape, s_shape):\n",
    "    actor = normal_actor(a_shape, s_shape)\n",
    "    critic,  critic_action_input = critic_net(a_shape, s_shape)\n",
    "    memory = SequentialMemory(limit = 50000, window_length = 1)\n",
    "    agent = DDPGAgent2(\n",
    "        a_shape[0],\n",
    "        actor,\n",
    "        critic,\n",
    "        critic_action_input,\n",
    "        memory,\n",
    "        clip_com = 0.01,\n",
    "        batch_size = 128,\n",
    "    )\n",
    "    return agent"
   ]
  },
  {
   "cell_type": "code",
   "execution_count": 4,
   "metadata": {},
   "outputs": [
    {
     "name": "stdout",
     "output_type": "stream",
     "text": [
      "WARNING:tensorflow:From ../../module/keras2/backend/tensorflow_backend.py:82: The name tf.get_default_graph is deprecated. Please use tf.compat.v1.get_default_graph instead.\n",
      "\n",
      "WARNING:tensorflow:From ../../module/keras2/backend/tensorflow_backend.py:525: The name tf.placeholder is deprecated. Please use tf.compat.v1.placeholder instead.\n",
      "\n",
      "WARNING:tensorflow:From ../../module/keras2/backend/tensorflow_backend.py:4148: The name tf.random_uniform is deprecated. Please use tf.random.uniform instead.\n",
      "\n",
      "_________________________________________________________________\n",
      "Layer (type)                 Output Shape              Param #   \n",
      "=================================================================\n",
      "input_1 (InputLayer)         (None, 1, 3)              0         \n",
      "_________________________________________________________________\n",
      "flatten_1 (Flatten)          (None, 3)                 0         \n",
      "_________________________________________________________________\n",
      "dense_1 (Dense)              (None, 16)                64        \n",
      "_________________________________________________________________\n",
      "dense_2 (Dense)              (None, 16)                272       \n",
      "_________________________________________________________________\n",
      "dense_3 (Dense)              (None, 1)                 17        \n",
      "=================================================================\n",
      "Total params: 353\n",
      "Trainable params: 353\n",
      "Non-trainable params: 0\n",
      "_________________________________________________________________\n",
      "__________________________________________________________________________________________________\n",
      "Layer (type)                    Output Shape         Param #     Connected to                     \n",
      "==================================================================================================\n",
      "input_3 (InputLayer)            (None, 1, 3)         0                                            \n",
      "__________________________________________________________________________________________________\n",
      "input_2 (InputLayer)            (None, 1)            0                                            \n",
      "__________________________________________________________________________________________________\n",
      "flatten_2 (Flatten)             (None, 3)            0           input_3[0][0]                    \n",
      "__________________________________________________________________________________________________\n",
      "concatenate_1 (Concatenate)     (None, 4)            0           input_2[0][0]                    \n",
      "                                                                 flatten_2[0][0]                  \n",
      "__________________________________________________________________________________________________\n",
      "dense_4 (Dense)                 (None, 16)           80          concatenate_1[0][0]              \n",
      "__________________________________________________________________________________________________\n",
      "dense_5 (Dense)                 (None, 16)           272         dense_4[0][0]                    \n",
      "__________________________________________________________________________________________________\n",
      "dense_6 (Dense)                 (None, 1)            17          dense_5[0][0]                    \n",
      "==================================================================================================\n",
      "Total params: 369\n",
      "Trainable params: 369\n",
      "Non-trainable params: 0\n",
      "__________________________________________________________________________________________________\n",
      "WARNING:tensorflow:From ../../module/keras2/backend/tensorflow_backend.py:182: The name tf.get_default_session is deprecated. Please use tf.compat.v1.get_default_session instead.\n",
      "\n",
      "WARNING:tensorflow:From ../../module/keras2/backend/tensorflow_backend.py:189: The name tf.ConfigProto is deprecated. Please use tf.compat.v1.ConfigProto instead.\n",
      "\n",
      "WARNING:tensorflow:From ../../module/keras2/optimizers.py:790: The name tf.train.Optimizer is deprecated. Please use tf.compat.v1.train.Optimizer instead.\n",
      "\n"
     ]
    }
   ],
   "source": [
    "a = agent2((1,),(3,))\n",
    "a.compile(Adam(lr=0.001, clipnorm=1.), metrics=['mae'])"
   ]
  },
  {
   "cell_type": "code",
   "execution_count": 10,
   "metadata": {},
   "outputs": [
    {
     "name": "stdout",
     "output_type": "stream",
     "text": [
      "Training for 100000 steps ...\n",
      "Interval 1 (0 steps performed)\n",
      "10000/10000 [==============================] - 72s 7ms/step - reward: -2.0025\n",
      "50 episodes - episode_reward: -400.497 [-1496.989, -7.657] - loss: 32.737 - mean_absolute_error: 3.690 - mean_q: -8.677\n",
      "\n",
      "Interval 2 (10000 steps performed)\n",
      "10000/10000 [==============================] - 81s 8ms/step - reward: -1.3267\n",
      "50 episodes - episode_reward: -265.348 [-1318.213, -9.609] - loss: 29.422 - mean_absolute_error: 2.770 - mean_q: 28.350\n",
      "\n",
      "Interval 3 (20000 steps performed)\n",
      "10000/10000 [==============================] - 79s 8ms/step - reward: -2.2017\n",
      "50 episodes - episode_reward: -440.350 [-1656.659, -1.836] - loss: 25.233 - mean_absolute_error: 2.679 - mean_q: 37.020\n",
      "\n",
      "Interval 4 (30000 steps performed)\n",
      "10000/10000 [==============================] - 77s 8ms/step - reward: -1.0148\n",
      "50 episodes - episode_reward: -202.969 [-1493.838, -4.083] - loss: 23.581 - mean_absolute_error: 2.591 - mean_q: 38.446\n",
      "\n",
      "Interval 5 (40000 steps performed)\n",
      "10000/10000 [==============================] - 77s 8ms/step - reward: -0.8095\n",
      "50 episodes - episode_reward: -161.904 [-378.858, -5.876] - loss: 22.823 - mean_absolute_error: 2.455 - mean_q: 38.307\n",
      "\n",
      "Interval 6 (50000 steps performed)\n",
      "10000/10000 [==============================] - 67s 7ms/step - reward: -1.0355\n",
      "50 episodes - episode_reward: -207.103 [-930.238, -4.877] - loss: 17.649 - mean_absolute_error: 2.133 - mean_q: 44.364\n",
      "\n",
      "Interval 7 (60000 steps performed)\n",
      "10000/10000 [==============================] - 67s 7ms/step - reward: -0.6764\n",
      "50 episodes - episode_reward: -135.287 [-372.635, -3.692] - loss: 13.190 - mean_absolute_error: 1.838 - mean_q: 40.839\n",
      "\n",
      "Interval 8 (70000 steps performed)\n",
      "10000/10000 [==============================] - 65s 6ms/step - reward: -0.7281\n",
      "50 episodes - episode_reward: -145.629 [-355.274, -1.940] - loss: 9.635 - mean_absolute_error: 1.412 - mean_q: 38.108\n",
      "\n",
      "Interval 9 (80000 steps performed)\n",
      "10000/10000 [==============================] - 65s 7ms/step - reward: -0.6590\n",
      "50 episodes - episode_reward: -131.793 [-344.681, -5.629] - loss: 7.442 - mean_absolute_error: 1.235 - mean_q: 34.509\n",
      "\n",
      "Interval 10 (90000 steps performed)\n",
      "10000/10000 [==============================] - 79s 8ms/step - reward: -0.8593\n",
      "done, took 729.015 seconds\n"
     ]
    },
    {
     "data": {
      "text/plain": [
       "<keras2.callbacks.History at 0x1322b88d0>"
      ]
     },
     "execution_count": 10,
     "metadata": {},
     "output_type": "execute_result"
    }
   ],
   "source": [
    "step = 100000\n",
    "episode_step = 200 # 入力が加えられる回数を200(dt=0.05)にする\n",
    "a.fit(env, nb_steps=step, visualize=0, verbose=1, nb_max_episode_steps=episode_step)"
   ]
  },
  {
   "cell_type": "code",
   "execution_count": 18,
   "metadata": {},
   "outputs": [
    {
     "name": "stdout",
     "output_type": "stream",
     "text": [
      "Training for 100000 steps ...\n",
      "Interval 1 (0 steps performed)\n",
      "10000/10000 [==============================] - 73s 7ms/step - reward: -0.7859\n",
      "50 episodes - episode_reward: -157.174 [-364.695, -5.732] - loss: 5.374 - mean_absolute_error: 1.117 - mean_q: 27.980\n",
      "\n",
      "Interval 2 (10000 steps performed)\n",
      "10000/10000 [==============================] - 75s 7ms/step - reward: -0.7936\n",
      "50 episodes - episode_reward: -158.720 [-367.264, -3.527] - loss: 4.676 - mean_absolute_error: 1.027 - mean_q: 24.326\n",
      "\n",
      "Interval 3 (20000 steps performed)\n",
      "10000/10000 [==============================] - 71s 7ms/step - reward: -0.7236\n",
      "50 episodes - episode_reward: -144.730 [-360.340, -6.048] - loss: 3.673 - mean_absolute_error: 0.960 - mean_q: 19.708\n",
      "\n",
      "Interval 4 (30000 steps performed)\n",
      "10000/10000 [==============================] - 80s 8ms/step - reward: -0.8023\n",
      "50 episodes - episode_reward: -160.467 [-373.223, -4.344] - loss: 2.947 - mean_absolute_error: 0.881 - mean_q: 15.321\n",
      "\n",
      "Interval 5 (40000 steps performed)\n",
      "10000/10000 [==============================] - 69s 7ms/step - reward: -0.7602\n",
      "50 episodes - episode_reward: -152.036 [-362.873, -14.226] - loss: 2.619 - mean_absolute_error: 0.869 - mean_q: 12.121\n",
      "\n",
      "Interval 6 (50000 steps performed)\n",
      "10000/10000 [==============================] - 68s 7ms/step - reward: -0.8585\n",
      "50 episodes - episode_reward: -171.691 [-525.376, -2.767] - loss: 2.447 - mean_absolute_error: 0.868 - mean_q: 9.262\n",
      "\n",
      "Interval 7 (60000 steps performed)\n",
      "10000/10000 [==============================] - 69s 7ms/step - reward: -0.7949\n",
      "50 episodes - episode_reward: -158.971 [-360.176, -6.632] - loss: 2.483 - mean_absolute_error: 0.936 - mean_q: 7.121\n",
      "\n",
      "Interval 8 (70000 steps performed)\n",
      "10000/10000 [==============================] - 68s 7ms/step - reward: -0.7885\n",
      "50 episodes - episode_reward: -157.697 [-465.121, -5.443] - loss: 2.418 - mean_absolute_error: 0.990 - mean_q: 6.313\n",
      "\n",
      "Interval 9 (80000 steps performed)\n",
      "10000/10000 [==============================] - 68s 7ms/step - reward: -0.9053\n",
      "50 episodes - episode_reward: -181.055 [-477.882, -5.362] - loss: 2.714 - mean_absolute_error: 1.066 - mean_q: 6.280\n",
      "\n",
      "Interval 10 (90000 steps performed)\n",
      "10000/10000 [==============================] - 76s 8ms/step - reward: -0.7887\n",
      "done, took 717.336 seconds\n"
     ]
    },
    {
     "data": {
      "text/plain": [
       "<keras2.callbacks.History at 0x13bdaa9d0>"
      ]
     },
     "execution_count": 18,
     "metadata": {},
     "output_type": "execute_result"
    }
   ],
   "source": [
    "a.fit(env, nb_steps=step, visualize=0, verbose=1, nb_max_episode_steps=episode_step)"
   ]
  },
  {
   "cell_type": "code",
   "execution_count": 22,
   "metadata": {
    "scrolled": true
   },
   "outputs": [
    {
     "data": {
      "image/png": "[encoded data removed]",
      "text/plain": [
       "<Figure size 864x360 with 1 Axes>"
      ]
     },
     "metadata": {
      "needs_background": "light"
     },
     "output_type": "display_data"
    }
   ],
   "source": [
    "grads = a.gradient_log\n",
    "ma_t = 1000\n",
    "ma = moving_average(grads, ma_t)\n",
    "plt.figure(figsize=(12,5))\n",
    "plt.plot(grads)\n",
    "plt.plot(range(ma_t, len(grads)), ma)\n",
    "plt.ylabel('norm(policy_gradient)')\n",
    "plt.xlabel('n_update')\n",
    "plt.show()"
   ]
  },
  {
   "cell_type": "code",
   "execution_count": 24,
   "metadata": {},
   "outputs": [
    {
     "name": "stdout",
     "output_type": "stream",
     "text": [
      "(248656,)\n"
     ]
    },
    {
     "data": {
      "image/png": "[encoded data removed]",
      "text/plain": [
       "<Figure size 864x360 with 1 Axes>"
      ]
     },
     "metadata": {
      "needs_background": "light"
     },
     "output_type": "display_data"
    }
   ],
   "source": [
    "plt.figure(figsize=(12,5))\n",
    "plt.plot(range(ma_t, len(grads)), ma)\n",
    "plt.show()"
   ]
  },
  {
   "cell_type": "code",
   "execution_count": 28,
   "metadata": {},
   "outputs": [
    {
     "name": "stdout",
     "output_type": "stream",
     "text": [
      "Testing for 1 episodes ...\n",
      "Episode 1: reward: -132.868, steps: 200\n"
     ]
    },
    {
     "data": {
      "text/plain": [
       "<keras2.callbacks.History at 0x13dbbaa50>"
      ]
     },
     "execution_count": 28,
     "metadata": {},
     "output_type": "execute_result"
    }
   ],
   "source": [
    "a.test(env, nb_episodes=1, visualize=0, nb_max_episode_steps=200)"
   ]
  },
  {
   "cell_type": "code",
   "execution_count": 30,
   "metadata": {},
   "outputs": [
    {
     "name": "stdout",
     "output_type": "stream",
     "text": [
      "_________________________________________________________________\n",
      "Layer (type)                 Output Shape              Param #   \n",
      "=================================================================\n",
      "input_4 (InputLayer)         (None, 1, 3)              0         \n",
      "_________________________________________________________________\n",
      "flatten_3 (Flatten)          (None, 3)                 0         \n",
      "_________________________________________________________________\n",
      "dense_7 (Dense)              (None, 16)                64        \n",
      "_________________________________________________________________\n",
      "dense_8 (Dense)              (None, 16)                272       \n",
      "_________________________________________________________________\n",
      "dense_9 (Dense)              (None, 1)                 17        \n",
      "=================================================================\n",
      "Total params: 353\n",
      "Trainable params: 353\n",
      "Non-trainable params: 0\n",
      "_________________________________________________________________\n",
      "__________________________________________________________________________________________________\n",
      "Layer (type)                    Output Shape         Param #     Connected to                     \n",
      "==================================================================================================\n",
      "input_6 (InputLayer)            (None, 1, 3)         0                                            \n",
      "__________________________________________________________________________________________________\n",
      "input_5 (InputLayer)            (None, 1)            0                                            \n",
      "__________________________________________________________________________________________________\n",
      "flatten_4 (Flatten)             (None, 3)            0           input_6[0][0]                    \n",
      "__________________________________________________________________________________________________\n",
      "concatenate_2 (Concatenate)     (None, 4)            0           input_5[0][0]                    \n",
      "                                                                 flatten_4[0][0]                  \n",
      "__________________________________________________________________________________________________\n",
      "dense_10 (Dense)                (None, 16)           80          concatenate_2[0][0]              \n",
      "__________________________________________________________________________________________________\n",
      "dense_11 (Dense)                (None, 16)           272         dense_10[0][0]                   \n",
      "__________________________________________________________________________________________________\n",
      "dense_12 (Dense)                (None, 1)            17          dense_11[0][0]                   \n",
      "==================================================================================================\n",
      "Total params: 369\n",
      "Trainable params: 369\n",
      "Non-trainable params: 0\n",
      "__________________________________________________________________________________________________\n",
      "Training for 200000 steps ...\n",
      "Interval 1 (0 steps performed)\n",
      "10000/10000 [==============================] - 87s 9ms/step - reward: -6.3305\n",
      "50 episodes - episode_reward: -1266.102 [-1782.171, -3.038] - loss: 2.561 - mean_absolute_error: 0.625 - mean_q: -29.133\n",
      "\n",
      "Interval 2 (10000 steps performed)\n",
      "10000/10000 [==============================] - 100s 10ms/step - reward: -2.8504\n",
      "50 episodes - episode_reward: -570.071 [-1514.637, -2.187] - loss: 11.140 - mean_absolute_error: 1.220 - mean_q: -60.402\n",
      "\n",
      "Interval 3 (20000 steps performed)\n",
      "10000/10000 [==============================] - 101s 10ms/step - reward: -0.7643\n",
      "50 episodes - episode_reward: -152.869 [-384.289, -0.550] - loss: 14.697 - mean_absolute_error: 1.476 - mean_q: -58.170\n",
      "\n",
      "Interval 4 (30000 steps performed)\n",
      "10000/10000 [==============================] - 93s 9ms/step - reward: -1.3517\n",
      "50 episodes - episode_reward: -270.347 [-1209.688, -0.147] - loss: 17.571 - mean_absolute_error: 1.732 - mean_q: -49.785\n",
      "\n",
      "Interval 5 (40000 steps performed)\n",
      "10000/10000 [==============================] - 105s 11ms/step - reward: -0.7884\n",
      "50 episodes - episode_reward: -157.684 [-451.872, -2.019] - loss: 19.601 - mean_absolute_error: 1.881 - mean_q: -42.608\n",
      "\n",
      "Interval 6 (50000 steps performed)\n",
      "10000/10000 [==============================] - 117s 12ms/step - reward: -0.7108\n",
      "50 episodes - episode_reward: -142.162 [-306.953, -6.504] - loss: 12.635 - mean_absolute_error: 1.634 - mean_q: -20.540\n",
      "\n",
      "Interval 7 (60000 steps performed)\n",
      "10000/10000 [==============================] - 123s 12ms/step - reward: -0.8130\n",
      "50 episodes - episode_reward: -162.601 [-906.023, -9.007] - loss: 4.088 - mean_absolute_error: 1.094 - mean_q: -0.374\n",
      "\n",
      "Interval 8 (70000 steps performed)\n",
      "10000/10000 [==============================] - 117s 12ms/step - reward: -0.8592\n",
      "50 episodes - episode_reward: -171.849 [-411.499, -9.616] - loss: 2.964 - mean_absolute_error: 0.961 - mean_q: 2.415\n",
      "\n",
      "Interval 9 (80000 steps performed)\n",
      "10000/10000 [==============================] - 118s 12ms/step - reward: -0.8325\n",
      "50 episodes - episode_reward: -166.493 [-392.384, -4.653] - loss: 2.467 - mean_absolute_error: 0.892 - mean_q: 2.461\n",
      "\n",
      "Interval 10 (90000 steps performed)\n",
      "10000/10000 [==============================] - 125s 12ms/step - reward: -0.8793\n",
      "50 episodes - episode_reward: -175.855 [-529.573, -15.460] - loss: 1.961 - mean_absolute_error: 0.830 - mean_q: 1.499\n",
      "\n",
      "Interval 11 (100000 steps performed)\n",
      "10000/10000 [==============================] - 136s 14ms/step - reward: -1.0353\n",
      "50 episodes - episode_reward: -207.066 [-1128.561, -8.696] - loss: 2.206 - mean_absolute_error: 0.908 - mean_q: -0.860\n",
      "\n",
      "Interval 12 (110000 steps performed)\n",
      "10000/10000 [==============================] - 116s 12ms/step - reward: -0.6330\n",
      "50 episodes - episode_reward: -126.601 [-351.298, -7.707] - loss: 2.208 - mean_absolute_error: 0.955 - mean_q: -1.372\n",
      "\n",
      "Interval 13 (120000 steps performed)\n",
      "10000/10000 [==============================] - 114s 11ms/step - reward: -0.7271\n",
      "50 episodes - episode_reward: -145.419 [-390.568, -5.548] - loss: 1.933 - mean_absolute_error: 0.860 - mean_q: -0.371\n",
      "\n",
      "Interval 14 (130000 steps performed)\n",
      "10000/10000 [==============================] - 116s 12ms/step - reward: -0.7954\n",
      "50 episodes - episode_reward: -159.076 [-376.805, -11.798] - loss: 2.007 - mean_absolute_error: 0.876 - mean_q: -0.463\n",
      "\n",
      "Interval 15 (140000 steps performed)\n",
      "10000/10000 [==============================] - 125s 12ms/step - reward: -0.7398\n",
      "50 episodes - episode_reward: -147.966 [-360.757, -12.378] - loss: 2.093 - mean_absolute_error: 0.898 - mean_q: 0.875\n",
      "\n",
      "Interval 16 (150000 steps performed)\n",
      "10000/10000 [==============================] - 123s 12ms/step - reward: -0.8611\n",
      "50 episodes - episode_reward: -172.215 [-329.074, -15.393] - loss: 1.621 - mean_absolute_error: 0.774 - mean_q: 1.997\n",
      "\n",
      "Interval 17 (160000 steps performed)\n",
      "10000/10000 [==============================] - 133s 13ms/step - reward: -0.7550\n",
      "50 episodes - episode_reward: -151.003 [-371.309, -4.587] - loss: 1.559 - mean_absolute_error: 0.750 - mean_q: 0.413\n",
      "\n",
      "Interval 18 (170000 steps performed)\n",
      "10000/10000 [==============================] - 120s 12ms/step - reward: -0.8062\n",
      "50 episodes - episode_reward: -161.239 [-347.297, -5.653] - loss: 1.645 - mean_absolute_error: 0.765 - mean_q: -0.453\n",
      "\n",
      "Interval 19 (180000 steps performed)\n",
      "10000/10000 [==============================] - 128s 13ms/step - reward: -0.7812\n",
      "50 episodes - episode_reward: -156.239 [-370.137, -6.455] - loss: 1.743 - mean_absolute_error: 0.765 - mean_q: -0.556\n",
      "\n",
      "Interval 20 (190000 steps performed)\n",
      "10000/10000 [==============================] - 106s 11ms/step - reward: -0.8446\n",
      "done, took 2305.071 seconds\n"
     ]
    },
    {
     "data": {
      "text/plain": [
       "<keras2.callbacks.History at 0x1322a9e50>"
      ]
     },
     "execution_count": 30,
     "metadata": {},
     "output_type": "execute_result"
    }
   ],
   "source": [
    "ag = agent2((1,),(3,))\n",
    "ag.compile(Adam(lr=0.001, clipnorm=1.), metrics=['mae'])\n",
    "\n",
    "step = 200000\n",
    "episode_step = 200 # 入力が加えられる回数を200(dt=0.05)にする\n",
    "ag.fit(env, nb_steps=step, visualize=0, verbose=1, nb_max_episode_steps=episode_step)"
   ]
  },
  {
   "cell_type": "code",
   "execution_count": 31,
   "metadata": {},
   "outputs": [
    {
     "data": {
      "image/png": "[encoded data removed]",
      "text/plain": [
       "<Figure size 864x360 with 1 Axes>"
      ]
     },
     "metadata": {
      "needs_background": "light"
     },
     "output_type": "display_data"
    }
   ],
   "source": [
    "grads = ag.gradient_log\n",
    "ma_t = 1000\n",
    "ma = moving_average(grads, ma_t)\n",
    "plt.figure(figsize=(12,5))\n",
    "plt.plot(grads)\n",
    "plt.plot(range(ma_t, len(grads)), ma)\n",
    "plt.ylabel('norm(policy_gradient)')\n",
    "plt.xlabel('n_update')\n",
    "plt.show()"
   ]
  },
  {
   "cell_type": "code",
   "execution_count": 35,
   "metadata": {},
   "outputs": [
    {
     "name": "stdout",
     "output_type": "stream",
     "text": [
      "Testing for 5 episodes ...\n",
      "Episode 1: reward: -132.537, steps: 200\n",
      "Episode 2: reward: -398.751, steps: 200\n",
      "Episode 3: reward: -399.818, steps: 200\n",
      "Episode 4: reward: -130.925, steps: 200\n",
      "Episode 5: reward: -124.643, steps: 200\n"
     ]
    },
    {
     "data": {
      "text/plain": [
       "<keras2.callbacks.History at 0x133e25b10>"
      ]
     },
     "execution_count": 35,
     "metadata": {},
     "output_type": "execute_result"
    }
   ],
   "source": [
    "ag.test(env, nb_episodes=5, visualize=0, nb_max_episode_steps=200)"
   ]
  },
  {
   "cell_type": "code",
   "execution_count": null,
   "metadata": {},
   "outputs": [],
   "source": []
  }
 ],
 "metadata": {
  "kernelspec": {
   "display_name": "Python 3",
   "language": "python",
   "name": "python3"
  },
  "language_info": {
   "codemirror_mode": {
    "name": "ipython",
    "version": 3
   },
   "file_extension": ".py",
   "mimetype": "text/x-python",
   "name": "python",
   "nbconvert_exporter": "python",
   "pygments_lexer": "ipython3",
   "version": "3.7.4"
  }
 },
 "nbformat": 4,
 "nbformat_minor": 4
}
