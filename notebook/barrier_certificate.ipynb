{
 "cells": [
  {
   "cell_type": "code",
   "execution_count": 2,
   "metadata": {},
   "outputs": [],
   "source": [
    "import warnings\n",
    "warnings.filterwarnings('ignore')\n",
    "import numpy as np\n",
    "import matplotlib.pyplot as plt"
   ]
  },
  {
   "cell_type": "code",
   "execution_count": 3,
   "metadata": {},
   "outputs": [],
   "source": [
    "def u_of_x(x, u_min, u_max, k=4):\n",
    "    assert x.shape[0]==2, 'shape_error'\n",
    "    assert u_min < u_max, f'input constraint error. {u_min} > {u_max}?'\n",
    "    m = 1\n",
    "    l = 1\n",
    "    g = 10.\n",
    "    dt = 0.05\n",
    "    gamma = pow(dt, -k)\n",
    "    th, thd = x\n",
    "    if th != 0:\n",
    "        u_thres = np.roots([-(6*th*dt**2)/(m*l**2), -(2*th**2 + 2*th*thd*dt + 3*g/l*th*np.sin(th)*dt**2 + gamma*(th**2-1))])[0]\n",
    "        if th < 0:\n",
    "            if u_thres > u_max:\n",
    "                print('unsafe state')\n",
    "            u_thres = max(u_thres, u_min)\n",
    "            ran = [u_thres, u_max]\n",
    "        else:\n",
    "            if u_thres < u_min:\n",
    "                print('unsafe state')\n",
    "            u_thres = min(u_thres, u_max)\n",
    "            ran = [u_min, u_thres]\n",
    "    return ran"
   ]
  },
  {
   "cell_type": "code",
   "execution_count": 6,
   "metadata": {},
   "outputs": [
    {
     "name": "stdout",
     "output_type": "stream",
     "text": [
      "x = [0.76990594 0.37343973]\n",
      "U(x) = [-10.0, 10.0]\n",
      "------\n",
      "x = [-2.00952304 -1.42643166]\n",
      "unsafe state\n",
      "U(x) = [2297.8291135514337, 10.0]\n",
      "------\n",
      "x = [0.74655373 0.2768364 ]\n",
      "U(x) = [-10.0, 10.0]\n",
      "------\n",
      "x = [0.61818171 1.58565976]\n",
      "U(x) = [-10.0, 10.0]\n",
      "------\n",
      "x = [0.598747   0.68185017]\n",
      "U(x) = [-10.0, 10.0]\n",
      "------\n",
      "x = [-0.31196141 -1.1241335 ]\n",
      "U(x) = [-10.0, 10.0]\n",
      "------\n",
      "x = [0.12012824 0.8893023 ]\n",
      "U(x) = [-10.0, 10.0]\n",
      "------\n",
      "x = [ 0.61316127 -1.20675395]\n",
      "U(x) = [-10.0, 10.0]\n",
      "------\n",
      "x = [0.08113724 0.91058472]\n",
      "U(x) = [-10.0, 10.0]\n",
      "------\n",
      "x = [-0.20006794 -0.24296147]\n",
      "U(x) = [-10.0, 10.0]\n",
      "------\n",
      "x = [-1.01  0.1 ]\n",
      "unsafe state\n",
      "U(x) = [164.76881268843658, 10.0]\n",
      "------\n"
     ]
    }
   ],
   "source": [
    "for i in range(10):\n",
    "    x = np.random.randn(2,)\n",
    "    print(f'x = {x}')\n",
    "    print(f'U(x) = {u_of_x(x, -10., 10., 1)}')\n",
    "    print('------')\n",
    "\n",
    "x = np.array([-1.01, 0.1])\n",
    "print(f'x = {x}')\n",
    "print(f'U(x) = {u_of_x(x, -10, 10., 1)}')\n",
    "print('------')"
   ]
  },
  {
   "cell_type": "code",
   "execution_count": 5,
   "metadata": {},
   "outputs": [
    {
     "name": "stdout",
     "output_type": "stream",
     "text": [
      "unsafe state\n",
      "0 : [113.17589380739665, 2.0]\n",
      "1 : [-2.0, 2.0]\n",
      "2 : [-2.0, 2.0]\n",
      "3 : [-2.0, 2.0]\n",
      "4 : [-2.0, 2.0]\n",
      "5 : [-2.0, 2.0]\n",
      "6 : [-2.0, 2.0]\n",
      "7 : [-2.0, 2.0]\n",
      "8 : [-2.0, 2.0]\n",
      "9 : [-2.0, 2.0]\n",
      "10 : [-2.0, 2.0]\n",
      "11 : [-2.0, 2.0]\n",
      "12 : [-2.0, 2.0]\n",
      "13 : [-2.0, 2.0]\n",
      "14 : [-2.0, 2.0]\n",
      "15 : [-2.0, 2.0]\n",
      "16 : [-2.0, 2.0]\n",
      "17 : [-2.0, 2.0]\n",
      "18 : [-2.0, 2.0]\n",
      "19 : [-2.0, 2.0]\n"
     ]
    }
   ],
   "source": [
    "x = np.array([-0.9,-0.5])\n",
    "for k in range(20):\n",
    "    print(k,':', u_of_x(x, -2., 2., k))"
   ]
  },
  {
   "cell_type": "code",
   "execution_count": null,
   "metadata": {},
   "outputs": [],
   "source": []
  }
 ],
 "metadata": {
  "kernelspec": {
   "display_name": "Python 3",
   "language": "python",
   "name": "python3"
  },
  "language_info": {
   "codemirror_mode": {
    "name": "ipython",
    "version": 3
   },
   "file_extension": ".py",
   "mimetype": "text/x-python",
   "name": "python",
   "nbconvert_exporter": "python",
   "pygments_lexer": "ipython3",
   "version": "3.7.4"
  }
 },
 "nbformat": 4,
 "nbformat_minor": 4
}
